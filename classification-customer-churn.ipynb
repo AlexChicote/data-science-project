{
 "cells": [
  {
   "attachments": {},
   "cell_type": "markdown",
   "metadata": {},
   "source": [
    "### This workbook is about building a predictive model for churn analysis\n",
    "\n",
    "The structure of this workbook:\n",
    "\n",
    "1. Obtain the data\n",
    "\n",
    "2. Analysis\n",
    "    * (1) overview of all features\n",
    "    * (2) Analyze numerical variables\n",
    "    * (3) Analyze categorical variables\n",
    "    * (4) Analyze correlation between features\n",
    "    * (5) Assumptions based on the analysis\n",
    "\n",
    "3. Wrangle the data\n",
    "\t* (1) Drop some columns and remove some categories\n",
    "\t* (2) Deal with missing values\n",
    "\t* (3) Create engineering features\n",
    "\t* (4) Converting categorical features \n",
    "\t* (5) Remove highly correlated features\n",
    "\n",
    "4. Model Training\n",
    "\t* (1) Logistic regression (train and evaluate)\n",
    "\t* (2) Random forest (train and evaluate)\n",
    "\n",
    "5. Plot survival curve and analyze it\n",
    "\n"
   ]
  },
  {
   "cell_type": "code",
   "execution_count": 623,
   "metadata": {},
   "outputs": [],
   "source": [
    "from datetime import datetime\n",
    "from typing import List, Dict\n",
    "import re\n",
    "from typing import List, Tuple\n",
    "\n",
    "import pandas as pd\n",
    "import numpy as np\n",
    "import seaborn as sns\n",
    "import matplotlib.pyplot as plt\n",
    "import matplotlib.patches as mpatches\n",
    "import mglearn\n",
    "from lifelines import KaplanMeierFitter #survival analysis library\n",
    "from lifelines.statistics import logrank_test #survival statistical testing\n",
    "from IPython.display import Image\n",
    "from IPython.core.display import HTML \n",
    "%matplotlib inline\n",
    "\n",
    "import sklearn\n",
    "from sklearn.model_selection import train_test_split, GridSearchCV, KFold, cross_val_score, RandomizedSearchCV\n",
    "#from sklearn.utils.fixes import signature\n",
    "from inspect import signature\n",
    "from sklearn.metrics import confusion_matrix, classification_report, accuracy_score, recall_score, precision_recall_curve, \\\n",
    "roc_auc_score, average_precision_score, mean_absolute_error, mean_squared_error, precision_score, make_scorer, f1_score,\\\n",
    "roc_curve, auc\n",
    "\n",
    "from sklearn.linear_model import LogisticRegression\n",
    "from sklearn.decomposition import PCA\n",
    "from sklearn.datasets import make_classification\n",
    "from sklearn.ensemble import RandomForestClassifier, VotingClassifier, RandomForestRegressor\n",
    "from sklearn.tree import DecisionTreeClassifier\n",
    "\n",
    "from imblearn.over_sampling import RandomOverSampler, SMOTE\n",
    "from imblearn.pipeline import Pipeline \n",
    "from sklearn.preprocessing import StandardScaler, RobustScaler\n",
    "from sklearn.feature_selection import SelectPercentile"
   ]
  },
  {
   "cell_type": "markdown",
   "metadata": {},
   "source": [
    "# 1. Get the data"
   ]
  },
  {
   "cell_type": "code",
   "execution_count": 624,
   "metadata": {},
   "outputs": [],
   "source": [
    "DIR = r\"D:\\OneDrive - insidemedia.net\\project\\data-science-project\\classification\\telco-customer-churn\"\n",
    "df = pd.read_csv(DIR + '/' + 'WA_Fn-UseC_-Telco-Customer-Churn.csv')\n",
    "df_o = df.copy()"
   ]
  },
  {
   "cell_type": "markdown",
   "metadata": {},
   "source": [
    "# 2. Analysis"
   ]
  },
  {
   "cell_type": "markdown",
   "metadata": {},
   "source": [
    "### (1) Overview of all features"
   ]
  },
  {
   "cell_type": "code",
   "execution_count": 625,
   "metadata": {},
   "outputs": [
    {
     "data": {
      "text/plain": [
       "Index(['customerID', 'gender', 'SeniorCitizen', 'Partner', 'Dependents',\n",
       "       'tenure', 'PhoneService', 'MultipleLines', 'InternetService',\n",
       "       'OnlineSecurity', 'OnlineBackup', 'DeviceProtection', 'TechSupport',\n",
       "       'StreamingTV', 'StreamingMovies', 'Contract', 'PaperlessBilling',\n",
       "       'PaymentMethod', 'MonthlyCharges', 'TotalCharges', 'Churn'],\n",
       "      dtype='object')"
      ]
     },
     "execution_count": 625,
     "metadata": {},
     "output_type": "execute_result"
    }
   ],
   "source": [
    "df_o.columns"
   ]
  },
  {
   "cell_type": "code",
   "execution_count": 626,
   "metadata": {},
   "outputs": [
    {
     "name": "stdout",
     "output_type": "stream",
     "text": [
      "<class 'pandas.core.frame.DataFrame'>\n",
      "RangeIndex: 7043 entries, 0 to 7042\n",
      "Data columns (total 21 columns):\n",
      "customerID          7043 non-null object\n",
      "gender              7043 non-null object\n",
      "SeniorCitizen       7043 non-null int64\n",
      "Partner             7043 non-null object\n",
      "Dependents          7043 non-null object\n",
      "tenure              7043 non-null int64\n",
      "PhoneService        7043 non-null object\n",
      "MultipleLines       7043 non-null object\n",
      "InternetService     7043 non-null object\n",
      "OnlineSecurity      7043 non-null object\n",
      "OnlineBackup        7043 non-null object\n",
      "DeviceProtection    7043 non-null object\n",
      "TechSupport         7043 non-null object\n",
      "StreamingTV         7043 non-null object\n",
      "StreamingMovies     7043 non-null object\n",
      "Contract            7043 non-null object\n",
      "PaperlessBilling    7043 non-null object\n",
      "PaymentMethod       7043 non-null object\n",
      "MonthlyCharges      7043 non-null float64\n",
      "TotalCharges        7043 non-null object\n",
      "Churn               7043 non-null object\n",
      "dtypes: float64(1), int64(2), object(18)\n",
      "memory usage: 1.1+ MB\n",
      "None \n",
      "\n"
     ]
    },
    {
     "data": {
      "text/html": [
       "<div>\n",
       "<style scoped>\n",
       "    .dataframe tbody tr th:only-of-type {\n",
       "        vertical-align: middle;\n",
       "    }\n",
       "\n",
       "    .dataframe tbody tr th {\n",
       "        vertical-align: top;\n",
       "    }\n",
       "\n",
       "    .dataframe thead th {\n",
       "        text-align: right;\n",
       "    }\n",
       "</style>\n",
       "<table border=\"1\" class=\"dataframe\">\n",
       "  <thead>\n",
       "    <tr style=\"text-align: right;\">\n",
       "      <th></th>\n",
       "      <th>customerID</th>\n",
       "      <th>gender</th>\n",
       "      <th>SeniorCitizen</th>\n",
       "      <th>Partner</th>\n",
       "      <th>Dependents</th>\n",
       "      <th>tenure</th>\n",
       "      <th>PhoneService</th>\n",
       "      <th>MultipleLines</th>\n",
       "      <th>InternetService</th>\n",
       "      <th>OnlineSecurity</th>\n",
       "      <th>...</th>\n",
       "      <th>DeviceProtection</th>\n",
       "      <th>TechSupport</th>\n",
       "      <th>StreamingTV</th>\n",
       "      <th>StreamingMovies</th>\n",
       "      <th>Contract</th>\n",
       "      <th>PaperlessBilling</th>\n",
       "      <th>PaymentMethod</th>\n",
       "      <th>MonthlyCharges</th>\n",
       "      <th>TotalCharges</th>\n",
       "      <th>Churn</th>\n",
       "    </tr>\n",
       "  </thead>\n",
       "  <tbody>\n",
       "    <tr>\n",
       "      <th>0</th>\n",
       "      <td>7590-VHVEG</td>\n",
       "      <td>Female</td>\n",
       "      <td>0</td>\n",
       "      <td>Yes</td>\n",
       "      <td>No</td>\n",
       "      <td>1</td>\n",
       "      <td>No</td>\n",
       "      <td>No phone service</td>\n",
       "      <td>DSL</td>\n",
       "      <td>No</td>\n",
       "      <td>...</td>\n",
       "      <td>No</td>\n",
       "      <td>No</td>\n",
       "      <td>No</td>\n",
       "      <td>No</td>\n",
       "      <td>Month-to-month</td>\n",
       "      <td>Yes</td>\n",
       "      <td>Electronic check</td>\n",
       "      <td>29.85</td>\n",
       "      <td>29.85</td>\n",
       "      <td>No</td>\n",
       "    </tr>\n",
       "    <tr>\n",
       "      <th>1</th>\n",
       "      <td>5575-GNVDE</td>\n",
       "      <td>Male</td>\n",
       "      <td>0</td>\n",
       "      <td>No</td>\n",
       "      <td>No</td>\n",
       "      <td>34</td>\n",
       "      <td>Yes</td>\n",
       "      <td>No</td>\n",
       "      <td>DSL</td>\n",
       "      <td>Yes</td>\n",
       "      <td>...</td>\n",
       "      <td>Yes</td>\n",
       "      <td>No</td>\n",
       "      <td>No</td>\n",
       "      <td>No</td>\n",
       "      <td>One year</td>\n",
       "      <td>No</td>\n",
       "      <td>Mailed check</td>\n",
       "      <td>56.95</td>\n",
       "      <td>1889.5</td>\n",
       "      <td>No</td>\n",
       "    </tr>\n",
       "    <tr>\n",
       "      <th>2</th>\n",
       "      <td>3668-QPYBK</td>\n",
       "      <td>Male</td>\n",
       "      <td>0</td>\n",
       "      <td>No</td>\n",
       "      <td>No</td>\n",
       "      <td>2</td>\n",
       "      <td>Yes</td>\n",
       "      <td>No</td>\n",
       "      <td>DSL</td>\n",
       "      <td>Yes</td>\n",
       "      <td>...</td>\n",
       "      <td>No</td>\n",
       "      <td>No</td>\n",
       "      <td>No</td>\n",
       "      <td>No</td>\n",
       "      <td>Month-to-month</td>\n",
       "      <td>Yes</td>\n",
       "      <td>Mailed check</td>\n",
       "      <td>53.85</td>\n",
       "      <td>108.15</td>\n",
       "      <td>Yes</td>\n",
       "    </tr>\n",
       "    <tr>\n",
       "      <th>3</th>\n",
       "      <td>7795-CFOCW</td>\n",
       "      <td>Male</td>\n",
       "      <td>0</td>\n",
       "      <td>No</td>\n",
       "      <td>No</td>\n",
       "      <td>45</td>\n",
       "      <td>No</td>\n",
       "      <td>No phone service</td>\n",
       "      <td>DSL</td>\n",
       "      <td>Yes</td>\n",
       "      <td>...</td>\n",
       "      <td>Yes</td>\n",
       "      <td>Yes</td>\n",
       "      <td>No</td>\n",
       "      <td>No</td>\n",
       "      <td>One year</td>\n",
       "      <td>No</td>\n",
       "      <td>Bank transfer (automatic)</td>\n",
       "      <td>42.30</td>\n",
       "      <td>1840.75</td>\n",
       "      <td>No</td>\n",
       "    </tr>\n",
       "    <tr>\n",
       "      <th>4</th>\n",
       "      <td>9237-HQITU</td>\n",
       "      <td>Female</td>\n",
       "      <td>0</td>\n",
       "      <td>No</td>\n",
       "      <td>No</td>\n",
       "      <td>2</td>\n",
       "      <td>Yes</td>\n",
       "      <td>No</td>\n",
       "      <td>Fiber optic</td>\n",
       "      <td>No</td>\n",
       "      <td>...</td>\n",
       "      <td>No</td>\n",
       "      <td>No</td>\n",
       "      <td>No</td>\n",
       "      <td>No</td>\n",
       "      <td>Month-to-month</td>\n",
       "      <td>Yes</td>\n",
       "      <td>Electronic check</td>\n",
       "      <td>70.70</td>\n",
       "      <td>151.65</td>\n",
       "      <td>Yes</td>\n",
       "    </tr>\n",
       "  </tbody>\n",
       "</table>\n",
       "<p>5 rows × 21 columns</p>\n",
       "</div>"
      ],
      "text/plain": [
       "   customerID  gender  SeniorCitizen Partner Dependents  tenure PhoneService  \\\n",
       "0  7590-VHVEG  Female              0     Yes         No       1           No   \n",
       "1  5575-GNVDE    Male              0      No         No      34          Yes   \n",
       "2  3668-QPYBK    Male              0      No         No       2          Yes   \n",
       "3  7795-CFOCW    Male              0      No         No      45           No   \n",
       "4  9237-HQITU  Female              0      No         No       2          Yes   \n",
       "\n",
       "      MultipleLines InternetService OnlineSecurity  ...  DeviceProtection  \\\n",
       "0  No phone service             DSL             No  ...                No   \n",
       "1                No             DSL            Yes  ...               Yes   \n",
       "2                No             DSL            Yes  ...                No   \n",
       "3  No phone service             DSL            Yes  ...               Yes   \n",
       "4                No     Fiber optic             No  ...                No   \n",
       "\n",
       "  TechSupport StreamingTV StreamingMovies        Contract PaperlessBilling  \\\n",
       "0          No          No              No  Month-to-month              Yes   \n",
       "1          No          No              No        One year               No   \n",
       "2          No          No              No  Month-to-month              Yes   \n",
       "3         Yes          No              No        One year               No   \n",
       "4          No          No              No  Month-to-month              Yes   \n",
       "\n",
       "               PaymentMethod MonthlyCharges  TotalCharges Churn  \n",
       "0           Electronic check          29.85         29.85    No  \n",
       "1               Mailed check          56.95        1889.5    No  \n",
       "2               Mailed check          53.85        108.15   Yes  \n",
       "3  Bank transfer (automatic)          42.30       1840.75    No  \n",
       "4           Electronic check          70.70        151.65   Yes  \n",
       "\n",
       "[5 rows x 21 columns]"
      ]
     },
     "execution_count": 626,
     "metadata": {},
     "output_type": "execute_result"
    }
   ],
   "source": [
    "# identify different data type of the variables. check numerical variable and categorical variables\n",
    "\n",
    "print(df.info(), '\\n')\n",
    "df.head(5)"
   ]
  },
  {
   "cell_type": "markdown",
   "metadata": {},
   "source": [
    "Columns\n",
    "customerID: Customer ID\n",
    "gender: Whether the customer is a male or a female\n",
    "SeniorCitizen: Whether the customer is a senior citizen or not (1, 0)\n",
    "Partner: Whether the customer has a partner or not (Yes, No)\n",
    "Dependents: Whether the customer has dependents or not (Yes, No)\n",
    "tenure: Number of months the customer has stayed with the company\n",
    "PhoneService: Whether the customer has a phone service or not (Yes, No)\n",
    "MultipleLines: Whether the customer has multiple lines or not (Yes, No, No phone service)\n",
    "InternetService: Customer’s internet service provider (DSL, Fiber optic, No)\n",
    "OnlineSecurity: Whether the customer has online security or not (Yes, No, No internet service)\n",
    "OnlineBackup: Whether the customer has online backup or not (Yes, No, No internet service)\n",
    "DeviceProtection: Whether the customer has device protection or not (Yes, No, No internet service)\n",
    "TechSupport: Whether the customer has tech support or not (Yes, No, No internet service)\n",
    "StreamingTV: Whether the customer has streaming TV or not (Yes, No, No internet service)\n",
    "StreamingMovies: Whether the customer has streaming movies or not (Yes, No, No internet service)\n",
    "Contract: The contract term of the customer (Month-to-month, One year, Two year)\n",
    "PaperlessBilling: Whether the customer has paperless billing or not (Yes, No)\n",
    "PaymentMethod: The customer’s payment method (Electronic check, Mailed check, Bank transfer (automatic), Credit card (automatic))\n",
    "MonthlyCharges: The amount charged to the customer monthly\n",
    "TotalCharges: The total amount charged to the customer\n",
    "Churn: Whether the customer churned or not (Yes or No)"
   ]
  },
  {
   "cell_type": "code",
   "execution_count": 627,
   "metadata": {
    "scrolled": true
   },
   "outputs": [
    {
     "name": "stdout",
     "output_type": "stream",
     "text": [
      "customerID\n",
      "8824-RWFXJ    1\n",
      "0314-TKOSI    1\n",
      "6840-RESVB    1\n",
      "0730-BGQGF    1\n",
      "3528-HFRIQ    1\n",
      "6425-JWTDV    1\n",
      "2465-BLLEU    1\n",
      "5961-VUSRV    1\n",
      "8165-ZJRNM    1\n",
      "3148-BLQJT    1\n",
      "7610-TVOPG    1\n",
      "9239-GZHZE    1\n",
      "9720-JJJOR    1\n",
      "7929-SKFGK    1\n",
      "9629-NHXFW    1\n",
      "7643-RCHXS    1\n",
      "6169-PPETC    1\n",
      "0931-MHTEM    1\n",
      "8631-WUXGY    1\n",
      "9040-KZVWO    1\n",
      "0929-PECLO    1\n",
      "8467-WYNSR    1\n",
      "8495-LJDFO    1\n",
      "9068-FHQHD    1\n",
      "2688-BHGOG    1\n",
      "8277-RVRSV    1\n",
      "9774-NRNAU    1\n",
      "5180-UCIIQ    1\n",
      "8718-PTMEZ    1\n",
      "7603-USHJS    1\n",
      "             ..\n",
      "4973-MGTON    1\n",
      "5566-SOEZD    1\n",
      "7968-QUXNS    1\n",
      "0657-DOGUM    1\n",
      "5906-BFOZT    1\n",
      "9142-XMYJH    1\n",
      "2604-XVDAM    1\n",
      "1236-WFCDV    1\n",
      "0869-PAPRP    1\n",
      "7739-LAXOG    1\n",
      "7089-RKVSZ    1\n",
      "9961-JBNMK    1\n",
      "6439-LAJXL    1\n",
      "4468-KAZHE    1\n",
      "4430-YHXGG    1\n",
      "8775-LHDJH    1\n",
      "2661-GKBTK    1\n",
      "5222-JCXZT    1\n",
      "6352-TWCAU    1\n",
      "0096-BXERS    1\n",
      "9283-LZQOH    1\n",
      "2146-EGVDT    1\n",
      "5016-LIPDW    1\n",
      "2058-DCJBE    1\n",
      "7000-WCEVQ    1\n",
      "5146-YYFRZ    1\n",
      "4332-MUOEZ    1\n",
      "2632-IVXVF    1\n",
      "8992-JQYUN    1\n",
      "7746-QYVCO    1\n",
      "Name: customerID, Length: 7043, dtype: int64\n",
      "\n",
      "\n",
      "gender\n",
      "Male      3555\n",
      "Female    3488\n",
      "Name: gender, dtype: int64\n",
      "\n",
      "\n",
      "SeniorCitizen\n",
      "0    5901\n",
      "1    1142\n",
      "Name: SeniorCitizen, dtype: int64\n",
      "\n",
      "\n",
      "Partner\n",
      "No     3641\n",
      "Yes    3402\n",
      "Name: Partner, dtype: int64\n",
      "\n",
      "\n",
      "Dependents\n",
      "No     4933\n",
      "Yes    2110\n",
      "Name: Dependents, dtype: int64\n",
      "\n",
      "\n",
      "tenure\n",
      "1     613\n",
      "72    362\n",
      "2     238\n",
      "3     200\n",
      "4     176\n",
      "71    170\n",
      "5     133\n",
      "7     131\n",
      "8     123\n",
      "70    119\n",
      "9     119\n",
      "12    117\n",
      "10    116\n",
      "6     110\n",
      "13    109\n",
      "68    100\n",
      "15     99\n",
      "11     99\n",
      "67     98\n",
      "18     97\n",
      "69     95\n",
      "24     94\n",
      "22     90\n",
      "66     89\n",
      "35     88\n",
      "17     87\n",
      "23     85\n",
      "64     80\n",
      "56     80\n",
      "16     80\n",
      "     ... \n",
      "20     71\n",
      "62     70\n",
      "41     70\n",
      "53     70\n",
      "32     69\n",
      "54     68\n",
      "47     68\n",
      "50     68\n",
      "51     68\n",
      "58     67\n",
      "49     66\n",
      "43     65\n",
      "42     65\n",
      "31     65\n",
      "34     65\n",
      "37     65\n",
      "57     65\n",
      "55     64\n",
      "40     64\n",
      "48     64\n",
      "33     64\n",
      "21     63\n",
      "45     61\n",
      "59     60\n",
      "38     59\n",
      "28     57\n",
      "39     56\n",
      "44     51\n",
      "36     50\n",
      "0      11\n",
      "Name: tenure, Length: 73, dtype: int64\n",
      "\n",
      "\n",
      "PhoneService\n",
      "Yes    6361\n",
      "No      682\n",
      "Name: PhoneService, dtype: int64\n",
      "\n",
      "\n",
      "MultipleLines\n",
      "No                  3390\n",
      "Yes                 2971\n",
      "No phone service     682\n",
      "Name: MultipleLines, dtype: int64\n",
      "\n",
      "\n",
      "InternetService\n",
      "Fiber optic    3096\n",
      "DSL            2421\n",
      "No             1526\n",
      "Name: InternetService, dtype: int64\n",
      "\n",
      "\n",
      "OnlineSecurity\n",
      "No                     3498\n",
      "Yes                    2019\n",
      "No internet service    1526\n",
      "Name: OnlineSecurity, dtype: int64\n",
      "\n",
      "\n",
      "OnlineBackup\n",
      "No                     3088\n",
      "Yes                    2429\n",
      "No internet service    1526\n",
      "Name: OnlineBackup, dtype: int64\n",
      "\n",
      "\n",
      "DeviceProtection\n",
      "No                     3095\n",
      "Yes                    2422\n",
      "No internet service    1526\n",
      "Name: DeviceProtection, dtype: int64\n",
      "\n",
      "\n",
      "TechSupport\n",
      "No                     3473\n",
      "Yes                    2044\n",
      "No internet service    1526\n",
      "Name: TechSupport, dtype: int64\n",
      "\n",
      "\n",
      "StreamingTV\n",
      "No                     2810\n",
      "Yes                    2707\n",
      "No internet service    1526\n",
      "Name: StreamingTV, dtype: int64\n",
      "\n",
      "\n",
      "StreamingMovies\n",
      "No                     2785\n",
      "Yes                    2732\n",
      "No internet service    1526\n",
      "Name: StreamingMovies, dtype: int64\n",
      "\n",
      "\n",
      "Contract\n",
      "Month-to-month    3875\n",
      "Two year          1695\n",
      "One year          1473\n",
      "Name: Contract, dtype: int64\n",
      "\n",
      "\n",
      "PaperlessBilling\n",
      "Yes    4171\n",
      "No     2872\n",
      "Name: PaperlessBilling, dtype: int64\n",
      "\n",
      "\n",
      "PaymentMethod\n",
      "Electronic check             2365\n",
      "Mailed check                 1612\n",
      "Bank transfer (automatic)    1544\n",
      "Credit card (automatic)      1522\n",
      "Name: PaymentMethod, dtype: int64\n",
      "\n",
      "\n",
      "MonthlyCharges\n",
      "20.05     61\n",
      "19.85     45\n",
      "19.95     44\n",
      "19.90     44\n",
      "20.00     43\n",
      "19.70     43\n",
      "19.65     43\n",
      "19.55     40\n",
      "20.15     40\n",
      "19.75     39\n",
      "20.25     39\n",
      "20.35     38\n",
      "19.80     38\n",
      "19.60     37\n",
      "20.10     37\n",
      "20.20     35\n",
      "19.50     32\n",
      "19.40     31\n",
      "20.45     31\n",
      "20.40     30\n",
      "19.45     28\n",
      "20.50     28\n",
      "20.30     28\n",
      "20.55     27\n",
      "19.35     25\n",
      "19.30     24\n",
      "20.65     23\n",
      "25.25     20\n",
      "25.10     19\n",
      "19.25     18\n",
      "          ..\n",
      "67.50      1\n",
      "33.50      1\n",
      "48.15      1\n",
      "31.10      1\n",
      "39.95      1\n",
      "81.65      1\n",
      "117.45     1\n",
      "107.00     1\n",
      "66.35      1\n",
      "62.30      1\n",
      "112.60     1\n",
      "110.70     1\n",
      "28.60      1\n",
      "108.60     1\n",
      "73.10      1\n",
      "39.55      1\n",
      "53.70      1\n",
      "21.30      1\n",
      "18.40      1\n",
      "67.60      1\n",
      "33.75      1\n",
      "29.40      1\n",
      "57.80      1\n",
      "34.55      1\n",
      "107.65     1\n",
      "114.75     1\n",
      "103.60     1\n",
      "113.40     1\n",
      "57.65      1\n",
      "113.30     1\n",
      "Name: MonthlyCharges, Length: 1585, dtype: int64\n",
      "\n",
      "\n",
      "TotalCharges\n",
      "           11\n",
      "20.2       11\n",
      "19.75       9\n",
      "19.65       8\n",
      "20.05       8\n",
      "19.9        8\n",
      "45.3        7\n",
      "19.55       7\n",
      "20.25       6\n",
      "20.15       6\n",
      "19.45       6\n",
      "20.45       5\n",
      "20.3        5\n",
      "69.65       4\n",
      "19.95       4\n",
      "19.2        4\n",
      "74.7        4\n",
      "19.5        4\n",
      "69.95       4\n",
      "19.4        4\n",
      "44          4\n",
      "19.3        4\n",
      "20.4        4\n",
      "49.9        4\n",
      "70.6        4\n",
      "44.4        4\n",
      "50.15       4\n",
      "69.6        4\n",
      "75.3        4\n",
      "20.5        4\n",
      "           ..\n",
      "6707.15     1\n",
      "219         1\n",
      "3941.7      1\n",
      "7467.55     1\n",
      "1505.15     1\n",
      "219.35      1\n",
      "6733.15     1\n",
      "2390.45     1\n",
      "1087.45     1\n",
      "7472.15     1\n",
      "1641.3      1\n",
      "5785.5      1\n",
      "2227.1      1\n",
      "1216.6      1\n",
      "5264.3      1\n",
      "301.9       1\n",
      "7245.9      1\n",
      "4284.65     1\n",
      "141.5       1\n",
      "1871.85     1\n",
      "880.05      1\n",
      "4299.2      1\n",
      "250.1       1\n",
      "1527.5      1\n",
      "3208.65     1\n",
      "2647.2      1\n",
      "96.05       1\n",
      "3069.45     1\n",
      "6176.6      1\n",
      "8192.6      1\n",
      "Name: TotalCharges, Length: 6531, dtype: int64\n",
      "\n",
      "\n",
      "Churn\n",
      "No     5174\n",
      "Yes    1869\n",
      "Name: Churn, dtype: int64\n",
      "\n",
      "\n"
     ]
    }
   ],
   "source": [
    "# look at the values in all variables. we can potentially know some values in the categorical variable might need to be adjusted.\n",
    "\n",
    "for j in range(df.shape[1]):\n",
    "    print(df.columns[j])\n",
    "    print(df.iloc[:, j].value_counts())\n",
    "    print('\\n')"
   ]
  },
  {
   "cell_type": "code",
   "execution_count": 628,
   "metadata": {},
   "outputs": [
    {
     "data": {
      "text/plain": [
       "{'customerID': 0.0,\n",
       " 'gender': 0.0,\n",
       " 'SeniorCitizen': 0.0,\n",
       " 'Partner': 0.0,\n",
       " 'Dependents': 0.0,\n",
       " 'tenure': 0.0,\n",
       " 'PhoneService': 0.0,\n",
       " 'MultipleLines': 0.0,\n",
       " 'InternetService': 0.0,\n",
       " 'OnlineSecurity': 0.0,\n",
       " 'OnlineBackup': 0.0,\n",
       " 'DeviceProtection': 0.0,\n",
       " 'TechSupport': 0.0,\n",
       " 'StreamingTV': 0.0,\n",
       " 'StreamingMovies': 0.0,\n",
       " 'Contract': 0.0,\n",
       " 'PaperlessBilling': 0.0,\n",
       " 'PaymentMethod': 0.0,\n",
       " 'MonthlyCharges': 0.0,\n",
       " 'TotalCharges': 0.0,\n",
       " 'Churn': 0.0}"
      ]
     },
     "execution_count": 628,
     "metadata": {},
     "output_type": "execute_result"
    }
   ],
   "source": [
    "# missing values\n",
    "\n",
    "def missing_percent(df: pd.DataFrame) -> Dict:\n",
    "    \"\"\"Calculate the percentage of the missing data in each columns\"\"\"\n",
    "    percent = {}\n",
    "    for column_name in list(df.columns):\n",
    "        percent[column_name] = sum(df[column_name].isnull()) / len(df[column_name])\n",
    "    return percent\n",
    "\n",
    "percent = missing_percent(df)\n",
    "percent \n"
   ]
  },
  {
   "cell_type": "markdown",
   "metadata": {},
   "source": [
    "### (2) Analyze numerical variables "
   ]
  },
  {
   "cell_type": "code",
   "execution_count": 629,
   "metadata": {},
   "outputs": [
    {
     "data": {
      "text/html": [
       "<div>\n",
       "<style scoped>\n",
       "    .dataframe tbody tr th:only-of-type {\n",
       "        vertical-align: middle;\n",
       "    }\n",
       "\n",
       "    .dataframe tbody tr th {\n",
       "        vertical-align: top;\n",
       "    }\n",
       "\n",
       "    .dataframe thead th {\n",
       "        text-align: right;\n",
       "    }\n",
       "</style>\n",
       "<table border=\"1\" class=\"dataframe\">\n",
       "  <thead>\n",
       "    <tr style=\"text-align: right;\">\n",
       "      <th></th>\n",
       "      <th>SeniorCitizen</th>\n",
       "      <th>tenure</th>\n",
       "      <th>MonthlyCharges</th>\n",
       "    </tr>\n",
       "  </thead>\n",
       "  <tbody>\n",
       "    <tr>\n",
       "      <th>count</th>\n",
       "      <td>7043.000000</td>\n",
       "      <td>7043.000000</td>\n",
       "      <td>7043.000000</td>\n",
       "    </tr>\n",
       "    <tr>\n",
       "      <th>mean</th>\n",
       "      <td>0.162147</td>\n",
       "      <td>32.371149</td>\n",
       "      <td>64.761692</td>\n",
       "    </tr>\n",
       "    <tr>\n",
       "      <th>std</th>\n",
       "      <td>0.368612</td>\n",
       "      <td>24.559481</td>\n",
       "      <td>30.090047</td>\n",
       "    </tr>\n",
       "    <tr>\n",
       "      <th>min</th>\n",
       "      <td>0.000000</td>\n",
       "      <td>0.000000</td>\n",
       "      <td>18.250000</td>\n",
       "    </tr>\n",
       "    <tr>\n",
       "      <th>25%</th>\n",
       "      <td>0.000000</td>\n",
       "      <td>9.000000</td>\n",
       "      <td>35.500000</td>\n",
       "    </tr>\n",
       "    <tr>\n",
       "      <th>50%</th>\n",
       "      <td>0.000000</td>\n",
       "      <td>29.000000</td>\n",
       "      <td>70.350000</td>\n",
       "    </tr>\n",
       "    <tr>\n",
       "      <th>75%</th>\n",
       "      <td>0.000000</td>\n",
       "      <td>55.000000</td>\n",
       "      <td>89.850000</td>\n",
       "    </tr>\n",
       "    <tr>\n",
       "      <th>max</th>\n",
       "      <td>1.000000</td>\n",
       "      <td>72.000000</td>\n",
       "      <td>118.750000</td>\n",
       "    </tr>\n",
       "  </tbody>\n",
       "</table>\n",
       "</div>"
      ],
      "text/plain": [
       "       SeniorCitizen       tenure  MonthlyCharges\n",
       "count    7043.000000  7043.000000     7043.000000\n",
       "mean        0.162147    32.371149       64.761692\n",
       "std         0.368612    24.559481       30.090047\n",
       "min         0.000000     0.000000       18.250000\n",
       "25%         0.000000     9.000000       35.500000\n",
       "50%         0.000000    29.000000       70.350000\n",
       "75%         0.000000    55.000000       89.850000\n",
       "max         1.000000    72.000000      118.750000"
      ]
     },
     "execution_count": 629,
     "metadata": {},
     "output_type": "execute_result"
    }
   ],
   "source": [
    "# descriptive analysis of the numerical variables\n",
    "\n",
    "df.describe()"
   ]
  },
  {
   "cell_type": "code",
   "execution_count": 630,
   "metadata": {},
   "outputs": [],
   "source": [
    "# plot the distribution\n",
    "\n",
    "def plot_numeric(df, feature_list):\n",
    "    fig, axis = plt.subplots(1, len(feature_list), figsize=(16, 4))\n",
    "    for i in range(len(feature_list)):\n",
    "        df[feature_list[i]].plot.hist(ax=axis[i])\n",
    "        axis[i].set_title(feature_list[i])"
   ]
  },
  {
   "cell_type": "markdown",
   "metadata": {},
   "source": [
    "TotalCharges is actually float, but because it contains a invalid str, we need to remove those entries"
   ]
  },
  {
   "cell_type": "code",
   "execution_count": 631,
   "metadata": {},
   "outputs": [
    {
     "name": "stdout",
     "output_type": "stream",
     "text": [
      "(7043, 21)\n"
     ]
    },
    {
     "data": {
      "text/plain": [
       "(7032, 21)"
      ]
     },
     "execution_count": 631,
     "metadata": {},
     "output_type": "execute_result"
    }
   ],
   "source": [
    "df['TotalCharges'] = pd.to_numeric(df['TotalCharges'], errors='coerce')\n",
    "print(df.shape)\n",
    "df.dropna(subset=['TotalCharges']).shape"
   ]
  },
  {
   "cell_type": "markdown",
   "metadata": {},
   "source": [
    "Only 11 rows, not bad, just drop them"
   ]
  },
  {
   "cell_type": "code",
   "execution_count": 632,
   "metadata": {},
   "outputs": [
    {
     "data": {
      "text/plain": [
       "(7032, 21)"
      ]
     },
     "execution_count": 632,
     "metadata": {},
     "output_type": "execute_result"
    }
   ],
   "source": [
    "df.dropna(subset=['TotalCharges'], inplace=True)\n",
    "df.shape"
   ]
  },
  {
   "cell_type": "markdown",
   "metadata": {},
   "source": [
    "Convert Churn yes/no to 1/0 for better analysis and prediction"
   ]
  },
  {
   "cell_type": "code",
   "execution_count": 633,
   "metadata": {},
   "outputs": [],
   "source": [
    "df['Churn'] = df.Churn.map({'No': 0, 'Yes': 1})"
   ]
  },
  {
   "cell_type": "code",
   "execution_count": 634,
   "metadata": {},
   "outputs": [
    {
     "data": {
      "image/png": "[encoded data removed]",
      "text/plain": [
       "<Figure size 1152x288 with 5 Axes>"
      ]
     },
     "metadata": {
      "needs_background": "light"
     },
     "output_type": "display_data"
    }
   ],
   "source": [
    "feature_list = ['SeniorCitizen', 'tenure', 'MonthlyCharges', 'TotalCharges', 'Churn']\n",
    "plot_numeric(df, feature_list)"
   ]
  },
  {
   "cell_type": "markdown",
   "metadata": {},
   "source": [
    "### (3) Analyze categorical variables"
   ]
  },
  {
   "cell_type": "code",
   "execution_count": 635,
   "metadata": {},
   "outputs": [
    {
     "data": {
      "text/html": [
       "<div>\n",
       "<style scoped>\n",
       "    .dataframe tbody tr th:only-of-type {\n",
       "        vertical-align: middle;\n",
       "    }\n",
       "\n",
       "    .dataframe tbody tr th {\n",
       "        vertical-align: top;\n",
       "    }\n",
       "\n",
       "    .dataframe thead th {\n",
       "        text-align: right;\n",
       "    }\n",
       "</style>\n",
       "<table border=\"1\" class=\"dataframe\">\n",
       "  <thead>\n",
       "    <tr style=\"text-align: right;\">\n",
       "      <th></th>\n",
       "      <th>customerID</th>\n",
       "      <th>gender</th>\n",
       "      <th>Partner</th>\n",
       "      <th>Dependents</th>\n",
       "      <th>PhoneService</th>\n",
       "      <th>MultipleLines</th>\n",
       "      <th>InternetService</th>\n",
       "      <th>OnlineSecurity</th>\n",
       "      <th>OnlineBackup</th>\n",
       "      <th>DeviceProtection</th>\n",
       "      <th>TechSupport</th>\n",
       "      <th>StreamingTV</th>\n",
       "      <th>StreamingMovies</th>\n",
       "      <th>Contract</th>\n",
       "      <th>PaperlessBilling</th>\n",
       "      <th>PaymentMethod</th>\n",
       "    </tr>\n",
       "  </thead>\n",
       "  <tbody>\n",
       "    <tr>\n",
       "      <th>count</th>\n",
       "      <td>7032</td>\n",
       "      <td>7032</td>\n",
       "      <td>7032</td>\n",
       "      <td>7032</td>\n",
       "      <td>7032</td>\n",
       "      <td>7032</td>\n",
       "      <td>7032</td>\n",
       "      <td>7032</td>\n",
       "      <td>7032</td>\n",
       "      <td>7032</td>\n",
       "      <td>7032</td>\n",
       "      <td>7032</td>\n",
       "      <td>7032</td>\n",
       "      <td>7032</td>\n",
       "      <td>7032</td>\n",
       "      <td>7032</td>\n",
       "    </tr>\n",
       "    <tr>\n",
       "      <th>unique</th>\n",
       "      <td>7032</td>\n",
       "      <td>2</td>\n",
       "      <td>2</td>\n",
       "      <td>2</td>\n",
       "      <td>2</td>\n",
       "      <td>3</td>\n",
       "      <td>3</td>\n",
       "      <td>3</td>\n",
       "      <td>3</td>\n",
       "      <td>3</td>\n",
       "      <td>3</td>\n",
       "      <td>3</td>\n",
       "      <td>3</td>\n",
       "      <td>3</td>\n",
       "      <td>2</td>\n",
       "      <td>4</td>\n",
       "    </tr>\n",
       "    <tr>\n",
       "      <th>top</th>\n",
       "      <td>8824-RWFXJ</td>\n",
       "      <td>Male</td>\n",
       "      <td>No</td>\n",
       "      <td>No</td>\n",
       "      <td>Yes</td>\n",
       "      <td>No</td>\n",
       "      <td>Fiber optic</td>\n",
       "      <td>No</td>\n",
       "      <td>No</td>\n",
       "      <td>No</td>\n",
       "      <td>No</td>\n",
       "      <td>No</td>\n",
       "      <td>No</td>\n",
       "      <td>Month-to-month</td>\n",
       "      <td>Yes</td>\n",
       "      <td>Electronic check</td>\n",
       "    </tr>\n",
       "    <tr>\n",
       "      <th>freq</th>\n",
       "      <td>1</td>\n",
       "      <td>3549</td>\n",
       "      <td>3639</td>\n",
       "      <td>4933</td>\n",
       "      <td>6352</td>\n",
       "      <td>3385</td>\n",
       "      <td>3096</td>\n",
       "      <td>3497</td>\n",
       "      <td>3087</td>\n",
       "      <td>3094</td>\n",
       "      <td>3472</td>\n",
       "      <td>2809</td>\n",
       "      <td>2781</td>\n",
       "      <td>3875</td>\n",
       "      <td>4168</td>\n",
       "      <td>2365</td>\n",
       "    </tr>\n",
       "  </tbody>\n",
       "</table>\n",
       "</div>"
      ],
      "text/plain": [
       "        customerID gender Partner Dependents PhoneService MultipleLines  \\\n",
       "count         7032   7032    7032       7032         7032          7032   \n",
       "unique        7032      2       2          2            2             3   \n",
       "top     8824-RWFXJ   Male      No         No          Yes            No   \n",
       "freq             1   3549    3639       4933         6352          3385   \n",
       "\n",
       "       InternetService OnlineSecurity OnlineBackup DeviceProtection  \\\n",
       "count             7032           7032         7032             7032   \n",
       "unique               3              3            3                3   \n",
       "top        Fiber optic             No           No               No   \n",
       "freq              3096           3497         3087             3094   \n",
       "\n",
       "       TechSupport StreamingTV StreamingMovies        Contract  \\\n",
       "count         7032        7032            7032            7032   \n",
       "unique           3           3               3               3   \n",
       "top             No          No              No  Month-to-month   \n",
       "freq          3472        2809            2781            3875   \n",
       "\n",
       "       PaperlessBilling     PaymentMethod  \n",
       "count              7032              7032  \n",
       "unique                2                 4  \n",
       "top                 Yes  Electronic check  \n",
       "freq               4168              2365  "
      ]
     },
     "execution_count": 635,
     "metadata": {},
     "output_type": "execute_result"
    }
   ],
   "source": [
    "df.describe(include=[np.object])"
   ]
  },
  {
   "cell_type": "code",
   "execution_count": 636,
   "metadata": {},
   "outputs": [
    {
     "data": {
      "text/plain": [
       "Index(['customerID', 'gender', 'SeniorCitizen', 'Partner', 'Dependents',\n",
       "       'tenure', 'PhoneService', 'MultipleLines', 'InternetService',\n",
       "       'OnlineSecurity', 'OnlineBackup', 'DeviceProtection', 'TechSupport',\n",
       "       'StreamingTV', 'StreamingMovies', 'Contract', 'PaperlessBilling',\n",
       "       'PaymentMethod', 'MonthlyCharges', 'TotalCharges', 'Churn'],\n",
       "      dtype='object')"
      ]
     },
     "execution_count": 636,
     "metadata": {},
     "output_type": "execute_result"
    }
   ],
   "source": [
    "df.columns"
   ]
  },
  {
   "cell_type": "code",
   "execution_count": 637,
   "metadata": {},
   "outputs": [],
   "source": [
    "# plot the unique counts for the categorical variables\n",
    "\n",
    "def plot_categorical(df, categorical_variables_list: List):\n",
    "    nrows = 1\n",
    "    ncols = int(np.ceil(len(categorical_variables_list) / nrows))\n",
    "    fig, axes = plt.subplots(nrows, ncols, figsize=(16, 4))\n",
    "\n",
    "    for i in range(len(categorical_variables_list)):\n",
    "        df.loc[:, categorical_variables_list[i]].value_counts().plot.barh(ax=axes[i])\n",
    "        axes[i].set_title(categorical_variables_list[i])\n",
    "\n",
    "\n"
   ]
  },
  {
   "cell_type": "code",
   "execution_count": 638,
   "metadata": {},
   "outputs": [
    {
     "data": {
      "image/png": "[encoded data removed]",
      "text/plain": [
       "<Figure size 1152x288 with 5 Axes>"
      ]
     },
     "metadata": {
      "needs_background": "light"
     },
     "output_type": "display_data"
    }
   ],
   "source": [
    "plot_categorical(df, ['gender', 'Partner', 'Dependents', 'PhoneService', 'MultipleLines'\n",
    "       ])"
   ]
  },
  {
   "cell_type": "code",
   "execution_count": 639,
   "metadata": {},
   "outputs": [
    {
     "data": {
      "image/png": "[encoded data removed]",
      "text/plain": [
       "<Figure size 1152x288 with 6 Axes>"
      ]
     },
     "metadata": {
      "needs_background": "light"
     },
     "output_type": "display_data"
    }
   ],
   "source": [
    "plot_categorical(df, ['InternetService', 'OnlineSecurity', 'OnlineBackup', 'DeviceProtection', 'TechSupport',\n",
    "       'StreamingTV'  ])"
   ]
  },
  {
   "cell_type": "code",
   "execution_count": 640,
   "metadata": {},
   "outputs": [
    {
     "data": {
      "image/png": "[encoded data removed]",
      "text/plain": [
       "<Figure size 1152x288 with 4 Axes>"
      ]
     },
     "metadata": {
      "needs_background": "light"
     },
     "output_type": "display_data"
    }
   ],
   "source": [
    "plot_categorical(df, [ 'StreamingMovies', 'Contract', 'PaperlessBilling',\n",
    "       'PaymentMethod'])"
   ]
  },
  {
   "cell_type": "markdown",
   "metadata": {},
   "source": [
    "### (4) Summary"
   ]
  },
  {
   "cell_type": "markdown",
   "metadata": {},
   "source": [
    "\n",
    "\n",
    " **Which features are available in the dataset?**\n",
    "\n",
    " * https://www.kaggle.com/blastchar/telco-customer-churn\n",
    "\n",
    "\n",
    " **Which features have missing values?**\n",
    " * none\n",
    " \n",
    "\n",
    " **What are the numeric variables and categorical variables?**\n",
    "\n",
    " * Numerical variables: (1) continuous: 'SeniorCitizen', 'MonthlyCharges', 'TotalCharges'; (2) discrete: 'tenure' .\n",
    " * Categorial variables: Others \n",
    "\n",
    "\n",
    " **What is the distribution of numerical feature values across the samples?**\n",
    "\n",
    "\n",
    "\n",
    " **What is the distribution of categorical features?**\n",
    "\n",
    "\n",
    "**Which features are mixed data types?**\n",
    "  Numerical, alphanumeric data within same feature. These are candidates for correcting goal.\n",
    " * CustomID: a mix of numeric and alphanumeric data types. \n",
    "\n",
    "\n",
    "\n",
    "**Which features may contain errors or typos?**\n",
    "\n",
    "\n",
    "**which feature I should select? preliminary inspection**\n",
    "\n",
    " * only drop CustomID\n",
    "\n"
   ]
  },
  {
   "cell_type": "markdown",
   "metadata": {},
   "source": [
    "### (5) Analyze correlation between features and target\n",
    "\n"
   ]
  },
  {
   "cell_type": "markdown",
   "metadata": {},
   "source": [
    "#### (a) Numerical variable vs. target variable"
   ]
  },
  {
   "cell_type": "markdown",
   "metadata": {},
   "source": [
    "#### descriptive"
   ]
  },
  {
   "cell_type": "code",
   "execution_count": 642,
   "metadata": {},
   "outputs": [
    {
     "data": {
      "text/html": [
       "<div>\n",
       "<style scoped>\n",
       "    .dataframe tbody tr th:only-of-type {\n",
       "        vertical-align: middle;\n",
       "    }\n",
       "\n",
       "    .dataframe tbody tr th {\n",
       "        vertical-align: top;\n",
       "    }\n",
       "\n",
       "    .dataframe thead th {\n",
       "        text-align: right;\n",
       "    }\n",
       "</style>\n",
       "<table border=\"1\" class=\"dataframe\">\n",
       "  <thead>\n",
       "    <tr style=\"text-align: right;\">\n",
       "      <th></th>\n",
       "      <th>SeniorCitizen</th>\n",
       "      <th>tenure</th>\n",
       "      <th>MonthlyCharges</th>\n",
       "      <th>TotalCharges</th>\n",
       "    </tr>\n",
       "    <tr>\n",
       "      <th>Churn</th>\n",
       "      <th></th>\n",
       "      <th></th>\n",
       "      <th></th>\n",
       "      <th></th>\n",
       "    </tr>\n",
       "  </thead>\n",
       "  <tbody>\n",
       "    <tr>\n",
       "      <th>0</th>\n",
       "      <td>0.128995</td>\n",
       "      <td>37.650010</td>\n",
       "      <td>61.307408</td>\n",
       "      <td>2555.344141</td>\n",
       "    </tr>\n",
       "    <tr>\n",
       "      <th>1</th>\n",
       "      <td>0.254682</td>\n",
       "      <td>17.979133</td>\n",
       "      <td>74.441332</td>\n",
       "      <td>1531.796094</td>\n",
       "    </tr>\n",
       "  </tbody>\n",
       "</table>\n",
       "</div>"
      ],
      "text/plain": [
       "       SeniorCitizen     tenure  MonthlyCharges  TotalCharges\n",
       "Churn                                                        \n",
       "0           0.128995  37.650010       61.307408   2555.344141\n",
       "1           0.254682  17.979133       74.441332   1531.796094"
      ]
     },
     "execution_count": 642,
     "metadata": {},
     "output_type": "execute_result"
    }
   ],
   "source": [
    "df.groupby('Churn').mean()"
   ]
  },
  {
   "cell_type": "markdown",
   "metadata": {},
   "source": [
    "#### visulization"
   ]
  },
  {
   "cell_type": "markdown",
   "metadata": {},
   "source": [
    "mean"
   ]
  },
  {
   "cell_type": "code",
   "execution_count": 643,
   "metadata": {},
   "outputs": [
    {
     "name": "stderr",
     "output_type": "stream",
     "text": [
      "C:\\Users\\music\\AppData\\Roaming\\Python\\Python37\\site-packages\\scipy\\stats\\stats.py:1713: FutureWarning: Using a non-tuple sequence for multidimensional indexing is deprecated; use `arr[tuple(seq)]` instead of `arr[seq]`. In the future this will be interpreted as an array index, `arr[np.array(seq)]`, which will result either in an error or a different result.\n",
      "  return np.add.reduce(sorted[indexer] * weights, axis=axis) / sumval\n"
     ]
    },
    {
     "data": {
      "image/png": "[encoded data removed]",
      "text/plain": [
       "<Figure size 720x288 with 4 Axes>"
      ]
     },
     "metadata": {
      "needs_background": "light"
     },
     "output_type": "display_data"
    }
   ],
   "source": [
    "def plot_numerical_target(df, feature_list, target):\n",
    "    fig, axis = plt.subplots(1, len(feature_list), figsize=(10, 4))\n",
    "    for i in range(len(feature_list)):\n",
    "        sns.catplot(ax=axis[i], data=df, x=target, y=feature_list[i], kind='bar')\n",
    "        axis[i].set_title(feature_list[i])\n",
    "    \n",
    "plot_numerical_target(df, ['SeniorCitizen', 'tenure', 'MonthlyCharges', 'TotalCharges'], 'Churn')\n",
    "plt.close(2)\n",
    "plt.close(3)\n",
    "plt.close(4)\n",
    "plt.close(5)\n"
   ]
  },
  {
   "cell_type": "markdown",
   "metadata": {},
   "source": [
    "distribution "
   ]
  },
  {
   "cell_type": "code",
   "execution_count": 644,
   "metadata": {},
   "outputs": [
    {
     "data": {
      "text/plain": [
       "<seaborn.axisgrid.FacetGrid at 0x22420b499e8>"
      ]
     },
     "execution_count": 644,
     "metadata": {},
     "output_type": "execute_result"
    },
    {
     "data": {
      "image/png": "[encoded data removed]",
      "text/plain": [
       "<Figure size 432x216 with 2 Axes>"
      ]
     },
     "metadata": {
      "needs_background": "light"
     },
     "output_type": "display_data"
    },
    {
     "data": {
      "image/png": "[encoded data removed]",
      "text/plain": [
       "<Figure size 360x360 with 1 Axes>"
      ]
     },
     "metadata": {
      "needs_background": "light"
     },
     "output_type": "display_data"
    }
   ],
   "source": [
    "g = sns.FacetGrid(data=df, col='Churn')\n",
    "g.map(plt.hist, 'tenure')\n",
    "\n",
    "sns.catplot(data=df, x='Churn', y='tenure', kind='box')\n"
   ]
  },
  {
   "cell_type": "markdown",
   "metadata": {},
   "source": [
    "two features"
   ]
  },
  {
   "cell_type": "code",
   "execution_count": 645,
   "metadata": {},
   "outputs": [
    {
     "data": {
      "text/plain": [
       "<seaborn.axisgrid.FacetGrid at 0x22424d2d3c8>"
      ]
     },
     "execution_count": 645,
     "metadata": {},
     "output_type": "execute_result"
    },
    {
     "data": {
      "image/png": "[encoded data removed]",
      "text/plain": [
       "<Figure size 432x432 with 4 Axes>"
      ]
     },
     "metadata": {
      "needs_background": "light"
     },
     "output_type": "display_data"
    }
   ],
   "source": [
    "# We can combine multiple features for identifying correlations using a single plot. \n",
    "# This can be done with numerical and categorical features which have numeric values.\n",
    "\n",
    "g = sns.FacetGrid(data=df, row='gender', col='Churn')\n",
    "g.map(plt.hist, 'tenure')\n"
   ]
  },
  {
   "cell_type": "code",
   "execution_count": 646,
   "metadata": {},
   "outputs": [
    {
     "name": "stderr",
     "output_type": "stream",
     "text": [
      "c:\\program files\\python37\\lib\\site-packages\\seaborn\\axisgrid.py:848: UserWarning: Tight layout not applied. tight_layout cannot make axes width small enough to accommodate all axes decorations\n",
      "  self.fig.tight_layout()\n"
     ]
    },
    {
     "data": {
      "text/plain": [
       "<seaborn.axisgrid.FacetGrid at 0x2242638bb70>"
      ]
     },
     "execution_count": 646,
     "metadata": {},
     "output_type": "execute_result"
    },
    {
     "data": {
      "image/png": "[encoded data removed]",
      "text/plain": [
       "<Figure size 432x648 with 6 Axes>"
      ]
     },
     "metadata": {
      "needs_background": "light"
     },
     "output_type": "display_data"
    }
   ],
   "source": [
    "g = sns.FacetGrid(data=df, row='Contract', col='Churn')\n",
    "g.map(plt.hist, 'tenure')"
   ]
  },
  {
   "cell_type": "markdown",
   "metadata": {},
   "source": [
    "MonthlyCharges"
   ]
  },
  {
   "cell_type": "code",
   "execution_count": 647,
   "metadata": {},
   "outputs": [
    {
     "data": {
      "text/plain": [
       "<seaborn.axisgrid.FacetGrid at 0x22427b7cc50>"
      ]
     },
     "execution_count": 647,
     "metadata": {},
     "output_type": "execute_result"
    },
    {
     "data": {
      "image/png": "[encoded data removed]",
      "text/plain": [
       "<Figure size 432x216 with 2 Axes>"
      ]
     },
     "metadata": {
      "needs_background": "light"
     },
     "output_type": "display_data"
    }
   ],
   "source": [
    "g = sns.FacetGrid(data=df, col='Churn')\n",
    "g.map(plt.hist, 'MonthlyCharges')"
   ]
  },
  {
   "cell_type": "markdown",
   "metadata": {},
   "source": [
    "TotalCharges"
   ]
  },
  {
   "cell_type": "code",
   "execution_count": 648,
   "metadata": {},
   "outputs": [
    {
     "data": {
      "text/plain": [
       "<seaborn.axisgrid.FacetGrid at 0x22426022048>"
      ]
     },
     "execution_count": 648,
     "metadata": {},
     "output_type": "execute_result"
    },
    {
     "data": {
      "image/png": "[encoded data removed]",
      "text/plain": [
       "<Figure size 432x216 with 2 Axes>"
      ]
     },
     "metadata": {
      "needs_background": "light"
     },
     "output_type": "display_data"
    }
   ],
   "source": [
    "g = sns.FacetGrid(data=df, col='Churn')\n",
    "g.map(plt.hist, 'TotalCharges')"
   ]
  },
  {
   "cell_type": "markdown",
   "metadata": {},
   "source": [
    "**Summary**\n"
   ]
  },
  {
   "cell_type": "markdown",
   "metadata": {},
   "source": [
    "####  (c) Categorical variable vs. target variable"
   ]
  },
  {
   "cell_type": "markdown",
   "metadata": {},
   "source": [
    "##### descriptive"
   ]
  },
  {
   "cell_type": "code",
   "execution_count": 649,
   "metadata": {},
   "outputs": [
    {
     "data": {
      "text/plain": [
       "Index(['customerID', 'gender', 'SeniorCitizen', 'Partner', 'Dependents',\n",
       "       'tenure', 'PhoneService', 'MultipleLines', 'InternetService',\n",
       "       'OnlineSecurity', 'OnlineBackup', 'DeviceProtection', 'TechSupport',\n",
       "       'StreamingTV', 'StreamingMovies', 'Contract', 'PaperlessBilling',\n",
       "       'PaymentMethod', 'MonthlyCharges', 'TotalCharges', 'Churn'],\n",
       "      dtype='object')"
      ]
     },
     "execution_count": 649,
     "metadata": {},
     "output_type": "execute_result"
    }
   ],
   "source": [
    "df.columns"
   ]
  },
  {
   "cell_type": "code",
   "execution_count": 650,
   "metadata": {},
   "outputs": [],
   "source": [
    "def cat_target(df, feature, target):\n",
    "    for i in range(len(feature)):\n",
    "        print(df.groupby(by=feature[i]).mean().sort_values(by=target, ascending=False), '\\n')  "
   ]
  },
  {
   "cell_type": "code",
   "execution_count": 651,
   "metadata": {},
   "outputs": [
    {
     "name": "stdout",
     "output_type": "stream",
     "text": [
      "        SeniorCitizen     tenure  MonthlyCharges  TotalCharges     Churn\n",
      "gender                                                                  \n",
      "Female       0.163078  32.290841       65.216652   2283.190985  0.269595\n",
      "Male         0.161736  32.550296       64.387546   2283.407861  0.262046 \n",
      "\n",
      "                  tenure  MonthlyCharges  TotalCharges     Churn\n",
      "SeniorCitizen                                                   \n",
      "1              33.295972       79.820359   2810.465193  0.416813\n",
      "0              32.252292       61.885594   2181.089550  0.236503 \n",
      "\n",
      "         SeniorCitizen     tenure  MonthlyCharges  TotalCharges     Churn\n",
      "Partner                                                                  \n",
      "No            0.156362  23.370706       61.956472   1584.960429  0.329761\n",
      "Yes           0.168877  42.129089       67.845977   3032.271648  0.197171 \n",
      "\n",
      "            SeniorCitizen     tenure  MonthlyCharges  TotalCharges     Churn\n",
      "Dependents                                                                  \n",
      "No               0.213055  29.806000       67.002808   2187.709254  0.312791\n",
      "Yes              0.043354  38.569319       59.617032   2507.955669  0.155312 \n",
      "\n",
      "              SeniorCitizen     tenure  MonthlyCharges  TotalCharges     Churn\n",
      "PhoneService                                                                  \n",
      "Yes                0.163413  32.485044       67.239625   2367.108588  0.267475\n",
      "No                 0.152941  31.830882       41.992500   1500.433750  0.250000 \n",
      "\n",
      "                  SeniorCitizen     tenure  MonthlyCharges  TotalCharges  \\\n",
      "MultipleLines                                                              \n",
      "Yes                    0.224132  41.971014       82.084766   3527.700994   \n",
      "No                     0.110192  24.170458       54.227651   1349.833058   \n",
      "No phone service       0.152941  31.830882       41.992500   1500.433750   \n",
      "\n",
      "                     Churn  \n",
      "MultipleLines               \n",
      "Yes               0.286485  \n",
      "No                0.250812  \n",
      "No phone service  0.250000   \n",
      "\n",
      "                 SeniorCitizen     tenure  MonthlyCharges  TotalCharges  \\\n",
      "InternetService                                                           \n",
      "Fiber optic           0.268411  32.917959       91.500129   3205.304570   \n",
      "DSL                   0.107202  32.889487       58.088017   2119.789259   \n",
      "No                    0.034211  30.667763       21.076283    665.220329   \n",
      "\n",
      "                    Churn  \n",
      "InternetService            \n",
      "Fiber optic      0.418928  \n",
      "DSL              0.189983  \n",
      "No               0.074342   \n",
      "\n",
      "                     SeniorCitizen     tenure  MonthlyCharges  TotalCharges  \\\n",
      "OnlineSecurity                                                                \n",
      "No                        0.231055  25.858164       75.693737   2136.277938   \n",
      "Yes                       0.139950  45.135980       78.870496   3759.042109   \n",
      "No internet service       0.034211  30.667763       21.076283    665.220329   \n",
      "\n",
      "                        Churn  \n",
      "OnlineSecurity                 \n",
      "No                   0.417787  \n",
      "Yes                  0.146402  \n",
      "No internet service  0.074342   \n",
      "\n",
      "                     SeniorCitizen     tenure  MonthlyCharges  TotalCharges  \\\n",
      "OnlineBackup                                                                  \n",
      "No                        0.198899  23.688371       71.944282   1828.148364   \n",
      "Yes                       0.196289  44.638763       83.106412   3876.923629   \n",
      "No internet service       0.034211  30.667763       21.076283    665.220329   \n",
      "\n",
      "                        Churn  \n",
      "OnlineBackup                   \n",
      "No                   0.399417  \n",
      "Yes                  0.215670  \n",
      "No internet service  0.074342   \n",
      "\n",
      "                     SeniorCitizen     tenure  MonthlyCharges  TotalCharges  \\\n",
      "DeviceProtection                                                              \n",
      "No                        0.201681  23.704590       70.603862   1798.760149   \n",
      "Yes                       0.192721  44.678660       84.853888   3920.459016   \n",
      "No internet service       0.034211  30.667763       21.076283    665.220329   \n",
      "\n",
      "                        Churn  \n",
      "DeviceProtection               \n",
      "No                   0.391403  \n",
      "Yes                  0.225393  \n",
      "No internet service  0.074342   \n",
      "\n",
      "                     SeniorCitizen     tenure  MonthlyCharges  TotalCharges  \\\n",
      "TechSupport                                                                   \n",
      "No                        0.239055  25.851671       74.584879   2089.886679   \n",
      "Yes                       0.127451  44.910784       80.718799   3818.111397   \n",
      "No internet service       0.034211  30.667763       21.076283    665.220329   \n",
      "\n",
      "                        Churn  \n",
      "TechSupport                    \n",
      "No                   0.416475  \n",
      "Yes                  0.151961  \n",
      "No internet service  0.074342   \n",
      "\n",
      "                     SeniorCitizen     tenure  MonthlyCharges  TotalCharges  \\\n",
      "StreamingTV                                                                   \n",
      "No                        0.184407  24.994304       65.388928   1735.407796   \n",
      "Yes                       0.211617  41.126896       88.770829   3762.587236   \n",
      "No internet service       0.034211  30.667763       21.076283    665.220329   \n",
      "\n",
      "                        Churn  \n",
      "StreamingTV                    \n",
      "No                   0.335351  \n",
      "Yes                  0.301147  \n",
      "No internet service  0.074342   \n",
      "\n",
      "                     SeniorCitizen     tenure  MonthlyCharges  TotalCharges  \\\n",
      "StreamingMovies                                                               \n",
      "No                        0.177994  24.747932       65.440579   1715.531967   \n",
      "Yes                       0.217869  41.212376       88.478506   3762.042988   \n",
      "No internet service       0.034211  30.667763       21.076283    665.220329   \n",
      "\n",
      "                        Churn  \n",
      "StreamingMovies                \n",
      "No                   0.337289  \n",
      "Yes                  0.299524  \n",
      "No internet service  0.074342   \n",
      "\n",
      "                SeniorCitizen     tenure  MonthlyCharges  TotalCharges  \\\n",
      "Contract                                                                 \n",
      "Month-to-month       0.208258  18.036645       66.398490   1369.254581   \n",
      "One year             0.129076  42.073370       65.079416   3034.683084   \n",
      "Two year             0.086053  57.071810       60.872374   3728.933947   \n",
      "\n",
      "                   Churn  \n",
      "Contract                  \n",
      "Month-to-month  0.427097  \n",
      "One year        0.112772  \n",
      "Two year        0.028487   \n",
      "\n",
      "                  SeniorCitizen     tenure  MonthlyCharges  TotalCharges  \\\n",
      "PaperlessBilling                                                           \n",
      "Yes                    0.210173  32.519914       73.574532   2579.843966   \n",
      "No                     0.092877  32.278980       52.025960   1851.738495   \n",
      "\n",
      "                     Churn  \n",
      "PaperlessBilling            \n",
      "Yes               0.335893  \n",
      "No                0.163757   \n",
      "\n",
      "                           SeniorCitizen     tenure  MonthlyCharges  \\\n",
      "PaymentMethod                                                         \n",
      "Electronic check                0.251163  25.174630       76.255814   \n",
      "Mailed check                    0.058603  21.938903       43.958354   \n",
      "Bank transfer (automatic)       0.151102  43.713359       67.205577   \n",
      "Credit card (automatic)         0.145299  43.297830       66.519264   \n",
      "\n",
      "                           TotalCharges     Churn  \n",
      "PaymentMethod                                      \n",
      "Electronic check            2090.868182  0.452854  \n",
      "Mailed check                1054.483915  0.192020  \n",
      "Bank transfer (automatic)   3079.299546  0.167315  \n",
      "Credit card (automatic)     3071.396022  0.152531   \n",
      "\n"
     ]
    }
   ],
   "source": [
    "cat_target(df, [ 'gender', 'SeniorCitizen', 'Partner', 'Dependents',\n",
    "       'PhoneService', 'MultipleLines', 'InternetService',\n",
    "       'OnlineSecurity', 'OnlineBackup', 'DeviceProtection', 'TechSupport',\n",
    "       'StreamingTV', 'StreamingMovies', 'Contract', 'PaperlessBilling',\n",
    "       'PaymentMethod'], 'Churn')"
   ]
  },
  {
   "cell_type": "markdown",
   "metadata": {},
   "source": [
    "**Summary**\n",
    "\n"
   ]
  },
  {
   "cell_type": "markdown",
   "metadata": {},
   "source": [
    "##### visulization"
   ]
  },
  {
   "cell_type": "code",
   "execution_count": 652,
   "metadata": {},
   "outputs": [],
   "source": [
    "df_churn = df[df['Churn'] == 1]\n",
    "df_notchurn = df[df['Churn'] == 0]"
   ]
  },
  {
   "cell_type": "markdown",
   "metadata": {},
   "source": [
    "not Churn"
   ]
  },
  {
   "cell_type": "code",
   "execution_count": 653,
   "metadata": {},
   "outputs": [
    {
     "data": {
      "image/png": "[encoded data removed]",
      "text/plain": [
       "<Figure size 1152x288 with 5 Axes>"
      ]
     },
     "metadata": {
      "needs_background": "light"
     },
     "output_type": "display_data"
    }
   ],
   "source": [
    "plot_categorical(df_notchurn, ['gender', 'SeniorCitizen', 'Partner', 'Dependents',\n",
    "       'PhoneService'])"
   ]
  },
  {
   "cell_type": "markdown",
   "metadata": {},
   "source": [
    " churn"
   ]
  },
  {
   "cell_type": "code",
   "execution_count": 654,
   "metadata": {},
   "outputs": [
    {
     "data": {
      "image/png": "[encoded data removed]",
      "text/plain": [
       "<Figure size 1152x288 with 5 Axes>"
      ]
     },
     "metadata": {
      "needs_background": "light"
     },
     "output_type": "display_data"
    }
   ],
   "source": [
    "plot_categorical(df_churn, ['gender', 'SeniorCitizen', 'Partner', 'Dependents',\n",
    "       'PhoneService'])"
   ]
  },
  {
   "cell_type": "markdown",
   "metadata": {},
   "source": [
    "not Churn"
   ]
  },
  {
   "cell_type": "code",
   "execution_count": 655,
   "metadata": {},
   "outputs": [
    {
     "data": {
      "image/png": "[encoded data removed]",
      "text/plain": [
       "<Figure size 1152x288 with 5 Axes>"
      ]
     },
     "metadata": {
      "needs_background": "light"
     },
     "output_type": "display_data"
    }
   ],
   "source": [
    "plot_categorical(df_notchurn, [ 'MultipleLines', 'InternetService',\n",
    "       'OnlineSecurity', 'OnlineBackup', 'DeviceProtection'])\n"
   ]
  },
  {
   "cell_type": "markdown",
   "metadata": {},
   "source": [
    "churn"
   ]
  },
  {
   "cell_type": "code",
   "execution_count": 656,
   "metadata": {},
   "outputs": [
    {
     "data": {
      "image/png": "[encoded data removed]",
      "text/plain": [
       "<Figure size 1152x288 with 5 Axes>"
      ]
     },
     "metadata": {
      "needs_background": "light"
     },
     "output_type": "display_data"
    }
   ],
   "source": [
    "plot_categorical(df_churn, [ 'MultipleLines', 'InternetService',\n",
    "       'OnlineSecurity', 'OnlineBackup', 'DeviceProtection'])\n"
   ]
  },
  {
   "cell_type": "markdown",
   "metadata": {},
   "source": [
    "not churn"
   ]
  },
  {
   "cell_type": "code",
   "execution_count": 657,
   "metadata": {},
   "outputs": [
    {
     "data": {
      "image/png": "[encoded data removed]",
      "text/plain": [
       "<Figure size 1152x288 with 6 Axes>"
      ]
     },
     "metadata": {
      "needs_background": "light"
     },
     "output_type": "display_data"
    }
   ],
   "source": [
    "plot_categorical(df_notchurn, ['TechSupport',\n",
    "       'StreamingTV', 'StreamingMovies', 'Contract', 'PaperlessBilling',\n",
    "       'PaymentMethod'])"
   ]
  },
  {
   "cell_type": "markdown",
   "metadata": {},
   "source": [
    "Churn"
   ]
  },
  {
   "cell_type": "code",
   "execution_count": 658,
   "metadata": {},
   "outputs": [
    {
     "data": {
      "image/png": "[encoded data removed]",
      "text/plain": [
       "<Figure size 1152x288 with 6 Axes>"
      ]
     },
     "metadata": {
      "needs_background": "light"
     },
     "output_type": "display_data"
    }
   ],
   "source": [
    "plot_categorical(df_churn, ['TechSupport',\n",
    "       'StreamingTV', 'StreamingMovies', 'Contract', 'PaperlessBilling',\n",
    "       'PaymentMethod'])"
   ]
  },
  {
   "cell_type": "code",
   "execution_count": null,
   "metadata": {},
   "outputs": [],
   "source": []
  },
  {
   "cell_type": "code",
   "execution_count": 659,
   "metadata": {},
   "outputs": [
    {
     "name": "stderr",
     "output_type": "stream",
     "text": [
      "c:\\program files\\python37\\lib\\site-packages\\seaborn\\axisgrid.py:230: UserWarning: The `size` paramter has been renamed to `height`; please update your code.\n",
      "  warnings.warn(msg, UserWarning)\n",
      "c:\\program files\\python37\\lib\\site-packages\\seaborn\\axisgrid.py:715: UserWarning: Using the pointplot function without specifying `order` is likely to produce an incorrect plot.\n",
      "  warnings.warn(warning)\n",
      "c:\\program files\\python37\\lib\\site-packages\\seaborn\\axisgrid.py:720: UserWarning: Using the pointplot function without specifying `hue_order` is likely to produce an incorrect plot.\n",
      "  warnings.warn(warning)\n",
      "C:\\Users\\music\\AppData\\Roaming\\Python\\Python37\\site-packages\\scipy\\stats\\stats.py:1713: FutureWarning: Using a non-tuple sequence for multidimensional indexing is deprecated; use `arr[tuple(seq)]` instead of `arr[seq]`. In the future this will be interpreted as an array index, `arr[np.array(seq)]`, which will result either in an error or a different result.\n",
      "  return np.add.reduce(sorted[indexer] * weights, axis=axis) / sumval\n"
     ]
    },
    {
     "data": {
      "text/plain": [
       "<seaborn.axisgrid.FacetGrid at 0x22424729518>"
      ]
     },
     "execution_count": 659,
     "metadata": {},
     "output_type": "execute_result"
    },
    {
     "data": {
      "image/png": "[encoded data removed]",
      "text/plain": [
       "<Figure size 594.999x158.4 with 2 Axes>"
      ]
     },
     "metadata": {
      "needs_background": "light"
     },
     "output_type": "display_data"
    }
   ],
   "source": [
    "grid = sns.FacetGrid(df, col='PhoneService', size=2.2, aspect=1.6)\n",
    "grid.map(sns.pointplot, 'Partner', 'Churn', 'Dependents', palette='deep')\n",
    "grid.add_legend()"
   ]
  },
  {
   "cell_type": "markdown",
   "metadata": {},
   "source": [
    "**Summary**\n",
    "* some facotors are favorable to churn"
   ]
  },
  {
   "cell_type": "markdown",
   "metadata": {},
   "source": [
    "### (6) Assumtions based on data analysis\n"
   ]
  },
  {
   "cell_type": "markdown",
   "metadata": {},
   "source": [
    "\n",
    "We arrive at following assumptions based on data analysis done so far. We may validate these assumptions further before taking appropriate actions.\n",
    "\n",
    "**Correlating.**\n",
    "\n",
    "We want to know how well does each feature correlate with Churn. We want to do this early in our project and match these quick correlations with modelled correlations later in the project.\n",
    "\n",
    "**Completing.**\n",
    "\n",
    "**Correcting.**\n",
    "\n",
    "**Creating.**\n",
    "\n",
    "\n",
    "**Classifying.**\n",
    "\n"
   ]
  },
  {
   "cell_type": "markdown",
   "metadata": {},
   "source": [
    "# 3.  Wrangle data\n",
    "\n",
    "We have already processed the data a little bit:\n",
    "    (1) drop the invalid row in TotalCharges column\n",
    "    (2) convert Churn label Yes/No to 1/0\n",
    "now we continue to wrangle the data further "
   ]
  },
  {
   "cell_type": "markdown",
   "metadata": {},
   "source": [
    "###  (1) Drop some columns or remove some categories"
   ]
  },
  {
   "cell_type": "code",
   "execution_count": 661,
   "metadata": {},
   "outputs": [
    {
     "name": "stdout",
     "output_type": "stream",
     "text": [
      "before (7032, 21)\n",
      "after (7032, 20)\n"
     ]
    }
   ],
   "source": [
    "print('before', df.shape)\n",
    "\n",
    "df.drop(columns=['customerID'], inplace=True)\n",
    "\n",
    "print('after', df.shape)"
   ]
  },
  {
   "cell_type": "markdown",
   "metadata": {},
   "source": [
    "### (2) missing values\n",
    "no missing vluaes"
   ]
  },
  {
   "cell_type": "markdown",
   "metadata": {},
   "source": [
    "### (3)  Create engineering features"
   ]
  },
  {
   "cell_type": "markdown",
   "metadata": {},
   "source": [
    "### (4) Converting a categorical feature"
   ]
  },
  {
   "cell_type": "code",
   "execution_count": 662,
   "metadata": {},
   "outputs": [],
   "source": [
    "df = pd.get_dummies(df)\n"
   ]
  },
  {
   "cell_type": "code",
   "execution_count": 663,
   "metadata": {},
   "outputs": [],
   "source": [
    "# save the df for future analysis\n",
    "df_copy = df.copy()  # for plotting later"
   ]
  },
  {
   "cell_type": "markdown",
   "metadata": {},
   "source": [
    "### (5) remove correlated features\n",
    "After have done the test, removing correlated features didn't improve the model performance. But it may be good for the interpretation of the linear model"
   ]
  },
  {
   "cell_type": "code",
   "execution_count": 664,
   "metadata": {},
   "outputs": [
    {
     "name": "stdout",
     "output_type": "stream",
     "text": [
      "corr_matrix                 SeniorCitizen    tenure  MonthlyCharges  TotalCharges  \\\n",
      "SeniorCitizen        1.000000  0.015683        0.219874      0.102411   \n",
      "tenure               0.015683  1.000000        0.246862      0.825880   \n",
      "MonthlyCharges       0.219874  0.246862        1.000000      0.651065   \n",
      "TotalCharges         0.102411  0.825880        0.651065      1.000000   \n",
      "Churn                0.150541  0.354049        0.192858      0.199484   \n",
      "\n",
      "                   Churn  gender_Female  gender_Male  Partner_No  Partner_Yes  \\\n",
      "SeniorCitizen   0.150541       0.001819     0.001819    0.016957     0.016957   \n",
      "tenure          0.354049       0.005285     0.005285    0.381912     0.381912   \n",
      "MonthlyCharges  0.192858       0.013779     0.013779    0.097825     0.097825   \n",
      "TotalCharges    0.199484       0.000048     0.000048    0.319072     0.319072   \n",
      "Churn           1.000000       0.008545     0.008545    0.149982     0.149982   \n",
      "\n",
      "                Dependents_No             ...              \\\n",
      "SeniorCitizen        0.210550             ...               \n",
      "tenure               0.163386             ...               \n",
      "MonthlyCharges       0.112343             ...               \n",
      "TotalCharges         0.064653             ...               \n",
      "Churn                0.163128             ...               \n",
      "\n",
      "                StreamingMovies_Yes  Contract_Month-to-month  \\\n",
      "SeniorCitizen              0.119842                 0.137752   \n",
      "tenure                     0.285402                 0.649346   \n",
      "MonthlyCharges             0.627235                 0.058933   \n",
      "TotalCharges               0.519867                 0.446776   \n",
      "Churn                      0.060860                 0.404565   \n",
      "\n",
      "                Contract_One year  Contract_Two year  PaperlessBilling_No  \\\n",
      "SeniorCitizen            0.046491           0.116205             0.156258   \n",
      "tenure                   0.202338           0.563801             0.004823   \n",
      "MonthlyCharges           0.004810           0.073256             0.351930   \n",
      "TotalCharges             0.170569           0.358036             0.157830   \n",
      "Churn                    0.178225           0.301552             0.191454   \n",
      "\n",
      "                PaperlessBilling_Yes  PaymentMethod_Bank transfer (automatic)  \\\n",
      "SeniorCitizen               0.156258                                 0.016235   \n",
      "tenure                      0.004823                                 0.243822   \n",
      "MonthlyCharges              0.351930                                 0.042410   \n",
      "TotalCharges                0.157830                                 0.186119   \n",
      "Churn                       0.191454                                 0.118136   \n",
      "\n",
      "                PaymentMethod_Credit card (automatic)  \\\n",
      "SeniorCitizen                                0.024359   \n",
      "tenure                                       0.232800   \n",
      "MonthlyCharges                               0.030055   \n",
      "TotalCharges                                 0.182663   \n",
      "Churn                                        0.134687   \n",
      "\n",
      "                PaymentMethod_Electronic check  PaymentMethod_Mailed check  \n",
      "SeniorCitizen                         0.171322                    0.152987  \n",
      "tenure                                0.210197                    0.232181  \n",
      "MonthlyCharges                        0.271117                    0.376568  \n",
      "TotalCharges                          0.060436                    0.294708  \n",
      "Churn                                 0.301455                    0.090773  \n",
      "\n",
      "[5 rows x 46 columns]\n",
      "upper                 SeniorCitizen    tenure  MonthlyCharges  TotalCharges  \\\n",
      "SeniorCitizen             NaN  0.015683        0.219874      0.102411   \n",
      "tenure                    NaN       NaN        0.246862      0.825880   \n",
      "MonthlyCharges            NaN       NaN             NaN      0.651065   \n",
      "TotalCharges              NaN       NaN             NaN           NaN   \n",
      "Churn                     NaN       NaN             NaN           NaN   \n",
      "\n",
      "                   Churn  gender_Female  gender_Male  Partner_No  Partner_Yes  \\\n",
      "SeniorCitizen   0.150541       0.001819     0.001819    0.016957     0.016957   \n",
      "tenure          0.354049       0.005285     0.005285    0.381912     0.381912   \n",
      "MonthlyCharges  0.192858       0.013779     0.013779    0.097825     0.097825   \n",
      "TotalCharges    0.199484       0.000048     0.000048    0.319072     0.319072   \n",
      "Churn                NaN       0.008545     0.008545    0.149982     0.149982   \n",
      "\n",
      "                Dependents_No             ...              \\\n",
      "SeniorCitizen        0.210550             ...               \n",
      "tenure               0.163386             ...               \n",
      "MonthlyCharges       0.112343             ...               \n",
      "TotalCharges         0.064653             ...               \n",
      "Churn                0.163128             ...               \n",
      "\n",
      "                StreamingMovies_Yes  Contract_Month-to-month  \\\n",
      "SeniorCitizen              0.119842                 0.137752   \n",
      "tenure                     0.285402                 0.649346   \n",
      "MonthlyCharges             0.627235                 0.058933   \n",
      "TotalCharges               0.519867                 0.446776   \n",
      "Churn                      0.060860                 0.404565   \n",
      "\n",
      "                Contract_One year  Contract_Two year  PaperlessBilling_No  \\\n",
      "SeniorCitizen            0.046491           0.116205             0.156258   \n",
      "tenure                   0.202338           0.563801             0.004823   \n",
      "MonthlyCharges           0.004810           0.073256             0.351930   \n",
      "TotalCharges             0.170569           0.358036             0.157830   \n",
      "Churn                    0.178225           0.301552             0.191454   \n",
      "\n",
      "                PaperlessBilling_Yes  PaymentMethod_Bank transfer (automatic)  \\\n",
      "SeniorCitizen               0.156258                                 0.016235   \n",
      "tenure                      0.004823                                 0.243822   \n",
      "MonthlyCharges              0.351930                                 0.042410   \n",
      "TotalCharges                0.157830                                 0.186119   \n",
      "Churn                       0.191454                                 0.118136   \n",
      "\n",
      "                PaymentMethod_Credit card (automatic)  \\\n",
      "SeniorCitizen                                0.024359   \n",
      "tenure                                       0.232800   \n",
      "MonthlyCharges                               0.030055   \n",
      "TotalCharges                                 0.182663   \n",
      "Churn                                        0.134687   \n",
      "\n",
      "                PaymentMethod_Electronic check  PaymentMethod_Mailed check  \n",
      "SeniorCitizen                         0.171322                    0.152987  \n",
      "tenure                                0.210197                    0.232181  \n",
      "MonthlyCharges                        0.271117                    0.376568  \n",
      "TotalCharges                          0.060436                    0.294708  \n",
      "Churn                                 0.301455                    0.090773  \n",
      "\n",
      "[5 rows x 46 columns]\n",
      "['gender_Male', 'Partner_Yes', 'Dependents_Yes', 'PhoneService_Yes', 'MultipleLines_No phone service', 'OnlineSecurity_No internet service', 'OnlineBackup_No internet service', 'DeviceProtection_No internet service', 'TechSupport_No internet service', 'StreamingTV_No internet service', 'StreamingMovies_No internet service', 'PaperlessBilling_Yes']\n",
      "There are 12 columns to remove :\n"
     ]
    }
   ],
   "source": [
    "### Threshold for removing correlated variables\n",
    "threshold = 0.9\n",
    "\n",
    "# Absolute value correlation matrix\n",
    "corr_matrix = df.corr().abs()\n",
    "print('corr_matrix', corr_matrix.head())\n",
    "\n",
    "# Upper triangle of correlations\n",
    "upper = corr_matrix.where(np.triu(np.ones(corr_matrix.shape), k=1).astype(np.bool))\n",
    "print('upper', upper.head())\n",
    "\n",
    "# Select columns with correlations above threshold\n",
    "to_drop = [column for column in upper.columns if any(upper[column] > threshold)]\n",
    "print(to_drop)\n",
    "print('There are %d columns to remove :' % (len(to_drop)))\n"
   ]
  },
  {
   "cell_type": "code",
   "execution_count": 665,
   "metadata": {},
   "outputs": [],
   "source": [
    "df.drop(columns=to_drop, inplace=True)"
   ]
  },
  {
   "cell_type": "code",
   "execution_count": 666,
   "metadata": {},
   "outputs": [
    {
     "data": {
      "text/plain": [
       "Index(['SeniorCitizen', 'tenure', 'MonthlyCharges', 'TotalCharges', 'Churn',\n",
       "       'gender_Female', 'Partner_No', 'Dependents_No', 'PhoneService_No',\n",
       "       'MultipleLines_No', 'MultipleLines_Yes', 'InternetService_DSL',\n",
       "       'InternetService_Fiber optic', 'InternetService_No',\n",
       "       'OnlineSecurity_No', 'OnlineSecurity_Yes', 'OnlineBackup_No',\n",
       "       'OnlineBackup_Yes', 'DeviceProtection_No', 'DeviceProtection_Yes',\n",
       "       'TechSupport_No', 'TechSupport_Yes', 'StreamingTV_No',\n",
       "       'StreamingTV_Yes', 'StreamingMovies_No', 'StreamingMovies_Yes',\n",
       "       'Contract_Month-to-month', 'Contract_One year', 'Contract_Two year',\n",
       "       'PaperlessBilling_No', 'PaymentMethod_Bank transfer (automatic)',\n",
       "       'PaymentMethod_Credit card (automatic)',\n",
       "       'PaymentMethod_Electronic check', 'PaymentMethod_Mailed check'],\n",
       "      dtype='object')"
      ]
     },
     "execution_count": 666,
     "metadata": {},
     "output_type": "execute_result"
    }
   ],
   "source": [
    "df.columns"
   ]
  },
  {
   "cell_type": "markdown",
   "metadata": {},
   "source": [
    "### (5) separate features and target"
   ]
  },
  {
   "cell_type": "code",
   "execution_count": 667,
   "metadata": {},
   "outputs": [],
   "source": [
    "def split_to_features_labels(df: pd.DataFrame, feature_list: List, label_list: List) -> Tuple[pd.DataFrame, pd.Series]:\n",
    "    \"\"\" Split the data into feature matrix and the labels vector\"\"\"\n",
    "    df_features = df[feature_list]\n",
    "    df_label = df[label_list]\n",
    "    return df_features, df_label"
   ]
  },
  {
   "cell_type": "code",
   "execution_count": 668,
   "metadata": {},
   "outputs": [],
   "source": [
    "feature_list = list(set(list(df.columns)) - set(['Churn']))"
   ]
  },
  {
   "cell_type": "code",
   "execution_count": 669,
   "metadata": {},
   "outputs": [],
   "source": [
    "label_list = 'Churn'\n",
    "df_features, df_label = split_to_features_labels(df, feature_list, label_list)"
   ]
  },
  {
   "cell_type": "markdown",
   "metadata": {},
   "source": [
    "### (6) split into train set and test set\n"
   ]
  },
  {
   "cell_type": "code",
   "execution_count": 670,
   "metadata": {},
   "outputs": [],
   "source": [
    "X_trainval, X_test, y_trainval, y_test = train_test_split( df_features, df_label, test_size=0.2, random_state=0)"
   ]
  },
  {
   "cell_type": "markdown",
   "metadata": {},
   "source": [
    "### (7) feature selection\n",
    "using univariate to drop some feature actually reduce the model performance. I don't use it. "
   ]
  },
  {
   "cell_type": "code",
   "execution_count": 713,
   "metadata": {},
   "outputs": [],
   "source": [
    "select = SelectPercentile(percentile=80)\n",
    "select.fit(X_trainval, y_trainval)\n",
    "X_trainval_selected = select.transform(X_trainval)\n",
    "X_test_selected = select.transform(X_test)\n"
   ]
  },
  {
   "cell_type": "code",
   "execution_count": 714,
   "metadata": {},
   "outputs": [
    {
     "name": "stdout",
     "output_type": "stream",
     "text": [
      "                                         boolen\n",
      "StreamingMovies_Yes                       False\n",
      "gender_Female                             False\n",
      "MultipleLines_Yes                         False\n",
      "DeviceProtection_Yes                      False\n",
      "StreamingTV_Yes                           False\n",
      "MultipleLines_No                          False\n",
      "PhoneService_No                           False\n",
      "InternetService_No                         True\n",
      "OnlineSecurity_No                          True\n",
      "DeviceProtection_No                        True\n",
      "OnlineBackup_No                            True\n",
      "TechSupport_No                             True\n",
      "MonthlyCharges                             True\n",
      "Dependents_No                              True\n",
      "PaymentMethod_Credit card (automatic)      True\n",
      "OnlineBackup_Yes                           True\n",
      "Partner_No                                 True\n",
      "PaymentMethod_Bank transfer (automatic)    True\n",
      "InternetService_DSL                        True\n",
      "StreamingMovies_No                         True\n",
      "TechSupport_Yes                            True\n",
      "TotalCharges                               True\n",
      "tenure                                     True\n",
      "Contract_Two year                          True\n",
      "SeniorCitizen                              True\n",
      "StreamingTV_No                             True\n",
      "Contract_One year                          True\n",
      "PaperlessBilling_No                        True\n",
      "PaymentMethod_Mailed check                 True\n",
      "OnlineSecurity_Yes                         True\n",
      "InternetService_Fiber optic                True\n",
      "Contract_Month-to-month                    True\n",
      "PaymentMethod_Electronic check             True\n"
     ]
    }
   ],
   "source": [
    "mask = select.get_support()\n",
    "temp = pd.DataFrame(index=X_trainval.columns, data=mask, columns=['boolen'])\n",
    "print(temp.sort_values(by='boolen'))"
   ]
  },
  {
   "cell_type": "markdown",
   "metadata": {},
   "source": [
    "# 4. Model training"
   ]
  },
  {
   "cell_type": "markdown",
   "metadata": {},
   "source": [
    "## Logistic regression "
   ]
  },
  {
   "cell_type": "code",
   "execution_count": 673,
   "metadata": {},
   "outputs": [
    {
     "data": {
      "text/plain": [
       "GridSearchCV(cv=5, error_score='raise-deprecating',\n",
       "             estimator=LogisticRegression(C=1.0, class_weight=None, dual=False,\n",
       "                                          fit_intercept=True,\n",
       "                                          intercept_scaling=1, l1_ratio=None,\n",
       "                                          max_iter=100, multi_class='warn',\n",
       "                                          n_jobs=None, penalty='l2',\n",
       "                                          random_state=None, solver='warn',\n",
       "                                          tol=0.0001, verbose=0,\n",
       "                                          warm_start=False),\n",
       "             iid='warn', n_jobs=None,\n",
       "             param_grid={'C': [0.001, 0.1, 1, 10, 100, 1000],\n",
       "                         'penalty': ['l1', 'l2'], 'solver': ['liblinear']},\n",
       "             pre_dispatch='2*n_jobs', refit=True, return_train_score=False,\n",
       "             scoring=make_scorer(f1_score), verbose=0)"
      ]
     },
     "execution_count": 673,
     "metadata": {},
     "output_type": "execute_result"
    }
   ],
   "source": [
    "param_grid = {'penalty': ['l1', 'l2'],\n",
    "              'C': [0.001, 0.1, 1, 10, 100, 1000],\n",
    "             'solver': ['liblinear']}\n",
    "scorer = make_scorer(f1_score)\n",
    "\n",
    "model_lg = GridSearchCV(estimator=LogisticRegression(), \n",
    "                        scoring = scorer,\n",
    "                        param_grid = param_grid,\n",
    "                        cv=5)\n",
    "\n",
    "model_lg.fit(X_trainval, y_trainval)\n"
   ]
  },
  {
   "cell_type": "code",
   "execution_count": 674,
   "metadata": {},
   "outputs": [
    {
     "data": {
      "text/plain": [
       "GridSearchCV(cv=5, error_score='raise-deprecating',\n",
       "             estimator=LogisticRegression(C=1.0, class_weight=None, dual=False,\n",
       "                                          fit_intercept=True,\n",
       "                                          intercept_scaling=1, l1_ratio=None,\n",
       "                                          max_iter=100, multi_class='warn',\n",
       "                                          n_jobs=None, penalty='l2',\n",
       "                                          random_state=None, solver='warn',\n",
       "                                          tol=0.0001, verbose=0,\n",
       "                                          warm_start=False),\n",
       "             iid='warn', n_jobs=None,\n",
       "             param_grid={'C': [0.001, 0.1, 1, 10, 100, 1000],\n",
       "                         'penalty': ['l1', 'l2'], 'solver': ['liblinear']},\n",
       "             pre_dispatch='2*n_jobs', refit=True, return_train_score=False,\n",
       "             scoring=make_scorer(f1_score), verbose=0)"
      ]
     },
     "execution_count": 674,
     "metadata": {},
     "output_type": "execute_result"
    }
   ],
   "source": [
    "param_grid = {'penalty': ['l1', 'l2'],\n",
    "              'C': [0.001, 0.1, 1, 10, 100, 1000],\n",
    "             'solver': ['liblinear']}\n",
    "scorer = make_scorer(f1_score)\n",
    "\n",
    "model_lg = GridSearchCV(estimator=LogisticRegression(), \n",
    "                        scoring = scorer,\n",
    "                        param_grid = param_grid,\n",
    "                        cv=5)\n",
    "\n",
    "model_lg.fit(X_trainval, y_trainval)\n"
   ]
  },
  {
   "cell_type": "markdown",
   "metadata": {},
   "source": [
    "###  evaluate the parameters"
   ]
  },
  {
   "cell_type": "code",
   "execution_count": 675,
   "metadata": {},
   "outputs": [
    {
     "name": "stdout",
     "output_type": "stream",
     "text": [
      "mean_test_score for different paramters \n",
      " [0.55246827 0.57402988 0.59598675 0.5951754  0.60167657 0.59573299\n",
      " 0.60187119 0.5987657  0.60214561 0.59337206 0.60236305 0.59337206]\n",
      "best scores \n",
      " 0.6023630482879432\n",
      "best estimator \n",
      " LogisticRegression(C=1000, class_weight=None, dual=False, fit_intercept=True,\n",
      "                   intercept_scaling=1, l1_ratio=None, max_iter=100,\n",
      "                   multi_class='warn', n_jobs=None, penalty='l1',\n",
      "                   random_state=None, solver='liblinear', tol=0.0001, verbose=0,\n",
      "                   warm_start=False)\n",
      "best parameters \n",
      " {'C': 1000, 'penalty': 'l1', 'solver': 'liblinear'}\n"
     ]
    }
   ],
   "source": [
    "mean_test_score = model_lg.cv_results_['mean_test_score']\n",
    "print('mean_test_score for different paramters \\n', mean_test_score)\n",
    "print('best scores \\n', model_lg.best_score_)    \n",
    "print('best estimator \\n', model_lg.best_estimator_)\n",
    "print('best parameters \\n', model_lg.best_params_)"
   ]
  },
  {
   "cell_type": "code",
   "execution_count": 676,
   "metadata": {},
   "outputs": [
    {
     "data": {
      "text/html": [
       "<div>\n",
       "<style scoped>\n",
       "    .dataframe tbody tr th:only-of-type {\n",
       "        vertical-align: middle;\n",
       "    }\n",
       "\n",
       "    .dataframe tbody tr th {\n",
       "        vertical-align: top;\n",
       "    }\n",
       "\n",
       "    .dataframe thead th {\n",
       "        text-align: right;\n",
       "    }\n",
       "</style>\n",
       "<table border=\"1\" class=\"dataframe\">\n",
       "  <thead>\n",
       "    <tr style=\"text-align: right;\">\n",
       "      <th></th>\n",
       "      <th>mean_fit_time</th>\n",
       "      <th>std_fit_time</th>\n",
       "      <th>mean_score_time</th>\n",
       "      <th>std_score_time</th>\n",
       "      <th>param_C</th>\n",
       "      <th>param_penalty</th>\n",
       "      <th>param_solver</th>\n",
       "      <th>params</th>\n",
       "      <th>split0_test_score</th>\n",
       "      <th>split1_test_score</th>\n",
       "      <th>split2_test_score</th>\n",
       "      <th>split3_test_score</th>\n",
       "      <th>split4_test_score</th>\n",
       "      <th>mean_test_score</th>\n",
       "      <th>std_test_score</th>\n",
       "      <th>rank_test_score</th>\n",
       "    </tr>\n",
       "  </thead>\n",
       "  <tbody>\n",
       "    <tr>\n",
       "      <th>0</th>\n",
       "      <td>0.031000</td>\n",
       "      <td>0.003224</td>\n",
       "      <td>0.003000</td>\n",
       "      <td>5.840039e-07</td>\n",
       "      <td>0.001</td>\n",
       "      <td>l1</td>\n",
       "      <td>liblinear</td>\n",
       "      <td>{'C': 0.001, 'penalty': 'l1', 'solver': 'libli...</td>\n",
       "      <td>0.579041</td>\n",
       "      <td>0.531915</td>\n",
       "      <td>0.572426</td>\n",
       "      <td>0.557377</td>\n",
       "      <td>0.521583</td>\n",
       "      <td>0.552468</td>\n",
       "      <td>0.022382</td>\n",
       "      <td>12</td>\n",
       "    </tr>\n",
       "    <tr>\n",
       "      <th>1</th>\n",
       "      <td>0.033800</td>\n",
       "      <td>0.008567</td>\n",
       "      <td>0.002599</td>\n",
       "      <td>7.981062e-04</td>\n",
       "      <td>0.001</td>\n",
       "      <td>l2</td>\n",
       "      <td>liblinear</td>\n",
       "      <td>{'C': 0.001, 'penalty': 'l2', 'solver': 'libli...</td>\n",
       "      <td>0.585635</td>\n",
       "      <td>0.573557</td>\n",
       "      <td>0.592727</td>\n",
       "      <td>0.582857</td>\n",
       "      <td>0.535373</td>\n",
       "      <td>0.574030</td>\n",
       "      <td>0.020282</td>\n",
       "      <td>11</td>\n",
       "    </tr>\n",
       "    <tr>\n",
       "      <th>2</th>\n",
       "      <td>0.094797</td>\n",
       "      <td>0.015816</td>\n",
       "      <td>0.003001</td>\n",
       "      <td>1.096106e-03</td>\n",
       "      <td>0.1</td>\n",
       "      <td>l1</td>\n",
       "      <td>liblinear</td>\n",
       "      <td>{'C': 0.1, 'penalty': 'l1', 'solver': 'libline...</td>\n",
       "      <td>0.609319</td>\n",
       "      <td>0.590826</td>\n",
       "      <td>0.596491</td>\n",
       "      <td>0.605263</td>\n",
       "      <td>0.578035</td>\n",
       "      <td>0.595987</td>\n",
       "      <td>0.011072</td>\n",
       "      <td>6</td>\n",
       "    </tr>\n",
       "    <tr>\n",
       "      <th>3</th>\n",
       "      <td>0.038199</td>\n",
       "      <td>0.002483</td>\n",
       "      <td>0.003199</td>\n",
       "      <td>4.003530e-04</td>\n",
       "      <td>0.1</td>\n",
       "      <td>l2</td>\n",
       "      <td>liblinear</td>\n",
       "      <td>{'C': 0.1, 'penalty': 'l2', 'solver': 'libline...</td>\n",
       "      <td>0.608229</td>\n",
       "      <td>0.582418</td>\n",
       "      <td>0.595070</td>\n",
       "      <td>0.599251</td>\n",
       "      <td>0.590909</td>\n",
       "      <td>0.595175</td>\n",
       "      <td>0.008579</td>\n",
       "      <td>8</td>\n",
       "    </tr>\n",
       "    <tr>\n",
       "      <th>4</th>\n",
       "      <td>0.085197</td>\n",
       "      <td>0.036045</td>\n",
       "      <td>0.002800</td>\n",
       "      <td>4.000671e-04</td>\n",
       "      <td>1</td>\n",
       "      <td>l1</td>\n",
       "      <td>liblinear</td>\n",
       "      <td>{'C': 1, 'penalty': 'l1', 'solver': 'liblinear'}</td>\n",
       "      <td>0.608541</td>\n",
       "      <td>0.596364</td>\n",
       "      <td>0.598592</td>\n",
       "      <td>0.601113</td>\n",
       "      <td>0.603774</td>\n",
       "      <td>0.601677</td>\n",
       "      <td>0.004233</td>\n",
       "      <td>4</td>\n",
       "    </tr>\n",
       "  </tbody>\n",
       "</table>\n",
       "</div>"
      ],
      "text/plain": [
       "   mean_fit_time  std_fit_time  mean_score_time  std_score_time param_C  \\\n",
       "0       0.031000      0.003224         0.003000    5.840039e-07   0.001   \n",
       "1       0.033800      0.008567         0.002599    7.981062e-04   0.001   \n",
       "2       0.094797      0.015816         0.003001    1.096106e-03     0.1   \n",
       "3       0.038199      0.002483         0.003199    4.003530e-04     0.1   \n",
       "4       0.085197      0.036045         0.002800    4.000671e-04       1   \n",
       "\n",
       "  param_penalty param_solver  \\\n",
       "0            l1    liblinear   \n",
       "1            l2    liblinear   \n",
       "2            l1    liblinear   \n",
       "3            l2    liblinear   \n",
       "4            l1    liblinear   \n",
       "\n",
       "                                              params  split0_test_score  \\\n",
       "0  {'C': 0.001, 'penalty': 'l1', 'solver': 'libli...           0.579041   \n",
       "1  {'C': 0.001, 'penalty': 'l2', 'solver': 'libli...           0.585635   \n",
       "2  {'C': 0.1, 'penalty': 'l1', 'solver': 'libline...           0.609319   \n",
       "3  {'C': 0.1, 'penalty': 'l2', 'solver': 'libline...           0.608229   \n",
       "4   {'C': 1, 'penalty': 'l1', 'solver': 'liblinear'}           0.608541   \n",
       "\n",
       "   split1_test_score  split2_test_score  split3_test_score  split4_test_score  \\\n",
       "0           0.531915           0.572426           0.557377           0.521583   \n",
       "1           0.573557           0.592727           0.582857           0.535373   \n",
       "2           0.590826           0.596491           0.605263           0.578035   \n",
       "3           0.582418           0.595070           0.599251           0.590909   \n",
       "4           0.596364           0.598592           0.601113           0.603774   \n",
       "\n",
       "   mean_test_score  std_test_score  rank_test_score  \n",
       "0         0.552468        0.022382               12  \n",
       "1         0.574030        0.020282               11  \n",
       "2         0.595987        0.011072                6  \n",
       "3         0.595175        0.008579                8  \n",
       "4         0.601677        0.004233                4  "
      ]
     },
     "execution_count": 676,
     "metadata": {},
     "output_type": "execute_result"
    }
   ],
   "source": [
    "results = pd.DataFrame(model_lg.cv_results_)\n",
    "results.head(5)"
   ]
  },
  {
   "cell_type": "code",
   "execution_count": 677,
   "metadata": {},
   "outputs": [
    {
     "name": "stdout",
     "output_type": "stream",
     "text": [
      "[[0.55246827 0.57402988 0.59598675 0.5951754  0.60167657 0.59573299]\n",
      " [0.60187119 0.5987657  0.60214561 0.59337206 0.60236305 0.59337206]]\n"
     ]
    },
    {
     "data": {
      "text/plain": [
       "<matplotlib.collections.PolyCollection at 0x2242415fba8>"
      ]
     },
     "execution_count": 677,
     "metadata": {},
     "output_type": "execute_result"
    },
    {
     "data": {
      "image/png": "[encoded data removed]",
      "text/plain": [
       "<Figure size 432x288 with 1 Axes>"
      ]
     },
     "metadata": {
      "needs_background": "light"
     },
     "output_type": "display_data"
    }
   ],
   "source": [
    "scores = np.array(results.mean_test_score).reshape(2, 6)\n",
    "print(scores)\n",
    "\n",
    "# plot the mean cross-validation scores\n",
    "mglearn.tools.heatmap(scores, xlabel='C', xticklabels=param_grid['C'],\n",
    "                      ylabel='penalty', yticklabels=param_grid['penalty'], cmap=\"viridis\")"
   ]
  },
  {
   "cell_type": "markdown",
   "metadata": {},
   "source": [
    "We can use Logistic Regression to validate our assumptions and decisions for feature creating and completing goals. \n",
    "This can be done by calculating the coefficient of the features in the decision function. Positive coefficients increase the log-odds of the response (and thus increase the probability), and negative coefficients decrease the log-odds of the response (and thus decrease the probability)."
   ]
  },
  {
   "cell_type": "code",
   "execution_count": 678,
   "metadata": {},
   "outputs": [
    {
     "data": {
      "text/html": [
       "<div>\n",
       "<style scoped>\n",
       "    .dataframe tbody tr th:only-of-type {\n",
       "        vertical-align: middle;\n",
       "    }\n",
       "\n",
       "    .dataframe tbody tr th {\n",
       "        vertical-align: top;\n",
       "    }\n",
       "\n",
       "    .dataframe thead th {\n",
       "        text-align: right;\n",
       "    }\n",
       "</style>\n",
       "<table border=\"1\" class=\"dataframe\">\n",
       "  <thead>\n",
       "    <tr style=\"text-align: right;\">\n",
       "      <th></th>\n",
       "      <th>Feature</th>\n",
       "      <th>coefficient</th>\n",
       "    </tr>\n",
       "  </thead>\n",
       "  <tbody>\n",
       "    <tr>\n",
       "      <th>1</th>\n",
       "      <td>InternetService_Fiber optic</td>\n",
       "      <td>0.515487</td>\n",
       "    </tr>\n",
       "    <tr>\n",
       "      <th>13</th>\n",
       "      <td>StreamingTV_Yes</td>\n",
       "      <td>0.368246</td>\n",
       "    </tr>\n",
       "    <tr>\n",
       "      <th>9</th>\n",
       "      <td>PhoneService_No</td>\n",
       "      <td>0.354405</td>\n",
       "    </tr>\n",
       "    <tr>\n",
       "      <th>31</th>\n",
       "      <td>Contract_Month-to-month</td>\n",
       "      <td>0.333067</td>\n",
       "    </tr>\n",
       "    <tr>\n",
       "      <th>7</th>\n",
       "      <td>SeniorCitizen</td>\n",
       "      <td>0.269395</td>\n",
       "    </tr>\n",
       "    <tr>\n",
       "      <th>20</th>\n",
       "      <td>OnlineSecurity_No</td>\n",
       "      <td>0.261765</td>\n",
       "    </tr>\n",
       "    <tr>\n",
       "      <th>6</th>\n",
       "      <td>StreamingTV_No</td>\n",
       "      <td>0.205793</td>\n",
       "    </tr>\n",
       "    <tr>\n",
       "      <th>26</th>\n",
       "      <td>Dependents_No</td>\n",
       "      <td>0.205543</td>\n",
       "    </tr>\n",
       "    <tr>\n",
       "      <th>27</th>\n",
       "      <td>DeviceProtection_Yes</td>\n",
       "      <td>0.189765</td>\n",
       "    </tr>\n",
       "    <tr>\n",
       "      <th>0</th>\n",
       "      <td>OnlineBackup_No</td>\n",
       "      <td>0.173539</td>\n",
       "    </tr>\n",
       "    <tr>\n",
       "      <th>24</th>\n",
       "      <td>TechSupport_No</td>\n",
       "      <td>0.157199</td>\n",
       "    </tr>\n",
       "    <tr>\n",
       "      <th>22</th>\n",
       "      <td>DeviceProtection_No</td>\n",
       "      <td>0.121689</td>\n",
       "    </tr>\n",
       "    <tr>\n",
       "      <th>28</th>\n",
       "      <td>MultipleLines_Yes</td>\n",
       "      <td>0.082986</td>\n",
       "    </tr>\n",
       "    <tr>\n",
       "      <th>32</th>\n",
       "      <td>PaymentMethod_Electronic check</td>\n",
       "      <td>0.045755</td>\n",
       "    </tr>\n",
       "    <tr>\n",
       "      <th>18</th>\n",
       "      <td>OnlineBackup_Yes</td>\n",
       "      <td>0.004011</td>\n",
       "    </tr>\n",
       "    <tr>\n",
       "      <th>11</th>\n",
       "      <td>TotalCharges</td>\n",
       "      <td>0.000323</td>\n",
       "    </tr>\n",
       "    <tr>\n",
       "      <th>25</th>\n",
       "      <td>MonthlyCharges</td>\n",
       "      <td>-0.003083</td>\n",
       "    </tr>\n",
       "    <tr>\n",
       "      <th>30</th>\n",
       "      <td>gender_Female</td>\n",
       "      <td>-0.023861</td>\n",
       "    </tr>\n",
       "    <tr>\n",
       "      <th>23</th>\n",
       "      <td>Partner_No</td>\n",
       "      <td>-0.043242</td>\n",
       "    </tr>\n",
       "    <tr>\n",
       "      <th>2</th>\n",
       "      <td>OnlineSecurity_Yes</td>\n",
       "      <td>-0.056169</td>\n",
       "    </tr>\n",
       "    <tr>\n",
       "      <th>10</th>\n",
       "      <td>tenure</td>\n",
       "      <td>-0.061526</td>\n",
       "    </tr>\n",
       "    <tr>\n",
       "      <th>21</th>\n",
       "      <td>MultipleLines_No</td>\n",
       "      <td>-0.183560</td>\n",
       "    </tr>\n",
       "    <tr>\n",
       "      <th>12</th>\n",
       "      <td>TechSupport_Yes</td>\n",
       "      <td>-0.201408</td>\n",
       "    </tr>\n",
       "    <tr>\n",
       "      <th>15</th>\n",
       "      <td>InternetService_DSL</td>\n",
       "      <td>-0.284818</td>\n",
       "    </tr>\n",
       "    <tr>\n",
       "      <th>16</th>\n",
       "      <td>PaymentMethod_Bank transfer (automatic)</td>\n",
       "      <td>-0.291765</td>\n",
       "    </tr>\n",
       "    <tr>\n",
       "      <th>5</th>\n",
       "      <td>Contract_One year</td>\n",
       "      <td>-0.312234</td>\n",
       "    </tr>\n",
       "    <tr>\n",
       "      <th>4</th>\n",
       "      <td>PaperlessBilling_No</td>\n",
       "      <td>-0.370158</td>\n",
       "    </tr>\n",
       "    <tr>\n",
       "      <th>3</th>\n",
       "      <td>PaymentMethod_Mailed check</td>\n",
       "      <td>-0.385435</td>\n",
       "    </tr>\n",
       "    <tr>\n",
       "      <th>29</th>\n",
       "      <td>PaymentMethod_Credit card (automatic)</td>\n",
       "      <td>-0.478948</td>\n",
       "    </tr>\n",
       "    <tr>\n",
       "      <th>17</th>\n",
       "      <td>StreamingMovies_Yes</td>\n",
       "      <td>-0.527798</td>\n",
       "    </tr>\n",
       "    <tr>\n",
       "      <th>14</th>\n",
       "      <td>StreamingMovies_No</td>\n",
       "      <td>-0.786978</td>\n",
       "    </tr>\n",
       "    <tr>\n",
       "      <th>19</th>\n",
       "      <td>InternetService_No</td>\n",
       "      <td>-0.902323</td>\n",
       "    </tr>\n",
       "    <tr>\n",
       "      <th>8</th>\n",
       "      <td>Contract_Two year</td>\n",
       "      <td>-1.066000</td>\n",
       "    </tr>\n",
       "  </tbody>\n",
       "</table>\n",
       "</div>"
      ],
      "text/plain": [
       "                                    Feature  coefficient\n",
       "1               InternetService_Fiber optic     0.515487\n",
       "13                          StreamingTV_Yes     0.368246\n",
       "9                           PhoneService_No     0.354405\n",
       "31                  Contract_Month-to-month     0.333067\n",
       "7                             SeniorCitizen     0.269395\n",
       "20                        OnlineSecurity_No     0.261765\n",
       "6                            StreamingTV_No     0.205793\n",
       "26                            Dependents_No     0.205543\n",
       "27                     DeviceProtection_Yes     0.189765\n",
       "0                           OnlineBackup_No     0.173539\n",
       "24                           TechSupport_No     0.157199\n",
       "22                      DeviceProtection_No     0.121689\n",
       "28                        MultipleLines_Yes     0.082986\n",
       "32           PaymentMethod_Electronic check     0.045755\n",
       "18                         OnlineBackup_Yes     0.004011\n",
       "11                             TotalCharges     0.000323\n",
       "25                           MonthlyCharges    -0.003083\n",
       "30                            gender_Female    -0.023861\n",
       "23                               Partner_No    -0.043242\n",
       "2                        OnlineSecurity_Yes    -0.056169\n",
       "10                                   tenure    -0.061526\n",
       "21                         MultipleLines_No    -0.183560\n",
       "12                          TechSupport_Yes    -0.201408\n",
       "15                      InternetService_DSL    -0.284818\n",
       "16  PaymentMethod_Bank transfer (automatic)    -0.291765\n",
       "5                         Contract_One year    -0.312234\n",
       "4                       PaperlessBilling_No    -0.370158\n",
       "3                PaymentMethod_Mailed check    -0.385435\n",
       "29    PaymentMethod_Credit card (automatic)    -0.478948\n",
       "17                      StreamingMovies_Yes    -0.527798\n",
       "14                       StreamingMovies_No    -0.786978\n",
       "19                       InternetService_No    -0.902323\n",
       "8                         Contract_Two year    -1.066000"
      ]
     },
     "execution_count": 678,
     "metadata": {},
     "output_type": "execute_result"
    }
   ],
   "source": [
    "coeff_df = pd.DataFrame(feature_list)\n",
    "coeff_df.columns = ['Feature']\n",
    "coeff_df[\"coefficient\"] = pd.Series(model_lg.best_estimator_.coef_[0])\n",
    "coeff_df.sort_values(by='coefficient', ascending=False)"
   ]
  },
  {
   "cell_type": "code",
   "execution_count": 679,
   "metadata": {},
   "outputs": [
    {
     "data": {
      "text/plain": [
       "array([0.13246494])"
      ]
     },
     "execution_count": 679,
     "metadata": {},
     "output_type": "execute_result"
    }
   ],
   "source": [
    "model_lg.best_estimator_.intercept_"
   ]
  },
  {
   "cell_type": "markdown",
   "metadata": {},
   "source": [
    "**Summary**\n",
    "\n"
   ]
  },
  {
   "cell_type": "markdown",
   "metadata": {},
   "source": [
    "### evaluate the performance in the test data set"
   ]
  },
  {
   "cell_type": "code",
   "execution_count": 680,
   "metadata": {},
   "outputs": [],
   "source": [
    "probs = model_lg.predict_proba(X_test)\n",
    "predicted = model_lg.predict(X_test)"
   ]
  },
  {
   "cell_type": "markdown",
   "metadata": {},
   "source": [
    "#### (1) accuracy "
   ]
  },
  {
   "cell_type": "code",
   "execution_count": 681,
   "metadata": {},
   "outputs": [
    {
     "name": "stdout",
     "output_type": "stream",
     "text": [
      "accuracy for the test data is:  0.8052594171997157\n"
     ]
    }
   ],
   "source": [
    "accuracy = accuracy_score(y_test, predicted)\n",
    "print('accuracy for the test data is: ', accuracy)"
   ]
  },
  {
   "cell_type": "markdown",
   "metadata": {},
   "source": [
    "#### (2) classification report"
   ]
  },
  {
   "cell_type": "code",
   "execution_count": 682,
   "metadata": {},
   "outputs": [
    {
     "name": "stdout",
     "output_type": "stream",
     "text": [
      "              precision    recall  f1-score   support\n",
      "\n",
      "           0       0.85      0.90      0.87      1038\n",
      "           1       0.65      0.54      0.59       369\n",
      "\n",
      "    accuracy                           0.81      1407\n",
      "   macro avg       0.75      0.72      0.73      1407\n",
      "weighted avg       0.80      0.81      0.80      1407\n",
      "\n"
     ]
    }
   ],
   "source": [
    "print(classification_report(y_test, predicted))"
   ]
  },
  {
   "cell_type": "markdown",
   "metadata": {},
   "source": [
    "**summary**\n",
    "* F1 score for lable 1 is 0.6 in the training set, and 0.59 for the test set. The model generalize well. "
   ]
  },
  {
   "cell_type": "markdown",
   "metadata": {},
   "source": [
    "#### (3) precision_recall_curve"
   ]
  },
  {
   "cell_type": "code",
   "execution_count": 683,
   "metadata": {},
   "outputs": [],
   "source": [
    "def plot_precision_recall_curve(y_test: pd.DataFrame, probability: pd.DataFrame, predicted: pd.DataFrame ):\n",
    "    \"\"\"Plot the recall precision tradeoff\"\"\"\n",
    "   \n",
    "    precision, recall, threshold = precision_recall_curve(y_test, probability)\n",
    "    #print('precision is', precision)\n",
    "    #print('recall is', recall)\n",
    "    \n",
    "    precision_ = precision_score(y_test, predicted)\n",
    "    print('precision is ', precision_)\n",
    "    recall_ = recall_score(y_test, predicted)\n",
    "    print('recall is', recall_)\n",
    "    f1 = f1_score(y_test, predicted)\n",
    "    print('f1 score is', f1)\n",
    "    \n",
    "    average_precision = average_precision_score(y_test, probability)\n",
    "    print('average precision is', average_precision)\n",
    "    \n",
    "    # calculate precision-recall AUC (area under the curve)\n",
    "    auc_ = auc(recall, precision)\n",
    "    print('precision-recall AUC is', auc_)\n",
    "    \n",
    "    # In matplotlib < 1.5, plt.fill_between does not have a 'step' argument\n",
    "    step_kwargs = ({'step': 'post'}\n",
    "                    if 'step' in signature(plt.fill_between).parameters\n",
    "                    else {})\n",
    "    plt.step(recall, precision, color='b', alpha=0.2, where='post')\n",
    "    plt.fill_between(recall, precision, alpha=0.2, color='b', **step_kwargs)\n",
    "\n",
    "    plt.xlabel('Recall')\n",
    "    plt.ylabel('Precision')\n",
    "    plt.ylim([0.0, 1.05])\n",
    "    plt.xlim([0, 1.0])\n",
    "    plt.title('2-class Precision-Recall curve: AP={0:0.2f}'.format(\n",
    "              average_precision))\n"
   ]
  },
  {
   "cell_type": "code",
   "execution_count": 684,
   "metadata": {},
   "outputs": [
    {
     "name": "stdout",
     "output_type": "stream",
     "text": [
      "precision is  0.6547231270358306\n",
      "recall is 0.5447154471544715\n",
      "f1 score is 0.5946745562130177\n",
      "average precision is 0.6502134829228503\n",
      "precision-recall AUC is 0.649477789160658\n"
     ]
    },
    {
     "data": {
      "image/png": "[encoded data removed]",
      "text/plain": [
       "<Figure size 432x288 with 1 Axes>"
      ]
     },
     "metadata": {
      "needs_background": "light"
     },
     "output_type": "display_data"
    }
   ],
   "source": [
    "predicted = model_lg.predict(X_test)\n",
    "plot_precision_recall_curve(y_test, probs[:,1], predicted)"
   ]
  },
  {
   "cell_type": "markdown",
   "metadata": {},
   "source": [
    "#### (4) ROC curve\n"
   ]
  },
  {
   "cell_type": "code",
   "execution_count": 685,
   "metadata": {},
   "outputs": [],
   "source": [
    "def plot_roc_curve(y_test: pd.DataFrame, probability: pd.DataFrame):\n",
    "    plt.figure()\n",
    "    fpr, tpr, threshold = roc_curve(y_test, probability)\n",
    "    roc_auc = auc(tpr, fpr)    # Compute Area Under the Curve (AUC) using the trapezoidal rule\n",
    "    \n",
    "    # Plotting\n",
    "    lw = 2\n",
    "    plt.plot(fpr, tpr, color='darkorange', lw=lw, label='ROC curve (area = %0.2f)' % roc_auc)\n",
    "    plt.plot([0, 1], [0, 1], color='navy', lw=lw, linestyle='--')\n",
    "    plt.xlim([0.0, 1.0])\n",
    "    plt.ylim([0.0, 1.05])\n",
    "    plt.xlabel('False Positive Rate')\n",
    "    plt.ylabel('True Positive Rate')\n",
    "    plt.title('Receiver operating characteristic example')\n",
    "    plt.legend(loc=\"lower right\")\n",
    "    plt.show()\n",
    "    \n",
    "    print('ROC AUC(area under the curve) is', roc_auc_score(y_test, probability)) \n",
    "    print('threshold values :', threshold[0: 20])"
   ]
  },
  {
   "cell_type": "code",
   "execution_count": 686,
   "metadata": {},
   "outputs": [
    {
     "data": {
      "image/png": "[encoded data removed]",
      "text/plain": [
       "<Figure size 432x288 with 1 Axes>"
      ]
     },
     "metadata": {
      "needs_background": "light"
     },
     "output_type": "display_data"
    },
    {
     "name": "stdout",
     "output_type": "stream",
     "text": [
      "ROC AUC(area under the curve) is 0.8379714481152519\n",
      "threshold values : [1.85999987 0.85999987 0.79210878 0.78802299 0.7796082  0.77768993\n",
      " 0.77439532 0.77232077 0.75591265 0.75560692 0.75436371 0.75236075\n",
      " 0.74702749 0.74631319 0.7424411  0.74216867 0.74007173 0.73861255\n",
      " 0.73472849 0.73419906]\n"
     ]
    }
   ],
   "source": [
    "plot_roc_curve(y_test, np.ravel(probs[:,1]))"
   ]
  },
  {
   "cell_type": "code",
   "execution_count": null,
   "metadata": {},
   "outputs": [],
   "source": []
  },
  {
   "cell_type": "markdown",
   "metadata": {},
   "source": [
    "## Random Forest"
   ]
  },
  {
   "cell_type": "code",
   "execution_count": 687,
   "metadata": {},
   "outputs": [
    {
     "data": {
      "text/plain": [
       "GridSearchCV(cv=5, error_score='raise-deprecating',\n",
       "             estimator=RandomForestClassifier(bootstrap=True, class_weight=None,\n",
       "                                              criterion='gini', max_depth=None,\n",
       "                                              max_features='auto',\n",
       "                                              max_leaf_nodes=None,\n",
       "                                              min_impurity_decrease=0.0,\n",
       "                                              min_impurity_split=None,\n",
       "                                              min_samples_leaf=1,\n",
       "                                              min_samples_split=2,\n",
       "                                              min_weight_fraction_leaf=0.0,\n",
       "                                              n_estimators='warn', n_jobs=-1,\n",
       "                                              oob_score=False,\n",
       "                                              random_state=None, verbose=0,\n",
       "                                              warm_start=False),\n",
       "             iid='warn', n_jobs=None,\n",
       "             param_grid={'criterion': ['gini', 'entropy'],\n",
       "                         'max_depth': [4, 8, 16],\n",
       "                         'max_features': ['log2', 'auto'],\n",
       "                         'n_estimators': [2000]},\n",
       "             pre_dispatch='2*n_jobs', refit=True, return_train_score=False,\n",
       "             scoring=make_scorer(f1_score), verbose=0)"
      ]
     },
     "execution_count": 687,
     "metadata": {},
     "output_type": "execute_result"
    }
   ],
   "source": [
    "#param_grid = {'n_estimators': [1, 30, 100], 'max_features': ['auto', 'log2'],  \n",
    "#              'max_depth': [2, 4, 8, 16], 'criterion': ['gini', 'entropy']\n",
    "#}\n",
    "\n",
    "param_grid = {'n_estimators': [2000], 'max_features': ['log2', 'auto'],  \n",
    "              'max_depth': [4, 8, 16], 'criterion': ['gini', 'entropy']\n",
    "}\n",
    "\n",
    "scorer = make_scorer(f1_score)\n",
    "\n",
    "model_rf = GridSearchCV(estimator=RandomForestClassifier(n_jobs=-1), \n",
    "                        scoring = scorer,\n",
    "                        param_grid = param_grid,\n",
    "                        cv=5)\n",
    "\n",
    "model_rf.fit(X_trainval, y_trainval)\n"
   ]
  },
  {
   "cell_type": "code",
   "execution_count": 688,
   "metadata": {},
   "outputs": [
    {
     "name": "stdout",
     "output_type": "stream",
     "text": [
      "mean_test_score for different paramters \n",
      " [0.50733345 0.50180333 0.58899139 0.58868008 0.55906332 0.55802484\n",
      " 0.49767156 0.50085979 0.58901313 0.58746788 0.56157777 0.56086908]\n",
      "best scores \n",
      " 0.58901312996699\n",
      "best estimator \n",
      " RandomForestClassifier(bootstrap=True, class_weight=None, criterion='entropy',\n",
      "                       max_depth=8, max_features='log2', max_leaf_nodes=None,\n",
      "                       min_impurity_decrease=0.0, min_impurity_split=None,\n",
      "                       min_samples_leaf=1, min_samples_split=2,\n",
      "                       min_weight_fraction_leaf=0.0, n_estimators=2000,\n",
      "                       n_jobs=-1, oob_score=False, random_state=None, verbose=0,\n",
      "                       warm_start=False)\n",
      "best parameters \n",
      " {'criterion': 'entropy', 'max_depth': 8, 'max_features': 'log2', 'n_estimators': 2000}\n"
     ]
    }
   ],
   "source": [
    "mean_test_score = model_rf.cv_results_['mean_test_score']\n",
    "print('mean_test_score for different paramters \\n', mean_test_score)\n",
    "print('best scores \\n', model_rf.best_score_)    \n",
    "print('best estimator \\n', model_rf.best_estimator_)\n",
    "print('best parameters \\n', model_rf.best_params_)"
   ]
  },
  {
   "cell_type": "code",
   "execution_count": 689,
   "metadata": {},
   "outputs": [
    {
     "data": {
      "text/html": [
       "<div>\n",
       "<style scoped>\n",
       "    .dataframe tbody tr th:only-of-type {\n",
       "        vertical-align: middle;\n",
       "    }\n",
       "\n",
       "    .dataframe tbody tr th {\n",
       "        vertical-align: top;\n",
       "    }\n",
       "\n",
       "    .dataframe thead th {\n",
       "        text-align: right;\n",
       "    }\n",
       "</style>\n",
       "<table border=\"1\" class=\"dataframe\">\n",
       "  <thead>\n",
       "    <tr style=\"text-align: right;\">\n",
       "      <th></th>\n",
       "      <th>Feature</th>\n",
       "      <th>Coefficient</th>\n",
       "    </tr>\n",
       "  </thead>\n",
       "  <tbody>\n",
       "    <tr>\n",
       "      <th>10</th>\n",
       "      <td>tenure</td>\n",
       "      <td>0.137943</td>\n",
       "    </tr>\n",
       "    <tr>\n",
       "      <th>31</th>\n",
       "      <td>Contract_Month-to-month</td>\n",
       "      <td>0.131942</td>\n",
       "    </tr>\n",
       "    <tr>\n",
       "      <th>11</th>\n",
       "      <td>TotalCharges</td>\n",
       "      <td>0.111368</td>\n",
       "    </tr>\n",
       "    <tr>\n",
       "      <th>25</th>\n",
       "      <td>MonthlyCharges</td>\n",
       "      <td>0.085216</td>\n",
       "    </tr>\n",
       "    <tr>\n",
       "      <th>8</th>\n",
       "      <td>Contract_Two year</td>\n",
       "      <td>0.070191</td>\n",
       "    </tr>\n",
       "    <tr>\n",
       "      <th>20</th>\n",
       "      <td>OnlineSecurity_No</td>\n",
       "      <td>0.057675</td>\n",
       "    </tr>\n",
       "    <tr>\n",
       "      <th>1</th>\n",
       "      <td>InternetService_Fiber optic</td>\n",
       "      <td>0.052564</td>\n",
       "    </tr>\n",
       "    <tr>\n",
       "      <th>24</th>\n",
       "      <td>TechSupport_No</td>\n",
       "      <td>0.051080</td>\n",
       "    </tr>\n",
       "    <tr>\n",
       "      <th>32</th>\n",
       "      <td>PaymentMethod_Electronic check</td>\n",
       "      <td>0.044466</td>\n",
       "    </tr>\n",
       "    <tr>\n",
       "      <th>5</th>\n",
       "      <td>Contract_One year</td>\n",
       "      <td>0.022024</td>\n",
       "    </tr>\n",
       "    <tr>\n",
       "      <th>0</th>\n",
       "      <td>OnlineBackup_No</td>\n",
       "      <td>0.020406</td>\n",
       "    </tr>\n",
       "    <tr>\n",
       "      <th>15</th>\n",
       "      <td>InternetService_DSL</td>\n",
       "      <td>0.019449</td>\n",
       "    </tr>\n",
       "    <tr>\n",
       "      <th>4</th>\n",
       "      <td>PaperlessBilling_No</td>\n",
       "      <td>0.016987</td>\n",
       "    </tr>\n",
       "    <tr>\n",
       "      <th>19</th>\n",
       "      <td>InternetService_No</td>\n",
       "      <td>0.015141</td>\n",
       "    </tr>\n",
       "    <tr>\n",
       "      <th>22</th>\n",
       "      <td>DeviceProtection_No</td>\n",
       "      <td>0.012959</td>\n",
       "    </tr>\n",
       "    <tr>\n",
       "      <th>12</th>\n",
       "      <td>TechSupport_Yes</td>\n",
       "      <td>0.011904</td>\n",
       "    </tr>\n",
       "    <tr>\n",
       "      <th>2</th>\n",
       "      <td>OnlineSecurity_Yes</td>\n",
       "      <td>0.011677</td>\n",
       "    </tr>\n",
       "    <tr>\n",
       "      <th>7</th>\n",
       "      <td>SeniorCitizen</td>\n",
       "      <td>0.010923</td>\n",
       "    </tr>\n",
       "    <tr>\n",
       "      <th>26</th>\n",
       "      <td>Dependents_No</td>\n",
       "      <td>0.010282</td>\n",
       "    </tr>\n",
       "    <tr>\n",
       "      <th>17</th>\n",
       "      <td>StreamingMovies_Yes</td>\n",
       "      <td>0.009636</td>\n",
       "    </tr>\n",
       "    <tr>\n",
       "      <th>23</th>\n",
       "      <td>Partner_No</td>\n",
       "      <td>0.008756</td>\n",
       "    </tr>\n",
       "    <tr>\n",
       "      <th>28</th>\n",
       "      <td>MultipleLines_Yes</td>\n",
       "      <td>0.008392</td>\n",
       "    </tr>\n",
       "    <tr>\n",
       "      <th>29</th>\n",
       "      <td>PaymentMethod_Credit card (automatic)</td>\n",
       "      <td>0.008298</td>\n",
       "    </tr>\n",
       "    <tr>\n",
       "      <th>30</th>\n",
       "      <td>gender_Female</td>\n",
       "      <td>0.008235</td>\n",
       "    </tr>\n",
       "    <tr>\n",
       "      <th>13</th>\n",
       "      <td>StreamingTV_Yes</td>\n",
       "      <td>0.008216</td>\n",
       "    </tr>\n",
       "    <tr>\n",
       "      <th>21</th>\n",
       "      <td>MultipleLines_No</td>\n",
       "      <td>0.008016</td>\n",
       "    </tr>\n",
       "    <tr>\n",
       "      <th>14</th>\n",
       "      <td>StreamingMovies_No</td>\n",
       "      <td>0.007891</td>\n",
       "    </tr>\n",
       "    <tr>\n",
       "      <th>18</th>\n",
       "      <td>OnlineBackup_Yes</td>\n",
       "      <td>0.007567</td>\n",
       "    </tr>\n",
       "    <tr>\n",
       "      <th>6</th>\n",
       "      <td>StreamingTV_No</td>\n",
       "      <td>0.007231</td>\n",
       "    </tr>\n",
       "    <tr>\n",
       "      <th>16</th>\n",
       "      <td>PaymentMethod_Bank transfer (automatic)</td>\n",
       "      <td>0.006713</td>\n",
       "    </tr>\n",
       "    <tr>\n",
       "      <th>3</th>\n",
       "      <td>PaymentMethod_Mailed check</td>\n",
       "      <td>0.006631</td>\n",
       "    </tr>\n",
       "    <tr>\n",
       "      <th>27</th>\n",
       "      <td>DeviceProtection_Yes</td>\n",
       "      <td>0.005924</td>\n",
       "    </tr>\n",
       "    <tr>\n",
       "      <th>9</th>\n",
       "      <td>PhoneService_No</td>\n",
       "      <td>0.004298</td>\n",
       "    </tr>\n",
       "  </tbody>\n",
       "</table>\n",
       "</div>"
      ],
      "text/plain": [
       "                                    Feature  Coefficient\n",
       "10                                   tenure     0.137943\n",
       "31                  Contract_Month-to-month     0.131942\n",
       "11                             TotalCharges     0.111368\n",
       "25                           MonthlyCharges     0.085216\n",
       "8                         Contract_Two year     0.070191\n",
       "20                        OnlineSecurity_No     0.057675\n",
       "1               InternetService_Fiber optic     0.052564\n",
       "24                           TechSupport_No     0.051080\n",
       "32           PaymentMethod_Electronic check     0.044466\n",
       "5                         Contract_One year     0.022024\n",
       "0                           OnlineBackup_No     0.020406\n",
       "15                      InternetService_DSL     0.019449\n",
       "4                       PaperlessBilling_No     0.016987\n",
       "19                       InternetService_No     0.015141\n",
       "22                      DeviceProtection_No     0.012959\n",
       "12                          TechSupport_Yes     0.011904\n",
       "2                        OnlineSecurity_Yes     0.011677\n",
       "7                             SeniorCitizen     0.010923\n",
       "26                            Dependents_No     0.010282\n",
       "17                      StreamingMovies_Yes     0.009636\n",
       "23                               Partner_No     0.008756\n",
       "28                        MultipleLines_Yes     0.008392\n",
       "29    PaymentMethod_Credit card (automatic)     0.008298\n",
       "30                            gender_Female     0.008235\n",
       "13                          StreamingTV_Yes     0.008216\n",
       "21                         MultipleLines_No     0.008016\n",
       "14                       StreamingMovies_No     0.007891\n",
       "18                         OnlineBackup_Yes     0.007567\n",
       "6                            StreamingTV_No     0.007231\n",
       "16  PaymentMethod_Bank transfer (automatic)     0.006713\n",
       "3                PaymentMethod_Mailed check     0.006631\n",
       "27                     DeviceProtection_Yes     0.005924\n",
       "9                           PhoneService_No     0.004298"
      ]
     },
     "execution_count": 689,
     "metadata": {},
     "output_type": "execute_result"
    }
   ],
   "source": [
    "coeff_df = pd.DataFrame(feature_list)\n",
    "coeff_df.columns = ['Feature']\n",
    "coeff_df[\"Coefficient\"] = pd.Series(model_rf.best_estimator_.feature_importances_)\n",
    "coeff_df.sort_values(by='Coefficient', ascending=False)\n"
   ]
  },
  {
   "cell_type": "markdown",
   "metadata": {},
   "source": [
    "**Summary** "
   ]
  },
  {
   "cell_type": "markdown",
   "metadata": {},
   "source": [
    "### evaluate the performance in the test data set"
   ]
  },
  {
   "cell_type": "code",
   "execution_count": 690,
   "metadata": {},
   "outputs": [],
   "source": [
    "probs = model_rf.predict_proba(X_test)\n",
    "predicted = model_rf.predict(X_test)"
   ]
  },
  {
   "cell_type": "markdown",
   "metadata": {},
   "source": [
    "#### (1) accuracy "
   ]
  },
  {
   "cell_type": "code",
   "execution_count": 691,
   "metadata": {},
   "outputs": [
    {
     "name": "stdout",
     "output_type": "stream",
     "text": [
      "accuracy for the test data is:  0.8038379530916845\n"
     ]
    }
   ],
   "source": [
    "accuracy = accuracy_score(y_test, predicted)\n",
    "print('accuracy for the test data is: ', accuracy)"
   ]
  },
  {
   "cell_type": "code",
   "execution_count": 692,
   "metadata": {},
   "outputs": [
    {
     "data": {
      "text/plain": [
       "0.8038379530916845"
      ]
     },
     "execution_count": 692,
     "metadata": {},
     "output_type": "execute_result"
    }
   ],
   "source": [
    "accuracy_score(y_test, predicted)"
   ]
  },
  {
   "cell_type": "markdown",
   "metadata": {},
   "source": [
    "#### (2) classification report"
   ]
  },
  {
   "cell_type": "code",
   "execution_count": 693,
   "metadata": {},
   "outputs": [
    {
     "name": "stdout",
     "output_type": "stream",
     "text": [
      "              precision    recall  f1-score   support\n",
      "\n",
      "           0       0.84      0.91      0.87      1038\n",
      "           1       0.67      0.50      0.57       369\n",
      "\n",
      "    accuracy                           0.80      1407\n",
      "   macro avg       0.75      0.71      0.72      1407\n",
      "weighted avg       0.79      0.80      0.79      1407\n",
      "\n"
     ]
    }
   ],
   "source": [
    "print(classification_report(y_test, predicted))"
   ]
  },
  {
   "cell_type": "markdown",
   "metadata": {},
   "source": [
    "**summary**\n",
    "* F1 score for lable 1 is  in the training set, and  for the test set. The model generalize well. "
   ]
  },
  {
   "cell_type": "markdown",
   "metadata": {},
   "source": [
    "#### (3) precision_recall_curve"
   ]
  },
  {
   "cell_type": "code",
   "execution_count": 694,
   "metadata": {},
   "outputs": [
    {
     "name": "stdout",
     "output_type": "stream",
     "text": [
      "precision is  0.6666666666666666\n",
      "recall is 0.5040650406504065\n",
      "f1 score is 0.574074074074074\n",
      "average precision is 0.6657274144654767\n",
      "precision-recall AUC is 0.6649308818675193\n"
     ]
    },
    {
     "data": {
      "image/png": "[encoded data removed]",
      "text/plain": [
       "<Figure size 432x288 with 1 Axes>"
      ]
     },
     "metadata": {
      "needs_background": "light"
     },
     "output_type": "display_data"
    }
   ],
   "source": [
    "predicted = model_rf.predict(X_test)\n",
    "plot_precision_recall_curve(y_test, probs[:,1], predicted)"
   ]
  },
  {
   "cell_type": "markdown",
   "metadata": {},
   "source": [
    "#### (4) ROC curve\n"
   ]
  },
  {
   "cell_type": "code",
   "execution_count": 695,
   "metadata": {},
   "outputs": [
    {
     "data": {
      "image/png": "[encoded data removed]",
      "text/plain": [
       "<Figure size 432x288 with 1 Axes>"
      ]
     },
     "metadata": {
      "needs_background": "light"
     },
     "output_type": "display_data"
    },
    {
     "name": "stdout",
     "output_type": "stream",
     "text": [
      "ROC AUC(area under the curve) is 0.8468508336335772\n",
      "threshold values : [1.85885614 0.85885614 0.84052087 0.83922901 0.82179571 0.8217562\n",
      " 0.80943825 0.79516419 0.74978571 0.74886342 0.73436196 0.73388459\n",
      " 0.72996433 0.72780489 0.72626899 0.72365785 0.70875623 0.70539695\n",
      " 0.69461162 0.69392245]\n"
     ]
    }
   ],
   "source": [
    "plot_roc_curve(y_test, np.ravel(probs[:,1]))"
   ]
  },
  {
   "cell_type": "markdown",
   "metadata": {},
   "source": [
    "###  compare logistic regression with random forest"
   ]
  },
  {
   "cell_type": "code",
   "execution_count": 696,
   "metadata": {},
   "outputs": [
    {
     "data": {
      "text/plain": [
       "<matplotlib.legend.Legend at 0x224237f4da0>"
      ]
     },
     "execution_count": 696,
     "metadata": {},
     "output_type": "execute_result"
    },
    {
     "data": {
      "image/png": "[encoded data removed]",
      "text/plain": [
       "<Figure size 432x288 with 1 Axes>"
      ]
     },
     "metadata": {
      "needs_background": "light"
     },
     "output_type": "display_data"
    }
   ],
   "source": [
    "presicion_lg, recall_lg, thresholds_lg = precision_recall_curve(y_test, model_lg.predict_proba(X_test)[:, 1])\n",
    "plt.plot(presicion_lg, recall_lg, label='lg')\n",
    "\n",
    "presicion_rf, recall_rf, thresholds_rf = precision_recall_curve(y_test, model_rf.predict_proba(X_test)[:, 1])\n",
    "plt.plot(presicion_rf, recall_rf, label='rf')\n",
    "plt.xlabel('precision')\n",
    "plt.ylabel('recall')\n",
    "plt.legend(loc='best')"
   ]
  },
  {
   "cell_type": "code",
   "execution_count": 697,
   "metadata": {},
   "outputs": [
    {
     "data": {
      "text/plain": [
       "<matplotlib.legend.Legend at 0x22424399a58>"
      ]
     },
     "execution_count": 697,
     "metadata": {},
     "output_type": "execute_result"
    },
    {
     "data": {
      "image/png": "[encoded data removed]",
      "text/plain": [
       "<Figure size 432x288 with 1 Axes>"
      ]
     },
     "metadata": {
      "needs_background": "light"
     },
     "output_type": "display_data"
    }
   ],
   "source": [
    "fpr_lg, tpr_lg, thresholds_lg = roc_curve(y_test, model_lg.predict_proba(X_test)[:, 1])\n",
    "plt.plot(fpr_lg, tpr_lg, label='lg')\n",
    "\n",
    "fpr_rf, tpr_rf, thresholds_rf = roc_curve(y_test, model_rf.predict_proba(X_test)[:, 1])\n",
    "plt.plot(fpr_rf, tpr_rf, label='rf')\n",
    "plt.xlabel('FPR')\n",
    "plt.ylabel('TPR recall')\n",
    "plt.legend(loc='best')"
   ]
  },
  {
   "cell_type": "markdown",
   "metadata": {},
   "source": [
    "**summary**\n",
    "* F1 score in random forest is worse than logistic regresssion.\n",
    "* However, from the recall precision curve, randome forest can be better than logistic regression when the precision is between 0.75 and 0.9\n",
    "* from ROC curve, randome foreast perform similar as logistic regression\n"
   ]
  },
  {
   "cell_type": "markdown",
   "metadata": {},
   "source": [
    "# Kaplan-Meier\n",
    "For background, see Rich et al (2010), Singh et all (2011) https://www.ncbi.nlm.nih.gov/pmc/articles/PMC3227332/\n",
    "\n",
    "Estimates the “survival function” via the for a cohort of subjects\n",
    "Does not provide an estimate of the magnitude of the difference in survival for the cohorts being compared\n",
    "Each observation (case, customer) should have one \"birth\" (activation) and one \"death\" (churn)"
   ]
  },
  {
   "cell_type": "code",
   "execution_count": 698,
   "metadata": {},
   "outputs": [],
   "source": [
    " #censorship  1 if death/churn is seen, 0 if censored"
   ]
  },
  {
   "cell_type": "code",
   "execution_count": 701,
   "metadata": {},
   "outputs": [],
   "source": [
    "def plot_kmf(df, f1, f2 , x_feature, y_feature, threshold):\n",
    "    \"\"\"\n",
    "    f1: feature 1 of df\n",
    "    f2: feature 2 of df\n",
    "    x_feature: durating variable\n",
    "    y_feature: churn binary variable\n",
    "    threshold: which level you want the survival curve drop to\n",
    "    \"\"\"\n",
    "    # fit the data\n",
    "    kmf = KaplanMeierFitter()\n",
    "    T = df[x_feature]\n",
    "    C = df[y_feature] \n",
    "    \n",
    "    # prepare the plot template\n",
    "    palette = [\"windows blue\", \"amber\"]  # for the color of the verticle line\n",
    "    sns.set_palette(sns.xkcd_palette(palette))\n",
    "    ax = plt.subplot(111)\n",
    "    plt.title('Kaplan-Meier Estimate of Driver Retention by feature')\n",
    "    sns.set_context(\"talk\")\n",
    "\n",
    "    # initialize\n",
    "    d={} #to store the models\n",
    "    vlines = []\n",
    "    i=0\n",
    "\n",
    "    plot_features = [f1, f2]    \n",
    "    print('plot features', plot_features)\n",
    "\n",
    "\n",
    "    ##PLOT FITTED GRAPH, loop through segmentation variable, plot on same axes\n",
    "    for feature in plot_features:\n",
    "        ix = df[feature] == 1\n",
    "        d['kmf{}'.format(i+1)] = kmf.fit(T.loc[ix],C.loc[ix], label=segment)\n",
    "        ax = kmf.plot(ax=ax, figsize=(12,6) )\n",
    "        ax.set_xlim([0,T.max()])\n",
    "        # get the percentage line\n",
    "                # find the closest value to the threshold\n",
    "        percent = min(np.array(kmf.survival_function_.iloc[:, 0]), key=lambda x: abs(x-threshold)) \n",
    "        temp = kmf.survival_function_[kmf.survival_function_ == percent].dropna()\n",
    "        y_ = temp.index[0]   # get the index of the first number when it reach the threshold\n",
    "        ymax_ = temp.iloc[0, 0]   #  get the index of the first number when it reach the threshold\n",
    "        vlines.append([y_, ymax_])\n",
    "        i+=1\n",
    "    print('vliness', vlines)\n",
    "\n",
    "    ##PLOT ANNOTATION\n",
    "    #for each intercept, plot a horizontal and a vertical line up to the fitted curve\n",
    "    xmin_=0\n",
    "    for i, xy in enumerate(vlines):\n",
    "        xmax_ = xy[0]\n",
    "        color=\"xkcd:{}\".format(palette[i])\n",
    "\n",
    "        plt.axvline(x=xy[0], ymax=.5, alpha=.8, color=color, linestyle='dotted') #axes fractional\n",
    "        plt.hlines(y=percent, xmin=xmin_, xmax=xmax_, alpha=.8, color=color, linestyle='dotted') #axes data coordinates\n",
    "        xmin_ += xmax_    #to avoid overlapping hlines\n",
    "\n",
    "    ## position text label\n",
    "    difference = vlines[1][0]-vlines[0][0]\n",
    "    label_frac_x = (vlines[0][0]+(difference)/2)/T.max()-.07    #midpoint (minus .07 centering factor)\n",
    "    label_frac_y = 0.2\n",
    "\n",
    "    #label first line\n",
    "    ax.annotate('Difference:\\n{} Months'.format(difference), \n",
    "      xy=(vlines[0][0],.62), xycoords='data', color='white',\n",
    "      xytext=(label_frac_x,label_frac_y), textcoords='axes fraction',\n",
    "      arrowprops=dict(arrowstyle=\"-|>\", #arrows removed for reability\n",
    "                      fc=\"k\", ec=\"k\")\n",
    "               )\n",
    "    \n",
    "    #label second line    \n",
    "    ax.annotate('Drop to {}\\n Difference:\\n{} Months'.format(percent.round(2), difference), \n",
    "          xy=(vlines[1][0],.62), xycoords='data', color='black',\n",
    "          xytext=(label_frac_x, label_frac_y), textcoords='axes fraction',\n",
    "          arrowprops=dict(arrowstyle=\"-|>\", #arrows removed for reability\n",
    "                          fc=\"k\", ec='k')\n",
    "               )\n",
    "\n",
    "    ##LEGEND\n",
    "    #override default legend\n",
    "    patches = [ mpatches.Patch(color=\"xkcd:windows blue\", label=f1),\n",
    "                mpatches.Patch(color=\"xkcd:amber\", label=f2)\n",
    "              ]\n",
    "    plt.legend(handles=[patches[0],patches[1]], title=\"User Segmentation\", loc='best');\n",
    "\n"
   ]
  },
  {
   "cell_type": "code",
   "execution_count": 702,
   "metadata": {},
   "outputs": [
    {
     "data": {
      "text/plain": [
       "Index(['SeniorCitizen', 'tenure', 'MonthlyCharges', 'TotalCharges', 'Churn',\n",
       "       'gender_Female', 'Partner_No', 'Dependents_No', 'PhoneService_No',\n",
       "       'MultipleLines_No', 'MultipleLines_Yes', 'InternetService_DSL',\n",
       "       'InternetService_Fiber optic', 'InternetService_No',\n",
       "       'OnlineSecurity_No', 'OnlineSecurity_Yes', 'OnlineBackup_No',\n",
       "       'OnlineBackup_Yes', 'DeviceProtection_No', 'DeviceProtection_Yes',\n",
       "       'TechSupport_No', 'TechSupport_Yes', 'StreamingTV_No',\n",
       "       'StreamingTV_Yes', 'StreamingMovies_No', 'StreamingMovies_Yes',\n",
       "       'Contract_Month-to-month', 'Contract_One year', 'Contract_Two year',\n",
       "       'PaperlessBilling_No', 'PaymentMethod_Bank transfer (automatic)',\n",
       "       'PaymentMethod_Credit card (automatic)',\n",
       "       'PaymentMethod_Electronic check', 'PaymentMethod_Mailed check'],\n",
       "      dtype='object')"
      ]
     },
     "execution_count": 702,
     "metadata": {},
     "output_type": "execute_result"
    }
   ],
   "source": [
    "df.columns"
   ]
  },
  {
   "cell_type": "code",
   "execution_count": 703,
   "metadata": {},
   "outputs": [
    {
     "name": "stdout",
     "output_type": "stream",
     "text": [
      "plot features ['InternetService_Fiber optic', 'InternetService_DSL']\n",
      "vliness [[16.0, 0.7495766074542353], [66.0, 0.750262134445484]]\n"
     ]
    },
    {
     "data": {
      "image/png": "[encoded data removed]",
      "text/plain": [
       "<Figure size 864x432 with 1 Axes>"
      ]
     },
     "metadata": {
      "needs_background": "light"
     },
     "output_type": "display_data"
    }
   ],
   "source": [
    "plot_kmf(df, 'InternetService_Fiber optic', 'InternetService_DSL', 'tenure', 'Churn', 0.75)"
   ]
  },
  {
   "cell_type": "markdown",
   "metadata": {},
   "source": [
    "The graph clearly shows that there is a difference in tenure between \"single line\" and \"multiple line\" telco users. Since the confidence interals also appear on the graph, we can see that the difference is statistically significant from t > 0 until approximately t= 52 months, after which the churn rates becomes the same, within the margin of error.\n",
    "\n",
    "Our survival curves do not follow the constant proportionality assumption (they cannot because they cross, and we can also see varying distances between the curves throughout). Conventionally, ths would mean that a logrank test is not an appropriate measure for estimating the hazard ratio. This presentation by Stone (2015)http://bbs.ceb-institute.org/wp-content/uploads/2016/06/Andy-Stone-Non-Proportional-Hazards-So-What.pdf makes a compelling argument that hazard ratios on nonproportionality are still readily interpretable. This has, however, been a source of controversy in the biostatistics field. Alternative methods such as time-splitting have been proposed, see: Bouliotis & Billingham (2011)https://www.ncbi.nlm.nih.gov/pmc/articles/PMC3287712/\n",
    "\n"
   ]
  },
  {
   "cell_type": "code",
   "execution_count": 704,
   "metadata": {},
   "outputs": [
    {
     "data": {
      "text/html": [
       "<div>\n",
       "<style scoped>\n",
       "    .dataframe tbody tr th:only-of-type {\n",
       "        vertical-align: middle;\n",
       "    }\n",
       "\n",
       "    .dataframe tbody tr th {\n",
       "        vertical-align: top;\n",
       "    }\n",
       "\n",
       "    .dataframe thead th {\n",
       "        text-align: right;\n",
       "    }\n",
       "</style>\n",
       "<table border=\"1\" class=\"dataframe\">\n",
       "  <tbody>\n",
       "    <tr>\n",
       "      <th>t_0</th>\n",
       "      <td>-1</td>\n",
       "    </tr>\n",
       "    <tr>\n",
       "      <th>null_distribution</th>\n",
       "      <td>chi squared</td>\n",
       "    </tr>\n",
       "    <tr>\n",
       "      <th>degrees_of_freedom</th>\n",
       "      <td>1</td>\n",
       "    </tr>\n",
       "    <tr>\n",
       "      <th>alpha</th>\n",
       "      <td>0.99</td>\n",
       "    </tr>\n",
       "    <tr>\n",
       "      <th>test_name</th>\n",
       "      <td>logrank_test</td>\n",
       "    </tr>\n",
       "  </tbody>\n",
       "</table>\n",
       "</div><table border=\"1\" class=\"dataframe\">\n",
       "  <thead>\n",
       "    <tr style=\"text-align: right;\">\n",
       "      <th></th>\n",
       "      <th>test_statistic</th>\n",
       "      <th>p</th>\n",
       "    </tr>\n",
       "  </thead>\n",
       "  <tbody>\n",
       "    <tr>\n",
       "      <th>0</th>\n",
       "      <td>24.85</td>\n",
       "      <td>&lt;0.005</td>\n",
       "    </tr>\n",
       "  </tbody>\n",
       "</table>"
      ],
      "text/plain": [
       "<IPython.core.display.HTML object>"
      ]
     },
     "metadata": {},
     "output_type": "display_data"
    }
   ],
   "source": [
    "# To get the hazard ratio, we run the logrank test.\n",
    "\n",
    "multi = (df_copy[\"MultipleLines_Yes\"] == 1)\n",
    "results = logrank_test(T[multi], T[~multi], C[multi], C[~multi], alpha=0.99 ) #at 99% confidence level\n",
    "results.print_summary()\n"
   ]
  },
  {
   "cell_type": "code",
   "execution_count": 705,
   "metadata": {},
   "outputs": [
    {
     "data": {
      "text/html": [
       "<img src=\"https://wikimedia.org/api/rest_v1/media/math/render/svg/68750c8d50ac1d055b3ddcc67a05de43b40fdebf\"/>"
      ],
      "text/plain": [
       "<IPython.core.display.Image object>"
      ]
     },
     "execution_count": 705,
     "metadata": {},
     "output_type": "execute_result"
    }
   ],
   "source": [
    "# Image Credit: https://en.wikipedia.org/wiki/Log-rank_test\n",
    "Image(url= \"https://wikimedia.org/api/rest_v1/media/math/render/svg/68750c8d50ac1d055b3ddcc67a05de43b40fdebf\")"
   ]
  },
  {
   "cell_type": "code",
   "execution_count": 706,
   "metadata": {},
   "outputs": [
    {
     "name": "stdout",
     "output_type": "stream",
     "text": [
      "3.1570355740947154\n"
     ]
    }
   ],
   "source": [
    "Z = results.test_statistic\n",
    "D = C.sum() #number of events observed\n",
    "\n",
    "hazard_ratio = np.exp(Z*np.sqrt(4/D))\n",
    "print(hazard_ratio)"
   ]
  },
  {
   "cell_type": "markdown",
   "metadata": {},
   "source": [
    "Therefore the risk of churn is 3.2 times higher in users with only one phoneline compared to users with multiple lines."
   ]
  },
  {
   "cell_type": "markdown",
   "metadata": {},
   "source": [
    "# Analyze Churn based on customer life time value"
   ]
  },
  {
   "cell_type": "code",
   "execution_count": 707,
   "metadata": {},
   "outputs": [],
   "source": [
    "df = df_copy.copy()"
   ]
  },
  {
   "cell_type": "code",
   "execution_count": 708,
   "metadata": {},
   "outputs": [
    {
     "data": {
      "text/plain": [
       "[(18.799, 1397.475], (1397.475, 8684.8]]\n",
       "Categories (2, interval[float64]): [(18.799, 1397.475] < (1397.475, 8684.8]]"
      ]
     },
     "execution_count": 708,
     "metadata": {},
     "output_type": "execute_result"
    }
   ],
   "source": [
    "pd.qcut(df.TotalCharges, q=2).unique()"
   ]
  },
  {
   "cell_type": "code",
   "execution_count": 709,
   "metadata": {},
   "outputs": [],
   "source": [
    "df['TotalCharges_bin'] = pd.qcut(df.TotalCharges, q=2, labels=False).astype(str)"
   ]
  },
  {
   "cell_type": "code",
   "execution_count": 710,
   "metadata": {},
   "outputs": [
    {
     "data": {
      "text/plain": [
       "Index(['SeniorCitizen', 'tenure', 'MonthlyCharges', 'TotalCharges', 'Churn',\n",
       "       'gender_Female', 'gender_Male', 'Partner_No', 'Partner_Yes',\n",
       "       'Dependents_No', 'Dependents_Yes', 'PhoneService_No',\n",
       "       'PhoneService_Yes', 'MultipleLines_No',\n",
       "       'MultipleLines_No phone service', 'MultipleLines_Yes',\n",
       "       'InternetService_DSL', 'InternetService_Fiber optic',\n",
       "       'InternetService_No', 'OnlineSecurity_No',\n",
       "       'OnlineSecurity_No internet service', 'OnlineSecurity_Yes',\n",
       "       'OnlineBackup_No', 'OnlineBackup_No internet service',\n",
       "       'OnlineBackup_Yes', 'DeviceProtection_No',\n",
       "       'DeviceProtection_No internet service', 'DeviceProtection_Yes',\n",
       "       'TechSupport_No', 'TechSupport_No internet service', 'TechSupport_Yes',\n",
       "       'StreamingTV_No', 'StreamingTV_No internet service', 'StreamingTV_Yes',\n",
       "       'StreamingMovies_No', 'StreamingMovies_No internet service',\n",
       "       'StreamingMovies_Yes', 'Contract_Month-to-month', 'Contract_One year',\n",
       "       'Contract_Two year', 'PaperlessBilling_No', 'PaperlessBilling_Yes',\n",
       "       'PaymentMethod_Bank transfer (automatic)',\n",
       "       'PaymentMethod_Credit card (automatic)',\n",
       "       'PaymentMethod_Electronic check', 'PaymentMethod_Mailed check',\n",
       "       'TotalCharges_bin_0', 'TotalCharges_bin_1'],\n",
       "      dtype='object')"
      ]
     },
     "execution_count": 710,
     "metadata": {},
     "output_type": "execute_result"
    }
   ],
   "source": [
    "df = pd.get_dummies(df)\n",
    "df.columns"
   ]
  },
  {
   "cell_type": "code",
   "execution_count": 711,
   "metadata": {},
   "outputs": [
    {
     "name": "stdout",
     "output_type": "stream",
     "text": [
      "plot features ['TotalCharges_bin_0', 'TotalCharges_bin_1']\n",
      "vliness [[7.0, 0.7407011938627371], [68.0, 0.7484686034684835]]\n"
     ]
    },
    {
     "data": {
      "image/png": "[encoded data removed]",
      "text/plain": [
       "<Figure size 864x432 with 1 Axes>"
      ]
     },
     "metadata": {
      "needs_background": "light"
     },
     "output_type": "display_data"
    }
   ],
   "source": [
    "plot_kmf(df, 'TotalCharges_bin_0', 'TotalCharges_bin_1', 'tenure', 'Churn', 0.75)"
   ]
  },
  {
   "cell_type": "markdown",
   "metadata": {},
   "source": [
    "# References\n",
    "\n",
    "* https://www.kaggle.com/blastchar/telco-customer-churn\n",
    "* https://www.kaggle.com/vincentlugat/telco-eda-lightgbm-stylized-report/notebook\n",
    "* https://towardsdatascience.com/survival-analysis-in-python-a-model-for-customer-churn-e737c5242822\n",
    "* https://www.displayr.com/how-to-interpret-logistic-regression-coefficients/\n",
    "* Introduction to Machine Learning with Python by Sarah Guido, Andreas C. Müller, Publisher: O'Reilly Media, Inc., Release Date: October 2016, ISBN: 9781449369880\n",
    "\n"
   ]
  }
 ],
 "metadata": {
  "kernelspec": {
   "display_name": "Python 3",
   "language": "python",
   "name": "python3"
  },
  "language_info": {
   "codemirror_mode": {
    "name": "ipython",
    "version": 3
   },
   "file_extension": ".py",
   "mimetype": "text/x-python",
   "name": "python",
   "nbconvert_exporter": "python",
   "pygments_lexer": "ipython3",
   "version": "3.7.3"
  }
 },
 "nbformat": 4,
 "nbformat_minor": 2
}
