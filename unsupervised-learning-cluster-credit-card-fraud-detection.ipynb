{
 "cells": [
  {
   "cell_type": "markdown",
   "metadata": {},
   "source": [
    "### This workbook is about building a clusering model for detecting fraudulent activities\n",
    "\n",
    "* The structure of this workbook:\n",
    "1. Get the data\n",
    "2. Analysis\n",
    "3. Wrangle data\n",
    "4. Model training\n",
    "\n",
    "* This workbook is based on the data and tutorial on Datacamp: https://campus.datacamp.com/courses/fraud-detection-in-python/\n",
    "* I added descriptive analysis, visulization before training the model. I also included more experiments, comparison between models, and detail explanation."
   ]
  },
  {
   "cell_type": "code",
   "execution_count": 6,
   "metadata": {},
   "outputs": [],
   "source": [
    "from datetime import datetime\n",
    "from typing import List, Dict\n",
    "import re\n",
    "from typing import List, Tuple\n",
    "\n",
    "import pandas as pd\n",
    "import numpy as np\n",
    "import seaborn as sns\n",
    "import matplotlib.pyplot as plt\n",
    "\n",
    "import sklearn\n",
    "from sklearn.model_selection import train_test_split, GridSearchCV\n",
    "from sklearn.metrics import confusion_matrix, classification_report, accuracy_score, precision_recall_curve, \\\n",
    "roc_auc_score, average_precision_score, homogeneity_score, silhouette_score\n",
    "\n",
    "from sklearn.linear_model import LogisticRegression\n",
    "from sklearn.decomposition import PCA\n",
    "from sklearn.datasets import make_classification\n",
    "from sklearn.ensemble import RandomForestClassifier, VotingClassifier\n",
    "from sklearn.tree import DecisionTreeClassifier\n",
    "from sklearn.preprocessing import MinMaxScaler\n",
    "from sklearn.cluster import MiniBatchKMeans, DBSCAN\n",
    "\n",
    "\n",
    "\n",
    "from imblearn.over_sampling import RandomOverSampler, SMOTE\n",
    "from imblearn.pipeline import Pipeline "
   ]
  },
  {
   "cell_type": "markdown",
   "metadata": {},
   "source": [
    "# 1. Get the data"
   ]
  },
  {
   "cell_type": "code",
   "execution_count": 7,
   "metadata": {},
   "outputs": [],
   "source": [
    "# Import pandas and read csv\n",
    "df_o = pd.read_csv(\"./data/chapter_3/banksim.csv\")\n"
   ]
  },
  {
   "cell_type": "markdown",
   "metadata": {},
   "source": [
    "# 2. Analysis"
   ]
  },
  {
   "cell_type": "markdown",
   "metadata": {},
   "source": [
    "### (1) Overview of all features"
   ]
  },
  {
   "cell_type": "code",
   "execution_count": 8,
   "metadata": {},
   "outputs": [
    {
     "name": "stdout",
     "output_type": "stream",
     "text": [
      "<class 'pandas.core.frame.DataFrame'>\n",
      "RangeIndex: 7200 entries, 0 to 7199\n",
      "Data columns (total 6 columns):\n",
      "Unnamed: 0    7200 non-null int64\n",
      "age           7200 non-null object\n",
      "gender        7200 non-null object\n",
      "category      7200 non-null object\n",
      "amount        7200 non-null float64\n",
      "fraud         7200 non-null int64\n",
      "dtypes: float64(1), int64(2), object(3)\n",
      "memory usage: 337.6+ KB\n"
     ]
    }
   ],
   "source": [
    "df_o.info()"
   ]
  },
  {
   "cell_type": "code",
   "execution_count": 9,
   "metadata": {
    "scrolled": true
   },
   "outputs": [
    {
     "name": "stdout",
     "output_type": "stream",
     "text": [
      "Unnamed: 0\n",
      "591871    1\n",
      "58614     1\n",
      "363843    1\n",
      "294213    1\n",
      "394993    1\n",
      "365693    1\n",
      "308556    1\n",
      "58702     1\n",
      "103760    1\n",
      "296274    1\n",
      "183635    1\n",
      "290135    1\n",
      "589149    1\n",
      "300384    1\n",
      "245093    1\n",
      "548201    1\n",
      "525674    1\n",
      "294253    1\n",
      "372079    1\n",
      "438074    1\n",
      "536412    1\n",
      "347507    1\n",
      "217323    1\n",
      "290167    1\n",
      "256876    1\n",
      "413051    1\n",
      "435582    1\n",
      "114085    1\n",
      "464192    1\n",
      "36155     1\n",
      "         ..\n",
      "363904    1\n",
      "424706    1\n",
      "422463    1\n",
      "420552    1\n",
      "461532    1\n",
      "238281    1\n",
      "228042    1\n",
      "131789    1\n",
      "189787    1\n",
      "4815      1\n",
      "584400    1\n",
      "391890    1\n",
      "373459    1\n",
      "314068    1\n",
      "365555    1\n",
      "8509      1\n",
      "443101    1\n",
      "45819     1\n",
      "169284    1\n",
      "76512     1\n",
      "247514    1\n",
      "266983    1\n",
      "37170     1\n",
      "412396    1\n",
      "236270    1\n",
      "557542    1\n",
      "396020    1\n",
      "168695    1\n",
      "436984    1\n",
      "473385    1\n",
      "Name: Unnamed: 0, Length: 7200, dtype: int64\n",
      "\n",
      "\n",
      "age\n",
      "2    2333\n",
      "3    1718\n",
      "4    1279\n",
      "5     792\n",
      "1     713\n",
      "6     314\n",
      "0      40\n",
      "U      11\n",
      "Name: age, dtype: int64\n",
      "\n",
      "\n",
      "gender\n",
      "F    3972\n",
      "M    3212\n",
      "E      11\n",
      "U       5\n",
      "Name: gender, dtype: int64\n",
      "\n",
      "\n",
      "category\n",
      "es_transportation        5975\n",
      "es_food                   294\n",
      "es_health                 243\n",
      "es_wellnessandbeauty      198\n",
      "es_fashion                 97\n",
      "es_barsandrestaurants      89\n",
      "es_hyper                   80\n",
      "es_sportsandtoys           76\n",
      "es_tech                    39\n",
      "es_hotelservices           31\n",
      "es_home                    24\n",
      "es_travel                  18\n",
      "es_contents                13\n",
      "es_leisure                 13\n",
      "es_otherservices           10\n",
      "Name: category, dtype: int64\n",
      "\n",
      "\n",
      "amount\n",
      "1.0998      144\n",
      "236.1474    144\n",
      "7.5300        8\n",
      "7.4600        7\n",
      "35.4700       7\n",
      "36.1100       6\n",
      "32.7500       6\n",
      "14.3300       6\n",
      "7.6200        6\n",
      "8.1400        6\n",
      "28.6400       5\n",
      "22.0200       5\n",
      "21.6500       5\n",
      "7.9900        5\n",
      "32.3500       5\n",
      "21.9200       5\n",
      "20.9600       5\n",
      "41.7600       5\n",
      "17.6500       5\n",
      "17.6800       5\n",
      "32.3200       5\n",
      "6.6300        5\n",
      "9.5300        5\n",
      "27.1100       5\n",
      "15.6700       5\n",
      "17.8000       5\n",
      "28.1500       5\n",
      "3.2000        5\n",
      "23.5600       5\n",
      "48.8900       5\n",
      "           ... \n",
      "51.5100       1\n",
      "2.8900        1\n",
      "6.6600        1\n",
      "50.6200       1\n",
      "21.7700       1\n",
      "15.2800       1\n",
      "60.4200       1\n",
      "55.9100       1\n",
      "37.7200       1\n",
      "25.6200       1\n",
      "24.5700       1\n",
      "31.3400       1\n",
      "21.6100       1\n",
      "33.5100       1\n",
      "60.7100       1\n",
      "63.4800       1\n",
      "50.4300       1\n",
      "47.7400       1\n",
      "72.0600       1\n",
      "48.1700       1\n",
      "29.1300       1\n",
      "50.9600       1\n",
      "58.9200       1\n",
      "118.5300      1\n",
      "7.6500        1\n",
      "23.6000       1\n",
      "52.5200       1\n",
      "49.5400       1\n",
      "76.5100       1\n",
      "48.5000       1\n",
      "Name: amount, Length: 4387, dtype: int64\n",
      "\n",
      "\n",
      "fraud\n",
      "0    7000\n",
      "1     200\n",
      "Name: fraud, dtype: int64\n",
      "\n",
      "\n"
     ]
    }
   ],
   "source": [
    "# look at the values in all variables. we can potentially know some values in the categorical variable might need to be adjusted.\n",
    "\n",
    "for j in range(df_o.shape[1]):\n",
    "    print(df_o.columns[j])\n",
    "    print(df_o.iloc[:, j].value_counts())\n",
    "    print('\\n')"
   ]
  },
  {
   "cell_type": "code",
   "execution_count": 10,
   "metadata": {},
   "outputs": [
    {
     "data": {
      "text/plain": [
       "{'Unnamed: 0': 0.0,\n",
       " 'age': 0.0,\n",
       " 'gender': 0.0,\n",
       " 'category': 0.0,\n",
       " 'amount': 0.0,\n",
       " 'fraud': 0.0}"
      ]
     },
     "execution_count": 10,
     "metadata": {},
     "output_type": "execute_result"
    }
   ],
   "source": [
    "# missing values\n",
    "\n",
    "def missing_percent(df: pd.DataFrame) -> Dict:\n",
    "    \"\"\"Calculate the percentage of the missing data in each columns\"\"\"\n",
    "    percent = {}\n",
    "    for column_name in list(df.columns):\n",
    "        percent[column_name] = sum(df[column_name].isnull()) / len(df[column_name])\n",
    "    return percent\n",
    "\n",
    "percent = missing_percent(df_o)\n",
    "percent "
   ]
  },
  {
   "cell_type": "markdown",
   "metadata": {},
   "source": [
    "### (2) Analyze numerical variables "
   ]
  },
  {
   "cell_type": "code",
   "execution_count": 11,
   "metadata": {},
   "outputs": [
    {
     "data": {
      "text/html": [
       "<div>\n",
       "<style scoped>\n",
       "    .dataframe tbody tr th:only-of-type {\n",
       "        vertical-align: middle;\n",
       "    }\n",
       "\n",
       "    .dataframe tbody tr th {\n",
       "        vertical-align: top;\n",
       "    }\n",
       "\n",
       "    .dataframe thead th {\n",
       "        text-align: right;\n",
       "    }\n",
       "</style>\n",
       "<table border=\"1\" class=\"dataframe\">\n",
       "  <thead>\n",
       "    <tr style=\"text-align: right;\">\n",
       "      <th></th>\n",
       "      <th>Unnamed: 0</th>\n",
       "      <th>amount</th>\n",
       "      <th>fraud</th>\n",
       "    </tr>\n",
       "  </thead>\n",
       "  <tbody>\n",
       "    <tr>\n",
       "      <th>count</th>\n",
       "      <td>7200.000000</td>\n",
       "      <td>7200.000000</td>\n",
       "      <td>7200.000000</td>\n",
       "    </tr>\n",
       "    <tr>\n",
       "      <th>mean</th>\n",
       "      <td>296228.038472</td>\n",
       "      <td>36.981587</td>\n",
       "      <td>0.027778</td>\n",
       "    </tr>\n",
       "    <tr>\n",
       "      <th>std</th>\n",
       "      <td>172094.972083</td>\n",
       "      <td>40.569355</td>\n",
       "      <td>0.164347</td>\n",
       "    </tr>\n",
       "    <tr>\n",
       "      <th>min</th>\n",
       "      <td>13.000000</td>\n",
       "      <td>1.099800</td>\n",
       "      <td>0.000000</td>\n",
       "    </tr>\n",
       "    <tr>\n",
       "      <th>25%</th>\n",
       "      <td>145611.250000</td>\n",
       "      <td>14.430000</td>\n",
       "      <td>0.000000</td>\n",
       "    </tr>\n",
       "    <tr>\n",
       "      <th>50%</th>\n",
       "      <td>295031.500000</td>\n",
       "      <td>28.020000</td>\n",
       "      <td>0.000000</td>\n",
       "    </tr>\n",
       "    <tr>\n",
       "      <th>75%</th>\n",
       "      <td>445221.500000</td>\n",
       "      <td>44.215000</td>\n",
       "      <td>0.000000</td>\n",
       "    </tr>\n",
       "    <tr>\n",
       "      <th>max</th>\n",
       "      <td>594622.000000</td>\n",
       "      <td>236.147400</td>\n",
       "      <td>1.000000</td>\n",
       "    </tr>\n",
       "  </tbody>\n",
       "</table>\n",
       "</div>"
      ],
      "text/plain": [
       "          Unnamed: 0       amount        fraud\n",
       "count    7200.000000  7200.000000  7200.000000\n",
       "mean   296228.038472    36.981587     0.027778\n",
       "std    172094.972083    40.569355     0.164347\n",
       "min        13.000000     1.099800     0.000000\n",
       "25%    145611.250000    14.430000     0.000000\n",
       "50%    295031.500000    28.020000     0.000000\n",
       "75%    445221.500000    44.215000     0.000000\n",
       "max    594622.000000   236.147400     1.000000"
      ]
     },
     "execution_count": 11,
     "metadata": {},
     "output_type": "execute_result"
    }
   ],
   "source": [
    "df_o.describe()"
   ]
  },
  {
   "cell_type": "code",
   "execution_count": 12,
   "metadata": {},
   "outputs": [
    {
     "data": {
      "text/plain": [
       "<matplotlib.axes._subplots.AxesSubplot at 0x26aa50d5a58>"
      ]
     },
     "execution_count": 12,
     "metadata": {},
     "output_type": "execute_result"
    },
    {
     "data": {
      "image/png": "[encoded data removed]",
      "text/plain": [
       "<Figure size 432x288 with 1 Axes>"
      ]
     },
     "metadata": {
      "needs_background": "light"
     },
     "output_type": "display_data"
    }
   ],
   "source": [
    "df_o['amount'].hist()"
   ]
  },
  {
   "cell_type": "markdown",
   "metadata": {},
   "source": [
    "### (3) Analyze categorical variables"
   ]
  },
  {
   "cell_type": "code",
   "execution_count": 13,
   "metadata": {},
   "outputs": [
    {
     "data": {
      "text/html": [
       "<div>\n",
       "<style scoped>\n",
       "    .dataframe tbody tr th:only-of-type {\n",
       "        vertical-align: middle;\n",
       "    }\n",
       "\n",
       "    .dataframe tbody tr th {\n",
       "        vertical-align: top;\n",
       "    }\n",
       "\n",
       "    .dataframe thead th {\n",
       "        text-align: right;\n",
       "    }\n",
       "</style>\n",
       "<table border=\"1\" class=\"dataframe\">\n",
       "  <thead>\n",
       "    <tr style=\"text-align: right;\">\n",
       "      <th></th>\n",
       "      <th>age</th>\n",
       "      <th>gender</th>\n",
       "      <th>category</th>\n",
       "    </tr>\n",
       "  </thead>\n",
       "  <tbody>\n",
       "    <tr>\n",
       "      <th>count</th>\n",
       "      <td>7200</td>\n",
       "      <td>7200</td>\n",
       "      <td>7200</td>\n",
       "    </tr>\n",
       "    <tr>\n",
       "      <th>unique</th>\n",
       "      <td>8</td>\n",
       "      <td>4</td>\n",
       "      <td>15</td>\n",
       "    </tr>\n",
       "    <tr>\n",
       "      <th>top</th>\n",
       "      <td>2</td>\n",
       "      <td>F</td>\n",
       "      <td>es_transportation</td>\n",
       "    </tr>\n",
       "    <tr>\n",
       "      <th>freq</th>\n",
       "      <td>2333</td>\n",
       "      <td>3972</td>\n",
       "      <td>5975</td>\n",
       "    </tr>\n",
       "  </tbody>\n",
       "</table>\n",
       "</div>"
      ],
      "text/plain": [
       "         age gender           category\n",
       "count   7200   7200               7200\n",
       "unique     8      4                 15\n",
       "top        2      F  es_transportation\n",
       "freq    2333   3972               5975"
      ]
     },
     "execution_count": 13,
     "metadata": {},
     "output_type": "execute_result"
    }
   ],
   "source": [
    "df_o.describe(include=[np.object])"
   ]
  },
  {
   "cell_type": "code",
   "execution_count": 14,
   "metadata": {},
   "outputs": [
    {
     "data": {
      "image/png": "[encoded data removed]",
      "text/plain": [
       "<Figure size 1152x288 with 4 Axes>"
      ]
     },
     "metadata": {
      "needs_background": "light"
     },
     "output_type": "display_data"
    }
   ],
   "source": [
    "# plot the unique counts for the categorical variables\n",
    "\n",
    "def plot_categorical(df, categorical_variables_list: List):\n",
    "    nrows = 1\n",
    "    ncols = int(np.ceil(len(categorical_variables_list) / nrows))\n",
    "    fig, axes = plt.subplots(nrows, ncols, figsize=(16, 4))\n",
    "\n",
    "    for i in range(len(categorical_variables_list)):\n",
    "        df.loc[:, categorical_variables_list[i]].value_counts().sort_values(ascending=True).plot.barh(ax=axes[i])\n",
    "        axes[i].set_title(categorical_variables_list[i])\n",
    "\n",
    "plot_categorical(df_o, ['age', 'gender', 'category', 'fraud'])\n"
   ]
  },
  {
   "cell_type": "code",
   "execution_count": 15,
   "metadata": {},
   "outputs": [
    {
     "data": {
      "text/plain": [
       "Index(['Unnamed: 0', 'age', 'gender', 'category', 'amount', 'fraud'], dtype='object')"
      ]
     },
     "execution_count": 15,
     "metadata": {},
     "output_type": "execute_result"
    }
   ],
   "source": [
    "df_o.columns"
   ]
  },
  {
   "cell_type": "markdown",
   "metadata": {},
   "source": [
    "### (4) Summary\n",
    "\n",
    "**Which features are available in the dataset?**\n",
    "\n",
    " * 'age', 'gender', 'category', 'amount', 'fraud'\n",
    "\n",
    " **Which features have missing values?**\n",
    " * no missing value\n",
    "\n",
    " **What are the numeric variables and categorical variables?**\n",
    "\n",
    " * Numerical variables: (1) continuous: 'amount',;\n",
    " * Categorial variables: (1) ordinal: none; (2) nominal: 'age', 'gender',  'category', 'fraud'\n",
    "\n",
    "\n",
    " **What is the distribution of numerical feature values across the samples?**\n",
    " * amount: most people spend less\n",
    "\n",
    "\n",
    " **What is the distribution of categorical features?**\n",
    " * age: (1)There are three type of age: numeric, 'U'. 'U' mean the age is unknown. Since the number of unknown is very small and I want to treat age as numerical variable, I will remove this 'U' category.  (2) In most of the transactions, the credit card is only used for 2 years. The number of transactions decreases with age increase. Excpet age of 1. This means people are less active with time. \n",
    " \n",
    " * Gender: There are 4 genders. There is a gender name 'E', I don't know what it is. The number of E and U is small, I will remove them. most of the trasaction came from women.\n",
    " * category: transportation dominate\n",
    " * fraud: frauduland is only a small proportion\n",
    "\n",
    "\n",
    "**Which features are mixed data types?**\n",
    " * none\n",
    "\n",
    "**Which features may contain errors or typos?**\n",
    "\n",
    "\n",
    "**which feature I should select? preliminary inspection**\n",
    " * drop the unname column\n",
    "\n"
   ]
  },
  {
   "cell_type": "markdown",
   "metadata": {},
   "source": [
    "### (5) Analyze correlation between features and target\n"
   ]
  },
  {
   "cell_type": "markdown",
   "metadata": {},
   "source": [
    "#### (a) Numerical variable vs. target variable"
   ]
  },
  {
   "cell_type": "markdown",
   "metadata": {},
   "source": [
    "###### amount"
   ]
  },
  {
   "cell_type": "code",
   "execution_count": 97,
   "metadata": {},
   "outputs": [
    {
     "data": {
      "text/html": [
       "<div>\n",
       "<style scoped>\n",
       "    .dataframe tbody tr th:only-of-type {\n",
       "        vertical-align: middle;\n",
       "    }\n",
       "\n",
       "    .dataframe tbody tr th {\n",
       "        vertical-align: top;\n",
       "    }\n",
       "\n",
       "    .dataframe thead th {\n",
       "        text-align: right;\n",
       "    }\n",
       "</style>\n",
       "<table border=\"1\" class=\"dataframe\">\n",
       "  <thead>\n",
       "    <tr style=\"text-align: right;\">\n",
       "      <th></th>\n",
       "      <th>Unnamed: 0</th>\n",
       "      <th>amount</th>\n",
       "    </tr>\n",
       "    <tr>\n",
       "      <th>fraud</th>\n",
       "      <th></th>\n",
       "      <th></th>\n",
       "    </tr>\n",
       "  </thead>\n",
       "  <tbody>\n",
       "    <tr>\n",
       "      <th>0</th>\n",
       "      <td>296901.424143</td>\n",
       "      <td>32.662954</td>\n",
       "    </tr>\n",
       "    <tr>\n",
       "      <th>1</th>\n",
       "      <td>272659.540000</td>\n",
       "      <td>188.133751</td>\n",
       "    </tr>\n",
       "  </tbody>\n",
       "</table>\n",
       "</div>"
      ],
      "text/plain": [
       "          Unnamed: 0      amount\n",
       "fraud                           \n",
       "0      296901.424143   32.662954\n",
       "1      272659.540000  188.133751"
      ]
     },
     "execution_count": 97,
     "metadata": {},
     "output_type": "execute_result"
    }
   ],
   "source": [
    "df_o.groupby('fraud').mean()"
   ]
  },
  {
   "cell_type": "code",
   "execution_count": 18,
   "metadata": {},
   "outputs": [
    {
     "name": "stderr",
     "output_type": "stream",
     "text": [
      "C:\\Users\\music\\AppData\\Roaming\\Python\\Python37\\site-packages\\scipy\\stats\\stats.py:1713: FutureWarning: Using a non-tuple sequence for multidimensional indexing is deprecated; use `arr[tuple(seq)]` instead of `arr[seq]`. In the future this will be interpreted as an array index, `arr[np.array(seq)]`, which will result either in an error or a different result.\n",
      "  return np.add.reduce(sorted[indexer] * weights, axis=axis) / sumval\n"
     ]
    },
    {
     "data": {
      "text/plain": [
       "<matplotlib.axes._subplots.AxesSubplot at 0x26aa74eab70>"
      ]
     },
     "execution_count": 18,
     "metadata": {},
     "output_type": "execute_result"
    },
    {
     "data": {
      "image/png": "[encoded data removed]",
      "text/plain": [
       "<Figure size 432x288 with 1 Axes>"
      ]
     },
     "metadata": {
      "needs_background": "light"
     },
     "output_type": "display_data"
    }
   ],
   "source": [
    "sns.barplot(data=df_o, x='fraud', y='amount')"
   ]
  },
  {
   "cell_type": "code",
   "execution_count": 23,
   "metadata": {},
   "outputs": [
    {
     "data": {
      "text/plain": [
       "<seaborn.axisgrid.FacetGrid at 0x26aa7451b70>"
      ]
     },
     "execution_count": 23,
     "metadata": {},
     "output_type": "execute_result"
    },
    {
     "data": {
      "image/png": "[encoded data removed]",
      "text/plain": [
       "<Figure size 432x216 with 2 Axes>"
      ]
     },
     "metadata": {
      "needs_background": "light"
     },
     "output_type": "display_data"
    }
   ],
   "source": [
    "g = sns.FacetGrid(data=df_o, col='fraud')\n",
    "g.map(plt.hist, 'amount')"
   ]
  },
  {
   "cell_type": "code",
   "execution_count": 68,
   "metadata": {},
   "outputs": [
    {
     "data": {
      "text/plain": [
       "<matplotlib.axes._subplots.AxesSubplot at 0x28dcc5f2be0>"
      ]
     },
     "execution_count": 68,
     "metadata": {},
     "output_type": "execute_result"
    },
    {
     "data": {
      "image/png": "[encoded data removed]",
      "text/plain": [
       "<Figure size 432x288 with 1 Axes>"
      ]
     },
     "metadata": {
      "needs_background": "light"
     },
     "output_type": "display_data"
    }
   ],
   "source": [
    "sns.boxplot(data=df_o, x='fraud', y='amount')"
   ]
  },
  {
   "cell_type": "markdown",
   "metadata": {},
   "source": [
    "##### amount and category"
   ]
  },
  {
   "cell_type": "code",
   "execution_count": 60,
   "metadata": {},
   "outputs": [
    {
     "data": {
      "text/plain": [
       "<seaborn.axisgrid.FacetGrid at 0x26aa94bf160>"
      ]
     },
     "execution_count": 60,
     "metadata": {},
     "output_type": "execute_result"
    },
    {
     "data": {
      "image/png": "[encoded data removed]",
      "text/plain": [
       "<Figure size 648x432 with 6 Axes>"
      ]
     },
     "metadata": {
      "needs_background": "light"
     },
     "output_type": "display_data"
    }
   ],
   "source": [
    "df_temp = df_o.loc[df_o.category.str.contains('es_leisure|es_travel|es_sportsandtoys', regex=True), :]\n",
    "g = sns.FacetGrid(data=df_temp, col='category', row='fraud')\n",
    "g.map(plt.hist, 'amount')"
   ]
  },
  {
   "cell_type": "markdown",
   "metadata": {},
   "source": [
    "**Summary**\n",
    "* amount vs fraud: In normal activities, the amount in the transaction skew to lower value, while in the fraudulent activities, it is the opposite. amount should be considered into the model.\n",
    "* Amoung the top tree categories which have highest fraud, sport have more transactions. All categories have large amount in the trasaction. \n"
   ]
  },
  {
   "cell_type": "markdown",
   "metadata": {},
   "source": [
    "####  (b) Categorical variable vs. target variable"
   ]
  },
  {
   "cell_type": "markdown",
   "metadata": {},
   "source": [
    "###### descriptive"
   ]
  },
  {
   "cell_type": "code",
   "execution_count": 19,
   "metadata": {},
   "outputs": [
    {
     "data": {
      "text/plain": [
       "Index(['Unnamed: 0', 'age', 'gender', 'category', 'amount', 'fraud'], dtype='object')"
      ]
     },
     "execution_count": 19,
     "metadata": {},
     "output_type": "execute_result"
    }
   ],
   "source": [
    "df_o.columns"
   ]
  },
  {
   "cell_type": "code",
   "execution_count": 98,
   "metadata": {},
   "outputs": [],
   "source": [
    "def cat_target(df, feature, target):\n",
    "    for i in range(len(feature)):\n",
    "        print(df.groupby(by=feature[i]).mean().sort_values(by=target, ascending=False), '\\n') "
   ]
  },
  {
   "cell_type": "code",
   "execution_count": 99,
   "metadata": {},
   "outputs": [
    {
     "name": "stdout",
     "output_type": "stream",
     "text": [
      "        Unnamed: 0     amount     fraud\n",
      "age                                    \n",
      "0    327520.450000  49.468935  0.050000\n",
      "4    306041.396403  36.197985  0.035966\n",
      "2    296867.958851  37.228665  0.028718\n",
      "1    290985.509116  35.622829  0.026648\n",
      "5    290885.960859  37.547521  0.023990\n",
      "3    291471.417346  37.279338  0.023283\n",
      "6    299193.716561  36.700852  0.022293\n",
      "U    288372.181818  39.117000  0.000000 \n",
      "\n",
      "           Unnamed: 0     amount     fraud\n",
      "gender                                    \n",
      "F       293781.782226  37.842941  0.033484\n",
      "M       299359.057597  35.918978  0.020859\n",
      "E       288372.181818  39.117000  0.000000\n",
      "U       245450.200000  30.644000  0.000000 \n",
      "\n",
      "                          Unnamed: 0      amount     fraud\n",
      "category                                                  \n",
      "es_leisure             186541.307692  229.757600  1.000000\n",
      "es_travel              338897.777778  231.818656  0.944444\n",
      "es_sportsandtoys       238775.539474  157.251737  0.657895\n",
      "es_otherservices       241279.000000  149.648960  0.600000\n",
      "es_hotelservices       280138.548387  172.756245  0.548387\n",
      "es_health              335355.176955  126.604704  0.242798\n",
      "es_home                248312.583333  120.688317  0.208333\n",
      "es_tech                310473.948718  132.852862  0.179487\n",
      "es_hyper               244440.712500   46.788180  0.125000\n",
      "es_wellnessandbeauty   275085.979798   66.167078  0.060606\n",
      "es_barsandrestaurants  267372.707865   43.841793  0.022472\n",
      "es_fashion             286952.226804   59.780769  0.020619\n",
      "es_contents            335906.153846   55.170000  0.000000\n",
      "es_food                334978.976190   35.216050  0.000000\n",
      "es_transportation      295733.881674   27.422014  0.000000 \n",
      "\n"
     ]
    }
   ],
   "source": [
    "cat_target(df_o, ['age', 'gender', 'category'], 'fraud')"
   ]
  },
  {
   "cell_type": "markdown",
   "metadata": {},
   "source": [
    "###### visulization"
   ]
  },
  {
   "cell_type": "code",
   "execution_count": 62,
   "metadata": {},
   "outputs": [],
   "source": [
    "df_fraud = df_o[df_o['fraud'] == 1]\n",
    "df_notfraud = df_o[df_o['fraud'] == 0]"
   ]
  },
  {
   "cell_type": "code",
   "execution_count": 63,
   "metadata": {},
   "outputs": [
    {
     "data": {
      "image/png": "[encoded data removed]",
      "text/plain": [
       "<Figure size 1152x288 with 3 Axes>"
      ]
     },
     "metadata": {
      "needs_background": "light"
     },
     "output_type": "display_data"
    }
   ],
   "source": [
    "plot_categorical(df_notfraud, [ 'age', 'gender','category'])"
   ]
  },
  {
   "cell_type": "code",
   "execution_count": 64,
   "metadata": {},
   "outputs": [
    {
     "data": {
      "image/png": "[encoded data removed]",
      "text/plain": [
       "<Figure size 1152x288 with 3 Axes>"
      ]
     },
     "metadata": {
      "needs_background": "light"
     },
     "output_type": "display_data"
    }
   ],
   "source": [
    "plot_categorical(df_fraud, [ 'age', 'gender','category'])\n"
   ]
  },
  {
   "cell_type": "code",
   "execution_count": 95,
   "metadata": {},
   "outputs": [
    {
     "data": {
      "text/plain": [
       "<seaborn.axisgrid.FacetGrid at 0x26aac848198>"
      ]
     },
     "execution_count": 95,
     "metadata": {},
     "output_type": "execute_result"
    },
    {
     "data": {
      "image/png": "[encoded data removed]",
      "text/plain": [
       "<Figure size 440x216 with 2 Axes>"
      ]
     },
     "metadata": {
      "needs_background": "light"
     },
     "output_type": "display_data"
    }
   ],
   "source": [
    "grid = sns.FacetGrid(df_o, col='fraud')\n",
    "grid.map(sns.pointplot, 'age', 'amount', palette='deep')\n",
    "grid.add_legend()"
   ]
  },
  {
   "cell_type": "markdown",
   "metadata": {},
   "source": [
    "**Summary**\n",
    "* age vs fraud: (1) age 0 has the highest fraudulent probability. This make sense as these people only open the credit card for treating. age 4 is the second highest,  Other age number has similar probability of fraud. (2) The age ranking is different in two group, but it is hard to tell the relationship between age and fraud from the figure. (3) the average amount spent as well as fraud occurrence is rather similar across age groups. Age group '0' stands out but since there are only 40 cases, it does not make sense to split these out in a separate group and run a separate model on them.\n",
    "\n",
    "\n",
    "* gender: women group has higher fraudulent transaction. From the figure, the number of female is double the number of male in the fraud group, which indicates female tend to fraud in this dataset\n",
    "\n",
    "* category: leisure, travel, sports are the top 3 categories contain fraudulent activity. Leisure is 100%. some cateogry tend to have more fraud. large amount in the transaction also come from these categories. \n"
   ]
  },
  {
   "cell_type": "markdown",
   "metadata": {},
   "source": [
    "### (6) Assumtions based on data analysis\n"
   ]
  },
  {
   "cell_type": "markdown",
   "metadata": {},
   "source": [
    "\n",
    "We arrive at following assumptions based on data analysis done so far. We may validate these assumptions further before taking appropriate actions.\n",
    "\n",
    "**Correlating.**\n",
    "\n",
    "We want to know how well does each feature correlate with fraud. We want to do this early in our project and match these quick correlations with modelled correlations later in the project.\n",
    "\n",
    "**Completing.**\n",
    "\n",
    "luckily, no missing value\n",
    "\n",
    "**Correcting.**\n",
    " * drop the unname feature\n",
    " \n",
    "**Creating.**\n",
    " \n",
    "\n",
    "**Classifying.**\n",
    "\n"
   ]
  },
  {
   "cell_type": "markdown",
   "metadata": {},
   "source": [
    "# 3.  Wrangle data"
   ]
  },
  {
   "cell_type": "code",
   "execution_count": 68,
   "metadata": {},
   "outputs": [],
   "source": [
    "df = df_o.copy()\n"
   ]
  },
  {
   "cell_type": "markdown",
   "metadata": {},
   "source": [
    "###   Drop some columns or remove some categories"
   ]
  },
  {
   "cell_type": "code",
   "execution_count": 69,
   "metadata": {},
   "outputs": [
    {
     "data": {
      "text/plain": [
       "Index(['Unnamed: 0', 'age', 'gender', 'category', 'amount', 'fraud'], dtype='object')"
      ]
     },
     "execution_count": 69,
     "metadata": {},
     "output_type": "execute_result"
    }
   ],
   "source": [
    "df.columns"
   ]
  },
  {
   "cell_type": "code",
   "execution_count": 70,
   "metadata": {},
   "outputs": [],
   "source": [
    "# remove unkonw column\n",
    "df.drop(columns=['Unnamed: 0'], inplace=True)"
   ]
  },
  {
   "cell_type": "code",
   "execution_count": 106,
   "metadata": {},
   "outputs": [],
   "source": [
    "# remove unkonw gender\n",
    "df = df[~df.gender.str.contains('E|U', regex=True)]"
   ]
  },
  {
   "cell_type": "code",
   "execution_count": 104,
   "metadata": {},
   "outputs": [],
   "source": [
    "# remove unkonw age\n",
    "df = df[~df.age.str.contains('U', regex=True)]\n",
    "df['age'] = df.age.astype(int)"
   ]
  },
  {
   "cell_type": "markdown",
   "metadata": {},
   "source": [
    "### Converting categorical features"
   ]
  },
  {
   "cell_type": "code",
   "execution_count": 110,
   "metadata": {},
   "outputs": [],
   "source": [
    "df = pd.get_dummies(df, columns=['gender', 'category'])"
   ]
  },
  {
   "cell_type": "markdown",
   "metadata": {},
   "source": [
    "check the data again"
   ]
  },
  {
   "cell_type": "code",
   "execution_count": 112,
   "metadata": {},
   "outputs": [
    {
     "name": "stdout",
     "output_type": "stream",
     "text": [
      "age\n",
      "2    2331\n",
      "3    1717\n",
      "4    1279\n",
      "5     792\n",
      "1     711\n",
      "6     314\n",
      "0      40\n",
      "Name: age, dtype: int64\n",
      "\n",
      "\n",
      "amount\n",
      "236.1474    143\n",
      "1.0998      142\n",
      "7.5300        8\n",
      "7.4600        7\n",
      "35.4700       7\n",
      "36.1100       6\n",
      "14.3300       6\n",
      "8.1400        6\n",
      "32.7500       6\n",
      "7.6200        6\n",
      "10.5900       5\n",
      "21.9200       5\n",
      "23.5600       5\n",
      "19.4100       5\n",
      "22.0200       5\n",
      "9.5300        5\n",
      "14.7900       5\n",
      "6.6300        5\n",
      "27.1100       5\n",
      "28.1500       5\n",
      "39.9100       5\n",
      "32.3500       5\n",
      "41.7600       5\n",
      "3.2000        5\n",
      "17.6800       5\n",
      "7.9900        5\n",
      "17.3000       5\n",
      "32.3200       5\n",
      "14.4500       5\n",
      "17.8000       5\n",
      "           ... \n",
      "6.6600        1\n",
      "50.6200       1\n",
      "82.0600       1\n",
      "68.3800       1\n",
      "37.3300       1\n",
      "45.1800       1\n",
      "21.7700       1\n",
      "15.2800       1\n",
      "24.5700       1\n",
      "31.3400       1\n",
      "21.6100       1\n",
      "33.5100       1\n",
      "60.7100       1\n",
      "63.4800       1\n",
      "50.4300       1\n",
      "47.7400       1\n",
      "72.0600       1\n",
      "48.1700       1\n",
      "29.1300       1\n",
      "50.9600       1\n",
      "58.9200       1\n",
      "118.5300      1\n",
      "7.6500        1\n",
      "23.6000       1\n",
      "52.5200       1\n",
      "49.5400       1\n",
      "76.5100       1\n",
      "55.9100       1\n",
      "60.4200       1\n",
      "7.2500        1\n",
      "Name: amount, Length: 4382, dtype: int64\n",
      "\n",
      "\n",
      "fraud\n",
      "0    6984\n",
      "1     200\n",
      "Name: fraud, dtype: int64\n",
      "\n",
      "\n",
      "gender_F\n",
      "1    3972\n",
      "0    3212\n",
      "Name: gender_F, dtype: int64\n",
      "\n",
      "\n",
      "gender_M\n",
      "0    3972\n",
      "1    3212\n",
      "Name: gender_M, dtype: int64\n",
      "\n",
      "\n",
      "category_es_barsandrestaurants\n",
      "0    7095\n",
      "1      89\n",
      "Name: category_es_barsandrestaurants, dtype: int64\n",
      "\n",
      "\n",
      "category_es_contents\n",
      "0    7171\n",
      "1      13\n",
      "Name: category_es_contents, dtype: int64\n",
      "\n",
      "\n",
      "category_es_fashion\n",
      "0    7087\n",
      "1      97\n",
      "Name: category_es_fashion, dtype: int64\n",
      "\n",
      "\n",
      "category_es_food\n",
      "0    6892\n",
      "1     292\n",
      "Name: category_es_food, dtype: int64\n",
      "\n",
      "\n",
      "category_es_health\n",
      "0    6942\n",
      "1     242\n",
      "Name: category_es_health, dtype: int64\n",
      "\n",
      "\n",
      "category_es_home\n",
      "0    7160\n",
      "1      24\n",
      "Name: category_es_home, dtype: int64\n",
      "\n",
      "\n",
      "category_es_hotelservices\n",
      "0    7154\n",
      "1      30\n",
      "Name: category_es_hotelservices, dtype: int64\n",
      "\n",
      "\n",
      "category_es_hyper\n",
      "0    7104\n",
      "1      80\n",
      "Name: category_es_hyper, dtype: int64\n",
      "\n",
      "\n",
      "category_es_leisure\n",
      "0    7171\n",
      "1      13\n",
      "Name: category_es_leisure, dtype: int64\n",
      "\n",
      "\n",
      "category_es_otherservices\n",
      "0    7174\n",
      "1      10\n",
      "Name: category_es_otherservices, dtype: int64\n",
      "\n",
      "\n",
      "category_es_sportsandtoys\n",
      "0    7108\n",
      "1      76\n",
      "Name: category_es_sportsandtoys, dtype: int64\n",
      "\n",
      "\n",
      "category_es_tech\n",
      "0    7145\n",
      "1      39\n",
      "Name: category_es_tech, dtype: int64\n",
      "\n",
      "\n",
      "category_es_transportation\n",
      "1    5963\n",
      "0    1221\n",
      "Name: category_es_transportation, dtype: int64\n",
      "\n",
      "\n",
      "category_es_travel\n",
      "0    7166\n",
      "1      18\n",
      "Name: category_es_travel, dtype: int64\n",
      "\n",
      "\n",
      "category_es_wellnessandbeauty\n",
      "0    6986\n",
      "1     198\n",
      "Name: category_es_wellnessandbeauty, dtype: int64\n",
      "\n",
      "\n"
     ]
    }
   ],
   "source": [
    "for j in range(df.shape[1]):\n",
    "    print(df.columns[j])\n",
    "    print(df.iloc[:, j].value_counts())\n",
    "    print('\\n')"
   ]
  },
  {
   "cell_type": "markdown",
   "metadata": {},
   "source": [
    "### Scaling the data\n",
    "For ML algorithms using distance based metrics, it is crucial to always scale your data, as features using different scales will distort your results. K-means uses the Euclidian distance to assess distance to cluster centroids, therefore you first need to scale your data before continuing to implement the algorithm.\n"
   ]
  },
  {
   "cell_type": "code",
   "execution_count": 146,
   "metadata": {},
   "outputs": [
    {
     "data": {
      "text/plain": [
       "array([[0.5       , 0.20681002, 0.        , ..., 1.        , 0.        ,\n",
       "        0.        ],\n",
       "       [0.66666667, 0.16247858, 0.        , ..., 0.        , 0.        ,\n",
       "        0.        ],\n",
       "       [0.5       , 0.07513457, 0.        , ..., 1.        , 0.        ,\n",
       "        0.        ],\n",
       "       ...,\n",
       "       [0.16666667, 1.        , 1.        , ..., 0.        , 1.        ,\n",
       "        0.        ],\n",
       "       [0.16666667, 1.        , 1.        , ..., 0.        , 0.        ,\n",
       "        0.        ],\n",
       "       [0.66666667, 1.        , 1.        , ..., 0.        , 0.        ,\n",
       "        0.        ]])"
      ]
     },
     "execution_count": 146,
     "metadata": {},
     "output_type": "execute_result"
    }
   ],
   "source": [
    "scaler = MinMaxScaler()\n",
    "X_scaled = scaler.fit_transform(df)\n",
    "X_scaled"
   ]
  },
  {
   "cell_type": "code",
   "execution_count": 149,
   "metadata": {},
   "outputs": [
    {
     "data": {
      "text/plain": [
       "(7184, 20)"
      ]
     },
     "execution_count": 149,
     "metadata": {},
     "output_type": "execute_result"
    }
   ],
   "source": [
    "X_scaled.shape"
   ]
  },
  {
   "cell_type": "code",
   "execution_count": 140,
   "metadata": {},
   "outputs": [],
   "source": [
    "y=df.fraud"
   ]
  },
  {
   "cell_type": "markdown",
   "metadata": {},
   "source": [
    "# 4. Model training"
   ]
  },
  {
   "cell_type": "markdown",
   "metadata": {},
   "source": [
    "## K-means clustering\n"
   ]
  },
  {
   "cell_type": "markdown",
   "metadata": {},
   "source": [
    "### find the elbow"
   ]
  },
  {
   "cell_type": "code",
   "execution_count": 164,
   "metadata": {},
   "outputs": [
    {
     "data": {
      "image/png": "[encoded data removed]",
      "text/plain": [
       "<Figure size 432x288 with 1 Axes>"
      ]
     },
     "metadata": {
      "needs_background": "light"
     },
     "output_type": "display_data"
    }
   ],
   "source": [
    "# Define the range of clusters to try\n",
    "clustno = range(1, 10)\n",
    "\n",
    "# Run MiniBatch Kmeans over the number of clusters\n",
    "kmeans = [MiniBatchKMeans(n_clusters=i) for i in clustno]\n",
    "\n",
    "# Obtain the score for each model\n",
    "score = [kmeans[i].fit(X_scaled).score(X_scaled) for i in range(len(kmeans))]\n",
    "\n",
    "# Plot the models and their respective score \n",
    "plt.plot(clustno, score)\n",
    "plt.xlabel('Number of Clusters')\n",
    "plt.ylabel('Score')\n",
    "plt.title('Elbow Curve')\n",
    "plt.show()"
   ]
  },
  {
   "cell_type": "markdown",
   "metadata": {},
   "source": [
    "**summary**\n",
    "* Now you can see that the optimal number of clusters should probably be at around 4 clusters, as that is where the elbow is in the curve. We'll use this in the next exercise as our baseline model, and see how well this does in detecting fraud"
   ]
  },
  {
   "cell_type": "markdown",
   "metadata": {},
   "source": [
    "###  Detecting outliers \n"
   ]
  },
  {
   "cell_type": "code",
   "execution_count": 197,
   "metadata": {},
   "outputs": [],
   "source": [
    "# Define K-means model \n",
    "kmeans = MiniBatchKMeans(n_clusters=4, random_state=42).fit(X_scaled)"
   ]
  },
  {
   "cell_type": "markdown",
   "metadata": {},
   "source": [
    "#### Obtain predictions and calculate distance from cluster centroid\n"
   ]
  },
  {
   "cell_type": "code",
   "execution_count": 166,
   "metadata": {},
   "outputs": [
    {
     "name": "stdout",
     "output_type": "stream",
     "text": [
      "[1 3 1 ... 3 3 3]\n",
      "(4, 20)\n",
      "[0. 0. 0. ... 1. 1. 0.]\n"
     ]
    }
   ],
   "source": [
    "X_clusters = kmeans.predict(X_scaled)  # for each point , get its corresponding cluster, 0 or 1 or 2 or 3\n",
    "print(X_clusters)\n",
    "\n",
    "X_clusters_centers = kmeans.cluster_centers_        # Coordinates of cluster centers.\n",
    "print(X_clusters_centers.shape)\n",
    "\n",
    "# for each pooint, calcuate the distance from this point to its corresponding cluster center\n",
    "dist = [np.linalg.norm(x-y) for x, y in zip(X_scaled, X_clusters_centers[X_clusters])]\n",
    "\n",
    "# Create fraud predictions based on outliers on clusters \n",
    "km_y_pred = np.array(dist)\n",
    "km_y_pred[dist >= np.percentile(dist, 95)] = 1\n",
    "km_y_pred[dist < np.percentile(dist, 95)] = 0\n",
    "print(km_y_pred)"
   ]
  },
  {
   "cell_type": "code",
   "execution_count": 167,
   "metadata": {},
   "outputs": [],
   "source": [
    "# or we can use this calculation \n",
    "\n",
    "diff = X_scaled - X_clusters_centers[X_clusters]\n",
    "distance = np.linalg.norm(diff, axis=1)\n",
    "threshold = np.percentile(distance, 95)\n",
    "km_y_pred = np.where(distance < threshold, 0, 1)"
   ]
  },
  {
   "cell_type": "markdown",
   "metadata": {},
   "source": [
    "### Checking model results\n",
    "If you have the label, then evaluate the cluster result\n"
   ]
  },
  {
   "cell_type": "code",
   "execution_count": 169,
   "metadata": {},
   "outputs": [
    {
     "name": "stdout",
     "output_type": "stream",
     "text": [
      "0.8316781214203894\n",
      "              precision    recall  f1-score   support\n",
      "\n",
      "           0       0.99      0.97      0.98      6984\n",
      "           1       0.39      0.69      0.50       200\n",
      "\n",
      "    accuracy                           0.96      7184\n",
      "   macro avg       0.69      0.83      0.74      7184\n",
      "weighted avg       0.97      0.96      0.97      7184\n",
      "\n",
      "[[6763  221]\n",
      " [  61  139]]\n"
     ]
    }
   ],
   "source": [
    "# Obtain the ROC score\n",
    "print(roc_auc_score(y, km_y_pred))\n",
    "\n",
    "print(classification_report(y, km_y_pred))\n",
    "\n",
    "km_cm = confusion_matrix(y, km_y_pred)\n",
    "print(km_cm)\n",
    "\n"
   ]
  },
  {
   "cell_type": "markdown",
   "metadata": {},
   "source": [
    "### decrease the percentile"
   ]
  },
  {
   "cell_type": "code",
   "execution_count": 171,
   "metadata": {},
   "outputs": [],
   "source": [
    "km_y_pred = np.array(dist)\n",
    "km_y_pred[dist >= np.percentile(dist, 85)] = 1\n",
    "km_y_pred[dist < np.percentile(dist, 85)] = 0"
   ]
  },
  {
   "cell_type": "code",
   "execution_count": 172,
   "metadata": {},
   "outputs": [
    {
     "name": "stdout",
     "output_type": "stream",
     "text": [
      "0.9371420389461627\n",
      "              precision    recall  f1-score   support\n",
      "\n",
      "           0       1.00      0.87      0.93      6984\n",
      "           1       0.19      1.00      0.31       200\n",
      "\n",
      "    accuracy                           0.88      7184\n",
      "   macro avg       0.59      0.94      0.62      7184\n",
      "weighted avg       0.98      0.88      0.92      7184\n",
      "\n",
      "[[6106  878]\n",
      " [   0  200]]\n"
     ]
    }
   ],
   "source": [
    "print(roc_auc_score(y, km_y_pred))\n",
    "\n",
    "print(classification_report(y, km_y_pred))\n",
    "\n",
    "km_cm = confusion_matrix(y, km_y_pred)\n",
    "print(km_cm)"
   ]
  },
  {
   "cell_type": "markdown",
   "metadata": {},
   "source": [
    "**summary**\n",
    "* By lowering the threshold for cases flagged as fraud, you flag more cases overall, recall can be 100%. However, the precistion is very low."
   ]
  },
  {
   "cell_type": "markdown",
   "metadata": {},
   "source": [
    "## DB scan\n",
    "\n",
    " DBSCAN can handle weirdly shaped data (i.e. non-convex) much better than K-means can. This time, we take the smallest clusters in the data as outlier and label those as fraud. \n",
    " \n",
    " \n",
    "tips: calculate distance to the nearest neighbor\n",
    "https://github.com/alitouka/spark_dbscan/wiki/Choosing-parameters-of-DBSCAN-algorithm\n"
   ]
  },
  {
   "cell_type": "code",
   "execution_count": 250,
   "metadata": {},
   "outputs": [
    {
     "name": "stdout",
     "output_type": "stream",
     "text": [
      "[ 0  1  0 ... 32 36 31]\n",
      "Estimated number of clusters: 39\n",
      "Homogeneity: 0.985\n",
      "Silhouette Coefficient: 0.787\n"
     ]
    }
   ],
   "source": [
    "# Initialize and fit the DBscan model\n",
    "db = DBSCAN(eps=0.5, min_samples=3, n_jobs=-1).fit(X_scaled) # maximum distance between two samples to 0.9\n",
    "\n",
    "# Obtain the predicted labels,these are the cluster numbers assigned to an observation.\n",
    "pred_labels = db.labels_\n",
    "print(pred_labels)\n",
    "\n",
    "# calculate number of clusters, ignoring the noise if present.\n",
    "n_clusters = len(set(pred_labels)) - (1 if -1 in pred_labels else 0) \n",
    "\n",
    "print('Estimated number of clusters: %d' % n_clusters)\n",
    "\n",
    "# Homogeneity metric of a cluster labeling given a ground truth.\n",
    "print(\"Homogeneity: %0.3f\" % homogeneity_score(y, pred_labels))  \n",
    "print(\"Silhouette Coefficient: %0.3f\" % silhouette_score(X_scaled, pred_labels))\n"
   ]
  },
  {
   "cell_type": "code",
   "execution_count": null,
   "metadata": {},
   "outputs": [],
   "source": []
  },
  {
   "cell_type": "markdown",
   "metadata": {},
   "source": [
    "### Try different min_samples and eps"
   ]
  },
  {
   "cell_type": "code",
   "execution_count": 227,
   "metadata": {},
   "outputs": [
    {
     "name": "stdout",
     "output_type": "stream",
     "text": [
      "min_samples  5  eps:  0.1\n",
      "number of clusters: 67\n",
      "cluster sizes : [ 763  496  840  355 1084  676   63  306  560  134   30   14   25  262\n",
      "  128  331   15   16    6   28   11   11   22    6    6   12   13   33\n",
      "   37   14   41   31   11    5    8    5   21    6   10    9   28    8\n",
      "    7    7    7   18    5   11   13   13   10    4   14    9    5    7\n",
      "    6    5    6    5    5    5    3   15    8    6    6]\n",
      "\n",
      "\n",
      "min_samples  5  eps:  0.5\n",
      "number of clusters: 35\n",
      "cluster sizes : [3249  104 2714   46  173  119  112   79   52   74    9   43   24   16\n",
      "   45   42   11   19   13    8    5    7    5   15    8   35    7   10\n",
      "   40    9    9   19    5   10    6]\n",
      "\n",
      "\n",
      "min_samples  5  eps:  1\n",
      "number of clusters: 32\n",
      "cluster sizes : [3249  144 2714   46  173  119  112   98   52   74    9   43   24   51\n",
      "   45   42   11   25   19    6    9   13    7    8    6   11    7   10\n",
      "    9    9    6    6]\n",
      "\n",
      "\n",
      "min_samples  10  eps:  0.1\n",
      "number of clusters: 30\n",
      "cluster sizes : [ 763  496  840  355 1084  676   63  306  560  134   30  262  128  331\n",
      "   22   22   13   32   37   35   11   16   13   28   13   30   11   13\n",
      "   14   15]\n",
      "\n",
      "\n",
      "min_samples  10  eps:  0.5\n",
      "number of clusters: 23\n",
      "cluster sizes : [3249  104 2714   46  173  119  112   79   52   74   43   24   45   42\n",
      "   16   13   17   10   15   34   40   19   10]\n",
      "\n",
      "\n",
      "min_samples  10  eps:  1\n",
      "number of clusters: 22\n",
      "cluster sizes : [3249  144 2714   46  173  119  112   98   52   74   43   24   51   45\n",
      "   42   11   19   13   10   15   11   10]\n",
      "\n",
      "\n",
      "min_samples  20  eps:  0.1\n",
      "number of clusters: 19\n",
      "cluster sizes : [ 763  496  840  355 1084  676   62  306  560  134  261  128  331   29\n",
      "   34   26   20   28   28]\n",
      "\n",
      "\n",
      "min_samples  20  eps:  0.5\n",
      "number of clusters: 16\n",
      "cluster sizes : [3249  104 2714   46  173  119  112   52   79   74   43   24   45   42\n",
      "   30   39]\n",
      "\n",
      "\n",
      "min_samples  20  eps:  1\n",
      "number of clusters: 15\n",
      "cluster sizes : [3249  144 2714   46  173  119  112   98   52   74   43   24   45   42\n",
      "   51]\n",
      "\n",
      "\n"
     ]
    }
   ],
   "source": [
    "for min_samples in [5, 10, 20]:\n",
    "    for eps in [0.1, 0.5, 1]:\n",
    "        db = DBSCAN(eps=eps, min_samples=min_samples, n_jobs=-1).fit(X_scaled) # maximum distance between two samples to 0.9\n",
    "\n",
    "        pred_labels = db.labels_\n",
    "        cluster_sizes = np.bincount(pred_labels[pred_labels>=0])\n",
    "        print('min_samples ', min_samples, ' eps: ', eps,)\n",
    "        print('number of clusters:', len(cluster_sizes))\n",
    "        print('cluster sizes :', cluster_sizes)\n",
    "        print('\\n')\n"
   ]
  },
  {
   "cell_type": "markdown",
   "metadata": {},
   "source": [
    "**Summary**\n",
    "* number of cluster decreases with min_sample increase or eps increase\n"
   ]
  },
  {
   "cell_type": "markdown",
   "metadata": {},
   "source": [
    "### Assessing smallest clusters\n",
    "without the pri knowledge, true label or human inspection, I don't know which setting I should select. Lets try min_samples=10, eps=0.5"
   ]
  },
  {
   "cell_type": "code",
   "execution_count": 251,
   "metadata": {},
   "outputs": [],
   "source": [
    "db = DBSCAN(eps=0.5, min_samples=10, n_jobs=-1).fit(X_scaled) # maximum distance between two samples to 0.9"
   ]
  },
  {
   "cell_type": "code",
   "execution_count": 252,
   "metadata": {},
   "outputs": [
    {
     "name": "stdout",
     "output_type": "stream",
     "text": [
      "cluster sizes: [3249  104 2714   46  173  119  112   79   52   74   43   24   45   42\n",
      "   16   13   17   10   15   34   40   19   10]\n",
      "number of bins is 23\n",
      "The smallest clusters are clusters: [22 17 15]\n",
      "Their counts are: [10 10 13]\n"
     ]
    }
   ],
   "source": [
    "pred_labels = db.labels_\n",
    "\n",
    "# Count observations in each cluster number\n",
    "cluster_sizes = np.bincount(pred_labels[pred_labels >= 0])  # bincount can only consider non negative number, we ignore the noise cluster\n",
    "\n",
    "print('cluster sizes:', cluster_sizes)\n",
    "print('number of bins is', len(cluster_sizes))\n",
    "\n",
    "# Sort the sample counts of the clusters and take the top 3 smallest clusters\n",
    "smallest_clusters = np.argsort(cluster_sizes)[:3]   # ascending order\n",
    "print(\"The smallest clusters are clusters:\", smallest_clusters)      \n",
    "\n",
    "# Print the counts of the smallest clusters only\n",
    "print(\"Their counts are:\", cluster_sizes[smallest_clusters])      "
   ]
  },
  {
   "cell_type": "code",
   "execution_count": 232,
   "metadata": {},
   "outputs": [
    {
     "name": "stdout",
     "output_type": "stream",
     "text": [
      "Flagged Fraud     0   1\n",
      "Actual Fraud           \n",
      "0              6961  23\n",
      "1               190  10\n",
      "              precision    recall  f1-score   support\n",
      "\n",
      "           0       0.97      1.00      0.98      6984\n",
      "           1       0.30      0.05      0.09       200\n",
      "\n",
      "    accuracy                           0.97      7184\n",
      "   macro avg       0.64      0.52      0.54      7184\n",
      "weighted avg       0.95      0.97      0.96      7184\n",
      "\n"
     ]
    }
   ],
   "source": [
    "# Create a dataframe of the predicted cluster numbers and fraud labels \n",
    "df = pd.DataFrame({'clusternr':pred_labels,'fraud':y})\n",
    "\n",
    "# Create a condition flagging fraud for the smallest clusters. \n",
    "df['predicted_fraud'] = np.where((df.clusternr == 22)|(df.clusternr == 17)|(df.clusternr == 15), 1 , 0)\n",
    "\n",
    "# Run a crosstab on the results \n",
    "print(pd.crosstab(df.fraud, df.predicted_fraud, rownames=['Actual Fraud'], colnames=['Flagged Fraud']))\n",
    "print(classification_report(df.fraud, df.predicted_fraud))"
   ]
  },
  {
   "cell_type": "markdown",
   "metadata": {},
   "source": [
    "**Summary**\n",
    "\n",
    "* The result is not ideal.  out of all flagged cases, only 30% are actually fraud. Since you only take the three smallest clusters, by definition you flag less cases of fraud, so you catch less. However, you are missing quite a lot of fraud cases. \n",
    "\n",
    "* If you were to take more of the smallest clusters, you cast your net wider and catch more fraud, but most likely also more false positives. It is up to the fraud analyst to find the right amount of cases to flag and to investigate."
   ]
  },
  {
   "cell_type": "markdown",
   "metadata": {},
   "source": [
    "### increase the amount of smallest clusters"
   ]
  },
  {
   "cell_type": "code",
   "execution_count": 233,
   "metadata": {},
   "outputs": [
    {
     "name": "stdout",
     "output_type": "stream",
     "text": [
      "The smallest clusters are clusters: [21 18 24 15 17]\n",
      "Their counts are: [10 10 11 11 13]\n"
     ]
    }
   ],
   "source": [
    "# Sort the sample counts of the clusters and take the top 3 smallest clusters\n",
    "smallest_clusters = np.argsort(counts)[:5]\n",
    "\n",
    "print(\"The smallest clusters are clusters:\", smallest_clusters)      \n",
    "print(\"Their counts are:\", counts[smallest_clusters])  \n"
   ]
  },
  {
   "cell_type": "code",
   "execution_count": 237,
   "metadata": {},
   "outputs": [
    {
     "name": "stdout",
     "output_type": "stream",
     "text": [
      "Flagged Fraud     0   1\n",
      "Actual Fraud           \n",
      "0              6961  23\n",
      "1               166  34\n",
      "              precision    recall  f1-score   support\n",
      "\n",
      "           0       0.98      1.00      0.99      6984\n",
      "           1       0.60      0.17      0.26       200\n",
      "\n",
      "    accuracy                           0.97      7184\n",
      "   macro avg       0.79      0.58      0.63      7184\n",
      "weighted avg       0.97      0.97      0.97      7184\n",
      "\n"
     ]
    }
   ],
   "source": [
    "df['predicted_fraud'] = np.where(df.clusternr.isin([21, 18, 24, 15, 17]) ,1 , 0)\n",
    "\n",
    "print(pd.crosstab(df.fraud, df.predicted_fraud, rownames=['Actual Fraud'], colnames=['Flagged Fraud']))\n",
    "\n",
    "print(classification_report(df.fraud, df.predicted_fraud))\n"
   ]
  },
  {
   "cell_type": "markdown",
   "metadata": {},
   "source": [
    "**Summary**\n",
    "\n",
    "* By increasing the number of smallest clusters, both precision and recall are increased. We catch more fraud cases and also decrease the false positive rate. However, if I select the 10 smallest cluster, the precision is 0.38 and the recall is 0.34. precision is increased but recall is decreased"
   ]
  },
  {
   "cell_type": "markdown",
   "metadata": {},
   "source": [
    "## summary: \n",
    "\n",
    "* in the experiments above, Kmean has  higher recall and less precision  than DBSCAN. But it dosen't mean that one is better than the other because \n",
    "\n",
    "* (1) we didn't tune the DBSCAN much based on the lable.\n",
    "\n",
    "* (2) In reality, you often don't have reliable labels and this where a fraud analyst can help you validate the results. He/She can check your results and see whether the cases you flagged are indeed suspicious. You can also check historically known cases of fraud and see whether your model flags them."
   ]
  },
  {
   "cell_type": "markdown",
   "metadata": {},
   "source": [
    "# reference"
   ]
  },
  {
   "cell_type": "markdown",
   "metadata": {},
   "source": [
    "* https://campus.datacamp.com/courses/fraud-detection-in-python/\n",
    "* Introduction to Machine Learning with Python by Sarah Guido, Andreas C. Müller, Publisher: O'Reilly Media, Inc., Release Date: October 2016, ISBN: 9781449369880\n",
    "    "
   ]
  }
 ],
 "metadata": {
  "kernelspec": {
   "display_name": "Python 3",
   "language": "python",
   "name": "python3"
  },
  "language_info": {
   "codemirror_mode": {
    "name": "ipython",
    "version": 3
   },
   "file_extension": ".py",
   "mimetype": "text/x-python",
   "name": "python",
   "nbconvert_exporter": "python",
   "pygments_lexer": "ipython3",
   "version": "3.7.3"
  }
 },
 "nbformat": 4,
 "nbformat_minor": 2
}
