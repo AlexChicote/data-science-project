{
 "cells": [
  {
   "cell_type": "markdown",
   "metadata": {},
   "source": [
    "### This workbook is about building a predictive model for titanic data - a classic classification problem\n",
    "\n",
    "The structure of this workbook:\n",
    "\n",
    "1. Get the data\n",
    "2. Analysis\n",
    "3. Wrangle data\n",
    "4. Model training\n",
    "5. Try different engineering features\n",
    "6. Submission\n",
    "7. References\n",
    "\n"
   ]
  },
  {
   "cell_type": "code",
   "execution_count": 2,
   "metadata": {},
   "outputs": [
    {
     "name": "stderr",
     "output_type": "stream",
     "text": [
      "c:\\program files\\python37\\lib\\site-packages\\sklearn\\externals\\six.py:31: DeprecationWarning: The module is deprecated in version 0.21 and will be removed in version 0.23 since we've dropped support for Python 2.7. Please rely on the official version of six (https://pypi.org/project/six/).\n",
      "  \"(https://pypi.org/project/six/).\", DeprecationWarning)\n",
      "c:\\program files\\python37\\lib\\site-packages\\sklearn\\externals\\joblib\\__init__.py:15: DeprecationWarning: sklearn.externals.joblib is deprecated in 0.21 and will be removed in 0.23. Please import this functionality directly from joblib, which can be installed with: pip install joblib. If this warning is raised when loading pickled models, you may need to re-serialize those models with scikit-learn 0.21+.\n",
      "  warnings.warn(msg, category=DeprecationWarning)\n"
     ]
    }
   ],
   "source": [
    "from datetime import datetime\n",
    "from typing import List, Dict\n",
    "import re\n",
    "from typing import List, Tuple\n",
    "\n",
    "import pandas as pd\n",
    "import numpy as np\n",
    "import seaborn as sns\n",
    "import matplotlib.pyplot as plt\n",
    "import mglearn\n",
    "\n",
    "import sklearn\n",
    "from sklearn.model_selection import train_test_split, GridSearchCV, KFold, cross_val_score, RandomizedSearchCV\n",
    "#from sklearn.utils.fixes import signature\n",
    "from inspect import signature\n",
    "from sklearn.metrics import confusion_matrix, classification_report, accuracy_score, recall_score, precision_recall_curve, \\\n",
    "roc_auc_score, average_precision_score, mean_absolute_error, mean_squared_error, precision_score, make_scorer, f1_score,\\\n",
    "roc_curve, auc\n",
    "\n",
    "from sklearn.linear_model import LogisticRegression\n",
    "from sklearn.decomposition import PCA\n",
    "from sklearn.datasets import make_classification\n",
    "from sklearn.ensemble import RandomForestClassifier, VotingClassifier, RandomForestRegressor\n",
    "from sklearn.tree import DecisionTreeClassifier\n",
    "\n",
    "from imblearn.over_sampling import RandomOverSampler, SMOTE\n",
    "from imblearn.pipeline import Pipeline \n",
    "from sklearn.preprocessing import StandardScaler, RobustScaler"
   ]
  },
  {
   "cell_type": "markdown",
   "metadata": {},
   "source": [
    "# 1. Get the data"
   ]
  },
  {
   "cell_type": "code",
   "execution_count": 3,
   "metadata": {},
   "outputs": [],
   "source": [
    "DIR = r\"D:\\OneDrive - insidemedia.net\\project\\data-science-project\\classification\\titanic\\titanic\"\n",
    "df_train = pd.read_csv(DIR + '/' + 'train.csv')\n",
    "df_test = pd.read_csv(DIR + '/' + 'test.csv')\n",
    "df_combine = [df_train, df_test]"
   ]
  },
  {
   "cell_type": "code",
   "execution_count": null,
   "metadata": {},
   "outputs": [],
   "source": []
  },
  {
   "cell_type": "markdown",
   "metadata": {},
   "source": [
    "# 2. Analysis"
   ]
  },
  {
   "cell_type": "markdown",
   "metadata": {},
   "source": [
    "### (1) Overview of all features"
   ]
  },
  {
   "cell_type": "code",
   "execution_count": 4,
   "metadata": {},
   "outputs": [
    {
     "name": "stdout",
     "output_type": "stream",
     "text": [
      "<class 'pandas.core.frame.DataFrame'>\n",
      "RangeIndex: 891 entries, 0 to 890\n",
      "Data columns (total 12 columns):\n",
      "PassengerId    891 non-null int64\n",
      "Survived       891 non-null int64\n",
      "Pclass         891 non-null int64\n",
      "Name           891 non-null object\n",
      "Sex            891 non-null object\n",
      "Age            714 non-null float64\n",
      "SibSp          891 non-null int64\n",
      "Parch          891 non-null int64\n",
      "Ticket         891 non-null object\n",
      "Fare           891 non-null float64\n",
      "Cabin          204 non-null object\n",
      "Embarked       889 non-null object\n",
      "dtypes: float64(2), int64(5), object(5)\n",
      "memory usage: 83.6+ KB\n",
      "None \n",
      "\n"
     ]
    },
    {
     "data": {
      "text/html": [
       "<div>\n",
       "<style scoped>\n",
       "    .dataframe tbody tr th:only-of-type {\n",
       "        vertical-align: middle;\n",
       "    }\n",
       "\n",
       "    .dataframe tbody tr th {\n",
       "        vertical-align: top;\n",
       "    }\n",
       "\n",
       "    .dataframe thead th {\n",
       "        text-align: right;\n",
       "    }\n",
       "</style>\n",
       "<table border=\"1\" class=\"dataframe\">\n",
       "  <thead>\n",
       "    <tr style=\"text-align: right;\">\n",
       "      <th></th>\n",
       "      <th>PassengerId</th>\n",
       "      <th>Survived</th>\n",
       "      <th>Pclass</th>\n",
       "      <th>Name</th>\n",
       "      <th>Sex</th>\n",
       "      <th>Age</th>\n",
       "      <th>SibSp</th>\n",
       "      <th>Parch</th>\n",
       "      <th>Ticket</th>\n",
       "      <th>Fare</th>\n",
       "      <th>Cabin</th>\n",
       "      <th>Embarked</th>\n",
       "    </tr>\n",
       "  </thead>\n",
       "  <tbody>\n",
       "    <tr>\n",
       "      <th>0</th>\n",
       "      <td>1</td>\n",
       "      <td>0</td>\n",
       "      <td>3</td>\n",
       "      <td>Braund, Mr. Owen Harris</td>\n",
       "      <td>male</td>\n",
       "      <td>22.0</td>\n",
       "      <td>1</td>\n",
       "      <td>0</td>\n",
       "      <td>A/5 21171</td>\n",
       "      <td>7.2500</td>\n",
       "      <td>NaN</td>\n",
       "      <td>S</td>\n",
       "    </tr>\n",
       "    <tr>\n",
       "      <th>1</th>\n",
       "      <td>2</td>\n",
       "      <td>1</td>\n",
       "      <td>1</td>\n",
       "      <td>Cumings, Mrs. John Bradley (Florence Briggs Th...</td>\n",
       "      <td>female</td>\n",
       "      <td>38.0</td>\n",
       "      <td>1</td>\n",
       "      <td>0</td>\n",
       "      <td>PC 17599</td>\n",
       "      <td>71.2833</td>\n",
       "      <td>C85</td>\n",
       "      <td>C</td>\n",
       "    </tr>\n",
       "    <tr>\n",
       "      <th>2</th>\n",
       "      <td>3</td>\n",
       "      <td>1</td>\n",
       "      <td>3</td>\n",
       "      <td>Heikkinen, Miss. Laina</td>\n",
       "      <td>female</td>\n",
       "      <td>26.0</td>\n",
       "      <td>0</td>\n",
       "      <td>0</td>\n",
       "      <td>STON/O2. 3101282</td>\n",
       "      <td>7.9250</td>\n",
       "      <td>NaN</td>\n",
       "      <td>S</td>\n",
       "    </tr>\n",
       "    <tr>\n",
       "      <th>3</th>\n",
       "      <td>4</td>\n",
       "      <td>1</td>\n",
       "      <td>1</td>\n",
       "      <td>Futrelle, Mrs. Jacques Heath (Lily May Peel)</td>\n",
       "      <td>female</td>\n",
       "      <td>35.0</td>\n",
       "      <td>1</td>\n",
       "      <td>0</td>\n",
       "      <td>113803</td>\n",
       "      <td>53.1000</td>\n",
       "      <td>C123</td>\n",
       "      <td>S</td>\n",
       "    </tr>\n",
       "    <tr>\n",
       "      <th>4</th>\n",
       "      <td>5</td>\n",
       "      <td>0</td>\n",
       "      <td>3</td>\n",
       "      <td>Allen, Mr. William Henry</td>\n",
       "      <td>male</td>\n",
       "      <td>35.0</td>\n",
       "      <td>0</td>\n",
       "      <td>0</td>\n",
       "      <td>373450</td>\n",
       "      <td>8.0500</td>\n",
       "      <td>NaN</td>\n",
       "      <td>S</td>\n",
       "    </tr>\n",
       "  </tbody>\n",
       "</table>\n",
       "</div>"
      ],
      "text/plain": [
       "   PassengerId  Survived  Pclass  \\\n",
       "0            1         0       3   \n",
       "1            2         1       1   \n",
       "2            3         1       3   \n",
       "3            4         1       1   \n",
       "4            5         0       3   \n",
       "\n",
       "                                                Name     Sex   Age  SibSp  \\\n",
       "0                            Braund, Mr. Owen Harris    male  22.0      1   \n",
       "1  Cumings, Mrs. John Bradley (Florence Briggs Th...  female  38.0      1   \n",
       "2                             Heikkinen, Miss. Laina  female  26.0      0   \n",
       "3       Futrelle, Mrs. Jacques Heath (Lily May Peel)  female  35.0      1   \n",
       "4                           Allen, Mr. William Henry    male  35.0      0   \n",
       "\n",
       "   Parch            Ticket     Fare Cabin Embarked  \n",
       "0      0         A/5 21171   7.2500   NaN        S  \n",
       "1      0          PC 17599  71.2833   C85        C  \n",
       "2      0  STON/O2. 3101282   7.9250   NaN        S  \n",
       "3      0            113803  53.1000  C123        S  \n",
       "4      0            373450   8.0500   NaN        S  "
      ]
     },
     "execution_count": 4,
     "metadata": {},
     "output_type": "execute_result"
    }
   ],
   "source": [
    "# identify different data type of the variables. check numerical variable and categorical variables\n",
    "\n",
    "print(df_train.info(), '\\n')\n",
    "df_train.head(5)"
   ]
  },
  {
   "cell_type": "code",
   "execution_count": 5,
   "metadata": {
    "scrolled": true
   },
   "outputs": [
    {
     "name": "stdout",
     "output_type": "stream",
     "text": [
      "PassengerId\n",
      "891    1\n",
      "293    1\n",
      "304    1\n",
      "303    1\n",
      "302    1\n",
      "301    1\n",
      "300    1\n",
      "299    1\n",
      "298    1\n",
      "297    1\n",
      "296    1\n",
      "295    1\n",
      "294    1\n",
      "292    1\n",
      "306    1\n",
      "291    1\n",
      "290    1\n",
      "289    1\n",
      "288    1\n",
      "287    1\n",
      "286    1\n",
      "285    1\n",
      "284    1\n",
      "283    1\n",
      "282    1\n",
      "281    1\n",
      "305    1\n",
      "307    1\n",
      "279    1\n",
      "321    1\n",
      "      ..\n",
      "561    1\n",
      "560    1\n",
      "584    1\n",
      "585    1\n",
      "586    1\n",
      "587    1\n",
      "610    1\n",
      "609    1\n",
      "608    1\n",
      "607    1\n",
      "606    1\n",
      "605    1\n",
      "604    1\n",
      "603    1\n",
      "602    1\n",
      "601    1\n",
      "600    1\n",
      "599    1\n",
      "598    1\n",
      "597    1\n",
      "596    1\n",
      "595    1\n",
      "594    1\n",
      "593    1\n",
      "592    1\n",
      "591    1\n",
      "590    1\n",
      "589    1\n",
      "588    1\n",
      "1      1\n",
      "Name: PassengerId, Length: 891, dtype: int64\n",
      "\n",
      "\n",
      "Survived\n",
      "0    549\n",
      "1    342\n",
      "Name: Survived, dtype: int64\n",
      "\n",
      "\n",
      "Pclass\n",
      "3    491\n",
      "1    216\n",
      "2    184\n",
      "Name: Pclass, dtype: int64\n",
      "\n",
      "\n",
      "Name\n",
      "Cameron, Miss. Clear Annie                             1\n",
      "Radeff, Mr. Alexander                                  1\n",
      "Goodwin, Master. William Frederick                     1\n",
      "Bing, Mr. Lee                                          1\n",
      "Skoog, Master. Karl Thorsten                           1\n",
      "Andersson, Miss. Ebba Iris Alfrida                     1\n",
      "Morley, Mr. William                                    1\n",
      "Panula, Mrs. Juha (Maria Emilia Ojala)                 1\n",
      "Vestrom, Miss. Hulda Amanda Adolfina                   1\n",
      "Calic, Mr. Jovo                                        1\n",
      "Rush, Mr. Alfred George John                           1\n",
      "Abelson, Mr. Samuel                                    1\n",
      "Sage, Mr. George John Jr                               1\n",
      "Partner, Mr. Austen                                    1\n",
      "Beane, Mrs. Edward (Ethel Clarke)                      1\n",
      "Rood, Mr. Hugh Roscoe                                  1\n",
      "Ryerson, Miss. Emily Borie                             1\n",
      "Olsen, Mr. Ole Martin                                  1\n",
      "Risien, Mr. Samuel Beard                               1\n",
      "Connolly, Miss. Kate                                   1\n",
      "Lefebre, Miss. Ida                                     1\n",
      "Hoyt, Mr. William Fisher                               1\n",
      "Bowerman, Miss. Elsie Edith                            1\n",
      "Chambers, Mrs. Norman Campbell (Bertha Griggs)         1\n",
      "Laroche, Miss. Simonne Marie Anne Andree               1\n",
      "Gilnagh, Miss. Katherine \"Katie\"                       1\n",
      "Goodwin, Miss. Lillian Amy                             1\n",
      "Levy, Mr. Rene Jacques                                 1\n",
      "Douglas, Mr. Walter Donald                             1\n",
      "Andrew, Mr. Edgardo Samuel                             1\n",
      "                                                      ..\n",
      "O'Leary, Miss. Hanora \"Norah\"                          1\n",
      "Kraeff, Mr. Theodor                                    1\n",
      "Hocking, Mrs. Elizabeth (Eliza Needs)                  1\n",
      "Alhomaki, Mr. Ilmari Rudolf                            1\n",
      "Gustafsson, Mr. Johan Birger                           1\n",
      "Gilinski, Mr. Eliezer                                  1\n",
      "Ford, Miss. Doolina Margaret \"Daisy\"                   1\n",
      "Daly, Mr. Eugene Patrick                               1\n",
      "Boulos, Mr. Hanna                                      1\n",
      "Myhrman, Mr. Pehr Fabian Oliver Malkolm                1\n",
      "Gallagher, Mr. Martin                                  1\n",
      "Taussig, Miss. Ruth                                    1\n",
      "Pernot, Mr. Rene                                       1\n",
      "Richard, Mr. Emile                                     1\n",
      "Augustsson, Mr. Albert                                 1\n",
      "Najib, Miss. Adele Kiamie \"Jane\"                       1\n",
      "Lovell, Mr. John Hall (\"Henry\")                        1\n",
      "Pengelly, Mr. Frederick William                        1\n",
      "Hays, Mrs. Charles Melville (Clara Jennings Gregg)     1\n",
      "Cleaver, Miss. Alice                                   1\n",
      "Sandstrom, Mrs. Hjalmar (Agnes Charlotta Bengtsson)    1\n",
      "Larsson, Mr. Bengt Edvin                               1\n",
      "Dooley, Mr. Patrick                                    1\n",
      "Bateman, Rev. Robert James                             1\n",
      "Rice, Master. George Hugh                              1\n",
      "Appleton, Mrs. Edward Dale (Charlotte Lamson)          1\n",
      "Hansen, Mr. Henry Damsgaard                            1\n",
      "Goldenberg, Mrs. Samuel L (Edwiga Grabowska)           1\n",
      "Hampe, Mr. Leon                                        1\n",
      "Christmann, Mr. Emil                                   1\n",
      "Name: Name, Length: 891, dtype: int64\n",
      "\n",
      "\n",
      "Sex\n",
      "male      577\n",
      "female    314\n",
      "Name: Sex, dtype: int64\n",
      "\n",
      "\n",
      "Age\n",
      "24.00    30\n",
      "22.00    27\n",
      "18.00    26\n",
      "19.00    25\n",
      "30.00    25\n",
      "28.00    25\n",
      "21.00    24\n",
      "25.00    23\n",
      "36.00    22\n",
      "29.00    20\n",
      "32.00    18\n",
      "27.00    18\n",
      "35.00    18\n",
      "26.00    18\n",
      "16.00    17\n",
      "31.00    17\n",
      "20.00    15\n",
      "33.00    15\n",
      "23.00    15\n",
      "34.00    15\n",
      "39.00    14\n",
      "17.00    13\n",
      "42.00    13\n",
      "40.00    13\n",
      "45.00    12\n",
      "38.00    11\n",
      "50.00    10\n",
      "2.00     10\n",
      "4.00     10\n",
      "47.00     9\n",
      "         ..\n",
      "71.00     2\n",
      "59.00     2\n",
      "63.00     2\n",
      "0.83      2\n",
      "30.50     2\n",
      "70.00     2\n",
      "57.00     2\n",
      "0.75      2\n",
      "13.00     2\n",
      "10.00     2\n",
      "64.00     2\n",
      "40.50     2\n",
      "32.50     2\n",
      "45.50     2\n",
      "20.50     1\n",
      "24.50     1\n",
      "0.67      1\n",
      "14.50     1\n",
      "0.92      1\n",
      "74.00     1\n",
      "34.50     1\n",
      "80.00     1\n",
      "12.00     1\n",
      "36.50     1\n",
      "53.00     1\n",
      "55.50     1\n",
      "70.50     1\n",
      "66.00     1\n",
      "23.50     1\n",
      "0.42      1\n",
      "Name: Age, Length: 88, dtype: int64\n",
      "\n",
      "\n",
      "SibSp\n",
      "0    608\n",
      "1    209\n",
      "2     28\n",
      "4     18\n",
      "3     16\n",
      "8      7\n",
      "5      5\n",
      "Name: SibSp, dtype: int64\n",
      "\n",
      "\n",
      "Parch\n",
      "0    678\n",
      "1    118\n",
      "2     80\n",
      "5      5\n",
      "3      5\n",
      "4      4\n",
      "6      1\n",
      "Name: Parch, dtype: int64\n",
      "\n",
      "\n",
      "Ticket\n",
      "1601             7\n",
      "CA. 2343         7\n",
      "347082           7\n",
      "347088           6\n",
      "CA 2144          6\n",
      "3101295          6\n",
      "S.O.C. 14879     5\n",
      "382652           5\n",
      "347077           4\n",
      "17421            4\n",
      "113781           4\n",
      "PC 17757         4\n",
      "349909           4\n",
      "2666             4\n",
      "LINE             4\n",
      "W./C. 6608       4\n",
      "19950            4\n",
      "4133             4\n",
      "113760           4\n",
      "239853           3\n",
      "24160            3\n",
      "110413           3\n",
      "248727           3\n",
      "PC 17760         3\n",
      "F.C.C. 13529     3\n",
      "PC 17572         3\n",
      "230080           3\n",
      "PC 17582         3\n",
      "29106            3\n",
      "371110           3\n",
      "                ..\n",
      "349205           1\n",
      "349228           1\n",
      "27849            1\n",
      "111426           1\n",
      "250652           1\n",
      "11753            1\n",
      "374746           1\n",
      "330877           1\n",
      "113807           1\n",
      "A/5 3536         1\n",
      "113056           1\n",
      "13509            1\n",
      "3101265          1\n",
      "11813            1\n",
      "345364           1\n",
      "349208           1\n",
      "330932           1\n",
      "315089           1\n",
      "349240           1\n",
      "239855           1\n",
      "113501           1\n",
      "C.A. 33595       1\n",
      "SC/Paris 2163    1\n",
      "345774           1\n",
      "3411             1\n",
      "26707            1\n",
      "350048           1\n",
      "349204           1\n",
      "7598             1\n",
      "2693             1\n",
      "Name: Ticket, Length: 681, dtype: int64\n",
      "\n",
      "\n",
      "Fare\n",
      "8.0500      43\n",
      "13.0000     42\n",
      "7.8958      38\n",
      "7.7500      34\n",
      "26.0000     31\n",
      "10.5000     24\n",
      "7.9250      18\n",
      "7.7750      16\n",
      "26.5500     15\n",
      "0.0000      15\n",
      "7.2292      15\n",
      "7.8542      13\n",
      "8.6625      13\n",
      "7.2500      13\n",
      "7.2250      12\n",
      "16.1000      9\n",
      "9.5000       9\n",
      "24.1500      8\n",
      "15.5000      8\n",
      "56.4958      7\n",
      "52.0000      7\n",
      "14.5000      7\n",
      "14.4542      7\n",
      "69.5500      7\n",
      "7.0500       7\n",
      "31.2750      7\n",
      "46.9000      6\n",
      "30.0000      6\n",
      "7.7958       6\n",
      "39.6875      6\n",
      "            ..\n",
      "7.1417       1\n",
      "42.4000      1\n",
      "211.5000     1\n",
      "12.2750      1\n",
      "61.1750      1\n",
      "8.4333       1\n",
      "51.4792      1\n",
      "7.8875       1\n",
      "8.6833       1\n",
      "7.5208       1\n",
      "34.6542      1\n",
      "28.7125      1\n",
      "25.5875      1\n",
      "7.7292       1\n",
      "12.2875      1\n",
      "8.6542       1\n",
      "8.7125       1\n",
      "61.3792      1\n",
      "6.9500       1\n",
      "9.8417       1\n",
      "8.3000       1\n",
      "13.7917      1\n",
      "9.4750       1\n",
      "13.4167      1\n",
      "26.3875      1\n",
      "8.4583       1\n",
      "9.8375       1\n",
      "8.3625       1\n",
      "14.1083      1\n",
      "17.4000      1\n",
      "Name: Fare, Length: 248, dtype: int64\n",
      "\n",
      "\n",
      "Cabin\n",
      "G6                 4\n",
      "C23 C25 C27        4\n",
      "B96 B98            4\n",
      "F33                3\n",
      "F2                 3\n",
      "C22 C26            3\n",
      "D                  3\n",
      "E101               3\n",
      "D33                2\n",
      "B5                 2\n",
      "B18                2\n",
      "C52                2\n",
      "C93                2\n",
      "E67                2\n",
      "E44                2\n",
      "C124               2\n",
      "C65                2\n",
      "B77                2\n",
      "C126               2\n",
      "B58 B60            2\n",
      "F G73              2\n",
      "E8                 2\n",
      "C68                2\n",
      "C125               2\n",
      "B49                2\n",
      "C83                2\n",
      "D17                2\n",
      "B57 B59 B63 B66    2\n",
      "F4                 2\n",
      "B35                2\n",
      "                  ..\n",
      "D6                 1\n",
      "A31                1\n",
      "A23                1\n",
      "C106               1\n",
      "C104               1\n",
      "F38                1\n",
      "E10                1\n",
      "C95                1\n",
      "A19                1\n",
      "D49                1\n",
      "C85                1\n",
      "B94                1\n",
      "C46                1\n",
      "B50                1\n",
      "C87                1\n",
      "C110               1\n",
      "E50                1\n",
      "E38                1\n",
      "C49                1\n",
      "E58                1\n",
      "B79                1\n",
      "C62 C64            1\n",
      "B69                1\n",
      "D30                1\n",
      "D48                1\n",
      "D56                1\n",
      "B102               1\n",
      "B73                1\n",
      "B78                1\n",
      "E36                1\n",
      "Name: Cabin, Length: 147, dtype: int64\n",
      "\n",
      "\n",
      "Embarked\n",
      "S    644\n",
      "C    168\n",
      "Q     77\n",
      "Name: Embarked, dtype: int64\n",
      "\n",
      "\n"
     ]
    }
   ],
   "source": [
    "# look at the values in all variables. we can potentially know some values in the categorical variable might need to be adjusted.\n",
    "\n",
    "for j in range(df_train.shape[1]):\n",
    "    print(df_train.columns[j])\n",
    "    print(df_train.iloc[:, j].value_counts())\n",
    "    print('\\n')"
   ]
  },
  {
   "cell_type": "code",
   "execution_count": 6,
   "metadata": {},
   "outputs": [
    {
     "data": {
      "text/plain": [
       "{'PassengerId': 0.0,\n",
       " 'Survived': 0.0,\n",
       " 'Pclass': 0.0,\n",
       " 'Name': 0.0,\n",
       " 'Sex': 0.0,\n",
       " 'Age': 0.19865319865319866,\n",
       " 'SibSp': 0.0,\n",
       " 'Parch': 0.0,\n",
       " 'Ticket': 0.0,\n",
       " 'Fare': 0.0,\n",
       " 'Cabin': 0.7710437710437711,\n",
       " 'Embarked': 0.002244668911335578}"
      ]
     },
     "execution_count": 6,
     "metadata": {},
     "output_type": "execute_result"
    }
   ],
   "source": [
    "# missing values\n",
    "\n",
    "def missing_percent(df: pd.DataFrame) -> Dict:\n",
    "    \"\"\"Calculate the percentage of the missing data in each columns\"\"\"\n",
    "    percent = {}\n",
    "    for column_name in list(df.columns):\n",
    "        percent[column_name] = sum(df[column_name].isnull()) / len(df[column_name])\n",
    "    return percent\n",
    "\n",
    "percent = missing_percent(df_train)\n",
    "percent \n"
   ]
  },
  {
   "cell_type": "code",
   "execution_count": 7,
   "metadata": {},
   "outputs": [
    {
     "data": {
      "text/plain": [
       "{'PassengerId': 0.0,\n",
       " 'Pclass': 0.0,\n",
       " 'Name': 0.0,\n",
       " 'Sex': 0.0,\n",
       " 'Age': 0.20574162679425836,\n",
       " 'SibSp': 0.0,\n",
       " 'Parch': 0.0,\n",
       " 'Ticket': 0.0,\n",
       " 'Fare': 0.0023923444976076554,\n",
       " 'Cabin': 0.7822966507177034,\n",
       " 'Embarked': 0.0}"
      ]
     },
     "execution_count": 7,
     "metadata": {},
     "output_type": "execute_result"
    }
   ],
   "source": [
    "percent = missing_percent(df_test)\n",
    "percent "
   ]
  },
  {
   "cell_type": "markdown",
   "metadata": {},
   "source": [
    "### (2) Analyze numerical variables "
   ]
  },
  {
   "cell_type": "code",
   "execution_count": 8,
   "metadata": {},
   "outputs": [
    {
     "data": {
      "text/html": [
       "<div>\n",
       "<style scoped>\n",
       "    .dataframe tbody tr th:only-of-type {\n",
       "        vertical-align: middle;\n",
       "    }\n",
       "\n",
       "    .dataframe tbody tr th {\n",
       "        vertical-align: top;\n",
       "    }\n",
       "\n",
       "    .dataframe thead th {\n",
       "        text-align: right;\n",
       "    }\n",
       "</style>\n",
       "<table border=\"1\" class=\"dataframe\">\n",
       "  <thead>\n",
       "    <tr style=\"text-align: right;\">\n",
       "      <th></th>\n",
       "      <th>PassengerId</th>\n",
       "      <th>Survived</th>\n",
       "      <th>Pclass</th>\n",
       "      <th>Age</th>\n",
       "      <th>SibSp</th>\n",
       "      <th>Parch</th>\n",
       "      <th>Fare</th>\n",
       "    </tr>\n",
       "  </thead>\n",
       "  <tbody>\n",
       "    <tr>\n",
       "      <th>count</th>\n",
       "      <td>891.000000</td>\n",
       "      <td>891.000000</td>\n",
       "      <td>891.000000</td>\n",
       "      <td>714.000000</td>\n",
       "      <td>891.000000</td>\n",
       "      <td>891.000000</td>\n",
       "      <td>891.000000</td>\n",
       "    </tr>\n",
       "    <tr>\n",
       "      <th>mean</th>\n",
       "      <td>446.000000</td>\n",
       "      <td>0.383838</td>\n",
       "      <td>2.308642</td>\n",
       "      <td>29.699118</td>\n",
       "      <td>0.523008</td>\n",
       "      <td>0.381594</td>\n",
       "      <td>32.204208</td>\n",
       "    </tr>\n",
       "    <tr>\n",
       "      <th>std</th>\n",
       "      <td>257.353842</td>\n",
       "      <td>0.486592</td>\n",
       "      <td>0.836071</td>\n",
       "      <td>14.526497</td>\n",
       "      <td>1.102743</td>\n",
       "      <td>0.806057</td>\n",
       "      <td>49.693429</td>\n",
       "    </tr>\n",
       "    <tr>\n",
       "      <th>min</th>\n",
       "      <td>1.000000</td>\n",
       "      <td>0.000000</td>\n",
       "      <td>1.000000</td>\n",
       "      <td>0.420000</td>\n",
       "      <td>0.000000</td>\n",
       "      <td>0.000000</td>\n",
       "      <td>0.000000</td>\n",
       "    </tr>\n",
       "    <tr>\n",
       "      <th>25%</th>\n",
       "      <td>223.500000</td>\n",
       "      <td>0.000000</td>\n",
       "      <td>2.000000</td>\n",
       "      <td>20.125000</td>\n",
       "      <td>0.000000</td>\n",
       "      <td>0.000000</td>\n",
       "      <td>7.910400</td>\n",
       "    </tr>\n",
       "    <tr>\n",
       "      <th>50%</th>\n",
       "      <td>446.000000</td>\n",
       "      <td>0.000000</td>\n",
       "      <td>3.000000</td>\n",
       "      <td>28.000000</td>\n",
       "      <td>0.000000</td>\n",
       "      <td>0.000000</td>\n",
       "      <td>14.454200</td>\n",
       "    </tr>\n",
       "    <tr>\n",
       "      <th>75%</th>\n",
       "      <td>668.500000</td>\n",
       "      <td>1.000000</td>\n",
       "      <td>3.000000</td>\n",
       "      <td>38.000000</td>\n",
       "      <td>1.000000</td>\n",
       "      <td>0.000000</td>\n",
       "      <td>31.000000</td>\n",
       "    </tr>\n",
       "    <tr>\n",
       "      <th>max</th>\n",
       "      <td>891.000000</td>\n",
       "      <td>1.000000</td>\n",
       "      <td>3.000000</td>\n",
       "      <td>80.000000</td>\n",
       "      <td>8.000000</td>\n",
       "      <td>6.000000</td>\n",
       "      <td>512.329200</td>\n",
       "    </tr>\n",
       "  </tbody>\n",
       "</table>\n",
       "</div>"
      ],
      "text/plain": [
       "       PassengerId    Survived      Pclass         Age       SibSp  \\\n",
       "count   891.000000  891.000000  891.000000  714.000000  891.000000   \n",
       "mean    446.000000    0.383838    2.308642   29.699118    0.523008   \n",
       "std     257.353842    0.486592    0.836071   14.526497    1.102743   \n",
       "min       1.000000    0.000000    1.000000    0.420000    0.000000   \n",
       "25%     223.500000    0.000000    2.000000   20.125000    0.000000   \n",
       "50%     446.000000    0.000000    3.000000   28.000000    0.000000   \n",
       "75%     668.500000    1.000000    3.000000   38.000000    1.000000   \n",
       "max     891.000000    1.000000    3.000000   80.000000    8.000000   \n",
       "\n",
       "            Parch        Fare  \n",
       "count  891.000000  891.000000  \n",
       "mean     0.381594   32.204208  \n",
       "std      0.806057   49.693429  \n",
       "min      0.000000    0.000000  \n",
       "25%      0.000000    7.910400  \n",
       "50%      0.000000   14.454200  \n",
       "75%      0.000000   31.000000  \n",
       "max      6.000000  512.329200  "
      ]
     },
     "execution_count": 8,
     "metadata": {},
     "output_type": "execute_result"
    }
   ],
   "source": [
    "# descriptive analysis of the numerical variables\n",
    "\n",
    "df_train.describe()"
   ]
  },
  {
   "cell_type": "code",
   "execution_count": 9,
   "metadata": {},
   "outputs": [],
   "source": [
    "# plot the distribution\n",
    "\n",
    "def plot_numeric(df, feature_list):\n",
    "    fig, axis = plt.subplots(1, len(feature_list), figsize=(16, 4))\n",
    "    for i in range(len(feature_list)):\n",
    "        df[feature_list[i]].plot.hist(ax=axis[i])\n",
    "        axis[i].set_title(feature_list[i])"
   ]
  },
  {
   "cell_type": "code",
   "execution_count": 10,
   "metadata": {},
   "outputs": [
    {
     "data": {
      "image/png": "[encoded data removed]",
      "text/plain": [
       "<Figure size 1152x288 with 4 Axes>"
      ]
     },
     "metadata": {
      "needs_background": "light"
     },
     "output_type": "display_data"
    }
   ],
   "source": [
    "feature_list = ['Age', 'SibSp', 'Parch', 'Fare']\n",
    "plot_numeric(df_train, feature_list)"
   ]
  },
  {
   "cell_type": "markdown",
   "metadata": {},
   "source": [
    "### (3) Analyze categorical variables"
   ]
  },
  {
   "cell_type": "code",
   "execution_count": 11,
   "metadata": {},
   "outputs": [
    {
     "data": {
      "text/html": [
       "<div>\n",
       "<style scoped>\n",
       "    .dataframe tbody tr th:only-of-type {\n",
       "        vertical-align: middle;\n",
       "    }\n",
       "\n",
       "    .dataframe tbody tr th {\n",
       "        vertical-align: top;\n",
       "    }\n",
       "\n",
       "    .dataframe thead th {\n",
       "        text-align: right;\n",
       "    }\n",
       "</style>\n",
       "<table border=\"1\" class=\"dataframe\">\n",
       "  <thead>\n",
       "    <tr style=\"text-align: right;\">\n",
       "      <th></th>\n",
       "      <th>Name</th>\n",
       "      <th>Sex</th>\n",
       "      <th>Ticket</th>\n",
       "      <th>Cabin</th>\n",
       "      <th>Embarked</th>\n",
       "    </tr>\n",
       "  </thead>\n",
       "  <tbody>\n",
       "    <tr>\n",
       "      <th>count</th>\n",
       "      <td>891</td>\n",
       "      <td>891</td>\n",
       "      <td>891</td>\n",
       "      <td>204</td>\n",
       "      <td>889</td>\n",
       "    </tr>\n",
       "    <tr>\n",
       "      <th>unique</th>\n",
       "      <td>891</td>\n",
       "      <td>2</td>\n",
       "      <td>681</td>\n",
       "      <td>147</td>\n",
       "      <td>3</td>\n",
       "    </tr>\n",
       "    <tr>\n",
       "      <th>top</th>\n",
       "      <td>Cameron, Miss. Clear Annie</td>\n",
       "      <td>male</td>\n",
       "      <td>1601</td>\n",
       "      <td>G6</td>\n",
       "      <td>S</td>\n",
       "    </tr>\n",
       "    <tr>\n",
       "      <th>freq</th>\n",
       "      <td>1</td>\n",
       "      <td>577</td>\n",
       "      <td>7</td>\n",
       "      <td>4</td>\n",
       "      <td>644</td>\n",
       "    </tr>\n",
       "  </tbody>\n",
       "</table>\n",
       "</div>"
      ],
      "text/plain": [
       "                              Name   Sex Ticket Cabin Embarked\n",
       "count                          891   891    891   204      889\n",
       "unique                         891     2    681   147        3\n",
       "top     Cameron, Miss. Clear Annie  male   1601    G6        S\n",
       "freq                             1   577      7     4      644"
      ]
     },
     "execution_count": 11,
     "metadata": {},
     "output_type": "execute_result"
    }
   ],
   "source": [
    "df_train.describe(include=[np.object])"
   ]
  },
  {
   "cell_type": "code",
   "execution_count": 12,
   "metadata": {},
   "outputs": [
    {
     "data": {
      "image/png": "[encoded data removed]",
      "text/plain": [
       "<Figure size 1152x288 with 5 Axes>"
      ]
     },
     "metadata": {
      "needs_background": "light"
     },
     "output_type": "display_data"
    }
   ],
   "source": [
    "# plot the unique counts for the categorical variables\n",
    "\n",
    "def plot_categorical(df, categorical_variables_list: List):\n",
    "    nrows = 1\n",
    "    ncols = int(np.ceil(len(categorical_variables_list) / nrows))\n",
    "    fig, axes = plt.subplots(nrows, ncols, figsize=(16, 4))\n",
    "\n",
    "    for i in range(len(categorical_variables_list)):\n",
    "        df.loc[:, categorical_variables_list[i]].value_counts().plot.barh(ax=axes[i])\n",
    "        axes[i].set_title(categorical_variables_list[i])\n",
    "\n",
    "plot_categorical(df_train, ['Survived', 'Sex', 'Pclass','Embarked', 'Survived'])\n"
   ]
  },
  {
   "cell_type": "markdown",
   "metadata": {},
   "source": [
    "### (4) Summary"
   ]
  },
  {
   "cell_type": "markdown",
   "metadata": {},
   "source": [
    " * Total samples are 891 or 40% of the actual number of passengers on board the Titanic (2,224). There are 418 samples on the test set. So the training set is 2/3 of the total data available. \n",
    "\n",
    "**Which features are available in the dataset?**\n",
    "\n",
    "Noting the feature names for directly manipulating or analyzing these. These feature names are described on the [Kaggle data page here](https://www.kaggle.com/c/titanic/data).\n",
    "\n",
    "\n",
    " **Which features have missing values?**\n",
    " * Age, Cabin, and Embarked in the training set, Age, Cabin, and Fare in the test set.\n",
    "\n",
    "\n",
    " **What are the numeric variables and categorical variables?**\n",
    "\n",
    " * Numerical variables: (1) continuous: 'Age', 'Fare'; (2) discrete: 'SibSp', 'Parch'. \n",
    " * Categorial variables: (1) ordinal: 'Pclass'; (2) nominal: 'PassengerId',  'Name', 'Sex',  'Survived', 'Ticket', 'Cabin', 'Embarked'.\n",
    "\n",
    "\n",
    " **What is the distribution of numerical feature values across the samples?**\n",
    "\n",
    " * Age: The range of  age is very wide. It is from infant to very old people.\n",
    " * SibSp, Parch: From the number of the sibling, parents, and children, we can tell most of the people travel alone. \n",
    " * Fare: Fare vary a lot\n",
    "\n",
    "\n",
    " **What is the distribution of categorical features?**\n",
    "\n",
    " * Survived: Survived variable is the target variable. 1 means survived. 38% of the people are survived. The data is relatively balanced.\n",
    " * Pclass: Lowest class cabinet contains most people, almost 50%.\n",
    " * PassengerId: Name of the passenger is unique. it contains the gender information. Mr. Ms. However, it may contain some type  errors.\n",
    " * Sex: There are almost twice men than women.\n",
    " * Ticket: The format of the ticket number vary a lot. It is a mix of alphanumeric. There are duplicate ticket numbers. They are wrong. \n",
    " * Cabin: cabin name may contain some errors.\n",
    " * Embarked: most of the people embarked from S.\n",
    " * Survived: less people survive\n",
    "\n",
    "\n",
    "\n",
    "**Which features are mixed data types?**\n",
    "  Numerical, alphanumeric data within same feature. These are candidates for correcting goal.\n",
    "* Ticket: a mix of numeric and alphanumeric data types. \n",
    "* Cabin: alphanumeric.\n",
    "\n",
    "\n",
    "**Which features may contain errors or typos?**\n",
    "* Name: it may contain errors or typos as there are several ways used to describe a name including titles, round brackets, and quotes used for alternative or short names.\n",
    "\n",
    "\n",
    "\n",
    "**which feature I should select? preliminary inspection**\n",
    "* passenger ID, Name, and Ticket ID may not useful because they are kind of unique for each passenger, the model \n",
    "might not learn anything. \n",
    "\n",
    "* I may also consider dropping 'Cabin' features. \n",
    "* I will verify the features selection by some analysis in the following steps.\n",
    "\n",
    "**the test set(I skip here)**\n",
    "* The variables have similar property as in the training set. Thus, I assume the model trained on the training set will havea similar performance on the test set\n",
    "\n"
   ]
  },
  {
   "cell_type": "markdown",
   "metadata": {},
   "source": [
    "### (5) Analyze correlation between features and target\n",
    "\n"
   ]
  },
  {
   "cell_type": "markdown",
   "metadata": {},
   "source": [
    "#### (a) Numerical variable vs. target variable"
   ]
  },
  {
   "cell_type": "markdown",
   "metadata": {},
   "source": [
    "#### descriptive"
   ]
  },
  {
   "cell_type": "code",
   "execution_count": 39,
   "metadata": {},
   "outputs": [
    {
     "data": {
      "text/html": [
       "<div>\n",
       "<style scoped>\n",
       "    .dataframe tbody tr th:only-of-type {\n",
       "        vertical-align: middle;\n",
       "    }\n",
       "\n",
       "    .dataframe tbody tr th {\n",
       "        vertical-align: top;\n",
       "    }\n",
       "\n",
       "    .dataframe thead th {\n",
       "        text-align: right;\n",
       "    }\n",
       "</style>\n",
       "<table border=\"1\" class=\"dataframe\">\n",
       "  <thead>\n",
       "    <tr style=\"text-align: right;\">\n",
       "      <th></th>\n",
       "      <th>PassengerId</th>\n",
       "      <th>Pclass</th>\n",
       "      <th>Age</th>\n",
       "      <th>SibSp</th>\n",
       "      <th>Parch</th>\n",
       "      <th>Fare</th>\n",
       "    </tr>\n",
       "    <tr>\n",
       "      <th>Survived</th>\n",
       "      <th></th>\n",
       "      <th></th>\n",
       "      <th></th>\n",
       "      <th></th>\n",
       "      <th></th>\n",
       "      <th></th>\n",
       "    </tr>\n",
       "  </thead>\n",
       "  <tbody>\n",
       "    <tr>\n",
       "      <th>0</th>\n",
       "      <td>447.016393</td>\n",
       "      <td>2.531876</td>\n",
       "      <td>30.626179</td>\n",
       "      <td>0.553734</td>\n",
       "      <td>0.329690</td>\n",
       "      <td>22.117887</td>\n",
       "    </tr>\n",
       "    <tr>\n",
       "      <th>1</th>\n",
       "      <td>444.368421</td>\n",
       "      <td>1.950292</td>\n",
       "      <td>28.343690</td>\n",
       "      <td>0.473684</td>\n",
       "      <td>0.464912</td>\n",
       "      <td>48.395408</td>\n",
       "    </tr>\n",
       "  </tbody>\n",
       "</table>\n",
       "</div>"
      ],
      "text/plain": [
       "          PassengerId    Pclass        Age     SibSp     Parch       Fare\n",
       "Survived                                                                 \n",
       "0          447.016393  2.531876  30.626179  0.553734  0.329690  22.117887\n",
       "1          444.368421  1.950292  28.343690  0.473684  0.464912  48.395408"
      ]
     },
     "execution_count": 39,
     "metadata": {},
     "output_type": "execute_result"
    }
   ],
   "source": [
    "df_train.groupby('Survived').mean()"
   ]
  },
  {
   "cell_type": "markdown",
   "metadata": {},
   "source": [
    "#### visulization"
   ]
  },
  {
   "cell_type": "markdown",
   "metadata": {},
   "source": [
    "###### for 'Age'"
   ]
  },
  {
   "cell_type": "markdown",
   "metadata": {},
   "source": [
    "mean"
   ]
  },
  {
   "cell_type": "code",
   "execution_count": 15,
   "metadata": {},
   "outputs": [
    {
     "name": "stderr",
     "output_type": "stream",
     "text": [
      "C:\\Users\\music\\AppData\\Roaming\\Python\\Python37\\site-packages\\scipy\\stats\\stats.py:1713: FutureWarning: Using a non-tuple sequence for multidimensional indexing is deprecated; use `arr[tuple(seq)]` instead of `arr[seq]`. In the future this will be interpreted as an array index, `arr[np.array(seq)]`, which will result either in an error or a different result.\n",
      "  return np.add.reduce(sorted[indexer] * weights, axis=axis) / sumval\n"
     ]
    },
    {
     "data": {
      "image/png": "[encoded data removed]",
      "text/plain": [
       "<Figure size 720x288 with 4 Axes>"
      ]
     },
     "metadata": {
      "needs_background": "light"
     },
     "output_type": "display_data"
    }
   ],
   "source": [
    "def plot_numerical_target(df, feature_list, target):\n",
    "    fig, axis = plt.subplots(1, len(feature_list), figsize=(10, 4))\n",
    "    for i in range(len(feature_list)):\n",
    "        sns.catplot(ax=axis[i], data=df, x=target, y=feature_list[i], kind='bar')\n",
    "        axis[i].set_title(feature_list[i])\n",
    "    \n",
    "plot_numerical_target(df_train, ['Age', 'Fare', 'SibSp', 'Parch'], 'Survived')\n",
    "plt.close(2)\n",
    "plt.close(3)\n",
    "plt.close(4)\n",
    "plt.close(5)\n"
   ]
  },
  {
   "cell_type": "markdown",
   "metadata": {},
   "source": [
    "distribution "
   ]
  },
  {
   "cell_type": "code",
   "execution_count": 16,
   "metadata": {},
   "outputs": [
    {
     "data": {
      "text/plain": [
       "<seaborn.axisgrid.FacetGrid at 0x23b5c632c88>"
      ]
     },
     "execution_count": 16,
     "metadata": {},
     "output_type": "execute_result"
    },
    {
     "data": {
      "image/png": "[encoded data removed]",
      "text/plain": [
       "<Figure size 432x216 with 2 Axes>"
      ]
     },
     "metadata": {
      "needs_background": "light"
     },
     "output_type": "display_data"
    },
    {
     "data": {
      "image/png": "[encoded data removed]",
      "text/plain": [
       "<Figure size 360x360 with 1 Axes>"
      ]
     },
     "metadata": {
      "needs_background": "light"
     },
     "output_type": "display_data"
    }
   ],
   "source": [
    "g = sns.FacetGrid(data=df_train, col='Survived')\n",
    "g.map(plt.hist, 'Age')\n",
    "\n",
    "sns.catplot(data=df_train, x='Survived', y='Age', kind='box')\n"
   ]
  },
  {
   "cell_type": "markdown",
   "metadata": {},
   "source": [
    "two features"
   ]
  },
  {
   "cell_type": "code",
   "execution_count": 17,
   "metadata": {},
   "outputs": [
    {
     "data": {
      "text/plain": [
       "<seaborn.axisgrid.FacetGrid at 0x23b5c520908>"
      ]
     },
     "execution_count": 17,
     "metadata": {},
     "output_type": "execute_result"
    },
    {
     "data": {
      "image/png": "[encoded data removed]",
      "text/plain": [
       "<Figure size 432x648 with 6 Axes>"
      ]
     },
     "metadata": {
      "needs_background": "light"
     },
     "output_type": "display_data"
    }
   ],
   "source": [
    "# We can combine multiple features for identifying correlations using a single plot. \n",
    "# This can be done with numerical and categorical features which have numeric values.\n",
    "\n",
    "g = sns.FacetGrid(data=df_train, row='Pclass', col='Survived')\n",
    "g.map(plt.hist, 'Age')\n"
   ]
  },
  {
   "cell_type": "code",
   "execution_count": 18,
   "metadata": {},
   "outputs": [
    {
     "data": {
      "text/plain": [
       "<seaborn.axisgrid.FacetGrid at 0x23b5c6caa90>"
      ]
     },
     "execution_count": 18,
     "metadata": {},
     "output_type": "execute_result"
    },
    {
     "data": {
      "image/png": "[encoded data removed]",
      "text/plain": [
       "<Figure size 432x432 with 4 Axes>"
      ]
     },
     "metadata": {
      "needs_background": "light"
     },
     "output_type": "display_data"
    }
   ],
   "source": [
    "g = sns.FacetGrid(data=df_train, row='Sex', col='Survived')\n",
    "g.map(plt.hist, 'Age')"
   ]
  },
  {
   "cell_type": "markdown",
   "metadata": {},
   "source": [
    "**Summary**\n",
    "* very yonge children and around 80 years old people tend to survive\n",
    "* most of the people are within 20-40.\n",
    "* Large number of 15-25 year olds did not survive.\n",
    "* Thus, Age feature need to be included\n",
    "* can consider create age category engineering feature: 0-10, 10-20, 20-40, 40-60, 60-80, > 80\n",
    "* first class cabinet tends to have older people and tend to survive. class 3 is the opposite. should consider Pclass as the feature\n",
    "* among people who didn't survive, man is dominant. More men die than survive, less women die than survive. Gender should be included into the feature."
   ]
  },
  {
   "cell_type": "markdown",
   "metadata": {},
   "source": [
    "##### 'Fare'"
   ]
  },
  {
   "cell_type": "code",
   "execution_count": 19,
   "metadata": {},
   "outputs": [
    {
     "data": {
      "text/plain": [
       "<seaborn.axisgrid.FacetGrid at 0x23b5c7e65f8>"
      ]
     },
     "execution_count": 19,
     "metadata": {},
     "output_type": "execute_result"
    },
    {
     "data": {
      "image/png": "[encoded data removed]",
      "text/plain": [
       "<Figure size 432x216 with 2 Axes>"
      ]
     },
     "metadata": {
      "needs_background": "light"
     },
     "output_type": "display_data"
    },
    {
     "data": {
      "image/png": "[encoded data removed]",
      "text/plain": [
       "<Figure size 360x360 with 1 Axes>"
      ]
     },
     "metadata": {
      "needs_background": "light"
     },
     "output_type": "display_data"
    }
   ],
   "source": [
    "g = sns.FacetGrid(data=df_train, col='Survived')\n",
    "g.map(plt.hist, 'Fare')\n",
    "\n",
    "sns.catplot(data=df_train, x='Survived', y='Fare', kind='box')\n"
   ]
  },
  {
   "cell_type": "markdown",
   "metadata": {},
   "source": [
    "**Summary**\n",
    "* Most of the people pay less than 100\n",
    "* there are more people pay between 200-300 in the Survived group \n",
    "* a large number of people who pay less than 50 didn't survive\n",
    "* Thus, I will include Fare into the feature\n",
    "* can consider create fare categorical varialbe as a engineering feature. <100, 100-200, > 200"
   ]
  },
  {
   "cell_type": "code",
   "execution_count": 20,
   "metadata": {},
   "outputs": [
    {
     "name": "stderr",
     "output_type": "stream",
     "text": [
      "C:\\Users\\music\\AppData\\Roaming\\Python\\Python37\\site-packages\\scipy\\stats\\stats.py:1713: FutureWarning: Using a non-tuple sequence for multidimensional indexing is deprecated; use `arr[tuple(seq)]` instead of `arr[seq]`. In the future this will be interpreted as an array index, `arr[np.array(seq)]`, which will result either in an error or a different result.\n",
      "  return np.add.reduce(sorted[indexer] * weights, axis=axis) / sumval\n"
     ]
    },
    {
     "data": {
      "text/plain": [
       "<matplotlib.axes._subplots.AxesSubplot at 0x23b5cd696a0>"
      ]
     },
     "execution_count": 20,
     "metadata": {},
     "output_type": "execute_result"
    },
    {
     "data": {
      "image/png": "[encoded data removed]",
      "text/plain": [
       "<Figure size 432x288 with 1 Axes>"
      ]
     },
     "metadata": {
      "needs_background": "light"
     },
     "output_type": "display_data"
    }
   ],
   "source": [
    "sns.regplot(data=df_train, x='Age', y='Fare')"
   ]
  },
  {
   "cell_type": "markdown",
   "metadata": {},
   "source": [
    "**Summary**\n",
    "* most of the people pay fee at the lower range\n",
    "* people who pay lower fee, they spread across different ages.\n",
    "* Thus, although people who is yonger and pay higher tend to survive, I cannot say younger people pay higher fee"
   ]
  },
  {
   "cell_type": "markdown",
   "metadata": {},
   "source": [
    "##### 'SibSp'"
   ]
  },
  {
   "cell_type": "code",
   "execution_count": 21,
   "metadata": {},
   "outputs": [
    {
     "data": {
      "text/plain": [
       "<seaborn.axisgrid.FacetGrid at 0x23b5c6422e8>"
      ]
     },
     "execution_count": 21,
     "metadata": {},
     "output_type": "execute_result"
    },
    {
     "data": {
      "image/png": "[encoded data removed]",
      "text/plain": [
       "<Figure size 432x216 with 2 Axes>"
      ]
     },
     "metadata": {
      "needs_background": "light"
     },
     "output_type": "display_data"
    },
    {
     "data": {
      "image/png": "[encoded data removed]",
      "text/plain": [
       "<Figure size 360x360 with 1 Axes>"
      ]
     },
     "metadata": {
      "needs_background": "light"
     },
     "output_type": "display_data"
    }
   ],
   "source": [
    "g = sns.FacetGrid(data=df_train, col='Survived')\n",
    "g.map(plt.hist, 'SibSp')\n",
    "\n",
    "sns.catplot(data=df_train, x='Survived', y='SibSp', kind='box')"
   ]
  },
  {
   "cell_type": "markdown",
   "metadata": {},
   "source": [
    "##### Parch"
   ]
  },
  {
   "cell_type": "code",
   "execution_count": 22,
   "metadata": {},
   "outputs": [
    {
     "data": {
      "text/plain": [
       "<seaborn.axisgrid.FacetGrid at 0x23b5ceb1cf8>"
      ]
     },
     "execution_count": 22,
     "metadata": {},
     "output_type": "execute_result"
    },
    {
     "data": {
      "image/png": "[encoded data removed]",
      "text/plain": [
       "<Figure size 432x216 with 2 Axes>"
      ]
     },
     "metadata": {
      "needs_background": "light"
     },
     "output_type": "display_data"
    },
    {
     "data": {
      "image/png": "[encoded data removed]",
      "text/plain": [
       "<Figure size 360x360 with 1 Axes>"
      ]
     },
     "metadata": {
      "needs_background": "light"
     },
     "output_type": "display_data"
    }
   ],
   "source": [
    "g = sns.FacetGrid(data=df_train, col='Survived')\n",
    "g.map(plt.hist, 'Parch')\n",
    "sns.catplot(data=df_train, x='Survived', y='Parch', kind='box')\n"
   ]
  },
  {
   "cell_type": "markdown",
   "metadata": {},
   "source": [
    "**Summary**\n",
    "* People who have less sibling tend to survive, there are less people have have more than 4 sibings\n",
    "* On the other hand, people who have more parent and children tend to survive.\n",
    "* SibSp and Parch should be included into the model for further analysis.\n",
    "* We can consider add SibSp and Parch together to create a engineering feature."
   ]
  },
  {
   "cell_type": "markdown",
   "metadata": {},
   "source": [
    "####  (c) Categorical variable vs. target variable"
   ]
  },
  {
   "cell_type": "markdown",
   "metadata": {},
   "source": [
    "##### descriptive"
   ]
  },
  {
   "cell_type": "code",
   "execution_count": 49,
   "metadata": {},
   "outputs": [],
   "source": [
    "def cat_target(df, feature, target):\n",
    "    for i in range(len(feature)):\n",
    "        print(df.groupby(by=feature[i]).mean().sort_values(by=target, ascending=False), '\\n')  "
   ]
  },
  {
   "cell_type": "code",
   "execution_count": 50,
   "metadata": {},
   "outputs": [
    {
     "name": "stdout",
     "output_type": "stream",
     "text": [
      "        PassengerId  Survived        Age     SibSp     Parch       Fare\n",
      "Pclass                                                                 \n",
      "1        461.597222  0.629630  38.233441  0.416667  0.356481  84.154687\n",
      "2        445.956522  0.472826  29.877630  0.402174  0.380435  20.662183\n",
      "3        439.154786  0.242363  25.140620  0.615071  0.393075  13.675550 \n",
      "\n",
      "        PassengerId  Survived    Pclass        Age     SibSp     Parch  \\\n",
      "Sex                                                                      \n",
      "female   431.028662  0.742038  2.159236  27.915709  0.694268  0.649682   \n",
      "male     454.147314  0.188908  2.389948  30.726645  0.429809  0.235702   \n",
      "\n",
      "             Fare  \n",
      "Sex                \n",
      "female  44.479818  \n",
      "male    25.523893   \n",
      "\n",
      "       PassengerId  Survived    Pclass        Age     Parch       Fare\n",
      "SibSp                                                                 \n",
      "1       439.727273  0.535885  2.057416  30.089727  0.655502  44.147370\n",
      "2       412.428571  0.464286  2.357143  22.620000  0.642857  51.753718\n",
      "0       455.370066  0.345395  2.351974  31.397558  0.185855  25.692028\n",
      "3       321.562500  0.250000  2.562500  13.916667  1.312500  68.908862\n",
      "4       381.611111  0.166667  3.000000   7.055556  1.500000  31.855556\n",
      "5       336.800000  0.000000  3.000000  10.200000  2.000000  46.900000\n",
      "8       481.714286  0.000000  3.000000        NaN  2.000000  69.550000 \n",
      "\n",
      "       PassengerId  Survived    Pclass        Age     SibSp       Fare\n",
      "Parch                                                                 \n",
      "3       579.200000  0.600000  2.600000  33.200000  1.000000  25.951660\n",
      "1       465.110169  0.550847  2.203390  24.422000  1.084746  46.778180\n",
      "2       416.662500  0.500000  2.275000  17.216912  2.062500  64.337604\n",
      "0       445.255162  0.343658  2.321534  32.178503  0.237463  25.586774\n",
      "5       435.200000  0.200000  3.000000  39.200000  0.600000  32.550000\n",
      "4       384.000000  0.000000  2.500000  44.500000  0.750000  84.968750\n",
      "6       679.000000  0.000000  3.000000  43.000000  1.000000  46.900000 \n",
      "\n",
      "          PassengerId  Survived    Pclass        Age     SibSp     Parch  \\\n",
      "Embarked                                                                   \n",
      "C          445.357143  0.553571  1.886905  30.814769  0.386905  0.363095   \n",
      "Q          417.896104  0.389610  2.909091  28.089286  0.428571  0.168831   \n",
      "S          449.527950  0.336957  2.350932  29.445397  0.571429  0.413043   \n",
      "\n",
      "               Fare  \n",
      "Embarked             \n",
      "C         59.954144  \n",
      "Q         13.276030  \n",
      "S         27.079812   \n",
      "\n"
     ]
    }
   ],
   "source": [
    "cat_target(df_train, ['Pclass', 'Sex', 'SibSp', 'Parch', 'Embarked'], 'Survived')"
   ]
  },
  {
   "cell_type": "markdown",
   "metadata": {},
   "source": [
    "**Summary**\n",
    "\n",
    "* Age vs Survived: Yonger people tend to survive. Since it is only 2 years yonger, it may not be significant.\n",
    "* Fare vs Survived: people who pay higher fee tend to survive. It may be significant since they pay twice more.\n",
    "* Age and Fare should be included into the model for further analysis\n",
    "\n",
    "* Pclass vs Survived, Sex vs Survived: both Pclass and Sex have strong correlation with the survival. We should include them into the model\n",
    "* SibSp vs Survived, Parch vs Survived, Embarked vs Survived: I am not sure the correlation.  It may be best to derive a feature or a set of features from these individual features."
   ]
  },
  {
   "cell_type": "markdown",
   "metadata": {},
   "source": [
    "##### visulization"
   ]
  },
  {
   "cell_type": "code",
   "execution_count": 25,
   "metadata": {},
   "outputs": [],
   "source": [
    "df_survived = df_train[df_train['Survived'] == 1]\n",
    "df_notsurvived = df_train[df_train['Survived'] == 0]"
   ]
  },
  {
   "cell_type": "code",
   "execution_count": 26,
   "metadata": {},
   "outputs": [
    {
     "data": {
      "image/png": "[encoded data removed]",
      "text/plain": [
       "<Figure size 1152x288 with 3 Axes>"
      ]
     },
     "metadata": {
      "needs_background": "light"
     },
     "output_type": "display_data"
    }
   ],
   "source": [
    "plot_categorical(df_notsurvived, [ 'Sex', 'Pclass','Embarked'])"
   ]
  },
  {
   "cell_type": "code",
   "execution_count": 27,
   "metadata": {},
   "outputs": [
    {
     "data": {
      "image/png": "[encoded data removed]",
      "text/plain": [
       "<Figure size 1152x288 with 3 Axes>"
      ]
     },
     "metadata": {
      "needs_background": "light"
     },
     "output_type": "display_data"
    }
   ],
   "source": [
    "plot_categorical(df_survived, ['Sex', 'Pclass','Embarked'])\n"
   ]
  },
  {
   "cell_type": "code",
   "execution_count": 36,
   "metadata": {},
   "outputs": [
    {
     "data": {
      "text/plain": [
       "<seaborn.axisgrid.FacetGrid at 0x23b5e6a1be0>"
      ]
     },
     "execution_count": 36,
     "metadata": {},
     "output_type": "execute_result"
    },
    {
     "data": {
      "image/png": "[encoded data removed]",
      "text/plain": [
       "<Figure size 323.94x475.2 with 3 Axes>"
      ]
     },
     "metadata": {
      "needs_background": "light"
     },
     "output_type": "display_data"
    }
   ],
   "source": [
    "grid = sns.FacetGrid(df_train, row='Embarked', size=2.2, aspect=1.6)\n",
    "grid.map(sns.pointplot, 'Pclass', 'Survived', 'Sex', palette='deep')\n",
    "grid.add_legend()"
   ]
  },
  {
   "cell_type": "markdown",
   "metadata": {},
   "source": [
    "**Summary**\n",
    "* some facotors are favorable to survive. female, higher class, Embarked on C,Q ports\n",
    "* I will include them into the features"
   ]
  },
  {
   "cell_type": "markdown",
   "metadata": {},
   "source": [
    "### (6) Assumtions based on data analysis\n"
   ]
  },
  {
   "cell_type": "markdown",
   "metadata": {},
   "source": [
    "\n",
    "We arrive at following assumptions based on data analysis done so far. We may validate these assumptions further before taking appropriate actions.\n",
    "\n",
    "**Correlating.**\n",
    "\n",
    "We want to know how well does each feature correlate with Survival. We want to do this early in our project and match these quick correlations with modelled correlations later in the project.\n",
    "\n",
    "**Completing.**\n",
    "\n",
    "Since Age and Fare are important, we need to fill the missing value. I also need to complete Embarked. Cabin has a lot of missing value. Since I will drop Cabin feature, don't worry about it.\n",
    "\n",
    "**Correcting.**\n",
    " * we can drop some features.\n",
    "1. Ticket feature may be dropped from our analysis as it contains high ratio of duplicates (22%) and there may not be a correlation between Ticket and survival.\n",
    "2. Cabin feature may be dropped as it is highly incomplete or contains many null values both in training and test dataset.\n",
    "3. PassengerId may be dropped from training dataset as it does not contribute to survival.\n",
    "4. Name feature is relatively non-standard, may not contribute directly to survival, so maybe dropped.\n",
    "\n",
    "**Creating.**\n",
    "\n",
    "1. We may want to create a new feature called Family based on Parch and SibSp to get total count of family members on board.\n",
    "2. We may want to engineer the Name feature to extract Title as a new feature.\n",
    "3. We may want to create new feature for Age bands. This turns a continous numerical feature into an ordinal categorical feature.\n",
    "4. We may also want to create a Fare range feature if it helps our analysis.\n",
    "\n",
    "**Classifying.**\n",
    "\n",
    "We may also add to our assumptions based on the problem description noted earlier.\n",
    "\n",
    "1. Women (Sex=female) were more likely to have survived.\n",
    "2. Children (Age<?) were more likely to have survived. \n",
    "3. The upper-class passengers (Pclass=1) were more likely to have survived."
   ]
  },
  {
   "cell_type": "markdown",
   "metadata": {},
   "source": [
    "# 3.  Wrangle data"
   ]
  },
  {
   "cell_type": "code",
   "execution_count": 302,
   "metadata": {},
   "outputs": [],
   "source": [
    "df_train_ = df_train.copy()\n",
    "df_test_ = df_test.copy()"
   ]
  },
  {
   "cell_type": "markdown",
   "metadata": {},
   "source": [
    "###  (1) Drop some columns or remove some categories"
   ]
  },
  {
   "cell_type": "code",
   "execution_count": 303,
   "metadata": {},
   "outputs": [
    {
     "name": "stdout",
     "output_type": "stream",
     "text": [
      "before (891, 12) (418, 11)\n",
      "after (891, 8) (418, 7)\n"
     ]
    }
   ],
   "source": [
    "df_train_.drop(columns=['PassengerId', 'Name', 'Ticket', 'Cabin'], inplace=True)\n",
    "df_test_.drop(columns=['PassengerId', 'Name', 'Ticket', 'Cabin'], inplace=True) # keep consistant\n",
    "\n",
    "print('before', df_train.shape, df_test.shape)\n",
    "print('after', df_train_.shape, df_test_.shape)"
   ]
  },
  {
   "cell_type": "markdown",
   "metadata": {},
   "source": [
    "### (2) missing values"
   ]
  },
  {
   "cell_type": "markdown",
   "metadata": {},
   "source": [
    "### Completing  numerical features"
   ]
  },
  {
   "cell_type": "markdown",
   "metadata": {},
   "source": [
    "##### Age"
   ]
  },
  {
   "cell_type": "markdown",
   "metadata": {},
   "source": [
    "Now we should start estimating and completing features with missing or null values. We will first do this for the Age feature.\n",
    "\n",
    "We can consider three methods to complete a numerical continuous feature.\n",
    "\n",
    "1. A simple way is to generate random numbers between mean and [standard deviation](https://en.wikipedia.org/wiki/Standard_deviation).\n",
    "\n",
    "2. More accurate way of guessing missing values is to use other correlated features. In our case we note correlation among Age, Gender, and Pclass. Guess Age values using [median](https://en.wikipedia.org/wiki/Median) values for Age across sets of Pclass and Gender feature combinations. So, median Age for Pclass=1 and Gender=0, Pclass=1 and Gender=1, and so on...\n",
    "\n",
    "3. Combine methods 1 and 2. So instead of guessing age values based on median, use random numbers between mean and standard deviation, based on sets of Pclass and Gender combinations.\n",
    "\n",
    "Method 1 and 3 will introduce random noise into our models. The results from multiple executions might vary. We will prefer method 2."
   ]
  },
  {
   "cell_type": "code",
   "execution_count": 304,
   "metadata": {},
   "outputs": [
    {
     "data": {
      "text/plain": [
       "<seaborn.axisgrid.FacetGrid at 0x287b9af7198>"
      ]
     },
     "execution_count": 304,
     "metadata": {},
     "output_type": "execute_result"
    },
    {
     "data": {
      "image/png": "[encoded data removed]",
      "text/plain": [
       "<Figure size 514.88x475.2 with 6 Axes>"
      ]
     },
     "metadata": {
      "needs_background": "light"
     },
     "output_type": "display_data"
    }
   ],
   "source": [
    "# grid = sns.FacetGrid(train_df, col='Pclass', hue='Gender')\n",
    "grid = sns.FacetGrid(df_train_, row='Pclass', col='Sex', size=2.2, aspect=1.6)\n",
    "grid.map(plt.hist, 'Age', alpha=.5, bins=20)\n",
    "grid.add_legend()"
   ]
  },
  {
   "cell_type": "code",
   "execution_count": 305,
   "metadata": {},
   "outputs": [
    {
     "data": {
      "text/html": [
       "<div>\n",
       "<style scoped>\n",
       "    .dataframe tbody tr th:only-of-type {\n",
       "        vertical-align: middle;\n",
       "    }\n",
       "\n",
       "    .dataframe tbody tr th {\n",
       "        vertical-align: top;\n",
       "    }\n",
       "\n",
       "    .dataframe thead th {\n",
       "        text-align: right;\n",
       "    }\n",
       "</style>\n",
       "<table border=\"1\" class=\"dataframe\">\n",
       "  <thead>\n",
       "    <tr style=\"text-align: right;\">\n",
       "      <th></th>\n",
       "      <th>Survived</th>\n",
       "      <th>Pclass</th>\n",
       "      <th>Sex</th>\n",
       "      <th>Age</th>\n",
       "      <th>SibSp</th>\n",
       "      <th>Parch</th>\n",
       "      <th>Fare</th>\n",
       "      <th>Embarked</th>\n",
       "    </tr>\n",
       "  </thead>\n",
       "  <tbody>\n",
       "    <tr>\n",
       "      <th>0</th>\n",
       "      <td>0</td>\n",
       "      <td>3</td>\n",
       "      <td>male</td>\n",
       "      <td>22</td>\n",
       "      <td>1</td>\n",
       "      <td>0</td>\n",
       "      <td>7.25</td>\n",
       "      <td>S</td>\n",
       "    </tr>\n",
       "    <tr>\n",
       "      <th>1</th>\n",
       "      <td>1</td>\n",
       "      <td>1</td>\n",
       "      <td>female</td>\n",
       "      <td>38</td>\n",
       "      <td>1</td>\n",
       "      <td>0</td>\n",
       "      <td>71.28</td>\n",
       "      <td>C</td>\n",
       "    </tr>\n",
       "    <tr>\n",
       "      <th>2</th>\n",
       "      <td>1</td>\n",
       "      <td>3</td>\n",
       "      <td>female</td>\n",
       "      <td>26</td>\n",
       "      <td>0</td>\n",
       "      <td>0</td>\n",
       "      <td>7.92</td>\n",
       "      <td>S</td>\n",
       "    </tr>\n",
       "    <tr>\n",
       "      <th>3</th>\n",
       "      <td>1</td>\n",
       "      <td>1</td>\n",
       "      <td>female</td>\n",
       "      <td>35</td>\n",
       "      <td>1</td>\n",
       "      <td>0</td>\n",
       "      <td>53.10</td>\n",
       "      <td>S</td>\n",
       "    </tr>\n",
       "    <tr>\n",
       "      <th>4</th>\n",
       "      <td>0</td>\n",
       "      <td>3</td>\n",
       "      <td>male</td>\n",
       "      <td>35</td>\n",
       "      <td>0</td>\n",
       "      <td>0</td>\n",
       "      <td>8.05</td>\n",
       "      <td>S</td>\n",
       "    </tr>\n",
       "  </tbody>\n",
       "</table>\n",
       "</div>"
      ],
      "text/plain": [
       "   Survived  Pclass     Sex  Age  SibSp  Parch   Fare Embarked\n",
       "0         0       3    male   22      1      0   7.25        S\n",
       "1         1       1  female   38      1      0  71.28        C\n",
       "2         1       3  female   26      0      0   7.92        S\n",
       "3         1       1  female   35      1      0  53.10        S\n",
       "4         0       3    male   35      0      0   8.05        S"
      ]
     },
     "execution_count": 305,
     "metadata": {},
     "output_type": "execute_result"
    }
   ],
   "source": [
    "#Let us start by preparing an empty array to contain guessed Age values based on Pclass x Gender combinations.\n",
    "guess_ages = np.zeros((2,3))\n",
    "guess_ages\n",
    "sex_list = ['male', 'female']\n",
    "df_combine_ = [df_train_, df_test_]\n",
    "\n",
    "#Now we iterate over Sex (0 or 1) and Pclass (1, 2, 3) to calculate guessed values of Age for the six combinations.\n",
    "for dataset in df_combine_:\n",
    "    for i in range(0, 2):\n",
    "        for j in range(0, 3):\n",
    "            guess_df = dataset[(dataset['Sex'] == sex_list[i]) & \\\n",
    "                                  (dataset['Pclass'] == j+1)]['Age'].dropna()\n",
    "\n",
    "            # age_mean = guess_df.mean()\n",
    "            # age_std = guess_df.std()\n",
    "            # age_guess = rnd.uniform(age_mean - age_std, age_mean + age_std)\n",
    "\n",
    "            age_guess = guess_df.median()\n",
    "\n",
    "            # Convert random age float to nearest .5 age\n",
    "            #print(age_guess)\n",
    "            guess_ages[i,j] = (age_guess/0.5 + 0.5 ) * 0.5\n",
    "            #guess_ages[i,j] = int(age_guess/0.5 + 0.5 ) * 0.5\n",
    "            \n",
    "    for i in range(0, 2):\n",
    "        for j in range(0, 3):\n",
    "            dataset.loc[ (dataset.Age.isnull()) & (dataset.Sex == sex_list[i]) & (dataset.Pclass == j+1),\\\n",
    "                    'Age'] = guess_ages[i,j]\n",
    "\n",
    "    dataset['Age'] = dataset['Age'].astype(int)\n",
    "\n",
    "df_train_.head()"
   ]
  },
  {
   "cell_type": "code",
   "execution_count": 306,
   "metadata": {},
   "outputs": [
    {
     "data": {
      "text/html": [
       "<div>\n",
       "<style scoped>\n",
       "    .dataframe tbody tr th:only-of-type {\n",
       "        vertical-align: middle;\n",
       "    }\n",
       "\n",
       "    .dataframe tbody tr th {\n",
       "        vertical-align: top;\n",
       "    }\n",
       "\n",
       "    .dataframe thead th {\n",
       "        text-align: right;\n",
       "    }\n",
       "</style>\n",
       "<table border=\"1\" class=\"dataframe\">\n",
       "  <thead>\n",
       "    <tr style=\"text-align: right;\">\n",
       "      <th></th>\n",
       "      <th>PassengerId</th>\n",
       "      <th>Survived</th>\n",
       "      <th>Pclass</th>\n",
       "      <th>Name</th>\n",
       "      <th>...</th>\n",
       "      <th>Ticket</th>\n",
       "      <th>Fare</th>\n",
       "      <th>Cabin</th>\n",
       "      <th>Embarked</th>\n",
       "    </tr>\n",
       "  </thead>\n",
       "  <tbody>\n",
       "    <tr>\n",
       "      <th>5</th>\n",
       "      <td>6</td>\n",
       "      <td>0</td>\n",
       "      <td>3</td>\n",
       "      <td>Moran, Mr. James</td>\n",
       "      <td>...</td>\n",
       "      <td>330877</td>\n",
       "      <td>8.46</td>\n",
       "      <td>NaN</td>\n",
       "      <td>Q</td>\n",
       "    </tr>\n",
       "    <tr>\n",
       "      <th>17</th>\n",
       "      <td>18</td>\n",
       "      <td>1</td>\n",
       "      <td>2</td>\n",
       "      <td>Williams, Mr. Charles Eugene</td>\n",
       "      <td>...</td>\n",
       "      <td>244373</td>\n",
       "      <td>13.00</td>\n",
       "      <td>NaN</td>\n",
       "      <td>S</td>\n",
       "    </tr>\n",
       "    <tr>\n",
       "      <th>19</th>\n",
       "      <td>20</td>\n",
       "      <td>1</td>\n",
       "      <td>3</td>\n",
       "      <td>Masselmani, Mrs. Fatima</td>\n",
       "      <td>...</td>\n",
       "      <td>2649</td>\n",
       "      <td>7.22</td>\n",
       "      <td>NaN</td>\n",
       "      <td>C</td>\n",
       "    </tr>\n",
       "    <tr>\n",
       "      <th>26</th>\n",
       "      <td>27</td>\n",
       "      <td>0</td>\n",
       "      <td>3</td>\n",
       "      <td>Emir, Mr. Farred Chehab</td>\n",
       "      <td>...</td>\n",
       "      <td>2631</td>\n",
       "      <td>7.22</td>\n",
       "      <td>NaN</td>\n",
       "      <td>C</td>\n",
       "    </tr>\n",
       "    <tr>\n",
       "      <th>28</th>\n",
       "      <td>29</td>\n",
       "      <td>1</td>\n",
       "      <td>3</td>\n",
       "      <td>O'Dwyer, Miss. Ellen \"Nellie\"</td>\n",
       "      <td>...</td>\n",
       "      <td>330959</td>\n",
       "      <td>7.88</td>\n",
       "      <td>NaN</td>\n",
       "      <td>Q</td>\n",
       "    </tr>\n",
       "  </tbody>\n",
       "</table>\n",
       "<p>5 rows × 12 columns</p>\n",
       "</div>"
      ],
      "text/plain": [
       "    PassengerId  Survived  Pclass                           Name    ...     \\\n",
       "5             6         0       3               Moran, Mr. James    ...      \n",
       "17           18         1       2   Williams, Mr. Charles Eugene    ...      \n",
       "19           20         1       3        Masselmani, Mrs. Fatima    ...      \n",
       "26           27         0       3        Emir, Mr. Farred Chehab    ...      \n",
       "28           29         1       3  O'Dwyer, Miss. Ellen \"Nellie\"    ...      \n",
       "\n",
       "    Ticket   Fare  Cabin  Embarked  \n",
       "5   330877   8.46    NaN         Q  \n",
       "17  244373  13.00    NaN         S  \n",
       "19    2649   7.22    NaN         C  \n",
       "26    2631   7.22    NaN         C  \n",
       "28  330959   7.88    NaN         Q  \n",
       "\n",
       "[5 rows x 12 columns]"
      ]
     },
     "execution_count": 306,
     "metadata": {},
     "output_type": "execute_result"
    }
   ],
   "source": [
    "# before, age has missing values in the training set\n",
    "df_train[df_train.index.isin(df_train[df_train.Age.isnull()].index)].head(5)"
   ]
  },
  {
   "cell_type": "code",
   "execution_count": 307,
   "metadata": {},
   "outputs": [
    {
     "data": {
      "text/html": [
       "<div>\n",
       "<style scoped>\n",
       "    .dataframe tbody tr th:only-of-type {\n",
       "        vertical-align: middle;\n",
       "    }\n",
       "\n",
       "    .dataframe tbody tr th {\n",
       "        vertical-align: top;\n",
       "    }\n",
       "\n",
       "    .dataframe thead th {\n",
       "        text-align: right;\n",
       "    }\n",
       "</style>\n",
       "<table border=\"1\" class=\"dataframe\">\n",
       "  <thead>\n",
       "    <tr style=\"text-align: right;\">\n",
       "      <th></th>\n",
       "      <th>Survived</th>\n",
       "      <th>Pclass</th>\n",
       "      <th>Sex</th>\n",
       "      <th>Age</th>\n",
       "      <th>SibSp</th>\n",
       "      <th>Parch</th>\n",
       "      <th>Fare</th>\n",
       "      <th>Embarked</th>\n",
       "    </tr>\n",
       "  </thead>\n",
       "  <tbody>\n",
       "    <tr>\n",
       "      <th>5</th>\n",
       "      <td>0</td>\n",
       "      <td>3</td>\n",
       "      <td>male</td>\n",
       "      <td>25</td>\n",
       "      <td>0</td>\n",
       "      <td>0</td>\n",
       "      <td>8.46</td>\n",
       "      <td>Q</td>\n",
       "    </tr>\n",
       "    <tr>\n",
       "      <th>17</th>\n",
       "      <td>1</td>\n",
       "      <td>2</td>\n",
       "      <td>male</td>\n",
       "      <td>30</td>\n",
       "      <td>0</td>\n",
       "      <td>0</td>\n",
       "      <td>13.00</td>\n",
       "      <td>S</td>\n",
       "    </tr>\n",
       "    <tr>\n",
       "      <th>19</th>\n",
       "      <td>1</td>\n",
       "      <td>3</td>\n",
       "      <td>female</td>\n",
       "      <td>21</td>\n",
       "      <td>0</td>\n",
       "      <td>0</td>\n",
       "      <td>7.22</td>\n",
       "      <td>C</td>\n",
       "    </tr>\n",
       "    <tr>\n",
       "      <th>26</th>\n",
       "      <td>0</td>\n",
       "      <td>3</td>\n",
       "      <td>male</td>\n",
       "      <td>25</td>\n",
       "      <td>0</td>\n",
       "      <td>0</td>\n",
       "      <td>7.22</td>\n",
       "      <td>C</td>\n",
       "    </tr>\n",
       "    <tr>\n",
       "      <th>28</th>\n",
       "      <td>1</td>\n",
       "      <td>3</td>\n",
       "      <td>female</td>\n",
       "      <td>21</td>\n",
       "      <td>0</td>\n",
       "      <td>0</td>\n",
       "      <td>7.88</td>\n",
       "      <td>Q</td>\n",
       "    </tr>\n",
       "  </tbody>\n",
       "</table>\n",
       "</div>"
      ],
      "text/plain": [
       "    Survived  Pclass     Sex  Age  SibSp  Parch   Fare Embarked\n",
       "5          0       3    male   25      0      0   8.46        Q\n",
       "17         1       2    male   30      0      0  13.00        S\n",
       "19         1       3  female   21      0      0   7.22        C\n",
       "26         0       3    male   25      0      0   7.22        C\n",
       "28         1       3  female   21      0      0   7.88        Q"
      ]
     },
     "execution_count": 307,
     "metadata": {},
     "output_type": "execute_result"
    }
   ],
   "source": [
    "# after \n",
    "df_train_[df_train.index.isin(df_train[df_train.Age.isnull()].index)].head(5)"
   ]
  },
  {
   "cell_type": "markdown",
   "metadata": {},
   "source": [
    "##### Fare\n",
    "fix missing value in the test set\n"
   ]
  },
  {
   "cell_type": "code",
   "execution_count": 308,
   "metadata": {},
   "outputs": [
    {
     "data": {
      "text/plain": [
       "False"
      ]
     },
     "execution_count": 308,
     "metadata": {},
     "output_type": "execute_result"
    }
   ],
   "source": [
    "df_test_['Fare'].fillna(df_test_.Fare.dropna().median(), inplace=True)\n",
    "df_test_.Fare.isnull().any()"
   ]
  },
  {
   "cell_type": "markdown",
   "metadata": {},
   "source": [
    "### Completing categorical features"
   ]
  },
  {
   "cell_type": "code",
   "execution_count": 309,
   "metadata": {},
   "outputs": [
    {
     "name": "stdout",
     "output_type": "stream",
     "text": [
      "S\n"
     ]
    }
   ],
   "source": [
    "freq =  df_train_.Embarked.dropna().mode()[0]\n",
    "print(freq)\n",
    "\n",
    "df_train_['Embarked'].fillna(freq, inplace=True)\n",
    "df_test_['Embarked'].fillna(freq, inplace=True)\n"
   ]
  },
  {
   "cell_type": "code",
   "execution_count": 310,
   "metadata": {},
   "outputs": [
    {
     "data": {
      "text/html": [
       "<div>\n",
       "<style scoped>\n",
       "    .dataframe tbody tr th:only-of-type {\n",
       "        vertical-align: middle;\n",
       "    }\n",
       "\n",
       "    .dataframe tbody tr th {\n",
       "        vertical-align: top;\n",
       "    }\n",
       "\n",
       "    .dataframe thead th {\n",
       "        text-align: right;\n",
       "    }\n",
       "</style>\n",
       "<table border=\"1\" class=\"dataframe\">\n",
       "  <thead>\n",
       "    <tr style=\"text-align: right;\">\n",
       "      <th></th>\n",
       "      <th>Embarked</th>\n",
       "      <th>Survived</th>\n",
       "    </tr>\n",
       "  </thead>\n",
       "  <tbody>\n",
       "    <tr>\n",
       "      <th>0</th>\n",
       "      <td>C</td>\n",
       "      <td>0.55</td>\n",
       "    </tr>\n",
       "    <tr>\n",
       "      <th>1</th>\n",
       "      <td>Q</td>\n",
       "      <td>0.39</td>\n",
       "    </tr>\n",
       "    <tr>\n",
       "      <th>2</th>\n",
       "      <td>S</td>\n",
       "      <td>0.34</td>\n",
       "    </tr>\n",
       "  </tbody>\n",
       "</table>\n",
       "</div>"
      ],
      "text/plain": [
       "  Embarked  Survived\n",
       "0        C      0.55\n",
       "1        Q      0.39\n",
       "2        S      0.34"
      ]
     },
     "execution_count": 310,
     "metadata": {},
     "output_type": "execute_result"
    }
   ],
   "source": [
    "# before\n",
    "df_train[['Embarked', 'Survived']].groupby(['Embarked'], as_index=False).mean().sort_values(by='Survived', ascending=False)"
   ]
  },
  {
   "cell_type": "code",
   "execution_count": 311,
   "metadata": {},
   "outputs": [
    {
     "data": {
      "text/html": [
       "<div>\n",
       "<style scoped>\n",
       "    .dataframe tbody tr th:only-of-type {\n",
       "        vertical-align: middle;\n",
       "    }\n",
       "\n",
       "    .dataframe tbody tr th {\n",
       "        vertical-align: top;\n",
       "    }\n",
       "\n",
       "    .dataframe thead th {\n",
       "        text-align: right;\n",
       "    }\n",
       "</style>\n",
       "<table border=\"1\" class=\"dataframe\">\n",
       "  <thead>\n",
       "    <tr style=\"text-align: right;\">\n",
       "      <th></th>\n",
       "      <th>Embarked</th>\n",
       "      <th>Survived</th>\n",
       "    </tr>\n",
       "  </thead>\n",
       "  <tbody>\n",
       "    <tr>\n",
       "      <th>0</th>\n",
       "      <td>C</td>\n",
       "      <td>0.55</td>\n",
       "    </tr>\n",
       "    <tr>\n",
       "      <th>1</th>\n",
       "      <td>Q</td>\n",
       "      <td>0.39</td>\n",
       "    </tr>\n",
       "    <tr>\n",
       "      <th>2</th>\n",
       "      <td>S</td>\n",
       "      <td>0.34</td>\n",
       "    </tr>\n",
       "  </tbody>\n",
       "</table>\n",
       "</div>"
      ],
      "text/plain": [
       "  Embarked  Survived\n",
       "0        C      0.55\n",
       "1        Q      0.39\n",
       "2        S      0.34"
      ]
     },
     "execution_count": 311,
     "metadata": {},
     "output_type": "execute_result"
    }
   ],
   "source": [
    "# after\n",
    "df_train_[['Embarked', 'Survived']].groupby(['Embarked'], as_index=False).mean().sort_values(by='Survived', ascending=False)"
   ]
  },
  {
   "cell_type": "code",
   "execution_count": 312,
   "metadata": {},
   "outputs": [
    {
     "data": {
      "text/plain": [
       "<matplotlib.axes._subplots.AxesSubplot at 0x287b9cc6860>"
      ]
     },
     "execution_count": 312,
     "metadata": {},
     "output_type": "execute_result"
    },
    {
     "data": {
      "image/png": "[encoded data removed]",
      "text/plain": [
       "<Figure size 432x288 with 2 Axes>"
      ]
     },
     "metadata": {
      "needs_background": "light"
     },
     "output_type": "display_data"
    }
   ],
   "source": [
    "sns.heatmap(df_train_.isnull())"
   ]
  },
  {
   "cell_type": "code",
   "execution_count": 313,
   "metadata": {},
   "outputs": [
    {
     "data": {
      "text/plain": [
       "<matplotlib.axes._subplots.AxesSubplot at 0x287b8e284a8>"
      ]
     },
     "execution_count": 313,
     "metadata": {},
     "output_type": "execute_result"
    },
    {
     "data": {
      "image/png": "[encoded data removed]",
      "text/plain": [
       "<Figure size 432x288 with 2 Axes>"
      ]
     },
     "metadata": {
      "needs_background": "light"
     },
     "output_type": "display_data"
    }
   ],
   "source": [
    "sns.heatmap(df_test_.isnull())"
   ]
  },
  {
   "cell_type": "markdown",
   "metadata": {},
   "source": [
    "### (3)  Create engineering features"
   ]
  },
  {
   "cell_type": "markdown",
   "metadata": {},
   "source": [
    "#####  Age"
   ]
  },
  {
   "cell_type": "code",
   "execution_count": 314,
   "metadata": {},
   "outputs": [
    {
     "name": "stdout",
     "output_type": "stream",
     "text": [
      "        AgeBand1  Survived\n",
      "0  (-0.08, 16.0]      0.55\n",
      "1   (16.0, 32.0]      0.34\n",
      "2   (32.0, 48.0]      0.41\n",
      "3   (48.0, 64.0]      0.43\n",
      "4   (64.0, 80.0]      0.09\n"
     ]
    }
   ],
   "source": [
    "# Let us create Age bands and determine correlations with Survived.\n",
    "df_train_['AgeBand1'] = pd.cut(df_train_['Age'], bins=5)\n",
    "\n",
    "print(df_train_[['AgeBand1', 'Survived']].groupby(['AgeBand1'], as_index=False).mean().sort_values(by='AgeBand1', ascending=True))\n"
   ]
  },
  {
   "cell_type": "code",
   "execution_count": 315,
   "metadata": {},
   "outputs": [
    {
     "data": {
      "text/html": [
       "<div>\n",
       "<style scoped>\n",
       "    .dataframe tbody tr th:only-of-type {\n",
       "        vertical-align: middle;\n",
       "    }\n",
       "\n",
       "    .dataframe tbody tr th {\n",
       "        vertical-align: top;\n",
       "    }\n",
       "\n",
       "    .dataframe thead th {\n",
       "        text-align: right;\n",
       "    }\n",
       "</style>\n",
       "<table border=\"1\" class=\"dataframe\">\n",
       "  <thead>\n",
       "    <tr style=\"text-align: right;\">\n",
       "      <th></th>\n",
       "      <th>Survived</th>\n",
       "      <th>Pclass</th>\n",
       "      <th>Sex</th>\n",
       "      <th>Age</th>\n",
       "      <th>...</th>\n",
       "      <th>Parch</th>\n",
       "      <th>Fare</th>\n",
       "      <th>Embarked</th>\n",
       "      <th>AgeBand1</th>\n",
       "    </tr>\n",
       "  </thead>\n",
       "  <tbody>\n",
       "    <tr>\n",
       "      <th>0</th>\n",
       "      <td>0</td>\n",
       "      <td>3</td>\n",
       "      <td>male</td>\n",
       "      <td>22</td>\n",
       "      <td>...</td>\n",
       "      <td>0</td>\n",
       "      <td>7.25</td>\n",
       "      <td>S</td>\n",
       "      <td>1</td>\n",
       "    </tr>\n",
       "    <tr>\n",
       "      <th>1</th>\n",
       "      <td>1</td>\n",
       "      <td>1</td>\n",
       "      <td>female</td>\n",
       "      <td>38</td>\n",
       "      <td>...</td>\n",
       "      <td>0</td>\n",
       "      <td>71.28</td>\n",
       "      <td>C</td>\n",
       "      <td>2</td>\n",
       "    </tr>\n",
       "    <tr>\n",
       "      <th>2</th>\n",
       "      <td>1</td>\n",
       "      <td>3</td>\n",
       "      <td>female</td>\n",
       "      <td>26</td>\n",
       "      <td>...</td>\n",
       "      <td>0</td>\n",
       "      <td>7.92</td>\n",
       "      <td>S</td>\n",
       "      <td>1</td>\n",
       "    </tr>\n",
       "    <tr>\n",
       "      <th>3</th>\n",
       "      <td>1</td>\n",
       "      <td>1</td>\n",
       "      <td>female</td>\n",
       "      <td>35</td>\n",
       "      <td>...</td>\n",
       "      <td>0</td>\n",
       "      <td>53.10</td>\n",
       "      <td>S</td>\n",
       "      <td>2</td>\n",
       "    </tr>\n",
       "    <tr>\n",
       "      <th>4</th>\n",
       "      <td>0</td>\n",
       "      <td>3</td>\n",
       "      <td>male</td>\n",
       "      <td>35</td>\n",
       "      <td>...</td>\n",
       "      <td>0</td>\n",
       "      <td>8.05</td>\n",
       "      <td>S</td>\n",
       "      <td>2</td>\n",
       "    </tr>\n",
       "  </tbody>\n",
       "</table>\n",
       "<p>5 rows × 9 columns</p>\n",
       "</div>"
      ],
      "text/plain": [
       "   Survived  Pclass     Sex  Age   ...     Parch   Fare  Embarked AgeBand1\n",
       "0         0       3    male   22   ...         0   7.25         S        1\n",
       "1         1       1  female   38   ...         0  71.28         C        2\n",
       "2         1       3  female   26   ...         0   7.92         S        1\n",
       "3         1       1  female   35   ...         0  53.10         S        2\n",
       "4         0       3    male   35   ...         0   8.05         S        2\n",
       "\n",
       "[5 rows x 9 columns]"
      ]
     },
     "execution_count": 315,
     "metadata": {},
     "output_type": "execute_result"
    }
   ],
   "source": [
    "df_train_['AgeBand1'] = pd.cut(df_train_['Age'], bins=5, labels=False)\n",
    "df_train_.head()"
   ]
  },
  {
   "cell_type": "code",
   "execution_count": 316,
   "metadata": {},
   "outputs": [
    {
     "data": {
      "text/html": [
       "<div>\n",
       "<style scoped>\n",
       "    .dataframe tbody tr th:only-of-type {\n",
       "        vertical-align: middle;\n",
       "    }\n",
       "\n",
       "    .dataframe tbody tr th {\n",
       "        vertical-align: top;\n",
       "    }\n",
       "\n",
       "    .dataframe thead th {\n",
       "        text-align: right;\n",
       "    }\n",
       "</style>\n",
       "<table border=\"1\" class=\"dataframe\">\n",
       "  <thead>\n",
       "    <tr style=\"text-align: right;\">\n",
       "      <th></th>\n",
       "      <th>Survived</th>\n",
       "      <th>Pclass</th>\n",
       "      <th>Sex</th>\n",
       "      <th>Age</th>\n",
       "      <th>...</th>\n",
       "      <th>Parch</th>\n",
       "      <th>Fare</th>\n",
       "      <th>Embarked</th>\n",
       "      <th>AgeBand1</th>\n",
       "    </tr>\n",
       "  </thead>\n",
       "  <tbody>\n",
       "    <tr>\n",
       "      <th>0</th>\n",
       "      <td>0</td>\n",
       "      <td>3</td>\n",
       "      <td>male</td>\n",
       "      <td>22</td>\n",
       "      <td>...</td>\n",
       "      <td>0</td>\n",
       "      <td>7.25</td>\n",
       "      <td>S</td>\n",
       "      <td>1</td>\n",
       "    </tr>\n",
       "    <tr>\n",
       "      <th>1</th>\n",
       "      <td>1</td>\n",
       "      <td>1</td>\n",
       "      <td>female</td>\n",
       "      <td>38</td>\n",
       "      <td>...</td>\n",
       "      <td>0</td>\n",
       "      <td>71.28</td>\n",
       "      <td>C</td>\n",
       "      <td>2</td>\n",
       "    </tr>\n",
       "    <tr>\n",
       "      <th>2</th>\n",
       "      <td>1</td>\n",
       "      <td>3</td>\n",
       "      <td>female</td>\n",
       "      <td>26</td>\n",
       "      <td>...</td>\n",
       "      <td>0</td>\n",
       "      <td>7.92</td>\n",
       "      <td>S</td>\n",
       "      <td>1</td>\n",
       "    </tr>\n",
       "    <tr>\n",
       "      <th>3</th>\n",
       "      <td>1</td>\n",
       "      <td>1</td>\n",
       "      <td>female</td>\n",
       "      <td>35</td>\n",
       "      <td>...</td>\n",
       "      <td>0</td>\n",
       "      <td>53.10</td>\n",
       "      <td>S</td>\n",
       "      <td>2</td>\n",
       "    </tr>\n",
       "    <tr>\n",
       "      <th>4</th>\n",
       "      <td>0</td>\n",
       "      <td>3</td>\n",
       "      <td>male</td>\n",
       "      <td>35</td>\n",
       "      <td>...</td>\n",
       "      <td>0</td>\n",
       "      <td>8.05</td>\n",
       "      <td>S</td>\n",
       "      <td>2</td>\n",
       "    </tr>\n",
       "  </tbody>\n",
       "</table>\n",
       "<p>5 rows × 9 columns</p>\n",
       "</div>"
      ],
      "text/plain": [
       "   Survived  Pclass     Sex  Age   ...     Parch   Fare  Embarked AgeBand1\n",
       "0         0       3    male   22   ...         0   7.25         S        1\n",
       "1         1       1  female   38   ...         0  71.28         C        2\n",
       "2         1       3  female   26   ...         0   7.92         S        1\n",
       "3         1       1  female   35   ...         0  53.10         S        2\n",
       "4         0       3    male   35   ...         0   8.05         S        2\n",
       "\n",
       "[5 rows x 9 columns]"
      ]
     },
     "execution_count": 316,
     "metadata": {},
     "output_type": "execute_result"
    }
   ],
   "source": [
    "# use the same bins as the trainning set\n",
    "df_test_['AgeBand1'] = pd.cut(df_test_['Age'], bins=[-0.08, 16, 32, 48, 64, 200], labels=False) \n",
    "df_train_.head()"
   ]
  },
  {
   "cell_type": "markdown",
   "metadata": {},
   "source": [
    "##### try another bins"
   ]
  },
  {
   "cell_type": "code",
   "execution_count": 317,
   "metadata": {},
   "outputs": [
    {
     "name": "stdout",
     "output_type": "stream",
     "text": [
      "        AgeBand2  Survived\n",
      "0   (-0.1, 10.0]      0.59\n",
      "1   (10.0, 20.0]      0.38\n",
      "2   (20.0, 40.0]      0.36\n",
      "3   (40.0, 60.0]      0.40\n",
      "4   (60.0, 80.0]      0.23\n",
      "5  (80.0, 200.0]       NaN\n"
     ]
    }
   ],
   "source": [
    "bins=[-0.1, 10, 20, 40, 60, 80, 200] \n",
    "df_train_['AgeBand2'] = pd.cut(df_train_['Age'], bins=bins)\n",
    "print(df_train_[['AgeBand2', 'Survived']].groupby(['AgeBand2'], as_index=False).mean().sort_values(by='AgeBand2', ascending=True))\n"
   ]
  },
  {
   "cell_type": "code",
   "execution_count": 318,
   "metadata": {},
   "outputs": [],
   "source": [
    "df_train_['AgeBand2'] = pd.cut(df_train_['Age'], bins=bins, labels=False)\n",
    "df_test_['AgeBand2'] = pd.cut(df_test_['Age'], bins=bins, labels=False) \n"
   ]
  },
  {
   "cell_type": "markdown",
   "metadata": {},
   "source": [
    "##### Fare"
   ]
  },
  {
   "cell_type": "code",
   "execution_count": 319,
   "metadata": {},
   "outputs": [
    {
     "name": "stdout",
     "output_type": "stream",
     "text": [
      "         FareBand1  Survived\n",
      "0   (-0.001, 7.91]      0.20\n",
      "1   (7.91, 14.454]      0.30\n",
      "2   (14.454, 31.0]      0.45\n",
      "3  (31.0, 512.329]      0.58\n"
     ]
    }
   ],
   "source": [
    "# Let us create Fare bands and determine correlations with Survived.\n",
    "\n",
    "df_train_['FareBand1'] = pd.qcut(df_train_['Fare'], q=4)\n",
    "print(df_train_[['FareBand1', 'Survived']].groupby(['FareBand1'], as_index=False).mean().sort_values(by='FareBand1', ascending=True))\n"
   ]
  },
  {
   "cell_type": "code",
   "execution_count": 320,
   "metadata": {},
   "outputs": [
    {
     "data": {
      "text/html": [
       "<div>\n",
       "<style scoped>\n",
       "    .dataframe tbody tr th:only-of-type {\n",
       "        vertical-align: middle;\n",
       "    }\n",
       "\n",
       "    .dataframe tbody tr th {\n",
       "        vertical-align: top;\n",
       "    }\n",
       "\n",
       "    .dataframe thead th {\n",
       "        text-align: right;\n",
       "    }\n",
       "</style>\n",
       "<table border=\"1\" class=\"dataframe\">\n",
       "  <thead>\n",
       "    <tr style=\"text-align: right;\">\n",
       "      <th></th>\n",
       "      <th>Survived</th>\n",
       "      <th>Pclass</th>\n",
       "      <th>Sex</th>\n",
       "      <th>Age</th>\n",
       "      <th>...</th>\n",
       "      <th>Embarked</th>\n",
       "      <th>AgeBand1</th>\n",
       "      <th>AgeBand2</th>\n",
       "      <th>FareBand1</th>\n",
       "    </tr>\n",
       "  </thead>\n",
       "  <tbody>\n",
       "    <tr>\n",
       "      <th>0</th>\n",
       "      <td>0</td>\n",
       "      <td>3</td>\n",
       "      <td>male</td>\n",
       "      <td>22</td>\n",
       "      <td>...</td>\n",
       "      <td>S</td>\n",
       "      <td>1</td>\n",
       "      <td>2</td>\n",
       "      <td>0</td>\n",
       "    </tr>\n",
       "    <tr>\n",
       "      <th>1</th>\n",
       "      <td>1</td>\n",
       "      <td>1</td>\n",
       "      <td>female</td>\n",
       "      <td>38</td>\n",
       "      <td>...</td>\n",
       "      <td>C</td>\n",
       "      <td>2</td>\n",
       "      <td>2</td>\n",
       "      <td>3</td>\n",
       "    </tr>\n",
       "    <tr>\n",
       "      <th>2</th>\n",
       "      <td>1</td>\n",
       "      <td>3</td>\n",
       "      <td>female</td>\n",
       "      <td>26</td>\n",
       "      <td>...</td>\n",
       "      <td>S</td>\n",
       "      <td>1</td>\n",
       "      <td>2</td>\n",
       "      <td>1</td>\n",
       "    </tr>\n",
       "    <tr>\n",
       "      <th>3</th>\n",
       "      <td>1</td>\n",
       "      <td>1</td>\n",
       "      <td>female</td>\n",
       "      <td>35</td>\n",
       "      <td>...</td>\n",
       "      <td>S</td>\n",
       "      <td>2</td>\n",
       "      <td>2</td>\n",
       "      <td>3</td>\n",
       "    </tr>\n",
       "    <tr>\n",
       "      <th>4</th>\n",
       "      <td>0</td>\n",
       "      <td>3</td>\n",
       "      <td>male</td>\n",
       "      <td>35</td>\n",
       "      <td>...</td>\n",
       "      <td>S</td>\n",
       "      <td>2</td>\n",
       "      <td>2</td>\n",
       "      <td>1</td>\n",
       "    </tr>\n",
       "  </tbody>\n",
       "</table>\n",
       "<p>5 rows × 11 columns</p>\n",
       "</div>"
      ],
      "text/plain": [
       "   Survived  Pclass     Sex  Age    ...     Embarked  AgeBand1  AgeBand2  \\\n",
       "0         0       3    male   22    ...            S         1         2   \n",
       "1         1       1  female   38    ...            C         2         2   \n",
       "2         1       3  female   26    ...            S         1         2   \n",
       "3         1       1  female   35    ...            S         2         2   \n",
       "4         0       3    male   35    ...            S         2         2   \n",
       "\n",
       "  FareBand1  \n",
       "0         0  \n",
       "1         3  \n",
       "2         1  \n",
       "3         3  \n",
       "4         1  \n",
       "\n",
       "[5 rows x 11 columns]"
      ]
     },
     "execution_count": 320,
     "metadata": {},
     "output_type": "execute_result"
    }
   ],
   "source": [
    "df_train_['FareBand1'] = pd.qcut(df_train_['Fare'], q=4, labels=False)\n",
    "df_train_.head()"
   ]
  },
  {
   "cell_type": "code",
   "execution_count": 321,
   "metadata": {},
   "outputs": [],
   "source": [
    "df_test_['FareBand1'] = pd.cut(df_test_['Fare'], bins=[-0.001, 7.91, 14.454, 31, 100000], labels=False)"
   ]
  },
  {
   "cell_type": "markdown",
   "metadata": {},
   "source": [
    "##### try another bins"
   ]
  },
  {
   "cell_type": "code",
   "execution_count": 322,
   "metadata": {},
   "outputs": [
    {
     "name": "stdout",
     "output_type": "stream",
     "text": [
      "         FareBand2  Survived\n",
      "0    (-0.1, 100.0]      0.36\n",
      "1   (100.0, 200.0]      0.76\n",
      "2  (200.0, 1000.0]      0.70\n"
     ]
    }
   ],
   "source": [
    "bins = [-0.1, 100, 200, 1000]\n",
    "df_train_['FareBand2'] = pd.cut(df_train_['Fare'], bins=bins)\n",
    "print(df_train_[['FareBand2', 'Survived']].groupby(['FareBand2'], as_index=False).mean().sort_values(by='FareBand2', ascending=True))\n"
   ]
  },
  {
   "cell_type": "code",
   "execution_count": 323,
   "metadata": {},
   "outputs": [],
   "source": [
    "df_train_['FareBand2'] = pd.cut(df_train_['Fare'], bins=bins, labels=False)\n",
    "df_test_['FareBand2'] = pd.cut(df_test_['Fare'], bins=bins, labels=False)"
   ]
  },
  {
   "cell_type": "code",
   "execution_count": null,
   "metadata": {},
   "outputs": [],
   "source": []
  },
  {
   "cell_type": "markdown",
   "metadata": {},
   "source": [
    "##### Family size\n",
    "\n",
    "We can create a new feature for FamilySize which combines Parch and SibSp. This will enable us to drop Parch and SibSp from our datasets."
   ]
  },
  {
   "cell_type": "code",
   "execution_count": 324,
   "metadata": {},
   "outputs": [
    {
     "data": {
      "text/html": [
       "<div>\n",
       "<style scoped>\n",
       "    .dataframe tbody tr th:only-of-type {\n",
       "        vertical-align: middle;\n",
       "    }\n",
       "\n",
       "    .dataframe tbody tr th {\n",
       "        vertical-align: top;\n",
       "    }\n",
       "\n",
       "    .dataframe thead th {\n",
       "        text-align: right;\n",
       "    }\n",
       "</style>\n",
       "<table border=\"1\" class=\"dataframe\">\n",
       "  <thead>\n",
       "    <tr style=\"text-align: right;\">\n",
       "      <th></th>\n",
       "      <th>FamilySize</th>\n",
       "      <th>Survived</th>\n",
       "    </tr>\n",
       "  </thead>\n",
       "  <tbody>\n",
       "    <tr>\n",
       "      <th>3</th>\n",
       "      <td>4</td>\n",
       "      <td>0.72</td>\n",
       "    </tr>\n",
       "    <tr>\n",
       "      <th>2</th>\n",
       "      <td>3</td>\n",
       "      <td>0.58</td>\n",
       "    </tr>\n",
       "    <tr>\n",
       "      <th>1</th>\n",
       "      <td>2</td>\n",
       "      <td>0.55</td>\n",
       "    </tr>\n",
       "    <tr>\n",
       "      <th>6</th>\n",
       "      <td>7</td>\n",
       "      <td>0.33</td>\n",
       "    </tr>\n",
       "    <tr>\n",
       "      <th>0</th>\n",
       "      <td>1</td>\n",
       "      <td>0.30</td>\n",
       "    </tr>\n",
       "    <tr>\n",
       "      <th>4</th>\n",
       "      <td>5</td>\n",
       "      <td>0.20</td>\n",
       "    </tr>\n",
       "    <tr>\n",
       "      <th>5</th>\n",
       "      <td>6</td>\n",
       "      <td>0.14</td>\n",
       "    </tr>\n",
       "    <tr>\n",
       "      <th>7</th>\n",
       "      <td>8</td>\n",
       "      <td>0.00</td>\n",
       "    </tr>\n",
       "    <tr>\n",
       "      <th>8</th>\n",
       "      <td>11</td>\n",
       "      <td>0.00</td>\n",
       "    </tr>\n",
       "  </tbody>\n",
       "</table>\n",
       "</div>"
      ],
      "text/plain": [
       "   FamilySize  Survived\n",
       "3           4      0.72\n",
       "2           3      0.58\n",
       "1           2      0.55\n",
       "6           7      0.33\n",
       "0           1      0.30\n",
       "4           5      0.20\n",
       "5           6      0.14\n",
       "7           8      0.00\n",
       "8          11      0.00"
      ]
     },
     "execution_count": 324,
     "metadata": {},
     "output_type": "execute_result"
    }
   ],
   "source": [
    "df_train_['FamilySize'] = df_train_['SibSp'] + df_train_['Parch'] + 1\n",
    "df_test_['FamilySize'] = df_test_['SibSp'] + df_test_['Parch'] + 1\n",
    "\n",
    "df_train_[['FamilySize', 'Survived']].groupby(['FamilySize'], as_index=False).mean().sort_values(by='Survived', ascending=False)"
   ]
  },
  {
   "cell_type": "markdown",
   "metadata": {},
   "source": [
    "We can create another feature called IsAlone."
   ]
  },
  {
   "cell_type": "code",
   "execution_count": 325,
   "metadata": {},
   "outputs": [
    {
     "data": {
      "text/html": [
       "<div>\n",
       "<style scoped>\n",
       "    .dataframe tbody tr th:only-of-type {\n",
       "        vertical-align: middle;\n",
       "    }\n",
       "\n",
       "    .dataframe tbody tr th {\n",
       "        vertical-align: top;\n",
       "    }\n",
       "\n",
       "    .dataframe thead th {\n",
       "        text-align: right;\n",
       "    }\n",
       "</style>\n",
       "<table border=\"1\" class=\"dataframe\">\n",
       "  <thead>\n",
       "    <tr style=\"text-align: right;\">\n",
       "      <th></th>\n",
       "      <th>IsAlone</th>\n",
       "      <th>Survived</th>\n",
       "    </tr>\n",
       "  </thead>\n",
       "  <tbody>\n",
       "    <tr>\n",
       "      <th>0</th>\n",
       "      <td>0</td>\n",
       "      <td>0.51</td>\n",
       "    </tr>\n",
       "    <tr>\n",
       "      <th>1</th>\n",
       "      <td>1</td>\n",
       "      <td>0.30</td>\n",
       "    </tr>\n",
       "  </tbody>\n",
       "</table>\n",
       "</div>"
      ],
      "text/plain": [
       "   IsAlone  Survived\n",
       "0        0      0.51\n",
       "1        1      0.30"
      ]
     },
     "execution_count": 325,
     "metadata": {},
     "output_type": "execute_result"
    }
   ],
   "source": [
    "df_combine_ = [df_train_, df_test_]\n",
    "for dataset in df_combine_:\n",
    "    dataset['IsAlone'] = 0\n",
    "    dataset.loc[dataset['FamilySize'] == 1, 'IsAlone'] = 1\n",
    "\n",
    "df_train_[['IsAlone', 'Survived']].groupby(['IsAlone'], as_index=False).mean()"
   ]
  },
  {
   "cell_type": "markdown",
   "metadata": {},
   "source": [
    "We can also create an artificial feature combining Pclass and Age."
   ]
  },
  {
   "cell_type": "code",
   "execution_count": 326,
   "metadata": {},
   "outputs": [
    {
     "data": {
      "text/html": [
       "<div>\n",
       "<style scoped>\n",
       "    .dataframe tbody tr th:only-of-type {\n",
       "        vertical-align: middle;\n",
       "    }\n",
       "\n",
       "    .dataframe tbody tr th {\n",
       "        vertical-align: top;\n",
       "    }\n",
       "\n",
       "    .dataframe thead th {\n",
       "        text-align: right;\n",
       "    }\n",
       "</style>\n",
       "<table border=\"1\" class=\"dataframe\">\n",
       "  <thead>\n",
       "    <tr style=\"text-align: right;\">\n",
       "      <th></th>\n",
       "      <th>AgeBand1*Class</th>\n",
       "      <th>AgeBand1</th>\n",
       "      <th>Pclass</th>\n",
       "    </tr>\n",
       "  </thead>\n",
       "  <tbody>\n",
       "    <tr>\n",
       "      <th>0</th>\n",
       "      <td>3</td>\n",
       "      <td>1</td>\n",
       "      <td>3</td>\n",
       "    </tr>\n",
       "    <tr>\n",
       "      <th>1</th>\n",
       "      <td>2</td>\n",
       "      <td>2</td>\n",
       "      <td>1</td>\n",
       "    </tr>\n",
       "    <tr>\n",
       "      <th>2</th>\n",
       "      <td>3</td>\n",
       "      <td>1</td>\n",
       "      <td>3</td>\n",
       "    </tr>\n",
       "    <tr>\n",
       "      <th>3</th>\n",
       "      <td>2</td>\n",
       "      <td>2</td>\n",
       "      <td>1</td>\n",
       "    </tr>\n",
       "    <tr>\n",
       "      <th>4</th>\n",
       "      <td>6</td>\n",
       "      <td>2</td>\n",
       "      <td>3</td>\n",
       "    </tr>\n",
       "    <tr>\n",
       "      <th>5</th>\n",
       "      <td>3</td>\n",
       "      <td>1</td>\n",
       "      <td>3</td>\n",
       "    </tr>\n",
       "    <tr>\n",
       "      <th>6</th>\n",
       "      <td>3</td>\n",
       "      <td>3</td>\n",
       "      <td>1</td>\n",
       "    </tr>\n",
       "    <tr>\n",
       "      <th>7</th>\n",
       "      <td>0</td>\n",
       "      <td>0</td>\n",
       "      <td>3</td>\n",
       "    </tr>\n",
       "    <tr>\n",
       "      <th>8</th>\n",
       "      <td>3</td>\n",
       "      <td>1</td>\n",
       "      <td>3</td>\n",
       "    </tr>\n",
       "    <tr>\n",
       "      <th>9</th>\n",
       "      <td>0</td>\n",
       "      <td>0</td>\n",
       "      <td>2</td>\n",
       "    </tr>\n",
       "  </tbody>\n",
       "</table>\n",
       "</div>"
      ],
      "text/plain": [
       "   AgeBand1*Class  AgeBand1  Pclass\n",
       "0               3         1       3\n",
       "1               2         2       1\n",
       "2               3         1       3\n",
       "3               2         2       1\n",
       "4               6         2       3\n",
       "5               3         1       3\n",
       "6               3         3       1\n",
       "7               0         0       3\n",
       "8               3         1       3\n",
       "9               0         0       2"
      ]
     },
     "execution_count": 326,
     "metadata": {},
     "output_type": "execute_result"
    }
   ],
   "source": [
    "df_combine_ = [df_train_, df_test_]\n",
    "for dataset in df_combine_:\n",
    "    dataset['AgeBand1*Class'] = dataset.AgeBand1 * dataset.Pclass\n",
    "\n",
    "df_train_.loc[:, ['AgeBand1*Class', 'AgeBand1', 'Pclass']].head(10)"
   ]
  },
  {
   "cell_type": "markdown",
   "metadata": {},
   "source": [
    "### (4) Converting a categorical feature"
   ]
  },
  {
   "cell_type": "code",
   "execution_count": 327,
   "metadata": {},
   "outputs": [],
   "source": [
    "df_combine_ = [df_train_, df_test_]\n",
    "for dataset in df_combine_:\n",
    "    dataset['Embarked'] = dataset['Embarked'].map( {'S': 0, 'C': 1, 'Q': 2} ).astype(int)\n",
    "    dataset['Sex'] = dataset['Sex'].map( {'female': 1, 'male': 0} ).astype(int)\n"
   ]
  },
  {
   "cell_type": "markdown",
   "metadata": {},
   "source": [
    "### (5) separate features and target"
   ]
  },
  {
   "cell_type": "code",
   "execution_count": 328,
   "metadata": {},
   "outputs": [
    {
     "data": {
      "text/plain": [
       "Index(['Survived', 'Pclass', 'Sex', 'Age', 'SibSp', 'Parch', 'Fare',\n",
       "       'Embarked', 'AgeBand1', 'AgeBand2', 'FareBand1', 'FareBand2',\n",
       "       'FamilySize', 'IsAlone', 'AgeBand1*Class'],\n",
       "      dtype='object')"
      ]
     },
     "execution_count": 328,
     "metadata": {},
     "output_type": "execute_result"
    }
   ],
   "source": [
    "df_train_.columns"
   ]
  },
  {
   "cell_type": "code",
   "execution_count": 329,
   "metadata": {},
   "outputs": [],
   "source": [
    "def split_to_features_labels(df: pd.DataFrame, feature_list: List, label_list: List) -> Tuple[pd.DataFrame, pd.Series]:\n",
    "    \"\"\" Split the data into feature matrix and the labels vector\"\"\"\n",
    "    df_features = df[feature_list]\n",
    "    df_label = df[label_list]\n",
    "    return df_features, df_label"
   ]
  },
  {
   "cell_type": "code",
   "execution_count": 361,
   "metadata": {},
   "outputs": [],
   "source": [
    "feature_list = ['Pclass', 'Sex', 'Age', 'SibSp', 'Parch', 'Fare', 'Embarked']"
   ]
  },
  {
   "cell_type": "code",
   "execution_count": 331,
   "metadata": {},
   "outputs": [],
   "source": [
    "label_list = 'Survived'\n",
    "df_features, df_label = split_to_features_labels(df_train_, feature_list, label_list)"
   ]
  },
  {
   "cell_type": "markdown",
   "metadata": {},
   "source": [
    "### (6) split into train set and test set\n"
   ]
  },
  {
   "cell_type": "code",
   "execution_count": 332,
   "metadata": {},
   "outputs": [],
   "source": [
    "X_trainval, X_test, y_trainval, y_test = train_test_split( df_features, df_label, test_size=0.2, random_state=0)"
   ]
  },
  {
   "cell_type": "markdown",
   "metadata": {},
   "source": [
    "# 4. Model training"
   ]
  },
  {
   "cell_type": "markdown",
   "metadata": {},
   "source": [
    "## Logistic regression "
   ]
  },
  {
   "cell_type": "code",
   "execution_count": 333,
   "metadata": {},
   "outputs": [
    {
     "data": {
      "text/plain": [
       "GridSearchCV(cv=5, error_score='raise-deprecating',\n",
       "             estimator=LogisticRegression(C=1.0, class_weight=None, dual=False,\n",
       "                                          fit_intercept=True,\n",
       "                                          intercept_scaling=1, l1_ratio=None,\n",
       "                                          max_iter=100, multi_class='warn',\n",
       "                                          n_jobs=None, penalty='l2',\n",
       "                                          random_state=None, solver='warn',\n",
       "                                          tol=0.0001, verbose=0,\n",
       "                                          warm_start=False),\n",
       "             iid='warn', n_jobs=None,\n",
       "             param_grid={'C': [0.001, 0.1, 1, 10, 100, 1000],\n",
       "                         'penalty': ['l1', 'l2'], 'solver': ['liblinear']},\n",
       "             pre_dispatch='2*n_jobs', refit=True, return_train_score=False,\n",
       "             scoring=make_scorer(f1_score), verbose=0)"
      ]
     },
     "execution_count": 333,
     "metadata": {},
     "output_type": "execute_result"
    }
   ],
   "source": [
    "param_grid = {'penalty': ['l1', 'l2'],\n",
    "              'C': [0.001, 0.1, 1, 10, 100, 1000],\n",
    "             'solver': ['liblinear']}\n",
    "scorer = make_scorer(f1_score)\n",
    "\n",
    "model_lg = GridSearchCV(estimator=LogisticRegression(), \n",
    "                        scoring = scorer,\n",
    "                        param_grid = param_grid,\n",
    "                        cv=5)\n",
    "\n",
    "model_lg.fit(X_trainval, y_trainval)\n"
   ]
  },
  {
   "cell_type": "markdown",
   "metadata": {},
   "source": [
    "###  evaluate the parameters"
   ]
  },
  {
   "cell_type": "code",
   "execution_count": 334,
   "metadata": {},
   "outputs": [
    {
     "name": "stdout",
     "output_type": "stream",
     "text": [
      "mean_test_score for different paramters \n",
      " [0.29  0.392 0.721 0.729 0.728 0.718 0.732 0.733 0.732 0.732 0.732 0.732]\n",
      "best scores \n",
      " 0.7330488219279093\n",
      "best estimator \n",
      " LogisticRegression(C=10, class_weight=None, dual=False, fit_intercept=True,\n",
      "                   intercept_scaling=1, l1_ratio=None, max_iter=100,\n",
      "                   multi_class='warn', n_jobs=None, penalty='l2',\n",
      "                   random_state=None, solver='liblinear', tol=0.0001, verbose=0,\n",
      "                   warm_start=False)\n",
      "best parameters \n",
      " {'C': 10, 'penalty': 'l2', 'solver': 'liblinear'}\n"
     ]
    }
   ],
   "source": [
    "mean_test_score = model_lg.cv_results_['mean_test_score']\n",
    "print('mean_test_score for different paramters \\n', mean_test_score)\n",
    "print('best scores \\n', model_lg.best_score_)    \n",
    "print('best estimator \\n', model_lg.best_estimator_)\n",
    "print('best parameters \\n', model_lg.best_params_)"
   ]
  },
  {
   "cell_type": "code",
   "execution_count": 335,
   "metadata": {},
   "outputs": [
    {
     "data": {
      "text/html": [
       "<div>\n",
       "<style scoped>\n",
       "    .dataframe tbody tr th:only-of-type {\n",
       "        vertical-align: middle;\n",
       "    }\n",
       "\n",
       "    .dataframe tbody tr th {\n",
       "        vertical-align: top;\n",
       "    }\n",
       "\n",
       "    .dataframe thead th {\n",
       "        text-align: right;\n",
       "    }\n",
       "</style>\n",
       "<table border=\"1\" class=\"dataframe\">\n",
       "  <thead>\n",
       "    <tr style=\"text-align: right;\">\n",
       "      <th></th>\n",
       "      <th>mean_fit_time</th>\n",
       "      <th>std_fit_time</th>\n",
       "      <th>mean_score_time</th>\n",
       "      <th>std_score_time</th>\n",
       "      <th>...</th>\n",
       "      <th>split4_test_score</th>\n",
       "      <th>mean_test_score</th>\n",
       "      <th>std_test_score</th>\n",
       "      <th>rank_test_score</th>\n",
       "    </tr>\n",
       "  </thead>\n",
       "  <tbody>\n",
       "    <tr>\n",
       "      <th>0</th>\n",
       "      <td>3.80e-03</td>\n",
       "      <td>1.17e-03</td>\n",
       "      <td>2.00e-03</td>\n",
       "      <td>1.60e-06</td>\n",
       "      <td>...</td>\n",
       "      <td>0.28</td>\n",
       "      <td>0.29</td>\n",
       "      <td>0.04</td>\n",
       "      <td>12</td>\n",
       "    </tr>\n",
       "    <tr>\n",
       "      <th>1</th>\n",
       "      <td>3.60e-03</td>\n",
       "      <td>4.91e-04</td>\n",
       "      <td>2.40e-03</td>\n",
       "      <td>4.89e-04</td>\n",
       "      <td>...</td>\n",
       "      <td>0.44</td>\n",
       "      <td>0.39</td>\n",
       "      <td>0.06</td>\n",
       "      <td>11</td>\n",
       "    </tr>\n",
       "    <tr>\n",
       "      <th>2</th>\n",
       "      <td>4.00e-03</td>\n",
       "      <td>6.33e-04</td>\n",
       "      <td>1.80e-03</td>\n",
       "      <td>4.00e-04</td>\n",
       "      <td>...</td>\n",
       "      <td>0.79</td>\n",
       "      <td>0.72</td>\n",
       "      <td>0.05</td>\n",
       "      <td>9</td>\n",
       "    </tr>\n",
       "    <tr>\n",
       "      <th>3</th>\n",
       "      <td>3.40e-03</td>\n",
       "      <td>4.89e-04</td>\n",
       "      <td>1.60e-03</td>\n",
       "      <td>4.90e-04</td>\n",
       "      <td>...</td>\n",
       "      <td>0.79</td>\n",
       "      <td>0.73</td>\n",
       "      <td>0.05</td>\n",
       "      <td>7</td>\n",
       "    </tr>\n",
       "    <tr>\n",
       "      <th>4</th>\n",
       "      <td>5.00e-03</td>\n",
       "      <td>6.03e-07</td>\n",
       "      <td>1.60e-03</td>\n",
       "      <td>4.90e-04</td>\n",
       "      <td>...</td>\n",
       "      <td>0.79</td>\n",
       "      <td>0.73</td>\n",
       "      <td>0.04</td>\n",
       "      <td>8</td>\n",
       "    </tr>\n",
       "  </tbody>\n",
       "</table>\n",
       "<p>5 rows × 16 columns</p>\n",
       "</div>"
      ],
      "text/plain": [
       "   mean_fit_time  std_fit_time  mean_score_time  std_score_time  \\\n",
       "0       3.80e-03      1.17e-03         2.00e-03        1.60e-06   \n",
       "1       3.60e-03      4.91e-04         2.40e-03        4.89e-04   \n",
       "2       4.00e-03      6.33e-04         1.80e-03        4.00e-04   \n",
       "3       3.40e-03      4.89e-04         1.60e-03        4.90e-04   \n",
       "4       5.00e-03      6.03e-07         1.60e-03        4.90e-04   \n",
       "\n",
       "        ...       split4_test_score mean_test_score std_test_score  \\\n",
       "0       ...                    0.28            0.29           0.04   \n",
       "1       ...                    0.44            0.39           0.06   \n",
       "2       ...                    0.79            0.72           0.05   \n",
       "3       ...                    0.79            0.73           0.05   \n",
       "4       ...                    0.79            0.73           0.04   \n",
       "\n",
       "  rank_test_score  \n",
       "0              12  \n",
       "1              11  \n",
       "2               9  \n",
       "3               7  \n",
       "4               8  \n",
       "\n",
       "[5 rows x 16 columns]"
      ]
     },
     "execution_count": 335,
     "metadata": {},
     "output_type": "execute_result"
    }
   ],
   "source": [
    "results = pd.DataFrame(model_lg.cv_results_)\n",
    "results.head(5)"
   ]
  },
  {
   "cell_type": "code",
   "execution_count": 336,
   "metadata": {},
   "outputs": [
    {
     "name": "stdout",
     "output_type": "stream",
     "text": [
      "[[0.29  0.392 0.721 0.729 0.728 0.718]\n",
      " [0.732 0.733 0.732 0.732 0.732 0.732]]\n"
     ]
    },
    {
     "data": {
      "text/plain": [
       "<matplotlib.collections.PolyCollection at 0x287b942db00>"
      ]
     },
     "execution_count": 336,
     "metadata": {},
     "output_type": "execute_result"
    },
    {
     "data": {
      "image/png": "[encoded data removed]",
      "text/plain": [
       "<Figure size 432x288 with 1 Axes>"
      ]
     },
     "metadata": {
      "needs_background": "light"
     },
     "output_type": "display_data"
    }
   ],
   "source": [
    "scores = np.array(results.mean_test_score).reshape(2, 6)\n",
    "print(scores)\n",
    "\n",
    "# plot the mean cross-validation scores\n",
    "mglearn.tools.heatmap(scores, xlabel='C', xticklabels=param_grid['C'],\n",
    "                      ylabel='penalty', yticklabels=param_grid['penalty'], cmap=\"viridis\")"
   ]
  },
  {
   "cell_type": "markdown",
   "metadata": {},
   "source": [
    "We can use Logistic Regression to validate our assumptions and decisions for feature creating and completing goals. \n",
    "This can be done by calculating the coefficient of the features in the decision function. Positive coefficients increase the log-odds of the response (and thus increase the probability), and negative coefficients decrease the log-odds of the response (and thus decrease the probability)."
   ]
  },
  {
   "cell_type": "code",
   "execution_count": 337,
   "metadata": {},
   "outputs": [
    {
     "data": {
      "text/html": [
       "<div>\n",
       "<style scoped>\n",
       "    .dataframe tbody tr th:only-of-type {\n",
       "        vertical-align: middle;\n",
       "    }\n",
       "\n",
       "    .dataframe tbody tr th {\n",
       "        vertical-align: top;\n",
       "    }\n",
       "\n",
       "    .dataframe thead th {\n",
       "        text-align: right;\n",
       "    }\n",
       "</style>\n",
       "<table border=\"1\" class=\"dataframe\">\n",
       "  <thead>\n",
       "    <tr style=\"text-align: right;\">\n",
       "      <th></th>\n",
       "      <th>Feature</th>\n",
       "      <th>Correlation</th>\n",
       "    </tr>\n",
       "  </thead>\n",
       "  <tbody>\n",
       "    <tr>\n",
       "      <th>1</th>\n",
       "      <td>Sex</td>\n",
       "      <td>2.65e+00</td>\n",
       "    </tr>\n",
       "    <tr>\n",
       "      <th>6</th>\n",
       "      <td>Embarked</td>\n",
       "      <td>1.83e-01</td>\n",
       "    </tr>\n",
       "    <tr>\n",
       "      <th>5</th>\n",
       "      <td>Fare</td>\n",
       "      <td>1.69e-03</td>\n",
       "    </tr>\n",
       "    <tr>\n",
       "      <th>4</th>\n",
       "      <td>Parch</td>\n",
       "      <td>-4.78e-02</td>\n",
       "    </tr>\n",
       "    <tr>\n",
       "      <th>2</th>\n",
       "      <td>Age</td>\n",
       "      <td>-4.80e-02</td>\n",
       "    </tr>\n",
       "    <tr>\n",
       "      <th>3</th>\n",
       "      <td>SibSp</td>\n",
       "      <td>-4.00e-01</td>\n",
       "    </tr>\n",
       "    <tr>\n",
       "      <th>0</th>\n",
       "      <td>Pclass</td>\n",
       "      <td>-1.16e+00</td>\n",
       "    </tr>\n",
       "  </tbody>\n",
       "</table>\n",
       "</div>"
      ],
      "text/plain": [
       "    Feature  Correlation\n",
       "1       Sex     2.65e+00\n",
       "6  Embarked     1.83e-01\n",
       "5      Fare     1.69e-03\n",
       "4     Parch    -4.78e-02\n",
       "2       Age    -4.80e-02\n",
       "3     SibSp    -4.00e-01\n",
       "0    Pclass    -1.16e+00"
      ]
     },
     "execution_count": 337,
     "metadata": {},
     "output_type": "execute_result"
    }
   ],
   "source": [
    "coeff_df = pd.DataFrame(feature_list)\n",
    "coeff_df.columns = ['Feature']\n",
    "coeff_df[\"Correlation\"] = pd.Series(model_lg.best_estimator_.coef_[0])\n",
    "coeff_df.sort_values(by='Correlation', ascending=False)"
   ]
  },
  {
   "cell_type": "markdown",
   "metadata": {},
   "source": [
    "**Summary**\n",
    "* L2 has better performance.\n",
    "* the model perform similar with different set of regularization\n",
    "* Sex is highest positivie coefficient, implying as the Sex value increases (male: 0 to female: 1), the probability of Survived=1 increases the most.\n",
    "* Inversely as Pclass increases, probability of Survived=1 decreases the most.\n",
    "* This way Age*Class is a good artificial feature to model as it has second highest negative correlation with Survived.\n",
    "\n"
   ]
  },
  {
   "cell_type": "markdown",
   "metadata": {},
   "source": [
    "### evaluate the performance in the test data set"
   ]
  },
  {
   "cell_type": "code",
   "execution_count": 338,
   "metadata": {},
   "outputs": [],
   "source": [
    "probs = model_lg.predict_proba(X_test)\n",
    "predicted = model_lg.predict(X_test)"
   ]
  },
  {
   "cell_type": "markdown",
   "metadata": {},
   "source": [
    "#### (1) accuracy "
   ]
  },
  {
   "cell_type": "code",
   "execution_count": 339,
   "metadata": {},
   "outputs": [
    {
     "name": "stdout",
     "output_type": "stream",
     "text": [
      "accuracy for the test data is:  0.8100558659217877\n"
     ]
    }
   ],
   "source": [
    "accuracy = accuracy_score(y_test, predicted)\n",
    "print('accuracy for the test data is: ', accuracy)"
   ]
  },
  {
   "cell_type": "markdown",
   "metadata": {},
   "source": [
    "#### (2) classification report"
   ]
  },
  {
   "cell_type": "code",
   "execution_count": 340,
   "metadata": {},
   "outputs": [
    {
     "name": "stdout",
     "output_type": "stream",
     "text": [
      "              precision    recall  f1-score   support\n",
      "\n",
      "           0       0.83      0.86      0.85       110\n",
      "           1       0.77      0.72      0.75        69\n",
      "\n",
      "    accuracy                           0.81       179\n",
      "   macro avg       0.80      0.79      0.80       179\n",
      "weighted avg       0.81      0.81      0.81       179\n",
      "\n"
     ]
    }
   ],
   "source": [
    "print(classification_report(y_test, predicted))"
   ]
  },
  {
   "cell_type": "markdown",
   "metadata": {},
   "source": [
    "**summary**\n",
    "* F1 score for lable 1 is 0.73 in the training set, and 0.75 for the test set. The model generalize well. "
   ]
  },
  {
   "cell_type": "markdown",
   "metadata": {},
   "source": [
    "#### (3) precision_recall_curve"
   ]
  },
  {
   "cell_type": "code",
   "execution_count": 341,
   "metadata": {},
   "outputs": [],
   "source": [
    "def plot_precision_recall_curve(y_test: pd.DataFrame, probability: pd.DataFrame, predicted: pd.DataFrame ):\n",
    "    \"\"\"Plot the recall precision tradeoff\"\"\"\n",
    "   \n",
    "    precision, recall, threshold = precision_recall_curve(y_test, probability)\n",
    "    #print('precision is', precision)\n",
    "    #print('recall is', recall)\n",
    "    \n",
    "    precision_ = precision_score(y_test, predicted)\n",
    "    print('precision is ', precision_)\n",
    "    recall_ = recall_score(y_test, predicted)\n",
    "    print('recall is', recall_)\n",
    "    f1 = f1_score(y_test, predicted)\n",
    "    print('f1 score is', f1)\n",
    "    \n",
    "    average_precision = average_precision_score(y_test, probability)\n",
    "    print('average precision is', average_precision)\n",
    "    \n",
    "    # calculate precision-recall AUC (area under the curve)\n",
    "    auc_ = auc(recall, precision)\n",
    "    print('precision-recall AUC is', auc_)\n",
    "    \n",
    "    # In matplotlib < 1.5, plt.fill_between does not have a 'step' argument\n",
    "    step_kwargs = ({'step': 'post'}\n",
    "                    if 'step' in signature(plt.fill_between).parameters\n",
    "                    else {})\n",
    "    plt.step(recall, precision, color='b', alpha=0.2, where='post')\n",
    "    plt.fill_between(recall, precision, alpha=0.2, color='b', **step_kwargs)\n",
    "\n",
    "    plt.xlabel('Recall')\n",
    "    plt.ylabel('Precision')\n",
    "    plt.ylim([0.0, 1.05])\n",
    "    plt.xlim([0.0, 1.0])\n",
    "    plt.title('2-class Precision-Recall curve: AP={0:0.2f}'.format(\n",
    "              average_precision))\n"
   ]
  },
  {
   "cell_type": "code",
   "execution_count": 342,
   "metadata": {},
   "outputs": [
    {
     "name": "stdout",
     "output_type": "stream",
     "text": [
      "precision is  0.7692307692307693\n",
      "recall is 0.7246376811594203\n",
      "f1 score is 0.7462686567164178\n",
      "average precision is 0.8479609664270423\n",
      "precision-recall AUC is 0.8470193875242757\n"
     ]
    },
    {
     "data": {
      "image/png": "[encoded data removed]",
      "text/plain": [
       "<Figure size 432x288 with 1 Axes>"
      ]
     },
     "metadata": {
      "needs_background": "light"
     },
     "output_type": "display_data"
    }
   ],
   "source": [
    "predicted = model_lg.predict(X_test)\n",
    "plot_precision_recall_curve(y_test, probs[:,1], predicted)"
   ]
  },
  {
   "cell_type": "markdown",
   "metadata": {},
   "source": [
    "#### (4) ROC curve\n"
   ]
  },
  {
   "cell_type": "code",
   "execution_count": 343,
   "metadata": {},
   "outputs": [],
   "source": [
    "def plot_roc_curve(y_test: pd.DataFrame, probability: pd.DataFrame):\n",
    "    plt.figure()\n",
    "    fpr, tpr, threshold = roc_curve(y_test, probability)\n",
    "    roc_auc = auc(tpr, fpr)    # Compute Area Under the Curve (AUC) using the trapezoidal rule\n",
    "    \n",
    "    # Plotting\n",
    "    lw = 2\n",
    "    plt.plot(fpr, tpr, color='darkorange', lw=lw, label='ROC curve (area = %0.2f)' % roc_auc)\n",
    "    plt.plot([0, 1], [0, 1], color='navy', lw=lw, linestyle='--')\n",
    "    plt.xlim([0.0, 1.0])\n",
    "    plt.ylim([0.0, 1.05])\n",
    "    plt.xlabel('False Positive Rate')\n",
    "    plt.ylabel('True Positive Rate')\n",
    "    plt.title('Receiver operating characteristic example')\n",
    "    plt.legend(loc=\"lower right\")\n",
    "    plt.show()\n",
    "    \n",
    "    print('ROC AUC(area under the curve) is', roc_auc_score(y_test, probability)) \n",
    "    print('threshold values :', threshold[0: 20])"
   ]
  },
  {
   "cell_type": "code",
   "execution_count": 344,
   "metadata": {},
   "outputs": [
    {
     "data": {
      "image/png": "[encoded data removed]",
      "text/plain": [
       "<Figure size 432x288 with 1 Axes>"
      ]
     },
     "metadata": {
      "needs_background": "light"
     },
     "output_type": "display_data"
    },
    {
     "name": "stdout",
     "output_type": "stream",
     "text": [
      "ROC AUC(area under the curve) is 0.8632411067193676\n",
      "threshold values : [1.968 0.968 0.79  0.784 0.76  0.759 0.754 0.725 0.687 0.683 0.678 0.677\n",
      " 0.656 0.636 0.636 0.616 0.608 0.564 0.558 0.538]\n"
     ]
    }
   ],
   "source": [
    "plot_roc_curve(y_test, np.ravel(probs[:,1]))"
   ]
  },
  {
   "cell_type": "code",
   "execution_count": null,
   "metadata": {},
   "outputs": [],
   "source": []
  },
  {
   "cell_type": "markdown",
   "metadata": {},
   "source": [
    "## Random Forest"
   ]
  },
  {
   "cell_type": "code",
   "execution_count": 345,
   "metadata": {},
   "outputs": [
    {
     "name": "stderr",
     "output_type": "stream",
     "text": [
      "c:\\program files\\python37\\lib\\site-packages\\sklearn\\model_selection\\_search.py:813: DeprecationWarning: The default of the `iid` parameter will change from True to False in version 0.22 and will be removed in 0.24. This will change numeric results when test-set sizes are unequal.\n",
      "  DeprecationWarning)\n"
     ]
    },
    {
     "data": {
      "text/plain": [
       "GridSearchCV(cv=5, error_score='raise-deprecating',\n",
       "             estimator=RandomForestClassifier(bootstrap=True, class_weight=None,\n",
       "                                              criterion='gini', max_depth=None,\n",
       "                                              max_features='auto',\n",
       "                                              max_leaf_nodes=None,\n",
       "                                              min_impurity_decrease=0.0,\n",
       "                                              min_impurity_split=None,\n",
       "                                              min_samples_leaf=1,\n",
       "                                              min_samples_split=2,\n",
       "                                              min_weight_fraction_leaf=0.0,\n",
       "                                              n_estimators='warn', n_jobs=None,\n",
       "                                              oob_score=False,\n",
       "                                              random_state=None, verbose=0,\n",
       "                                              warm_start=False),\n",
       "             iid='warn', n_jobs=None,\n",
       "             param_grid={'criterion': ['gini'], 'max_depth': [8, 16],\n",
       "                         'max_features': ['log2'],\n",
       "                         'n_estimators': [1, 30, 100, 500, 1000]},\n",
       "             pre_dispatch='2*n_jobs', refit=True, return_train_score=False,\n",
       "             scoring=make_scorer(f1_score), verbose=0)"
      ]
     },
     "execution_count": 345,
     "metadata": {},
     "output_type": "execute_result"
    }
   ],
   "source": [
    "#param_grid = {'n_estimators': [1, 30, 100], 'max_features': ['auto', 'log2'],  \n",
    "#              'max_depth': [2, 4, 8, 16], 'criterion': ['gini', 'entropy']\n",
    "#}\n",
    "\n",
    "param_grid = {'n_estimators': [1, 30, 100, 500, 1000], 'max_features': ['log2'],  \n",
    "              'max_depth': [8, 16], 'criterion': ['gini']\n",
    "}\n",
    "\n",
    "scorer = make_scorer(f1_score)\n",
    "\n",
    "model_rf = GridSearchCV(estimator=RandomForestClassifier(), \n",
    "                        scoring = scorer,\n",
    "                        param_grid = param_grid,\n",
    "                        cv=5)\n",
    "\n",
    "model_rf.fit(X_trainval, y_trainval)\n"
   ]
  },
  {
   "cell_type": "code",
   "execution_count": 346,
   "metadata": {},
   "outputs": [
    {
     "name": "stdout",
     "output_type": "stream",
     "text": [
      "mean_test_score for different paramters \n",
      " [0.675 0.747 0.754 0.747 0.749 0.659 0.724 0.725 0.726 0.726]\n",
      "best scores \n",
      " 0.754374773459043\n",
      "best estimator \n",
      " RandomForestClassifier(bootstrap=True, class_weight=None, criterion='gini',\n",
      "                       max_depth=8, max_features='log2', max_leaf_nodes=None,\n",
      "                       min_impurity_decrease=0.0, min_impurity_split=None,\n",
      "                       min_samples_leaf=1, min_samples_split=2,\n",
      "                       min_weight_fraction_leaf=0.0, n_estimators=100,\n",
      "                       n_jobs=None, oob_score=False, random_state=None,\n",
      "                       verbose=0, warm_start=False)\n",
      "best parameters \n",
      " {'criterion': 'gini', 'max_depth': 8, 'max_features': 'log2', 'n_estimators': 100}\n"
     ]
    }
   ],
   "source": [
    "mean_test_score = model_rf.cv_results_['mean_test_score']\n",
    "print('mean_test_score for different paramters \\n', mean_test_score)\n",
    "print('best scores \\n', model_rf.best_score_)    \n",
    "print('best estimator \\n', model_rf.best_estimator_)\n",
    "print('best parameters \\n', model_rf.best_params_)"
   ]
  },
  {
   "cell_type": "code",
   "execution_count": 347,
   "metadata": {},
   "outputs": [
    {
     "name": "stdout",
     "output_type": "stream",
     "text": [
      "  param_max_depth param_n_estimators  mean_test_score\n",
      "0               8                  1             0.67\n",
      "1               8                 30             0.75\n",
      "2               8                100             0.75\n",
      "3               8                500             0.75\n",
      "4               8               1000             0.75\n",
      "5              16                  1             0.66\n",
      "6              16                 30             0.72\n",
      "7              16                100             0.73\n",
      "8              16                500             0.73\n",
      "9              16               1000             0.73\n",
      "[[0.675 0.747 0.754 0.747 0.749]\n",
      " [0.659 0.724 0.725 0.726 0.726]]\n"
     ]
    },
    {
     "data": {
      "text/plain": [
       "<matplotlib.collections.PolyCollection at 0x287b9823ba8>"
      ]
     },
     "execution_count": 347,
     "metadata": {},
     "output_type": "execute_result"
    },
    {
     "data": {
      "image/png": "[encoded data removed]",
      "text/plain": [
       "<Figure size 432x288 with 1 Axes>"
      ]
     },
     "metadata": {
      "needs_background": "light"
     },
     "output_type": "display_data"
    }
   ],
   "source": [
    "results = pd.DataFrame(model_rf.cv_results_)\n",
    "print(results[['param_max_depth', 'param_n_estimators', 'mean_test_score']])\n",
    "scores = np.array(results.mean_test_score).reshape(2, 5)\n",
    "print(scores)\n",
    "\n",
    "# plot the mean cross-validation scores\n",
    "mglearn.tools.heatmap(scores, xlabel='n_estimators', xticklabels=param_grid['n_estimators'],\n",
    "                      ylabel='depth', yticklabels=param_grid['max_depth'], cmap=\"viridis\")"
   ]
  },
  {
   "cell_type": "code",
   "execution_count": 348,
   "metadata": {},
   "outputs": [
    {
     "data": {
      "text/html": [
       "<div>\n",
       "<style scoped>\n",
       "    .dataframe tbody tr th:only-of-type {\n",
       "        vertical-align: middle;\n",
       "    }\n",
       "\n",
       "    .dataframe tbody tr th {\n",
       "        vertical-align: top;\n",
       "    }\n",
       "\n",
       "    .dataframe thead th {\n",
       "        text-align: right;\n",
       "    }\n",
       "</style>\n",
       "<table border=\"1\" class=\"dataframe\">\n",
       "  <thead>\n",
       "    <tr style=\"text-align: right;\">\n",
       "      <th></th>\n",
       "      <th>Feature</th>\n",
       "      <th>Correlation</th>\n",
       "    </tr>\n",
       "  </thead>\n",
       "  <tbody>\n",
       "    <tr>\n",
       "      <th>1</th>\n",
       "      <td>Sex</td>\n",
       "      <td>0.35</td>\n",
       "    </tr>\n",
       "    <tr>\n",
       "      <th>5</th>\n",
       "      <td>Fare</td>\n",
       "      <td>0.21</td>\n",
       "    </tr>\n",
       "    <tr>\n",
       "      <th>2</th>\n",
       "      <td>Age</td>\n",
       "      <td>0.19</td>\n",
       "    </tr>\n",
       "    <tr>\n",
       "      <th>0</th>\n",
       "      <td>Pclass</td>\n",
       "      <td>0.11</td>\n",
       "    </tr>\n",
       "    <tr>\n",
       "      <th>3</th>\n",
       "      <td>SibSp</td>\n",
       "      <td>0.06</td>\n",
       "    </tr>\n",
       "    <tr>\n",
       "      <th>4</th>\n",
       "      <td>Parch</td>\n",
       "      <td>0.04</td>\n",
       "    </tr>\n",
       "    <tr>\n",
       "      <th>6</th>\n",
       "      <td>Embarked</td>\n",
       "      <td>0.04</td>\n",
       "    </tr>\n",
       "  </tbody>\n",
       "</table>\n",
       "</div>"
      ],
      "text/plain": [
       "    Feature  Correlation\n",
       "1       Sex         0.35\n",
       "5      Fare         0.21\n",
       "2       Age         0.19\n",
       "0    Pclass         0.11\n",
       "3     SibSp         0.06\n",
       "4     Parch         0.04\n",
       "6  Embarked         0.04"
      ]
     },
     "execution_count": 348,
     "metadata": {},
     "output_type": "execute_result"
    }
   ],
   "source": [
    "coeff_df = pd.DataFrame(feature_list)\n",
    "coeff_df.columns = ['Feature']\n",
    "coeff_df[\"Correlation\"] = pd.Series(model_rf.best_estimator_.feature_importances_)\n",
    "coeff_df.sort_values(by='Correlation', ascending=False)\n"
   ]
  },
  {
   "cell_type": "markdown",
   "metadata": {},
   "source": [
    "**Summary**\n",
    "* the features importance is different from the result from the logistic regresssion. However, Sex is still the number one factor. "
   ]
  },
  {
   "cell_type": "markdown",
   "metadata": {},
   "source": [
    "### evaluate the performance in the test data set"
   ]
  },
  {
   "cell_type": "code",
   "execution_count": 349,
   "metadata": {},
   "outputs": [],
   "source": [
    "probs = model_rf.predict_proba(X_test)\n",
    "predicted = model_rf.predict(X_test)"
   ]
  },
  {
   "cell_type": "markdown",
   "metadata": {},
   "source": [
    "#### (1) accuracy "
   ]
  },
  {
   "cell_type": "code",
   "execution_count": 350,
   "metadata": {},
   "outputs": [
    {
     "name": "stdout",
     "output_type": "stream",
     "text": [
      "accuracy for the test data is:  0.8379888268156425\n"
     ]
    }
   ],
   "source": [
    "accuracy = accuracy_score(y_test, predicted)\n",
    "print('accuracy for the test data is: ', accuracy)"
   ]
  },
  {
   "cell_type": "code",
   "execution_count": 351,
   "metadata": {},
   "outputs": [
    {
     "data": {
      "text/plain": [
       "0.8379888268156425"
      ]
     },
     "execution_count": 351,
     "metadata": {},
     "output_type": "execute_result"
    }
   ],
   "source": [
    "accuracy_score(y_test, predicted)"
   ]
  },
  {
   "cell_type": "markdown",
   "metadata": {},
   "source": [
    "#### (2) classification report"
   ]
  },
  {
   "cell_type": "code",
   "execution_count": 352,
   "metadata": {},
   "outputs": [
    {
     "name": "stdout",
     "output_type": "stream",
     "text": [
      "              precision    recall  f1-score   support\n",
      "\n",
      "           0       0.83      0.93      0.88       110\n",
      "           1       0.86      0.70      0.77        69\n",
      "\n",
      "    accuracy                           0.84       179\n",
      "   macro avg       0.84      0.81      0.82       179\n",
      "weighted avg       0.84      0.84      0.83       179\n",
      "\n"
     ]
    }
   ],
   "source": [
    "print(classification_report(y_test, predicted))"
   ]
  },
  {
   "cell_type": "markdown",
   "metadata": {},
   "source": [
    "**summary**\n",
    "* F1 score for lable 1 is 0.75 in the training set, and 0.77 for the test set. The model generalize well. "
   ]
  },
  {
   "cell_type": "markdown",
   "metadata": {},
   "source": [
    "#### (3) precision_recall_curve"
   ]
  },
  {
   "cell_type": "code",
   "execution_count": 353,
   "metadata": {},
   "outputs": [
    {
     "name": "stdout",
     "output_type": "stream",
     "text": [
      "precision is  0.8571428571428571\n",
      "recall is 0.6956521739130435\n",
      "f1 score is 0.7679999999999999\n",
      "average precision is 0.8716250566820378\n",
      "precision-recall AUC is 0.8705314747897169\n"
     ]
    },
    {
     "data": {
      "image/png": "[encoded data removed]",
      "text/plain": [
       "<Figure size 432x288 with 1 Axes>"
      ]
     },
     "metadata": {
      "needs_background": "light"
     },
     "output_type": "display_data"
    }
   ],
   "source": [
    "predicted = model_rf.predict(X_test)\n",
    "plot_precision_recall_curve(y_test, probs[:,1], predicted)"
   ]
  },
  {
   "cell_type": "markdown",
   "metadata": {},
   "source": [
    "#### (4) ROC curve\n"
   ]
  },
  {
   "cell_type": "code",
   "execution_count": 354,
   "metadata": {},
   "outputs": [
    {
     "data": {
      "image/png": "[encoded data removed]",
      "text/plain": [
       "<Figure size 432x288 with 1 Axes>"
      ]
     },
     "metadata": {
      "needs_background": "light"
     },
     "output_type": "display_data"
    },
    {
     "name": "stdout",
     "output_type": "stream",
     "text": [
      "ROC AUC(area under the curve) is 0.9018445322793148\n",
      "threshold values : [1.995 0.995 0.945 0.941 0.895 0.893 0.605 0.602 0.581 0.564 0.521 0.511\n",
      " 0.495 0.455 0.423 0.411 0.405 0.395 0.39  0.39 ]\n"
     ]
    }
   ],
   "source": [
    "plot_roc_curve(y_test, np.ravel(probs[:,1]))"
   ]
  },
  {
   "cell_type": "markdown",
   "metadata": {},
   "source": [
    "###  compare logistic regression with random forest"
   ]
  },
  {
   "cell_type": "code",
   "execution_count": 355,
   "metadata": {},
   "outputs": [
    {
     "data": {
      "text/plain": [
       "<matplotlib.legend.Legend at 0x287bad5b208>"
      ]
     },
     "execution_count": 355,
     "metadata": {},
     "output_type": "execute_result"
    },
    {
     "data": {
      "image/png": "[encoded data removed]",
      "text/plain": [
       "<Figure size 432x288 with 1 Axes>"
      ]
     },
     "metadata": {
      "needs_background": "light"
     },
     "output_type": "display_data"
    }
   ],
   "source": [
    "presicion_lg, recall_lg, thresholds_lg = precision_recall_curve(y_test, model_lg.predict_proba(X_test)[:, 1])\n",
    "plt.plot(presicion_lg, recall_lg, label='lg')\n",
    "\n",
    "presicion_rf, recall_rf, thresholds_rf = precision_recall_curve(y_test, model_rf.predict_proba(X_test)[:, 1])\n",
    "plt.plot(presicion_rf, recall_rf, label='rf')\n",
    "plt.xlabel('precision')\n",
    "plt.ylabel('recall')\n",
    "plt.legend(loc='best')"
   ]
  },
  {
   "cell_type": "code",
   "execution_count": 356,
   "metadata": {},
   "outputs": [
    {
     "data": {
      "text/plain": [
       "<matplotlib.legend.Legend at 0x287bae00f98>"
      ]
     },
     "execution_count": 356,
     "metadata": {},
     "output_type": "execute_result"
    },
    {
     "data": {
      "image/png": "[encoded data removed]",
      "text/plain": [
       "<Figure size 432x288 with 1 Axes>"
      ]
     },
     "metadata": {
      "needs_background": "light"
     },
     "output_type": "display_data"
    }
   ],
   "source": [
    "fpr_lg, tpr_lg, thresholds_lg = roc_curve(y_test, model_lg.predict_proba(X_test)[:, 1])\n",
    "plt.plot(fpr_lg, tpr_lg, label='lg')\n",
    "\n",
    "fpr_rf, tpr_rf, thresholds_rf = roc_curve(y_test, model_rf.predict_proba(X_test)[:, 1])\n",
    "plt.plot(fpr_rf, tpr_rf, label='rf')\n",
    "plt.xlabel('FPR')\n",
    "plt.ylabel('TPR recall')\n",
    "plt.legend(loc='best')"
   ]
  },
  {
   "cell_type": "markdown",
   "metadata": {},
   "source": [
    "**summary**\n",
    "* For the recall-precision curve, the Area Under the Curve from random forest is larger than the from the logistic regression. Which means with precision increases, the recall drop less in the randome forest.\n",
    "* for the ROC curve, the curve from random forest is to the upper left of the curve from logistic regression. It means with the same recall, it has less false positive rate.\n",
    "* As a result, Random forest has better performance than the logistic regression"
   ]
  },
  {
   "cell_type": "markdown",
   "metadata": {},
   "source": [
    "# 5. Try different engineering features\n",
    "try different features, then re run the above models again"
   ]
  },
  {
   "cell_type": "code",
   "execution_count": 357,
   "metadata": {},
   "outputs": [],
   "source": [
    "# add the engineering features\n",
    "\"\"\"\n",
    "feature_list = ['Pclass', 'Sex', 'Age', 'SibSp', 'Parch', 'Fare',\n",
    "       'Embarked', 'AgeBand1',  'FareBand1' ,\n",
    "       'FamilySize', 'IsAlone', 'AgeBand1*Class']\n",
    "\"\"\""
   ]
  },
  {
   "cell_type": "code",
   "execution_count": 358,
   "metadata": {},
   "outputs": [],
   "source": [
    "# add another  engineering features\n",
    "\"\"\"\n",
    "feature_list = ['Pclass', 'Sex', 'Age', 'SibSp', 'Parch', 'Fare',\n",
    "       'Embarked',  'AgeBand2',  'FareBand2',\n",
    "       'FamilySize', 'IsAlone']\n",
    "\"\"\""
   ]
  },
  {
   "cell_type": "code",
   "execution_count": null,
   "metadata": {},
   "outputs": [],
   "source": [
    "# add the engineering features and drop the original features\n",
    "\"\"\"\n",
    "feature_list = ['Pclass', 'Sex',\n",
    "       'Embarked', 'AgeBand1',  'FareBand1' ,\n",
    "       'FamilySize', 'IsAlone', 'AgeBand1*Class']\n",
    "\"\"\""
   ]
  },
  {
   "cell_type": "code",
   "execution_count": null,
   "metadata": {},
   "outputs": [],
   "source": []
  },
  {
   "cell_type": "markdown",
   "metadata": {},
   "source": [
    "**Summary**\n",
    "\n",
    "(1)  feature_list = ['Pclass', 'Sex', 'Age', 'SibSp', 'Parch', 'Fare', 'Embarked']\n",
    "\n",
    "* lg:  F1 score for lable 1 is 0.73 in the training set, and 0.75 for the test set.\n",
    "* rf:  F1 score for lable 1 is 0.75 in the training set, and 0.77 for the test set.\n",
    "\n",
    "\n",
    "\n",
    "(2) feature_list = ['Pclass', 'Sex', 'Age', 'SibSp', 'Parch', 'Fare', 'Embarked', 'AgeBand1',  'FareBand1' , 'FamilySize', 'IsAlone', 'AgeBand1*Class'] \n",
    "\t   \n",
    "* lg:\tF1 score for lable 1 is 0.72 in the training set, and 0.71 for the test set. \n",
    "* Rf: \tF1 score for lable 1 is 0.75 in the training set, and 0.77 for the test set. \n",
    "\n",
    "\n",
    "(3) feature_list = ['Pclass', 'Sex', 'Age', 'SibSp', 'Parch', 'Fare', 'Embarked',  'AgeBand2',  'FareBand2', 'FamilySize', 'IsAlone']\n",
    "\t   \n",
    "* lg: F1 score for lable 1 is 0.75 in the training set, and 0.74 for the test set. \n",
    "* rf: F1 score for lable 1 is 0.74 in the training set, and 0.75 for the test set.\n",
    "\n",
    "(4) feature_list = ['Pclass', 'Sex','Embarked', 'AgeBand1',  'FareBand1' ,'FamilySize', 'IsAlone', 'AgeBand1*Class']\n",
    "\n",
    "* lg: F1 score for lable 1 is 0.72 in the training set, and 0.75 for the test set.\n",
    "* rf: F1 score for lable 1 is 0.72 in the training set, and 0.78 for the test set. \n",
    "\n",
    "\n",
    "* For logistic regression, if I add the engineering features (features list3) , the f1 score for the training set is the best, however the test set is not. But we don't use test set to influce on the features we choose. Test set is just for evaluate the generalization of the model. \n",
    "\n",
    "* for random forest, the original features are good enough, adding the engineering features didn't help or even decrease the perfrmance. If we drop the original features, random forest perform worse.\n",
    "\n",
    "* Overal, random forest with the original features perform better than the logistic regression model. "
   ]
  },
  {
   "cell_type": "markdown",
   "metadata": {},
   "source": [
    "# 6.  Submission"
   ]
  },
  {
   "cell_type": "code",
   "execution_count": 362,
   "metadata": {},
   "outputs": [],
   "source": [
    "X_test_2 = df_test_[feature_list]\n",
    "y_test_2 = model_rf.predict(X_test_2)"
   ]
  },
  {
   "cell_type": "code",
   "execution_count": 364,
   "metadata": {},
   "outputs": [],
   "source": [
    "submission = pd.DataFrame({\n",
    "        \"PassengerId\": df_test[\"PassengerId\"],\n",
    "        \"Survived\": y_test_2\n",
    "    })\n",
    "submission.to_csv('result.csv', index=False)"
   ]
  },
  {
   "cell_type": "markdown",
   "metadata": {},
   "source": [
    "# References\n",
    "* https://www.kaggle.com/c/titanic/overview/tutorials\n",
    "* https://www.kaggle.com/startupsci/titanic-data-science-solutions\n",
    "* Introduction to Machine Learning with Python by Sarah Guido, Andreas C. Müller, Publisher: O'Reilly Media, Inc., Release Date: October 2016, ISBN: 9781449369880\n",
    "\n"
   ]
  }
 ],
 "metadata": {
  "kernelspec": {
   "display_name": "Python 3",
   "language": "python",
   "name": "python3"
  },
  "language_info": {
   "codemirror_mode": {
    "name": "ipython",
    "version": 3
   },
   "file_extension": ".py",
   "mimetype": "text/x-python",
   "name": "python",
   "nbconvert_exporter": "python",
   "pygments_lexer": "ipython3",
   "version": "3.7.3"
  }
 },
 "nbformat": 4,
 "nbformat_minor": 2
}
