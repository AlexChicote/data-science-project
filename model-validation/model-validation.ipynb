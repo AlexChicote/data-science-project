{
 "cells": [
  {
   "cell_type": "markdown",
   "metadata": {},
   "source": [
    "Dataset: \n",
    "https://www.kaggle.com/fivethirtyeight/the-ultimate-halloween-candy-power-ranking\n",
    "\n",
    "Tutorial:\n",
    "https://www.datacamp.com/courses/model-validation-in-python\n",
    "\n",
    "This project is about the model validation using random forest as an example.\n",
    "I compared the traditional train, cross-validation, and test set method and the Kfold method.\n"
   ]
  },
  {
   "cell_type": "code",
   "execution_count": 129,
   "metadata": {},
   "outputs": [],
   "source": [
    "from datetime import datetime\n",
    "from typing import List, Dict\n",
    "import re\n",
    "from typing import List, Tuple\n",
    "\n",
    "import pandas as pd\n",
    "import numpy as np\n",
    "import seaborn as sns\n",
    "import matplotlib.pyplot as plt\n",
    "\n",
    "import sklearn\n",
    "from sklearn.model_selection import train_test_split, GridSearchCV, KFold, cross_val_score, RandomizedSearchCV\n",
    "from sklearn.utils.fixes import signature\n",
    "from sklearn.metrics import confusion_matrix, classification_report, accuracy_score, precision_recall_curve, \\\n",
    "roc_auc_score, average_precision_score, mean_absolute_error, mean_squared_error, precision_score, make_scorer\n",
    "\n",
    "from sklearn.linear_model import LogisticRegression\n",
    "from sklearn.decomposition import PCA\n",
    "from sklearn.datasets import make_classification\n",
    "from sklearn.ensemble import RandomForestClassifier, VotingClassifier, RandomForestRegressor\n",
    "from sklearn.tree import DecisionTreeClassifier\n",
    "from sklearn.externals import joblib\n",
    "\n",
    "from imblearn.over_sampling import RandomOverSampler, SMOTE\n",
    "from imblearn.pipeline import Pipeline \n"
   ]
  },
  {
   "cell_type": "markdown",
   "metadata": {},
   "source": [
    "# (1) Traditional train, cross validation, and test split"
   ]
  },
  {
   "cell_type": "code",
   "execution_count": 147,
   "metadata": {},
   "outputs": [],
   "source": [
    "def split_to_features_labels(df: pd.DataFrame, non_feature_list: List, label_list: List) -> Tuple[pd.DataFrame, pd.Series]:\n",
    "    \"\"\" Split the data into feature matrix and the labels vector\"\"\"\n",
    "    df_features = df.drop(non_feature_list, axis=1)\n",
    "    df_label = df[label_list]\n",
    "    return df_features, df_label\n",
    "\n",
    "def get_model_results_classification(X_train, y_train, X_test, y_test, model):\n",
    "    \"\"\"Train the model and evalute it\"\"\"\n",
    "\n",
    "    model.fit(X_train, np.ravel(y_train))\n",
    "    predicted = model.predict(X_test)\n",
    "    accuracy = accuracy_score(y_test, predicted)\n",
    "    precision = precision_score(y_test, predicted, pos_label=\"positive\")\n",
    "    print('Accuracy: ', accuracy)\n",
    "    print('precision: ', precision)\n",
    "    print('Classification report \\n', classification_report(y_test, predicted))\n",
    "    print('Confusion matrix \\n', confusion_matrix(y_test, predicted))\n",
    "    return predicted, accuracy, precision"
   ]
  },
  {
   "cell_type": "code",
   "execution_count": 6,
   "metadata": {},
   "outputs": [],
   "source": []
  },
  {
   "cell_type": "markdown",
   "metadata": {},
   "source": [
    "### Regression"
   ]
  },
  {
   "cell_type": "code",
   "execution_count": 148,
   "metadata": {},
   "outputs": [
    {
     "name": "stdout",
     "output_type": "stream",
     "text": [
      "Index(['competitorname', 'chocolate', 'fruity', 'caramel', 'peanutyalmondy',\n",
      "       'nougat', 'crispedricewafer', 'hard', 'bar', 'pluribus', 'sugarpercent',\n",
      "       'pricepercent', 'winpercent'],\n",
      "      dtype='object')\n"
     ]
    }
   ],
   "source": [
    "df_original = pd.read_csv(\"candy-data.csv\")\n",
    "print(df_original.columns)\n",
    "\n",
    "df = df_original.copy()\n",
    "X, y = split_to_features_labels(df, non_feature_list=['winpercent', 'competitorname'], label_list=['winpercent'])\n",
    "\n"
   ]
  },
  {
   "cell_type": "code",
   "execution_count": 149,
   "metadata": {},
   "outputs": [],
   "source": [
    "# Create temporary training and final testing datasets\n",
    "X_temp, X_test, y_temp, y_test  =\\\n",
    "    train_test_split(X, y, test_size=0.2, random_state=1111)\n",
    "\n",
    "# Create the final training and validation datasets\n",
    "X_train, X_val, y_train, y_val =\\\n",
    "    train_test_split(X_temp, y_temp, test_size=0.25, random_state=1111)"
   ]
  },
  {
   "cell_type": "code",
   "execution_count": 150,
   "metadata": {},
   "outputs": [],
   "source": [
    "rfr = RandomForestRegressor()\n",
    "rfr.n_estimators = 100\n",
    "rfr.max_depth = 6\n",
    "rfr.random_state = 1111\n"
   ]
  },
  {
   "cell_type": "code",
   "execution_count": 151,
   "metadata": {},
   "outputs": [
    {
     "name": "stderr",
     "output_type": "stream",
     "text": [
      "c:\\program files (x86)\\python37-32\\lib\\site-packages\\ipykernel_launcher.py:1: DataConversionWarning: A column-vector y was passed when a 1d array was expected. Please change the shape of y to (n_samples,), for example using ravel().\n",
      "  \"\"\"Entry point for launching an IPython kernel.\n"
     ]
    },
    {
     "data": {
      "text/plain": [
       "RandomForestRegressor(bootstrap=True, criterion='mse', max_depth=6,\n",
       "           max_features='auto', max_leaf_nodes=None,\n",
       "           min_impurity_decrease=0.0, min_impurity_split=None,\n",
       "           min_samples_leaf=1, min_samples_split=2,\n",
       "           min_weight_fraction_leaf=0.0, n_estimators=100, n_jobs=None,\n",
       "           oob_score=False, random_state=1111, verbose=0, warm_start=False)"
      ]
     },
     "execution_count": 151,
     "metadata": {},
     "output_type": "execute_result"
    }
   ],
   "source": [
    "rfr.fit(X_train, y_train)\n"
   ]
  },
  {
   "cell_type": "code",
   "execution_count": 152,
   "metadata": {},
   "outputs": [
    {
     "data": {
      "text/plain": [
       "array([0.42616758, 0.02322259, 0.03831592, 0.04979953, 0.01117358,\n",
       "       0.05099189, 0.00515225, 0.02361801, 0.02436229, 0.17341657,\n",
       "       0.17377979])"
      ]
     },
     "execution_count": 152,
     "metadata": {},
     "output_type": "execute_result"
    }
   ],
   "source": [
    "rfr.feature_importances_"
   ]
  },
  {
   "cell_type": "code",
   "execution_count": 153,
   "metadata": {},
   "outputs": [
    {
     "name": "stdout",
     "output_type": "stream",
     "text": [
      "chocolate: 0.43\n",
      "fruity: 0.02\n",
      "caramel: 0.04\n",
      "peanutyalmondy: 0.05\n",
      "nougat: 0.01\n",
      "crispedricewafer: 0.05\n",
      "hard: 0.01\n",
      "bar: 0.02\n",
      "pluribus: 0.02\n",
      "sugarpercent: 0.17\n",
      "pricepercent: 0.17\n"
     ]
    }
   ],
   "source": [
    "# Print how important each column is to the model\n",
    "for i, item in enumerate(rfr.feature_importances_):\n",
    "      # Use i and item to print out the feature importance of each column\n",
    "    print(\"{0:s}: {1:.2f}\".format(X_train.columns[i], item))"
   ]
  },
  {
   "cell_type": "code",
   "execution_count": 154,
   "metadata": {},
   "outputs": [
    {
     "name": "stdout",
     "output_type": "stream",
     "text": [
      "3.687512835488868\n",
      "9.2037116475282\n",
      "21.03189610483642\n",
      "131.50787837403146\n"
     ]
    }
   ],
   "source": [
    "train_predictions = rfr.predict(X_train)\n",
    "val_predictions = rfr.predict(X_val)\n",
    "print(mean_absolute_error(y_true=y_train, y_pred=train_predictions))\n",
    "print(mean_absolute_error(y_true=y_val, y_pred=val_predictions))\n",
    "print(mean_squared_error(y_true=y_train, y_pred=train_predictions))\n",
    "print(mean_squared_error(y_true=y_val, y_pred=val_predictions))\n",
    "      "
   ]
  },
  {
   "cell_type": "markdown",
   "metadata": {},
   "source": [
    "### Classification"
   ]
  },
  {
   "cell_type": "code",
   "execution_count": 179,
   "metadata": {},
   "outputs": [
    {
     "data": {
      "text/plain": [
       "Index(['Top-Left', 'Top-Middle', 'Top-Right', 'Middle-Left', 'Middle-Middle',\n",
       "       'Middle-Right', 'Bottom-Left', 'Bottom-Middle', 'Bottom-Right',\n",
       "       'Class'],\n",
       "      dtype='object')"
      ]
     },
     "execution_count": 179,
     "metadata": {},
     "output_type": "execute_result"
    }
   ],
   "source": [
    "df_original = pd.read_csv(\"tic-tac-toe.csv\")\n",
    "df_original.columns"
   ]
  },
  {
   "cell_type": "code",
   "execution_count": 180,
   "metadata": {},
   "outputs": [],
   "source": [
    "df = df_original.copy()\n",
    "X, y = split_to_features_labels(df, non_feature_list=['Class'], label_list=['Class'])\n"
   ]
  },
  {
   "cell_type": "code",
   "execution_count": 181,
   "metadata": {},
   "outputs": [],
   "source": [
    "# Convert to numeric value by using the dummies\n",
    "X = pd.get_dummies(X)"
   ]
  },
  {
   "cell_type": "code",
   "execution_count": 182,
   "metadata": {},
   "outputs": [],
   "source": [
    "# Create temporary training and final testing datasets\n",
    "X_temp, X_test, y_temp, y_test  =\\\n",
    "    train_test_split(X, y, test_size=0.2, random_state=1111)\n",
    "\n",
    "# Create the final training and validation datasets\n",
    "X_train, X_val, y_train, y_val =\\\n",
    "    train_test_split(X_temp, y_temp, test_size=0.25, random_state=1111)"
   ]
  },
  {
   "cell_type": "code",
   "execution_count": null,
   "metadata": {},
   "outputs": [],
   "source": []
  },
  {
   "cell_type": "markdown",
   "metadata": {},
   "source": [
    "#### Tuning the model\n"
   ]
  },
  {
   "cell_type": "markdown",
   "metadata": {},
   "source": [
    "#### set 1  underfitting, the tree is not deep enough\n"
   ]
  },
  {
   "cell_type": "code",
   "execution_count": 199,
   "metadata": {},
   "outputs": [],
   "source": [
    "rfc = RandomForestClassifier(random_state=1111)\n",
    "rfc.n_estimators=50\n",
    "rfc.max_depth = 6\n"
   ]
  },
  {
   "cell_type": "code",
   "execution_count": 200,
   "metadata": {},
   "outputs": [
    {
     "name": "stdout",
     "output_type": "stream",
     "text": [
      "RandomForestClassifier(bootstrap=True, class_weight=None, criterion='gini',\n",
      "            max_depth=6, max_features='auto', max_leaf_nodes=None,\n",
      "            min_impurity_decrease=0.0, min_impurity_split=None,\n",
      "            min_samples_leaf=1, min_samples_split=2,\n",
      "            min_weight_fraction_leaf=0.0, n_estimators=50, n_jobs=None,\n",
      "            oob_score=False, random_state=1111, verbose=0,\n",
      "            warm_start=False)\n",
      "The random state is: 1111\n",
      "Printing the parameters dictionary: {'bootstrap': True, 'class_weight': None, 'criterion': 'gini', 'max_depth': 6, 'max_features': 'auto', 'max_leaf_nodes': None, 'min_impurity_decrease': 0.0, 'min_impurity_split': None, 'min_samples_leaf': 1, 'min_samples_split': 2, 'min_weight_fraction_leaf': 0.0, 'n_estimators': 50, 'n_jobs': None, 'oob_score': False, 'random_state': 1111, 'verbose': 0, 'warm_start': False}\n"
     ]
    }
   ],
   "source": [
    "# get the parameter\n",
    "print(rfc)\n",
    "\n",
    "# Print the classification model's random state parameter\n",
    "print('The random state is: {}'.format(rfc.random_state))\n",
    "\n",
    "# Print all parameters\n",
    "print('Printing the parameters dictionary: {}'.format(rfc.get_params()))"
   ]
  },
  {
   "cell_type": "code",
   "execution_count": 201,
   "metadata": {},
   "outputs": [
    {
     "name": "stdout",
     "output_type": "stream",
     "text": [
      "Accuracy:  0.8854166666666666\n",
      "precision:  0.8671328671328671\n",
      "Classification report \n",
      "               precision    recall  f1-score   support\n",
      "\n",
      "    negative       0.94      0.71      0.81        65\n",
      "    positive       0.87      0.98      0.92       127\n",
      "\n",
      "   micro avg       0.89      0.89      0.89       192\n",
      "   macro avg       0.90      0.84      0.86       192\n",
      "weighted avg       0.89      0.89      0.88       192\n",
      "\n",
      "Confusion matrix \n",
      " [[ 46  19]\n",
      " [  3 124]]\n",
      "0.8854166666666666\n",
      "0.8854166666666666\n",
      "\n",
      " positive    143\n",
      "negative     49\n",
      "dtype: int64\n"
     ]
    }
   ],
   "source": [
    "predicted, accuracy, precision = get_model_results_classification(X_train, y_train, X_val, y_val, rfc)\n",
    "\n",
    "# accuracy for the cross validation set\n",
    "print(rfc.score(X_val, y_val))\n",
    "print(accuracy_score(y_val, rfc.predict(X_val)))\n",
    "\n",
    "# Print out count of binary predictions\n",
    "print('\\n', pd.Series(predicted).value_counts())\n"
   ]
  },
  {
   "cell_type": "code",
   "execution_count": 203,
   "metadata": {},
   "outputs": [
    {
     "name": "stdout",
     "output_type": "stream",
     "text": [
      "0.859375\n",
      "0.859375 \n",
      "\n",
      "[[ 37  23]\n",
      " [  4 128]] \n",
      "\n",
      "              precision    recall  f1-score   support\n",
      "\n",
      "    negative       0.90      0.62      0.73        60\n",
      "    positive       0.85      0.97      0.90       132\n",
      "\n",
      "   micro avg       0.86      0.86      0.86       192\n",
      "   macro avg       0.88      0.79      0.82       192\n",
      "weighted avg       0.86      0.86      0.85       192\n",
      " \n",
      "\n",
      "The first predicted probabilities are: [0.19720733 0.80279267] \n",
      "\n"
     ]
    }
   ],
   "source": [
    "#  evaluate the test set\n",
    "predicted_test = rfc.predict(X_test)\n",
    "\n",
    "print(rfc.score(X_test, y_test))\n",
    "print(accuracy_score(y_test, predicted_test), '\\n')\n",
    "print(confusion_matrix(y_test, predicted_test), '\\n')\n",
    "print(classification_report(y_test, predicted_test), '\\n')\n",
    "\n",
    "\n",
    "# Create arrays of predictions for test set. \n",
    "probability_predictions = rfc.predict_proba(X_test)\n",
    "print('The first predicted probabilities are: {}'.format(probability_predictions[0]), '\\n')\n"
   ]
  },
  {
   "cell_type": "markdown",
   "metadata": {},
   "source": [
    "#### set 2 under fitting, not enough number of trees\n"
   ]
  },
  {
   "cell_type": "code",
   "execution_count": 209,
   "metadata": {},
   "outputs": [
    {
     "name": "stdout",
     "output_type": "stream",
     "text": [
      "Accuracy:  0.8697916666666666\n",
      "precision:  0.875\n",
      "Classification report \n",
      "               precision    recall  f1-score   support\n",
      "\n",
      "    negative       0.86      0.74      0.79        65\n",
      "    positive       0.88      0.94      0.90       127\n",
      "\n",
      "   micro avg       0.87      0.87      0.87       192\n",
      "   macro avg       0.87      0.84      0.85       192\n",
      "weighted avg       0.87      0.87      0.87       192\n",
      "\n",
      "Confusion matrix \n",
      " [[ 48  17]\n",
      " [  8 119]]\n"
     ]
    }
   ],
   "source": [
    "rfc = RandomForestClassifier(random_state=1111)\n",
    "rfc.n_estimators=10\n",
    "rfc.max_depth = 6\n",
    "predicted, accuracy, precision = get_model_results_classification(X_train, y_train, X_val, y_val, rfc)\n"
   ]
  },
  {
   "cell_type": "code",
   "execution_count": 210,
   "metadata": {},
   "outputs": [
    {
     "name": "stdout",
     "output_type": "stream",
     "text": [
      "0.8697916666666666\n",
      "0.8697916666666666 \n",
      "\n",
      "[[ 38  22]\n",
      " [  3 129]] \n",
      "\n",
      "              precision    recall  f1-score   support\n",
      "\n",
      "    negative       0.93      0.63      0.75        60\n",
      "    positive       0.85      0.98      0.91       132\n",
      "\n",
      "   micro avg       0.87      0.87      0.87       192\n",
      "   macro avg       0.89      0.81      0.83       192\n",
      "weighted avg       0.88      0.87      0.86       192\n",
      " \n",
      "\n"
     ]
    }
   ],
   "source": [
    "#  evaluate the test set\n",
    "predicted_test = rfc.predict(X_test)\n",
    "\n",
    "print(rfc.score(X_test, y_test))\n",
    "print(accuracy_score(y_test, predicted_test), '\\n')\n",
    "print(confusion_matrix(y_test, predicted_test), '\\n')\n",
    "print(classification_report(y_test, predicted_test), '\\n')\n"
   ]
  },
  {
   "cell_type": "markdown",
   "metadata": {},
   "source": [
    "##### set 3: increase the depth of the tree\n"
   ]
  },
  {
   "cell_type": "code",
   "execution_count": 211,
   "metadata": {},
   "outputs": [
    {
     "name": "stdout",
     "output_type": "stream",
     "text": [
      "Accuracy:  0.96875\n",
      "precision:  0.9548872180451128\n",
      "Classification report \n",
      "               precision    recall  f1-score   support\n",
      "\n",
      "    negative       1.00      0.91      0.95        65\n",
      "    positive       0.95      1.00      0.98       127\n",
      "\n",
      "   micro avg       0.97      0.97      0.97       192\n",
      "   macro avg       0.98      0.95      0.96       192\n",
      "weighted avg       0.97      0.97      0.97       192\n",
      "\n",
      "Confusion matrix \n",
      " [[ 59   6]\n",
      " [  0 127]]\n"
     ]
    }
   ],
   "source": [
    "rfc = RandomForestClassifier(random_state=1111)\n",
    "rfc.n_estimators=50\n",
    "rfc.max_depth = 20\n",
    "predicted, accuracy, precision = get_model_results_classification(X_train, y_train, X_val, y_val, rfc)\n"
   ]
  },
  {
   "cell_type": "code",
   "execution_count": 212,
   "metadata": {},
   "outputs": [
    {
     "name": "stdout",
     "output_type": "stream",
     "text": [
      "0.9791666666666666\n",
      "0.9791666666666666 \n",
      "\n",
      "[[ 56   4]\n",
      " [  0 132]] \n",
      "\n",
      "              precision    recall  f1-score   support\n",
      "\n",
      "    negative       1.00      0.93      0.97        60\n",
      "    positive       0.97      1.00      0.99       132\n",
      "\n",
      "   micro avg       0.98      0.98      0.98       192\n",
      "   macro avg       0.99      0.97      0.98       192\n",
      "weighted avg       0.98      0.98      0.98       192\n",
      " \n",
      "\n"
     ]
    }
   ],
   "source": [
    "#  evaluate the test set\n",
    "predicted_test = rfc.predict(X_test)\n",
    "\n",
    "print(rfc.score(X_test, y_test))\n",
    "print(accuracy_score(y_test, predicted_test), '\\n')\n",
    "print(confusion_matrix(y_test, predicted_test), '\\n')\n",
    "print(classification_report(y_test, predicted_test), '\\n')\n"
   ]
  },
  {
   "cell_type": "markdown",
   "metadata": {},
   "source": [
    "#### set 4: more features\n"
   ]
  },
  {
   "cell_type": "code",
   "execution_count": 213,
   "metadata": {},
   "outputs": [
    {
     "name": "stdout",
     "output_type": "stream",
     "text": [
      "Accuracy:  0.9895833333333334\n",
      "precision:  0.9844961240310077\n",
      "Classification report \n",
      "               precision    recall  f1-score   support\n",
      "\n",
      "    negative       1.00      0.97      0.98        65\n",
      "    positive       0.98      1.00      0.99       127\n",
      "\n",
      "   micro avg       0.99      0.99      0.99       192\n",
      "   macro avg       0.99      0.98      0.99       192\n",
      "weighted avg       0.99      0.99      0.99       192\n",
      "\n",
      "Confusion matrix \n",
      " [[ 63   2]\n",
      " [  0 127]]\n"
     ]
    }
   ],
   "source": [
    "rfc = RandomForestClassifier(random_state=1111)\n",
    "rfc.n_estimators = 50\n",
    "rfc.max_depth = 20\n",
    "rfc.max_features = 20\n",
    "predicted, accuracy, precision = get_model_results_classification(X_train, y_train, X_val, y_val, rfc)"
   ]
  },
  {
   "cell_type": "code",
   "execution_count": 214,
   "metadata": {},
   "outputs": [
    {
     "name": "stdout",
     "output_type": "stream",
     "text": [
      "0.9739583333333334\n",
      "0.9739583333333334 \n",
      "\n",
      "[[ 56   4]\n",
      " [  1 131]] \n",
      "\n",
      "              precision    recall  f1-score   support\n",
      "\n",
      "    negative       0.98      0.93      0.96        60\n",
      "    positive       0.97      0.99      0.98       132\n",
      "\n",
      "   micro avg       0.97      0.97      0.97       192\n",
      "   macro avg       0.98      0.96      0.97       192\n",
      "weighted avg       0.97      0.97      0.97       192\n",
      " \n",
      "\n"
     ]
    }
   ],
   "source": [
    "#  evaluate the test set\n",
    "predicted_test = rfc.predict(X_test)\n",
    "\n",
    "print(rfc.score(X_test, y_test))\n",
    "print(accuracy_score(y_test, predicted_test), '\\n')\n",
    "print(confusion_matrix(y_test, predicted_test), '\\n')\n",
    "print(classification_report(y_test, predicted_test), '\\n')\n"
   ]
  },
  {
   "cell_type": "markdown",
   "metadata": {},
   "source": [
    "### loop to test many trees"
   ]
  },
  {
   "cell_type": "code",
   "execution_count": 219,
   "metadata": {},
   "outputs": [
    {
     "name": "stdout",
     "output_type": "stream",
     "text": [
      "The training scores were: [0.9, 0.88, 0.96, 0.97, 0.99, 1.0, 1.0, 1.0, 1.0, 1.0]\n",
      "The testing scores were: [0.7, 0.76, 0.83, 0.85, 0.89, 0.93, 0.98, 0.97, 0.97, 0.98]\n"
     ]
    },
    {
     "data": {
      "text/plain": [
       "<matplotlib.axes._subplots.AxesSubplot at 0xa455050>"
      ]
     },
     "execution_count": 219,
     "metadata": {},
     "output_type": "execute_result"
    },
    {
     "data": {
      "image/png": "[encoded data removed]",
      "text/plain": [
       "<Figure size 432x288 with 1 Axes>"
      ]
     },
     "metadata": {
      "needs_background": "light"
     },
     "output_type": "display_data"
    }
   ],
   "source": [
    "num_trees_list = [1, 2, 3, 4, 5, 10, 20, 50, 60, 80]\n",
    "test_scores, train_scores = [], []\n",
    "for i in num_trees_list:\n",
    "    rfc = RandomForestClassifier(n_estimators=i, random_state=1111)\n",
    "    rfc.fit(X_train, np.ravel(y_train))\n",
    "    # Create predictions for the X_train and X_test datasets.\n",
    "    train_predictions = rfc.predict(X_train)\n",
    "    val_predictions = rfc.predict(X_val)\n",
    "    # Append the accuracy score for the test and train predictions.\n",
    "    train_scores.append(round(accuracy_score(y_train, train_predictions), 2))\n",
    "    test_scores.append(round(accuracy_score(y_val, val_predictions), 2))\n",
    "# Print the train and test scores.\n",
    "print(\"The training scores were: {}\".format(train_scores))\n",
    "print(\"The testing scores were: {}\".format(test_scores))\n",
    "\n",
    "df_plot = pd.concat([pd.Series(train_scores), pd.Series(test_scores)], axis=1)\n",
    "df_plot.columns = ['train_scores', 'test_scores']\n",
    "df_plot.index = num_trees_list\n",
    "df_plot.plot()"
   ]
  },
  {
   "cell_type": "markdown",
   "metadata": {},
   "source": [
    "### the problem of traditional train, test split"
   ]
  },
  {
   "cell_type": "code",
   "execution_count": 220,
   "metadata": {},
   "outputs": [
    {
     "name": "stdout",
     "output_type": "stream",
     "text": [
      "40\n",
      "positive    134\n",
      "negative     66\n",
      "Name: Class, dtype: int64\n",
      "positive    123\n",
      "negative     77\n",
      "Name: Class, dtype: int64\n"
     ]
    }
   ],
   "source": [
    "tic_tac_toe = pd.read_csv(\"tic-tac-toe.csv\")\n",
    "# Create two different samples of 200 observations \n",
    "sample1 = tic_tac_toe.sample(200, random_state=1111)\n",
    "sample2 = tic_tac_toe.sample(200, random_state=1171)\n",
    "\n",
    "# Print the number of common observations \n",
    "print(len([index for index in sample1.index if index in sample2.index]))\n",
    "\n",
    "# Print the number of observations in the Class column for both samples \n",
    "print(sample1['Class'].value_counts())\n",
    "print(sample2['Class'].value_counts())"
   ]
  },
  {
   "cell_type": "code",
   "execution_count": 25,
   "metadata": {},
   "outputs": [],
   "source": [
    "# If our models are not generalizing well or if we have limited data, we should be careful using a single \n",
    "# training/validation split. You should use the next lesson's topic: cross-validation."
   ]
  },
  {
   "cell_type": "code",
   "execution_count": null,
   "metadata": {},
   "outputs": [],
   "source": []
  },
  {
   "cell_type": "markdown",
   "metadata": {},
   "source": [
    "# (2) Cross validation"
   ]
  },
  {
   "cell_type": "markdown",
   "metadata": {},
   "source": [
    "### (2.1) use KFold"
   ]
  },
  {
   "cell_type": "code",
   "execution_count": 237,
   "metadata": {},
   "outputs": [
    {
     "name": "stdout",
     "output_type": "stream",
     "text": [
      "Number of training indices: 54\n",
      "Number of validation indices: 14\n",
      "Split accuracy: 167.73866957411178\n",
      "Number of training indices: 54\n",
      "Number of validation indices: 14\n",
      "Split accuracy: 95.53148961183506\n",
      "Number of training indices: 54\n",
      "Number of validation indices: 14\n",
      "Split accuracy: 130.25635761522634\n",
      "Number of training indices: 55\n",
      "Number of validation indices: 13\n",
      "Split accuracy: 163.503258769309\n",
      "Number of training indices: 55\n",
      "Number of validation indices: 13\n",
      "Split accuracy: 159.25638660051754\n",
      "\n",
      " 143.25723243419995\n"
     ]
    }
   ],
   "source": [
    "df_original = pd.read_csv(\"candy-data.csv\")\n",
    "df = df_original.copy()\n",
    "X, y = split_to_features_labels(df, non_feature_list=['winpercent', 'competitorname'], label_list=['winpercent'])\n",
    "y = np.ravel(y)\n",
    "X = X.to_numpy()\n",
    "X_temp, X_test, y_temp, y_test  = train_test_split(X, y, test_size=0.2, random_state=1111)\n",
    "\n",
    "kf = KFold(n_splits=5, shuffle=False, random_state=1111)\n",
    "splits = kf.split(X_temp)\n",
    "\n",
    "rfc = RandomForestRegressor(n_estimators=25, random_state=1111)\n",
    "\n",
    "# Access the training and validation indices of splits\n",
    "error_array = []\n",
    "for train_index, val_index in splits:\n",
    "    print(\"Number of training indices: %s\" % len(train_index))\n",
    "    print(\"Number of validation indices: %s\" % len(val_index))\n",
    "    # Setup the training and validation data\n",
    "    X_train, y_train = X_temp[train_index], y_temp[train_index]\n",
    "    X_val, y_val = X_temp[val_index], y_temp[val_index]\n",
    "    \n",
    "    rfc.fit(X_train, y_train)\n",
    "\n",
    "    predictions = rfc.predict(X_val)\n",
    "    error = mean_squared_error(y_val, predictions)\n",
    "    print(\"Split accuracy: \" + str(error))\n",
    "    error_array.append(error)\n",
    "    \n",
    "print('\\n', np.mean(error_array))"
   ]
  },
  {
   "cell_type": "markdown",
   "metadata": {},
   "source": [
    "### (2.2) use sklearn's cross_val_score()\n"
   ]
  },
  {
   "cell_type": "code",
   "execution_count": 238,
   "metadata": {},
   "outputs": [
    {
     "name": "stdout",
     "output_type": "stream",
     "text": [
      "[167.73866957  95.53148961 130.25635762 163.50325877 159.2563866 ]\n",
      "143.25723243419995\n"
     ]
    }
   ],
   "source": [
    "df_original = pd.read_csv(\"candy-data.csv\")\n",
    "df = df_original.copy()\n",
    "X, y = split_to_features_labels(df, non_feature_list=['winpercent', 'competitorname'], label_list=['winpercent'])\n",
    "y = np.ravel(y)\n",
    "X = X.to_numpy()\n",
    "X_temp, X_test, y_temp, y_test  = train_test_split(X, y, test_size=0.2, random_state=1111)\n",
    "\n",
    "\n",
    "rfc = RandomForestRegressor(n_estimators=25, random_state=1111)\n",
    "mse = make_scorer(mean_squared_error)\n",
    "\n",
    "# Set up cross_val_score\n",
    "cv = cross_val_score(estimator=rfc,\n",
    "                     X=X_temp,\n",
    "                     y=y_temp,\n",
    "                     cv=5,\n",
    "                     scoring=mse)\n",
    "\n",
    "# Print the mean error\n",
    "print(cv)\n",
    "print(cv.mean())\n"
   ]
  },
  {
   "cell_type": "markdown",
   "metadata": {},
   "source": [
    "### Leave-one-out-cross-validation\n"
   ]
  },
  {
   "cell_type": "code",
   "execution_count": 239,
   "metadata": {},
   "outputs": [
    {
     "name": "stdout",
     "output_type": "stream",
     "text": [
      "[6.90543183e-01 6.92920425e+02 1.11787314e+02 2.30869627e+02\n",
      " 1.46528984e+02 2.55470743e+02 1.76068084e+02 2.18034723e+02\n",
      " 5.47226985e-01 9.27087887e+01 6.44558479e+02 9.81079686e+01\n",
      " 6.13625697e+02 3.49029728e-01 2.81303652e-01 8.27226816e+01\n",
      " 3.14097753e+00 3.06427865e+00 1.71765407e+02 3.69309107e+01\n",
      " 1.22920270e+01 1.20663383e+02 1.79614566e+02 2.38034036e+01\n",
      " 2.00498747e+00 8.86263498e+00 2.90797904e+02 1.00674708e+02\n",
      " 5.52211032e+02 5.09115540e+00 2.32292865e+01 1.03227747e+02\n",
      " 4.06608367e+00 9.36373415e+00 6.52522271e+00 2.25397399e+00\n",
      " 1.55018596e+02 5.54894721e+00 1.10063538e+01 1.38492996e+02\n",
      " 6.96092513e+00 1.15460655e+02 1.44391558e+02 2.63546523e+01\n",
      " 4.77070072e+02 9.37687348e+01 1.44636065e+02 1.93501864e+01\n",
      " 1.81247894e+00 1.26072965e+01 1.12332436e+02 9.05971802e+02\n",
      " 1.83062278e+02 2.48601273e+02 1.19549978e-01 6.21624031e+00\n",
      " 2.89602861e+01 8.14911516e+01 4.76245441e+01 3.23579597e+02\n",
      " 1.24708504e+02 2.56965968e+00 3.95071710e+02 5.76635297e+00\n",
      " 4.68033939e+01 1.84400149e+02 1.50428626e+02 5.22051296e-01\n",
      " 8.49895147e+02 4.68867172e+01 2.50802424e+02 5.85700780e+01\n",
      " 5.07001519e+02 2.32472986e+02 3.70968818e+01 1.86150795e+02\n",
      " 8.27637800e+00 5.89068930e+00 1.09646155e+00 3.01548002e+02\n",
      " 3.72749978e+01 9.68136959e-01 1.10516711e+01 5.24398793e+01\n",
      " 2.90874721e+02]\n",
      "142.39837236565708\n",
      "194.6922348182418\n"
     ]
    }
   ],
   "source": [
    "rfc = RandomForestRegressor(n_estimators=25, random_state=1111)\n",
    "mse = make_scorer(mean_squared_error)\n",
    "\n",
    "# Set up cross_val_score\n",
    "cv = cross_val_score(estimator=rfc,\n",
    "                     X=X,\n",
    "                     y=y,\n",
    "                     cv=X.shape[0],\n",
    "                     scoring=mse)\n",
    "\n",
    "# Print the mean error\n",
    "print(cv)\n",
    "print(cv.mean())\n"
   ]
  },
  {
   "cell_type": "markdown",
   "metadata": {},
   "source": [
    "# (3) RandomizedSearch"
   ]
  },
  {
   "cell_type": "markdown",
   "metadata": {},
   "source": [
    "### Regression problem"
   ]
  },
  {
   "cell_type": "code",
   "execution_count": 242,
   "metadata": {},
   "outputs": [
    {
     "name": "stderr",
     "output_type": "stream",
     "text": [
      "c:\\program files (x86)\\python37-32\\lib\\site-packages\\sklearn\\model_selection\\_search.py:841: DeprecationWarning: The default of the `iid` parameter will change from True to False in version 0.22 and will be removed in 0.24. This will change numeric results when test-set sizes are unequal.\n",
      "  DeprecationWarning)\n"
     ]
    },
    {
     "data": {
      "text/plain": [
       "RandomizedSearchCV(cv=5, error_score='raise-deprecating',\n",
       "          estimator=RandomForestRegressor(bootstrap=True, criterion='mse', max_depth=None,\n",
       "           max_features='auto', max_leaf_nodes=None,\n",
       "           min_impurity_decrease=0.0, min_impurity_split=None,\n",
       "           min_samples_leaf=1, min_samples_split=2,\n",
       "           min_weight_fraction_leaf=0.0, n_estimators=10, n_jobs=None,\n",
       "           oob_score=False, random_state=1111, verbose=0, warm_start=False),\n",
       "          fit_params=None, iid='warn', n_iter=10, n_jobs=None,\n",
       "          param_distributions={'max_depth': [2, 4, 6, 8], 'max_features': [2, 4, 6, 8, 10], 'min_samples_split': [2, 4, 8, 16]},\n",
       "          pre_dispatch='2*n_jobs', random_state=1111, refit=True,\n",
       "          return_train_score='warn',\n",
       "          scoring=make_scorer(mean_squared_error), verbose=0)"
      ]
     },
     "execution_count": 242,
     "metadata": {},
     "output_type": "execute_result"
    }
   ],
   "source": [
    "# Prepare the data\n",
    "df = pd.read_csv(\"candy-data.csv\")\n",
    "X, y = split_to_features_labels(df, non_feature_list=['winpercent', 'competitorname'], label_list=['winpercent'])\n",
    "y = np.ravel(y)\n",
    "X = X.to_numpy()\n",
    "X_temp, X_test, y_temp, y_test  = train_test_split(X, y, test_size=0.2, random_state=1111)\n",
    "\n",
    "# Set parameters\n",
    "scorer = make_scorer(mean_squared_error)\n",
    "param_dist = {\"max_depth\": [2, 4, 6, 8],\n",
    "              \"max_features\": [2, 4, 6, 8, 10],\n",
    "              \"min_samples_split\": [2, 4, 8, 16]}\n",
    "rfr = RandomForestRegressor(n_estimators=10, random_state=1111)\n",
    "\n",
    "rs = RandomizedSearchCV(estimator=rfr, \n",
    "                        param_distributions=param_dist,\n",
    "                        scoring = scorer,\n",
    "                        cv=5, \n",
    "                        n_iter=10, \n",
    "                        random_state=1111)\n",
    "\n",
    "rs.fit(X_temp, y_temp)\n"
   ]
  },
  {
   "cell_type": "markdown",
   "metadata": {},
   "source": [
    "### evaluate the model"
   ]
  },
  {
   "cell_type": "code",
   "execution_count": 243,
   "metadata": {},
   "outputs": [
    {
     "name": "stdout",
     "output_type": "stream",
     "text": [
      "mean_test_score =  [139.77362145 145.75417836 147.98647683 149.54197624 136.55358739\n",
      " 125.25619705 142.71851263 146.39508123 155.46220574 128.11277612] \n",
      "\n",
      "best_score =  155.46220573794935 \n",
      "\n",
      "best_params =  {'min_samples_split': 2, 'max_features': 10, 'max_depth': 2} \n",
      "\n",
      "params [{'min_samples_split': 8, 'max_features': 6, 'max_depth': 6}, {'min_samples_split': 16, 'max_features': 10, 'max_depth': 4}, {'min_samples_split': 16, 'max_features': 10, 'max_depth': 2}, {'min_samples_split': 8, 'max_features': 10, 'max_depth': 6}, {'min_samples_split': 4, 'max_features': 8, 'max_depth': 4}, {'min_samples_split': 4, 'max_features': 4, 'max_depth': 8}, {'min_samples_split': 8, 'max_features': 10, 'max_depth': 4}, {'min_samples_split': 16, 'max_features': 10, 'max_depth': 6}, {'min_samples_split': 2, 'max_features': 10, 'max_depth': 2}, {'min_samples_split': 2, 'max_features': 8, 'max_depth': 8}] \n",
      "\n",
      "max_depth =  [6, 4, 2, 6, 4, 8, 4, 6, 2, 8] \n",
      "\n",
      "                Score\n",
      "Max Depth            \n",
      "2.0        151.724341\n",
      "4.0        141.675426\n",
      "6.0        145.236893\n",
      "8.0        126.684487 \n",
      "\n",
      "score of the model 96.6981349443\n"
     ]
    }
   ],
   "source": [
    "mean_test_score = rs.cv_results_['mean_test_score']\n",
    "print('mean_test_score = ', mean_test_score, '\\n')\n",
    "print('best_score = ', rs.best_score_, '\\n')\n",
    "print('best_params = ', rs.best_params_, '\\n')\n",
    "print('params', rs.cv_results_['params'], '\\n')\n",
    "\n",
    "# Max_depth vs params table\n",
    "max_depth = [item['max_depth'] for item in rs.cv_results_['params']]\n",
    "print('max_depth = ', max_depth, '\\n')\n",
    "scores = list(rs.cv_results_['mean_test_score'])\n",
    "d = pd.DataFrame([max_depth, scores]).T\n",
    "d.columns = ['Max Depth', 'Score']\n",
    "print(d.groupby(['Max Depth']).mean(), '\\n')\n",
    "\n",
    "# score of the model, can compare to other model\n",
    "print('score of the model', rs.score(X_temp, y_temp))\n"
   ]
  },
  {
   "cell_type": "markdown",
   "metadata": {},
   "source": [
    "### predict "
   ]
  },
  {
   "cell_type": "code",
   "execution_count": 245,
   "metadata": {},
   "outputs": [
    {
     "name": "stdout",
     "output_type": "stream",
     "text": [
      "best_estimator_ =  RandomForestRegressor(bootstrap=True, criterion='mse', max_depth=2,\n",
      "           max_features=10, max_leaf_nodes=None, min_impurity_decrease=0.0,\n",
      "           min_impurity_split=None, min_samples_leaf=1,\n",
      "           min_samples_split=2, min_weight_fraction_leaf=0.0,\n",
      "           n_estimators=10, n_jobs=None, oob_score=False,\n",
      "           random_state=1111, verbose=0, warm_start=False) \n",
      "\n",
      "{'bootstrap': True, 'criterion': 'mse', 'max_depth': 2, 'max_features': 10, 'max_leaf_nodes': None, 'min_impurity_decrease': 0.0, 'min_impurity_split': None, 'min_samples_leaf': 1, 'min_samples_split': 2, 'min_weight_fraction_leaf': 0.0, 'n_estimators': 10, 'n_jobs': None, 'oob_score': False, 'random_state': 1111, 'verbose': 0, 'warm_start': False} \n",
      "\n",
      "9.652357768195126\n"
     ]
    }
   ],
   "source": [
    "print('best_estimator_ = ', rs.best_estimator_, '\\n')\n",
    "print(rs.best_estimator_.get_params(), '\\n')\n",
    "\n",
    "\n",
    "predicted = rs.best_estimator_.predict(X_test)\n",
    "\n",
    "print(mean_absolute_error(y_true=y_test, y_pred=predicted))\n"
   ]
  },
  {
   "cell_type": "markdown",
   "metadata": {},
   "source": [
    "### Save model for use later:"
   ]
  },
  {
   "cell_type": "code",
   "execution_count": 246,
   "metadata": {},
   "outputs": [
    {
     "data": {
      "text/plain": [
       "['rfr_best_2019.5.21.pkl']"
      ]
     },
     "execution_count": 246,
     "metadata": {},
     "output_type": "execute_result"
    }
   ],
   "source": [
    "joblib.dump(rs, 'rfr_best_2019.5.21.pkl')"
   ]
  },
  {
   "cell_type": "markdown",
   "metadata": {},
   "source": [
    "### Classification problem"
   ]
  },
  {
   "cell_type": "code",
   "execution_count": 247,
   "metadata": {},
   "outputs": [
    {
     "name": "stderr",
     "output_type": "stream",
     "text": [
      "c:\\program files (x86)\\python37-32\\lib\\site-packages\\sklearn\\model_selection\\_search.py:841: DeprecationWarning: The default of the `iid` parameter will change from True to False in version 0.22 and will be removed in 0.24. This will change numeric results when test-set sizes are unequal.\n",
      "  DeprecationWarning)\n"
     ]
    },
    {
     "data": {
      "text/plain": [
       "RandomizedSearchCV(cv=5, error_score='raise-deprecating',\n",
       "          estimator=RandomForestClassifier(bootstrap=True, class_weight=None, criterion='gini',\n",
       "            max_depth=None, max_features='auto', max_leaf_nodes=None,\n",
       "            min_impurity_decrease=0.0, min_impurity_split=None,\n",
       "            min_samples_leaf=1, min_samples_split=2,\n",
       "            min_weight_fraction_leaf=0.0, n_estimators=10, n_jobs=None,\n",
       "            oob_score=False, random_state=1111, verbose=0,\n",
       "            warm_start=False),\n",
       "          fit_params=None, iid='warn', n_iter=10, n_jobs=None,\n",
       "          param_distributions={'max_depth': [2, 4, 6, 8], 'max_features': [2, 4, 6, 8, 10], 'min_samples_split': [2, 4, 8, 16]},\n",
       "          pre_dispatch='2*n_jobs', random_state=1111, refit=True,\n",
       "          return_train_score='warn', scoring=make_scorer(precision_score),\n",
       "          verbose=0)"
      ]
     },
     "execution_count": 247,
     "metadata": {},
     "output_type": "execute_result"
    }
   ],
   "source": [
    "# Prepare the data\n",
    "df = pd.read_csv(\"tic-tac-toe.csv\")\n",
    "X, y = split_to_features_labels(df, non_feature_list=['Class'], label_list=['Class'])\n",
    "X = pd.get_dummies(X)\n",
    "y = np.ravel(np.where(y =='positive', 1, 0))\n",
    "X_temp, X_test, y_temp, y_test  = train_test_split(X, y, test_size=0.2, random_state=1111)\n",
    "\n",
    "\n",
    "# Set the parameters\n",
    "precision = make_scorer(precision_score)\n",
    "param_dist = {\"max_depth\": [2, 4, 6, 8],\n",
    "              \"max_features\": [2, 4, 6, 8, 10],\n",
    "              \"min_samples_split\": [2, 4, 8, 16]}\n",
    "rfc = RandomForestClassifier(n_estimators=10, random_state=1111)\n",
    "\n",
    "\n",
    "rs = RandomizedSearchCV(estimator=rfc, \n",
    "                        param_distributions=param_dist,\n",
    "                        scoring = precision,\n",
    "                        cv=5, \n",
    "                        n_iter=10, \n",
    "                        random_state=1111)\n",
    "\n",
    "rs.fit(X_temp, y_temp)\n"
   ]
  },
  {
   "cell_type": "markdown",
   "metadata": {},
   "source": [
    "### evaluate the model\n"
   ]
  },
  {
   "cell_type": "code",
   "execution_count": 248,
   "metadata": {},
   "outputs": [
    {
     "name": "stdout",
     "output_type": "stream",
     "text": [
      "mean_test_score =  [0.84082907 0.78830425 0.70264725 0.8828238  0.76684    0.8988839\n",
      " 0.78932828 0.87218418 0.70264725 0.93442478] \n",
      "\n",
      "best_score =  0.9344247778769172 \n",
      "\n",
      "best_params =  {'min_samples_split': 2, 'max_features': 8, 'max_depth': 8} \n",
      "\n",
      "params [{'min_samples_split': 8, 'max_features': 6, 'max_depth': 6}, {'min_samples_split': 16, 'max_features': 10, 'max_depth': 4}, {'min_samples_split': 16, 'max_features': 10, 'max_depth': 2}, {'min_samples_split': 8, 'max_features': 10, 'max_depth': 6}, {'min_samples_split': 4, 'max_features': 8, 'max_depth': 4}, {'min_samples_split': 4, 'max_features': 4, 'max_depth': 8}, {'min_samples_split': 8, 'max_features': 10, 'max_depth': 4}, {'min_samples_split': 16, 'max_features': 10, 'max_depth': 6}, {'min_samples_split': 2, 'max_features': 10, 'max_depth': 2}, {'min_samples_split': 2, 'max_features': 8, 'max_depth': 8}] \n",
      "\n",
      "max_depth =  [6, 4, 2, 6, 4, 8, 4, 6, 2, 8] \n",
      "\n",
      "              Score\n",
      "Max Depth          \n",
      "2.0        0.702647\n",
      "4.0        0.781491\n",
      "6.0        0.865279\n",
      "8.0        0.916654 \n",
      "\n",
      "score of the model 1.0\n"
     ]
    }
   ],
   "source": [
    "mean_test_score = rs.cv_results_['mean_test_score']\n",
    "print('mean_test_score = ', mean_test_score, '\\n')\n",
    "print('best_score = ', rs.best_score_, '\\n')\n",
    "print('best_params = ', rs.best_params_, '\\n')\n",
    "print('params', rs.cv_results_['params'], '\\n')\n",
    "\n",
    "# Max_depth vs params table\n",
    "max_depth = [item['max_depth'] for item in rs.cv_results_['params']]\n",
    "print('max_depth = ', max_depth, '\\n')\n",
    "scores = list(rs.cv_results_['mean_test_score'])\n",
    "d = pd.DataFrame([max_depth, scores]).T\n",
    "d.columns = ['Max Depth', 'Score']\n",
    "print(d.groupby(['Max Depth']).mean(), '\\n')\n",
    "\n",
    "# score of the model, can compare to other model\n",
    "print('score of the model', rs.score(X_temp, y_temp))\n"
   ]
  },
  {
   "cell_type": "markdown",
   "metadata": {},
   "source": [
    "### Predict"
   ]
  },
  {
   "cell_type": "code",
   "execution_count": 249,
   "metadata": {},
   "outputs": [
    {
     "name": "stdout",
     "output_type": "stream",
     "text": [
      "best_estimator_ =  RandomForestClassifier(bootstrap=True, class_weight=None, criterion='gini',\n",
      "            max_depth=8, max_features=8, max_leaf_nodes=None,\n",
      "            min_impurity_decrease=0.0, min_impurity_split=None,\n",
      "            min_samples_leaf=1, min_samples_split=2,\n",
      "            min_weight_fraction_leaf=0.0, n_estimators=10, n_jobs=None,\n",
      "            oob_score=False, random_state=1111, verbose=0,\n",
      "            warm_start=False) \n",
      "\n",
      "{'bootstrap': True, 'class_weight': None, 'criterion': 'gini', 'max_depth': 8, 'max_features': 8, 'max_leaf_nodes': None, 'min_impurity_decrease': 0.0, 'min_impurity_split': None, 'min_samples_leaf': 1, 'min_samples_split': 2, 'min_weight_fraction_leaf': 0.0, 'n_estimators': 10, 'n_jobs': None, 'oob_score': False, 'random_state': 1111, 'verbose': 0, 'warm_start': False} \n",
      "\n",
      "              precision    recall  f1-score   support\n",
      "\n",
      "           0       0.97      0.93      0.95        60\n",
      "           1       0.97      0.98      0.98       132\n",
      "\n",
      "   micro avg       0.97      0.97      0.97       192\n",
      "   macro avg       0.97      0.96      0.96       192\n",
      "weighted avg       0.97      0.97      0.97       192\n",
      "\n",
      "0.96875\n"
     ]
    }
   ],
   "source": [
    "print('best_estimator_ = ', rs.best_estimator_, '\\n')\n",
    "print(rs.best_estimator_.get_params(), '\\n')\n",
    "\n",
    "\n",
    "predicted = rs.best_estimator_.predict(X_test)\n",
    "\n",
    "print(classification_report(y_true=y_test, y_pred=predicted))\n",
    "print(accuracy_score(y_test, predicted))"
   ]
  },
  {
   "cell_type": "code",
   "execution_count": null,
   "metadata": {},
   "outputs": [],
   "source": []
  }
 ],
 "metadata": {
  "kernelspec": {
   "display_name": "Python 3",
   "language": "python",
   "name": "python3"
  },
  "language_info": {
   "codemirror_mode": {
    "name": "ipython",
    "version": 3
   },
   "file_extension": ".py",
   "mimetype": "text/x-python",
   "name": "python",
   "nbconvert_exporter": "python",
   "pygments_lexer": "ipython3",
   "version": "3.7.3"
  }
 },
 "nbformat": 4,
 "nbformat_minor": 2
}
