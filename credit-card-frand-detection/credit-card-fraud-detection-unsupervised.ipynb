{
 "cells": [
  {
   "cell_type": "code",
   "execution_count": 145,
   "metadata": {},
   "outputs": [],
   "source": [
    "from datetime import datetime\n",
    "from typing import List, Dict\n",
    "import re\n",
    "from typing import List, Tuple\n",
    "\n",
    "import pandas as pd\n",
    "import numpy as np\n",
    "import seaborn as sns\n",
    "import matplotlib.pyplot as plt\n",
    "\n",
    "import sklearn\n",
    "from sklearn.model_selection import train_test_split, GridSearchCV\n",
    "from sklearn.utils.fixes import signature\n",
    "from sklearn.metrics import confusion_matrix, classification_report, accuracy_score, precision_recall_curve, \\\n",
    "roc_auc_score, average_precision_score, homogeneity_score, silhouette_score\n",
    "\n",
    "from sklearn.linear_model import LogisticRegression\n",
    "from sklearn.decomposition import PCA\n",
    "from sklearn.datasets import make_classification\n",
    "from sklearn.ensemble import RandomForestClassifier, VotingClassifier\n",
    "from sklearn.tree import DecisionTreeClassifier\n",
    "from sklearn.preprocessing import MinMaxScaler\n",
    "from sklearn.cluster import MiniBatchKMeans, DBSCAN\n",
    "\n",
    "\n",
    "\n",
    "from imblearn.over_sampling import RandomOverSampler, SMOTE\n",
    "from imblearn.pipeline import Pipeline "
   ]
  },
  {
   "cell_type": "code",
   "execution_count": 17,
   "metadata": {},
   "outputs": [],
   "source": [
    "# Import pandas and read csv\n",
    "df_o = pd.read_csv(\"./data/chapter_3/banksim.csv\")\n"
   ]
  },
  {
   "cell_type": "markdown",
   "metadata": {},
   "source": [
    "# Exploring the data"
   ]
  },
  {
   "cell_type": "code",
   "execution_count": 18,
   "metadata": {},
   "outputs": [
    {
     "data": {
      "text/plain": [
       "Index(['Unnamed: 0', 'age', 'gender', 'category', 'amount', 'fraud'], dtype='object')"
      ]
     },
     "execution_count": 18,
     "metadata": {},
     "output_type": "execute_result"
    }
   ],
   "source": [
    "df_o.columns"
   ]
  },
  {
   "cell_type": "code",
   "execution_count": 20,
   "metadata": {},
   "outputs": [
    {
     "name": "stdout",
     "output_type": "stream",
     "text": [
      "(7200, 6)\n",
      "                          Unnamed: 0      amount     fraud\n",
      "category                                                  \n",
      "es_barsandrestaurants  267372.707865   43.841793  0.022472\n",
      "es_contents            335906.153846   55.170000  0.000000\n",
      "es_fashion             286952.226804   59.780769  0.020619\n",
      "es_food                334978.976190   35.216050  0.000000\n",
      "es_health              335355.176955  126.604704  0.242798\n",
      "es_home                248312.583333  120.688317  0.208333\n",
      "es_hotelservices       280138.548387  172.756245  0.548387\n",
      "es_hyper               244440.712500   46.788180  0.125000\n",
      "es_leisure             186541.307692  229.757600  1.000000\n",
      "es_otherservices       241279.000000  149.648960  0.600000\n",
      "es_sportsandtoys       238775.539474  157.251737  0.657895\n",
      "es_tech                310473.948718  132.852862  0.179487\n",
      "es_transportation      295733.881674   27.422014  0.000000\n",
      "es_travel              338897.777778  231.818656  0.944444\n",
      "es_wellnessandbeauty   275085.979798   66.167078  0.060606\n"
     ]
    }
   ],
   "source": [
    "print(df_o.shape)\n",
    "df_o.head(10)\n",
    "\n",
    "print(df_o.groupby('category').mean())"
   ]
  },
  {
   "cell_type": "code",
   "execution_count": 21,
   "metadata": {},
   "outputs": [],
   "source": [
    "# the majority of fraud is observed in travel, leisure and sports related transactions."
   ]
  },
  {
   "cell_type": "markdown",
   "metadata": {},
   "source": [
    "# Customer segmentation\n"
   ]
  },
  {
   "cell_type": "code",
   "execution_count": 26,
   "metadata": {},
   "outputs": [
    {
     "name": "stdout",
     "output_type": "stream",
     "text": [
      "        Unnamed: 0     amount     fraud\n",
      "age                                    \n",
      "0    327520.450000  49.468935  0.050000\n",
      "1    290985.509116  35.622829  0.026648\n",
      "2    296867.958851  37.228665  0.028718\n",
      "3    291471.417346  37.279338  0.023283\n",
      "4    306041.396403  36.197985  0.035966\n",
      "5    290885.960859  37.547521  0.023990\n",
      "6    299193.716561  36.700852  0.022293\n",
      "U    288372.181818  39.117000  0.000000\n",
      "\n",
      "\n",
      "2    2333\n",
      "3    1718\n",
      "4    1279\n",
      "5     792\n",
      "1     713\n",
      "6     314\n",
      "0      40\n",
      "U      11\n",
      "Name: age, dtype: int64\n"
     ]
    }
   ],
   "source": [
    "# Group by age groups and get the mean\n",
    "print(df_o.groupby('age').mean())\n",
    "print('\\n')\n",
    "# Count the values of the observations in each age group\n",
    "print(df_o['age'].value_counts())"
   ]
  },
  {
   "cell_type": "code",
   "execution_count": 27,
   "metadata": {},
   "outputs": [],
   "source": [
    "#  the average amount spent as well as fraud occurrence is rather similar across groups. \n",
    "# Age group '0' stands out but since there are only 40 cases, it does not make sense to split these out in a separate group \n",
    "# and run a separate model on them."
   ]
  },
  {
   "cell_type": "markdown",
   "metadata": {},
   "source": [
    "### Using statistics to define normal behavior\n"
   ]
  },
  {
   "cell_type": "code",
   "execution_count": 32,
   "metadata": {},
   "outputs": [
    {
     "data": {
      "image/png": "[encoded data removed]",
      "text/plain": [
       "<Figure size 432x288 with 1 Axes>"
      ]
     },
     "metadata": {
      "needs_background": "light"
     },
     "output_type": "display_data"
    }
   ],
   "source": [
    "# Create two dataframes with fraud and non-fraud data \n",
    "df_fraud = df_o[df_o.fraud == 1] \n",
    "df_non_fraud = df_o[df_o.fraud == 0]\n",
    "\n",
    "\n",
    "# Plot histograms of the amounts in fraud and non-fraud data \n",
    "plt.hist(df_fraud.amount, alpha=0.5, label='fraud')\n",
    "plt.hist(df_non_fraud.amount, alpha=0.5, label='nonfraud')\n",
    "plt.legend()\n",
    "plt.show()"
   ]
  },
  {
   "cell_type": "markdown",
   "metadata": {},
   "source": [
    "## process the data"
   ]
  },
  {
   "cell_type": "code",
   "execution_count": 48,
   "metadata": {},
   "outputs": [
    {
     "name": "stdout",
     "output_type": "stream",
     "text": [
      "Index(['Unnamed: 0', 'age', 'gender', 'category', 'amount', 'fraud'], dtype='object')\n",
      "591871    1\n",
      "58614     1\n",
      "363843    1\n",
      "294213    1\n",
      "394993    1\n",
      "365693    1\n",
      "308556    1\n",
      "58702     1\n",
      "103760    1\n",
      "296274    1\n",
      "183635    1\n",
      "290135    1\n",
      "589149    1\n",
      "300384    1\n",
      "245093    1\n",
      "548201    1\n",
      "525674    1\n",
      "294253    1\n",
      "372079    1\n",
      "438074    1\n",
      "536412    1\n",
      "347507    1\n",
      "217323    1\n",
      "290167    1\n",
      "256876    1\n",
      "413051    1\n",
      "435582    1\n",
      "114085    1\n",
      "464192    1\n",
      "36155     1\n",
      "         ..\n",
      "363904    1\n",
      "424706    1\n",
      "422463    1\n",
      "420552    1\n",
      "461532    1\n",
      "238281    1\n",
      "228042    1\n",
      "131789    1\n",
      "189787    1\n",
      "4815      1\n",
      "584400    1\n",
      "391890    1\n",
      "373459    1\n",
      "314068    1\n",
      "365555    1\n",
      "8509      1\n",
      "443101    1\n",
      "45819     1\n",
      "169284    1\n",
      "76512     1\n",
      "247514    1\n",
      "266983    1\n",
      "37170     1\n",
      "412396    1\n",
      "236270    1\n",
      "557542    1\n",
      "396020    1\n",
      "168695    1\n",
      "436984    1\n",
      "473385    1\n",
      "Name: Unnamed: 0, Length: 7200, dtype: int64\n",
      "2    2333\n",
      "3    1718\n",
      "4    1279\n",
      "5     792\n",
      "1     713\n",
      "6     314\n",
      "0      40\n",
      "U      11\n",
      "Name: age, dtype: int64\n",
      "F    3972\n",
      "M    3212\n",
      "E      11\n",
      "U       5\n",
      "Name: gender, dtype: int64\n",
      "es_transportation        5975\n",
      "es_food                   294\n",
      "es_health                 243\n",
      "es_wellnessandbeauty      198\n",
      "es_fashion                 97\n",
      "es_barsandrestaurants      89\n",
      "es_hyper                   80\n",
      "es_sportsandtoys           76\n",
      "es_tech                    39\n",
      "es_hotelservices           31\n",
      "es_home                    24\n",
      "es_travel                  18\n",
      "es_contents                13\n",
      "es_leisure                 13\n",
      "es_otherservices           10\n",
      "Name: category, dtype: int64\n",
      "1.0998      144\n",
      "236.1474    144\n",
      "7.5300        8\n",
      "7.4600        7\n",
      "35.4700       7\n",
      "36.1100       6\n",
      "32.7500       6\n",
      "14.3300       6\n",
      "7.6200        6\n",
      "8.1400        6\n",
      "28.6400       5\n",
      "22.0200       5\n",
      "21.6500       5\n",
      "7.9900        5\n",
      "32.3500       5\n",
      "21.9200       5\n",
      "20.9600       5\n",
      "41.7600       5\n",
      "17.6500       5\n",
      "17.6800       5\n",
      "32.3200       5\n",
      "6.6300        5\n",
      "9.5300        5\n",
      "27.1100       5\n",
      "15.6700       5\n",
      "17.8000       5\n",
      "28.1500       5\n",
      "3.2000        5\n",
      "23.5600       5\n",
      "48.8900       5\n",
      "           ... \n",
      "51.5100       1\n",
      "2.8900        1\n",
      "6.6600        1\n",
      "50.6200       1\n",
      "21.7700       1\n",
      "15.2800       1\n",
      "60.4200       1\n",
      "55.9100       1\n",
      "37.7200       1\n",
      "25.6200       1\n",
      "24.5700       1\n",
      "31.3400       1\n",
      "21.6100       1\n",
      "33.5100       1\n",
      "60.7100       1\n",
      "63.4800       1\n",
      "50.4300       1\n",
      "47.7400       1\n",
      "72.0600       1\n",
      "48.1700       1\n",
      "29.1300       1\n",
      "50.9600       1\n",
      "58.9200       1\n",
      "118.5300      1\n",
      "7.6500        1\n",
      "23.6000       1\n",
      "52.5200       1\n",
      "49.5400       1\n",
      "76.5100       1\n",
      "48.5000       1\n",
      "Name: amount, Length: 4387, dtype: int64\n",
      "0    7000\n",
      "1     200\n",
      "Name: fraud, dtype: int64\n"
     ]
    }
   ],
   "source": [
    "print(df_o.columns)\n",
    "\n",
    "for column in list(df_o.columns):\n",
    "    print(df_o[column].value_counts())"
   ]
  },
  {
   "cell_type": "code",
   "execution_count": 79,
   "metadata": {},
   "outputs": [
    {
     "data": {
      "text/plain": [
       "F    3972\n",
       "M    3212\n",
       "E      11\n",
       "U       5\n",
       "Name: gender, dtype: int64"
      ]
     },
     "execution_count": 79,
     "metadata": {},
     "output_type": "execute_result"
    }
   ],
   "source": [
    "def _remove_unknow_gender(df: pd.DataFrame) -> pd.DataFrame:\n",
    "    df = df[~df.gender.str.contains('E|U', regex=True)]\n",
    "    return df"
   ]
  },
  {
   "cell_type": "code",
   "execution_count": 165,
   "metadata": {},
   "outputs": [],
   "source": [
    "def process_data(df: pd.DataFrame) -> Tuple[pd.DataFrame, pd.Series]:\n",
    "    df = _remove_unknow_gender(df)\n",
    "    df = df.drop('Unnamed: 0', axis=1)\n",
    "    df = pd.get_dummies(df, columns=['gender', 'category'])\n",
    "    df = df.drop('gender_F', axis=1)\n",
    "    \n",
    "    df_label = df['fraud']\n",
    "    df_features = df.drop(columns='fraud')\n",
    "    return df_features, df_label\n",
    "\n",
    "df, labels = process_data(df_o)\n",
    "y = labels"
   ]
  },
  {
   "cell_type": "markdown",
   "metadata": {},
   "source": [
    "### Scaling the data\n"
   ]
  },
  {
   "cell_type": "code",
   "execution_count": 116,
   "metadata": {},
   "outputs": [],
   "source": [
    "def scaling_data(df: pd.DataFrame) -> np.array:\n",
    "\n",
    "    # Transform df into a numpy array\n",
    "    X = np.array(df).astype(np.float)\n",
    "\n",
    "    # Define the scaler and apply to the data\n",
    "    scaler = MinMaxScaler()\n",
    "    X_scaled = scaler.fit_transform(X)\n",
    "    return X_scaled\n",
    "\n",
    "X_scaled = scaling_data(df)    "
   ]
  },
  {
   "cell_type": "markdown",
   "metadata": {},
   "source": [
    "## K-means clustering\n"
   ]
  },
  {
   "cell_type": "code",
   "execution_count": 119,
   "metadata": {},
   "outputs": [
    {
     "data": {
      "image/png": "[encoded data removed]",
      "text/plain": [
       "<Figure size 432x288 with 1 Axes>"
      ]
     },
     "metadata": {
      "needs_background": "light"
     },
     "output_type": "display_data"
    }
   ],
   "source": [
    "# Define the range of clusters to try\n",
    "clustno = range(1, 10)\n",
    "\n",
    "# Run MiniBatch Kmeans over the number of clusters\n",
    "kmeans = [MiniBatchKMeans(n_clusters=i) for i in clustno]\n",
    "\n",
    "# Obtain the score for each model\n",
    "score = [kmeans[i].fit(X_scaled).score(X_scaled) for i in range(len(kmeans))]\n",
    "\n",
    "# Plot the models and their respective score \n",
    "plt.plot(clustno, score)\n",
    "plt.xlabel('Number of Clusters')\n",
    "plt.ylabel('Score')\n",
    "plt.title('Elbow Curve')\n",
    "plt.show()"
   ]
  },
  {
   "cell_type": "markdown",
   "metadata": {},
   "source": [
    "## Detecting outliers\n"
   ]
  },
  {
   "cell_type": "code",
   "execution_count": 138,
   "metadata": {},
   "outputs": [],
   "source": [
    "# Split the data into training and test set\n",
    "X_train, X_test, y_train, y_test = train_test_split(X_scaled, y, test_size=0.3, random_state=0)\n",
    "\n",
    "# Define K-means model \n",
    "kmeans = MiniBatchKMeans(n_clusters=3, random_state=42).fit(X_train)\n",
    "\n",
    "# Obtain predictions and calculate distance from cluster centroid\n",
    "X_test_clusters = kmeans.predict(X_test)\n",
    "X_test_clusters_centers = kmeans.cluster_centers_        # Coordinates of cluster centers.\n",
    "dist = [np.linalg.norm(x-y) for x, y in zip(X_test, X_test_clusters_centers[X_test_clusters])]\n",
    "\n",
    "# Create fraud predictions based on outliers on clusters \n",
    "km_y_pred = np.array(dist)\n",
    "km_y_pred[dist >= np.percentile(dist, 95)] = 1\n",
    "km_y_pred[dist < np.percentile(dist, 95)] = 0"
   ]
  },
  {
   "cell_type": "markdown",
   "metadata": {},
   "source": [
    "### Checking model results\n"
   ]
  },
  {
   "cell_type": "code",
   "execution_count": 139,
   "metadata": {},
   "outputs": [
    {
     "name": "stdout",
     "output_type": "stream",
     "text": [
      "0.7930402930402931\n",
      "[[2024   69]\n",
      " [  24   39]]\n"
     ]
    }
   ],
   "source": [
    "# Obtain the ROC score\n",
    "print(roc_auc_score(y_test, km_y_pred))\n",
    "\n",
    "# Create a confusion matrix\n",
    "km_cm = confusion_matrix(y_test, km_y_pred)\n",
    "print(km_cm)\n",
    "# Plot the confusion matrix in a figure to visualize results \n"
   ]
  },
  {
   "cell_type": "markdown",
   "metadata": {},
   "source": [
    "### decrease the percentile"
   ]
  },
  {
   "cell_type": "code",
   "execution_count": 140,
   "metadata": {},
   "outputs": [],
   "source": [
    "# Create fraud predictions based on outliers on clusters \n",
    "km_y_pred = np.array(dist)\n",
    "km_y_pred[dist >= np.percentile(dist, 93)] = 1\n",
    "km_y_pred[dist < np.percentile(dist, 93)] = 0"
   ]
  },
  {
   "cell_type": "code",
   "execution_count": 141,
   "metadata": {},
   "outputs": [
    {
     "name": "stdout",
     "output_type": "stream",
     "text": [
      "[[1986  107]\n",
      " [  19   44]]\n"
     ]
    }
   ],
   "source": [
    "km_cm = confusion_matrix(y_test, km_y_pred)\n",
    "print(km_cm)"
   ]
  },
  {
   "cell_type": "code",
   "execution_count": 142,
   "metadata": {},
   "outputs": [],
   "source": [
    "# By lowering the threshold for cases flagged as fraud, you flag more cases overall but thereby also get more false positives."
   ]
  },
  {
   "cell_type": "markdown",
   "metadata": {},
   "source": [
    "## DB scan\n"
   ]
  },
  {
   "cell_type": "code",
   "execution_count": 187,
   "metadata": {},
   "outputs": [
    {
     "name": "stdout",
     "output_type": "stream",
     "text": [
      "Estimated number of clusters: 23\n",
      "Homogeneity: 0.612\n",
      "Silhouette Coefficient: 0.715\n"
     ]
    }
   ],
   "source": [
    "# Initialize and fit the DBscan model\n",
    "db = DBSCAN(eps=0.9, min_samples=10, n_jobs=-1).fit(X_scaled) # maximum distance between two samples to 0.9\n",
    "\n",
    "# Obtain the predicted labels,these are the cluster numbers assigned to an observation.\n",
    "pred_labels = db.labels_\n",
    "\n",
    "# calculate number of clusters\n",
    "n_clusters = len(set(pred_labels)) - (1 if -1 in labels else 0)     # ?? why -1\n",
    "\n",
    "# Print performance metrics for DBscan\n",
    "print('Estimated number of clusters: %d' % n_clusters)\n",
    "\n",
    "# Homogeneity metric of a cluster labeling given a ground truth.\n",
    "print(\"Homogeneity: %0.3f\" % homogeneity_score(labels, pred_labels))  \n",
    "\n",
    "print(\"Silhouette Coefficient: %0.3f\" % silhouette_score(X_scaled, pred_labels))\n"
   ]
  },
  {
   "cell_type": "markdown",
   "metadata": {},
   "source": [
    "### Assessing smallest clusters\n"
   ]
  },
  {
   "cell_type": "code",
   "execution_count": 188,
   "metadata": {},
   "outputs": [
    {
     "name": "stdout",
     "output_type": "stream",
     "text": [
      "[3249  144 2714   55  173  119  122   98   54   15   76   15   43   25\n",
      "   51   47   42   15   25   20   19   10]\n",
      "The smallest clusters are clusters:\n",
      "[21 17  9]\n",
      "Their counts are:\n",
      "[10 15 15]\n"
     ]
    }
   ],
   "source": [
    "# Count observations in each cluster number\n",
    "counts = np.bincount(pred_labels[pred_labels >= 0])\n",
    "\n",
    "# Print the result\n",
    "print(counts)\n",
    "\n",
    "\n",
    "# Sort the sample counts of the clusters and take the top 3 smallest clusters\n",
    "smallest_clusters = np.argsort(counts)[:3]\n",
    "\n",
    "# Print the results \n",
    "print(\"The smallest clusters are clusters:\")      \n",
    "print(smallest_clusters)\n",
    "\n",
    "# Print the counts of the smallest clusters only\n",
    "print(\"Their counts are:\")      \n",
    "print(counts[smallest_clusters])"
   ]
  },
  {
   "cell_type": "code",
   "execution_count": 171,
   "metadata": {},
   "outputs": [],
   "source": [
    "# So now we know which smallest clusters you could flag as fraud. If you were to take more of the smallest clusters,\n",
    "# you cast your net wider and catch more fraud, but most likely also more false positives. It is up to the fraud analyst\n",
    "# to find the right amount of cases to flag and to investigate. In the next exercise you'll check the results with the \n",
    "# actual labels."
   ]
  },
  {
   "cell_type": "markdown",
   "metadata": {},
   "source": [
    "## Checking results\n"
   ]
  },
  {
   "cell_type": "code",
   "execution_count": 172,
   "metadata": {},
   "outputs": [],
   "source": [
    "#  In reality, you often don't have reliable labels and this where a fraud analyst can help you validate the results.\n",
    "# He/She can check your results and see whether the cases you flagged are indeed suspicious. You can also check historically \n",
    "# known cases of fraud and see whether your model flags them."
   ]
  },
  {
   "cell_type": "code",
   "execution_count": 189,
   "metadata": {},
   "outputs": [
    {
     "name": "stdout",
     "output_type": "stream",
     "text": [
      "Flagged Fraud     0   1\n",
      "Actual Fraud           \n",
      "0              6968  16\n",
      "1               176  24\n"
     ]
    }
   ],
   "source": [
    "# Create a dataframe of the predicted cluster numbers and fraud labels \n",
    "df = pd.DataFrame({'clusternr':pred_labels,'fraud':labels})\n",
    "\n",
    "# Create a condition flagging fraud for the smallest clusters \n",
    "df['predicted_fraud'] = np.where((df.clusternr == 21)|(df.clusternr == 17)|(df.clusternr == 9),1 , 0)\n",
    "\n",
    "# Run a crosstab on the results \n",
    "print(pd.crosstab(df.fraud, df.predicted_fraud, rownames=['Actual Fraud'], colnames=['Flagged Fraud']))"
   ]
  },
  {
   "cell_type": "code",
   "execution_count": 177,
   "metadata": {},
   "outputs": [],
   "source": [
    "#Success! How does this compare to the K-means model? The good thing is: our of all flagged cases, roughly 2/3 are actually \n",
    "#fraud! Since you only take the three smallest clusters, by definition you flag less cases of fraud, so you catch less\n",
    "#but also have less false positives. However, you are missing quite a lot of fraud cases. Increasing the amount of smallest\n",
    "#clusters you flag could improve that, at the cost of more false positives of course. In the next chapter you'll learn how\n",
    "#to further improve fraud detection models by including text analysis."
   ]
  },
  {
   "cell_type": "markdown",
   "metadata": {},
   "source": [
    "### increase the amount of smallest clusters"
   ]
  },
  {
   "cell_type": "code",
   "execution_count": 190,
   "metadata": {},
   "outputs": [
    {
     "name": "stdout",
     "output_type": "stream",
     "text": [
      "The smallest clusters are clusters:\n",
      "[21 17  9 11 20]\n",
      "Their counts are:\n",
      "[10 15 15 15 19]\n"
     ]
    }
   ],
   "source": [
    "# Sort the sample counts of the clusters and take the top 3 smallest clusters\n",
    "smallest_clusters = np.argsort(counts)[:5]\n",
    "\n",
    "print(\"The smallest clusters are clusters:\")      \n",
    "print(smallest_clusters)\n",
    "print(\"Their counts are:\")      \n",
    "print(counts[smallest_clusters])"
   ]
  },
  {
   "cell_type": "code",
   "execution_count": 191,
   "metadata": {},
   "outputs": [
    {
     "name": "stdout",
     "output_type": "stream",
     "text": [
      "Flagged Fraud     0   1\n",
      "Actual Fraud           \n",
      "0              6946  38\n",
      "1               164  36\n"
     ]
    }
   ],
   "source": [
    "df['predicted_fraud'] = np.where((df.clusternr == 21)|(df.clusternr == 17)|(df.clusternr == 9) \n",
    "                                 | (df.clusternr == 11)|(df.clusternr == 20) ,1 , 0)\n",
    "print(pd.crosstab(df.fraud, df.predicted_fraud, rownames=['Actual Fraud'], colnames=['Flagged Fraud']))"
   ]
  },
  {
   "cell_type": "markdown",
   "metadata": {},
   "source": [
    "## perform on train and test set   ?? not working? "
   ]
  },
  {
   "cell_type": "code",
   "execution_count": 198,
   "metadata": {},
   "outputs": [
    {
     "name": "stdout",
     "output_type": "stream",
     "text": [
      "[2286   65 1905  114   29   12  100   50   26   85   37   10   13   39\n",
      "   88   35   10   11   30   10   17   18]\n",
      "The smallest clusters are clusters:\n",
      "[19 16 11 17  5 12 20 21  8  4]\n",
      "Their counts are:\n",
      "[10 10 10 11 12 13 17 18 26 29]\n"
     ]
    }
   ],
   "source": [
    "# Initialize and fit the DBscan model\n",
    "db = DBSCAN(eps=0.9, min_samples=10, n_jobs=-1).fit(X_train) # maximum distance between two samples to 0.9\n",
    "\n",
    "# Obtain the predicted labels,these are the cluster numbers assigned to an observation.\n",
    "pred_labels = db.labels_\n",
    "\n",
    "# calculate number of clusters\n",
    "n_clusters = len(set(db.labels_)) - (1 if -1 in labels else 0)     # ?? why -1\n",
    "\n",
    "# Count observations in each cluster number\n",
    "counts = np.bincount(pred_labels[pred_labels >= 0])\n",
    "\n",
    "# Print the result\n",
    "print(counts)\n",
    "\n",
    "\n",
    "# Sort the sample counts of the clusters and take the top 3 smallest clusters\n",
    "smallest_clusters = np.argsort(counts)[:10]\n",
    "\n",
    "# Print the results \n",
    "print(\"The smallest clusters are clusters:\")      \n",
    "print(smallest_clusters)\n",
    "\n",
    "# Print the counts of the smallest clusters only\n",
    "print(\"Their counts are:\")      \n",
    "print(counts[smallest_clusters])\n",
    "\n",
    "\n"
   ]
  },
  {
   "cell_type": "code",
   "execution_count": 199,
   "metadata": {},
   "outputs": [
    {
     "name": "stdout",
     "output_type": "stream",
     "text": [
      "Flagged Fraud     0    1\n",
      "Actual Fraud            \n",
      "0              1975  118\n",
      "1                56    7\n"
     ]
    }
   ],
   "source": [
    "# Create a dataframe of the predicted cluster numbers and fraud labels \n",
    "df = pd.DataFrame({'clusternr':db.fit_predict(X_test),'fraud':y_test})\n",
    "\n",
    "# Create a condition flagging fraud for the smallest clusters \n",
    "df['predicted_fraud'] = np.where((df.clusternr == 19)|(df.clusternr == 16)|(df.clusternr == 11)\n",
    "                                 | (df.clusternr == 17)|(df.clusternr == 5)|(df.clusternr == 12)\n",
    "                                 | (df.clusternr == 20)|(df.clusternr == 21)|(df.clusternr == 8), 1 , 0)\n",
    "\n",
    "# Run a crosstab on the results \n",
    "print(pd.crosstab(df.fraud, df.predicted_fraud, rownames=['Actual Fraud'], colnames=['Flagged Fraud']))"
   ]
  },
  {
   "cell_type": "code",
   "execution_count": null,
   "metadata": {},
   "outputs": [],
   "source": []
  }
 ],
 "metadata": {
  "kernelspec": {
   "display_name": "Python 3",
   "language": "python",
   "name": "python3"
  },
  "language_info": {
   "codemirror_mode": {
    "name": "ipython",
    "version": 3
   },
   "file_extension": ".py",
   "mimetype": "text/x-python",
   "name": "python",
   "nbconvert_exporter": "python",
   "pygments_lexer": "ipython3",
   "version": "3.7.3"
  }
 },
 "nbformat": 4,
 "nbformat_minor": 2
}
